{
 "cells": [
  {
   "cell_type": "markdown",
   "metadata": {
    "ExecuteTime": {
     "end_time": "2017-04-13T10:14:36.509000",
     "start_time": "2017-04-13T10:14:36.503000"
    }
   },
   "source": [
    "# Collinear interferometric detection, 3 pulses"
   ]
  },
  {
   "cell_type": "markdown",
   "metadata": {},
   "source": [
    "This demonstrates the validity of the interferometric detection of 3rd order signals in the collinear geometry using the 32 step phase cycling scheme presented in [!!! ref]."
   ]
  },
  {
   "cell_type": "code",
   "execution_count": 1,
   "metadata": {
    "ExecuteTime": {
     "end_time": "2018-07-06T18:57:51.219338Z",
     "start_time": "2018-07-06T18:57:49.192443Z"
    }
   },
   "outputs": [],
   "source": [
    "from __future__ import division, print_function\n",
    "from itertools import product, chain\n",
    "import sympy as sy\n",
    "import numpy as np\n",
    "from sigmd.signals import e_field, signals_for_order, phase_cycle, weights\n",
    "from sigmd.filters import collinear, filter_terms, contains_filter"
   ]
  },
  {
   "cell_type": "code",
   "execution_count": 2,
   "metadata": {
    "ExecuteTime": {
     "end_time": "2018-07-06T18:57:52.449087Z",
     "start_time": "2018-07-06T18:57:52.111415Z"
    }
   },
   "outputs": [],
   "source": [
    "sy.init_printing()#fontsize=\"12pt\")"
   ]
  },
  {
   "cell_type": "markdown",
   "metadata": {},
   "source": [
    "# Generate signal fields."
   ]
  },
  {
   "cell_type": "markdown",
   "metadata": {},
   "source": [
    "Collect up to third order with 3 pulses."
   ]
  },
  {
   "cell_type": "code",
   "execution_count": 3,
   "metadata": {
    "ExecuteTime": {
     "end_time": "2018-07-06T18:57:56.059500Z",
     "start_time": "2018-07-06T18:57:54.009540Z"
    }
   },
   "outputs": [
    {
     "name": "stderr",
     "output_type": "stream",
     "text": [
      "c:\\work\\src\\sig2d\\src\\sigmd\\signals.py:146: UserWarning: Signals for order now doesn't do the sum\n",
      "  warnings.warn(\"Signals for order now doesn't do the sum\")\n"
     ]
    },
    {
     "data": {
      "image/png": "[encoded data removed]",
      "text/latex": [
       "$$\\chi_{+k_1+k_1-k_1} A_{1}^{2} \\overline{A_{1}} + \\chi_{+k_1+k_1-k_2} A_{1}^{2} \\overline{A_{2}} + \\chi_{+k_1+k_1-k_3} A_{1}^{2} \\overline{A_{3}} + \\chi_{+k_1+k_2-k_2} A_{1} A_{2} \\overline{A_{2}} + \\chi_{+k_1+k_2-k_3} A_{1} A_{2} \\overline{A_{3}} + \\chi_{+k_1+k_3-k_3} A_{1} A_{3} \\overline{A_{3}} + \\chi_{+k_1-k_1+k_1} A_{1}^{2} \\overline{A_{1}} + \\chi_{+k_1-k_1+k_2} A_{1} A_{2} \\overline{A_{1}} + \\chi_{+k_1-k_1+k_3} A_{1} A_{3} \\overline{A_{1}} + \\chi_{+k_1-k_2+k_2} A_{1} A_{2} \\overline{A_{2}} + \\chi_{+k_1-k_2+k_3} A_{1} A_{3} \\overline{A_{2}} + \\chi_{+k_1-k_3+k_3} A_{1} A_{3} \\overline{A_{3}} + \\chi_{+k_1} A_{1} + \\chi_{+k_2+k_2-k_2} A_{2}^{2} \\overline{A_{2}} + \\chi_{+k_2+k_2-k_3} A_{2}^{2} \\overline{A_{3}} + \\chi_{+k_2+k_3-k_3} A_{2} A_{3} \\overline{A_{3}} + \\chi_{+k_2-k_2+k_2} A_{2}^{2} \\overline{A_{2}} + \\chi_{+k_2-k_2+k_3} A_{2} A_{3} \\overline{A_{2}} + \\chi_{+k_2-k_3+k_3} A_{2} A_{3} \\overline{A_{3}} + \\chi_{+k_2} A_{2} + \\chi_{+k_3+k_3-k_3} A_{3}^{2} \\overline{A_{3}} + \\chi_{+k_3-k_3+k_3} A_{3}^{2} \\overline{A_{3}} + \\chi_{+k_3} A_{3} + \\chi_{-k_1+k_1+k_1} A_{1}^{2} \\overline{A_{1}} + \\chi_{-k_1+k_1+k_2} A_{1} A_{2} \\overline{A_{1}} + \\chi_{-k_1+k_1+k_3} A_{1} A_{3} \\overline{A_{1}} + \\chi_{-k_1+k_2+k_2} A_{2}^{2} \\overline{A_{1}} + \\chi_{-k_1+k_2+k_3} A_{2} A_{3} \\overline{A_{1}} + \\chi_{-k_1+k_3+k_3} A_{3}^{2} \\overline{A_{1}} + \\chi_{-k_2+k_2+k_2} A_{2}^{2} \\overline{A_{2}} + \\chi_{-k_2+k_2+k_3} A_{2} A_{3} \\overline{A_{2}} + \\chi_{-k_2+k_3+k_3} A_{3}^{2} \\overline{A_{2}} + \\chi_{-k_3+k_3+k_3} A_{3}^{2} \\overline{A_{3}}$$"
      ],
      "text/plain": [
       "                      2 __                         2 __                       \n",
       "\\chi_{+k_1+k_1-k_1}⋅A₁ ⋅A₁ + \\chi_{+k_1+k_1-k_2}⋅A₁ ⋅A₂ + \\chi_{+k_1+k_1-k_3}⋅\n",
       "\n",
       "  2 __                             __                             __          \n",
       "A₁ ⋅A₃ + \\chi_{+k_1+k_2-k_2}⋅A₁⋅A₂⋅A₂ + \\chi_{+k_1+k_2-k_3}⋅A₁⋅A₂⋅A₃ + \\chi_{+\n",
       "\n",
       "                   __                         2 __                            \n",
       "k_1+k_3-k_3}⋅A₁⋅A₃⋅A₃ + \\chi_{+k_1-k_1+k_1}⋅A₁ ⋅A₁ + \\chi_{+k_1-k_1+k_2}⋅A₁⋅A₂\n",
       "\n",
       " __                             __                             __             \n",
       "⋅A₁ + \\chi_{+k_1-k_1+k_3}⋅A₁⋅A₃⋅A₁ + \\chi_{+k_1-k_2+k_2}⋅A₁⋅A₂⋅A₂ + \\chi_{+k_1\n",
       "\n",
       "                __                             __                             \n",
       "-k_2+k_3}⋅A₁⋅A₃⋅A₂ + \\chi_{+k_1-k_3+k_3}⋅A₁⋅A₃⋅A₃ + \\chi_{+k_1}⋅A₁ + \\chi_{+k_\n",
       "\n",
       "             2 __                         2 __                             __ \n",
       "2+k_2-k_2}⋅A₂ ⋅A₂ + \\chi_{+k_2+k_2-k_3}⋅A₂ ⋅A₃ + \\chi_{+k_2+k_3-k_3}⋅A₂⋅A₃⋅A₃ \n",
       "\n",
       "                        2 __                             __                   \n",
       "+ \\chi_{+k_2-k_2+k_2}⋅A₂ ⋅A₂ + \\chi_{+k_2-k_2+k_3}⋅A₂⋅A₃⋅A₂ + \\chi_{+k_2-k_3+k\n",
       "\n",
       "          __                                          2 __                    \n",
       "_3}⋅A₂⋅A₃⋅A₃ + \\chi_{+k_2}⋅A₂ + \\chi_{+k_3+k_3-k_3}⋅A₃ ⋅A₃ + \\chi_{+k_3-k_3+k_\n",
       "\n",
       "     2 __                                          2 __                       \n",
       "3}⋅A₃ ⋅A₃ + \\chi_{+k_3}⋅A₃ + \\chi_{-k_1+k_1+k_1}⋅A₁ ⋅A₁ + \\chi_{-k_1+k_1+k_2}⋅\n",
       "\n",
       "      __                             __                         2 __          \n",
       "A₁⋅A₂⋅A₁ + \\chi_{-k_1+k_1+k_3}⋅A₁⋅A₃⋅A₁ + \\chi_{-k_1+k_2+k_2}⋅A₂ ⋅A₁ + \\chi_{-\n",
       "\n",
       "                   __                         2 __                         2 _\n",
       "k_1+k_2+k_3}⋅A₂⋅A₃⋅A₁ + \\chi_{-k_1+k_3+k_3}⋅A₃ ⋅A₁ + \\chi_{-k_2+k_2+k_2}⋅A₂ ⋅A\n",
       "\n",
       "_                             __                         2 __                 \n",
       "₂ + \\chi_{-k_2+k_2+k_3}⋅A₂⋅A₃⋅A₂ + \\chi_{-k_2+k_3+k_3}⋅A₃ ⋅A₂ + \\chi_{-k_3+k_3\n",
       "\n",
       "        2 __\n",
       "+k_3}⋅A₃ ⋅A₃"
      ]
     },
     "execution_count": 3,
     "metadata": {},
     "output_type": "execute_result"
    }
   ],
   "source": [
    "sigs = sum(sum(signals_for_order(i, 3, filters=collinear)) for i in [1,2,3])\n",
    "sigs"
   ]
  },
  {
   "cell_type": "code",
   "execution_count": 4,
   "metadata": {
    "ExecuteTime": {
     "end_time": "2018-07-06T18:57:56.136301Z",
     "start_time": "2018-07-06T18:57:56.086401Z"
    }
   },
   "outputs": [
    {
     "data": {
      "image/png": "[encoded data removed]",
      "text/latex": [
       "$$33$$"
      ],
      "text/plain": [
       "33"
      ]
     },
     "execution_count": 4,
     "metadata": {},
     "output_type": "execute_result"
    }
   ],
   "source": [
    "len(sigs.args)"
   ]
  },
  {
   "cell_type": "code",
   "execution_count": 5,
   "metadata": {
    "ExecuteTime": {
     "end_time": "2018-07-06T18:57:58.870226Z",
     "start_time": "2018-07-06T18:57:57.859451Z"
    }
   },
   "outputs": [
    {
     "name": "stdout",
     "output_type": "stream",
     "text": [
      "Total nb. terms:  1296\n",
      "Filtered: 207\n"
     ]
    }
   ],
   "source": [
    "detected = sigs+sum([e_field(i) for i in [1,2,3]])\n",
    "detected = sy.expand(sy.conjugate(detected)*detected)\n",
    "print(\"Total nb. terms: \", len(detected.args))\n",
    "detected = filter_terms(contains_filter(\"E_\"), detected)\n",
    "# by convention, drop all which contain complex conjuate of response\n",
    "#detected = filter_terms(lambda e: r\"conjugate(\\chi\" not in repr(e),\n",
    "#                        detected)\n",
    "print(\"Filtered:\", len(detected.args))"
   ]
  },
  {
   "cell_type": "markdown",
   "metadata": {
    "ExecuteTime": {
     "end_time": "2017-04-13T16:02:47.678000",
     "start_time": "2017-04-13T16:02:47.673000"
    }
   },
   "source": [
    "Yes, this expansion had 1296 terms. After neglecting terms where no exciting fields show up, we still have an untractable number of terms."
   ]
  },
  {
   "cell_type": "markdown",
   "metadata": {},
   "source": [
    "# 4x4x1 phase cycling"
   ]
  },
  {
   "cell_type": "code",
   "execution_count": 6,
   "metadata": {
    "ExecuteTime": {
     "end_time": "2018-07-06T18:58:01.129973Z",
     "start_time": "2018-07-06T18:58:00.960427Z"
    }
   },
   "outputs": [
    {
     "data": {
      "image/png": "[encoded data removed]",
      "text/latex": [
       "$$\\left [ \\left [ 0, \\quad 0, \\quad 0\\right ], \\quad \\left [ 0, \\quad \\frac{\\pi}{2}, \\quad 0\\right ], \\quad \\left [ 0, \\quad \\pi, \\quad 0\\right ], \\quad \\left [ 0, \\quad \\frac{3 \\pi}{2}, \\quad 0\\right ], \\quad \\left [ \\frac{\\pi}{2}, \\quad 0, \\quad 0\\right ], \\quad \\left [ \\frac{\\pi}{2}, \\quad \\frac{\\pi}{2}, \\quad 0\\right ], \\quad \\left [ \\frac{\\pi}{2}, \\quad \\pi, \\quad 0\\right ], \\quad \\left [ \\frac{\\pi}{2}, \\quad \\frac{3 \\pi}{2}, \\quad 0\\right ], \\quad \\left [ \\pi, \\quad 0, \\quad 0\\right ], \\quad \\left [ \\pi, \\quad \\frac{\\pi}{2}, \\quad 0\\right ], \\quad \\left [ \\pi, \\quad \\pi, \\quad 0\\right ], \\quad \\left [ \\pi, \\quad \\frac{3 \\pi}{2}, \\quad 0\\right ], \\quad \\left [ \\frac{3 \\pi}{2}, \\quad 0, \\quad 0\\right ], \\quad \\left [ \\frac{3 \\pi}{2}, \\quad \\frac{\\pi}{2}, \\quad 0\\right ], \\quad \\left [ \\frac{3 \\pi}{2}, \\quad \\pi, \\quad 0\\right ], \\quad \\left [ \\frac{3 \\pi}{2}, \\quad \\frac{3 \\pi}{2}, \\quad 0\\right ]\\right ]$$"
      ],
      "text/plain": [
       "⎡           ⎡   π   ⎤             ⎡   3⋅π   ⎤  ⎡π      ⎤  ⎡π  π   ⎤  ⎡π      ⎤\n",
       "⎢[0, 0, 0], ⎢0, ─, 0⎥, [0, π, 0], ⎢0, ───, 0⎥, ⎢─, 0, 0⎥, ⎢─, ─, 0⎥, ⎢─, π, 0⎥\n",
       "⎣           ⎣   2   ⎦             ⎣    2    ⎦  ⎣2      ⎦  ⎣2  2   ⎦  ⎣2      ⎦\n",
       "\n",
       "  ⎡π  3⋅π   ⎤             ⎡   π   ⎤             ⎡   3⋅π   ⎤  ⎡3⋅π      ⎤  ⎡3⋅π\n",
       ", ⎢─, ───, 0⎥, [π, 0, 0], ⎢π, ─, 0⎥, [π, π, 0], ⎢π, ───, 0⎥, ⎢───, 0, 0⎥, ⎢───\n",
       "  ⎣2   2    ⎦             ⎣   2   ⎦             ⎣    2    ⎦  ⎣ 2       ⎦  ⎣ 2 \n",
       "\n",
       "  π   ⎤  ⎡3⋅π      ⎤  ⎡3⋅π  3⋅π   ⎤⎤\n",
       ", ─, 0⎥, ⎢───, π, 0⎥, ⎢───, ───, 0⎥⎥\n",
       "  2   ⎦  ⎣ 2       ⎦  ⎣ 2    2    ⎦⎦"
      ]
     },
     "execution_count": 6,
     "metadata": {},
     "output_type": "execute_result"
    }
   ],
   "source": [
    "phases = []\n",
    "for i, j in product(range(4), range(4)):\n",
    "    phases.append([i*sy.pi/2, j*sy.pi/2, 0])\n",
    "phases"
   ]
  },
  {
   "cell_type": "code",
   "execution_count": 7,
   "metadata": {
    "ExecuteTime": {
     "end_time": "2018-07-06T18:58:04.903006Z",
     "start_time": "2018-07-06T18:58:02.423482Z"
    }
   },
   "outputs": [
    {
     "data": {
      "image/png": "[encoded data removed]",
      "text/latex": [
       "$$21$$"
      ],
      "text/plain": [
       "21"
      ]
     },
     "execution_count": 7,
     "metadata": {},
     "output_type": "execute_result"
    }
   ],
   "source": [
    "alpha_r = (-1, 1, 1)\n",
    "w_r = weights(alpha_r, phases)\n",
    "cycled = phase_cycle(detected, phases, w_r)\n",
    "len(cycled.expand().args) # we still have way too many elements to cope with"
   ]
  },
  {
   "cell_type": "code",
   "execution_count": 8,
   "metadata": {
    "ExecuteTime": {
     "end_time": "2018-07-06T18:58:06.057718Z",
     "start_time": "2018-07-06T18:58:05.984946Z"
    }
   },
   "outputs": [
    {
     "data": {
      "image/png": "[encoded data removed]",
      "text/latex": [
       "$$\\left [ 1, \\quad - i, \\quad -1, \\quad i, \\quad i, \\quad 1, \\quad - i, \\quad -1, \\quad -1, \\quad i, \\quad 1, \\quad - i, \\quad - i, \\quad -1, \\quad i, \\quad 1\\right ]$$"
      ],
      "text/plain": [
       "[1, -ⅈ, -1, ⅈ, ⅈ, 1, -ⅈ, -1, -1, ⅈ, 1, -ⅈ, -ⅈ, -1, ⅈ, 1]"
      ]
     },
     "execution_count": 8,
     "metadata": {},
     "output_type": "execute_result"
    }
   ],
   "source": [
    "w_r"
   ]
  },
  {
   "cell_type": "code",
   "execution_count": 9,
   "metadata": {
    "ExecuteTime": {
     "end_time": "2018-07-06T18:58:07.606791Z",
     "start_time": "2018-07-06T18:58:07.237771Z"
    }
   },
   "outputs": [
    {
     "data": {
      "image/png": "[encoded data removed]",
      "text/latex": [
       "$$16 \\chi_{+k_1+k_1-k_1} \\overline{E_{2}} + 16 \\chi_{+k_1+k_1-k_2} \\overline{E_{1}} + 16 \\chi_{+k_1+k_2-k_2} \\overline{E_{2}} + 16 \\chi_{+k_1+k_3-k_3} \\overline{E_{2}} + 16 \\chi_{+k_1-k_1+k_1} \\overline{E_{2}} + 16 \\chi_{+k_1-k_2+k_2} \\overline{E_{2}} + 16 \\chi_{+k_1-k_2+k_3} \\overline{E_{3}} + 16 \\chi_{+k_1-k_3+k_3} \\overline{E_{2}} + 16 \\chi_{+k_1} \\overline{E_{2}} + 16 \\chi_{-k_1+k_1+k_1} \\overline{E_{2}} + 16 E_{1} \\overline{\\chi_{+k_1-k_1+k_2}} + 16 E_{1} \\overline{\\chi_{+k_2+k_2-k_2}} + 16 E_{1} \\overline{\\chi_{+k_2+k_3-k_3}} + 16 E_{1} \\overline{\\chi_{+k_2-k_2+k_2}} + 16 E_{1} \\overline{\\chi_{+k_2-k_3+k_3}} + 16 E_{1} \\overline{\\chi_{+k_2}} + 16 E_{1} \\overline{\\chi_{-k_1+k_1+k_2}} + 16 E_{1} \\overline{\\chi_{-k_2+k_2+k_2}} + 16 E_{1} \\overline{E_{2}} + 16 E_{2} \\overline{\\chi_{-k_1+k_2+k_2}} + 16 E_{3} \\overline{\\chi_{-k_1+k_2+k_3}}$$"
      ],
      "text/plain": [
       "                       __                          __                         \n",
       "16⋅\\chi_{+k_1+k_1-k_1}⋅E₂ + 16⋅\\chi_{+k_1+k_1-k_2}⋅E₁ + 16⋅\\chi_{+k_1+k_2-k_2}\n",
       "\n",
       " __                          __                          __                   \n",
       "⋅E₂ + 16⋅\\chi_{+k_1+k_3-k_3}⋅E₂ + 16⋅\\chi_{+k_1-k_1+k_1}⋅E₂ + 16⋅\\chi_{+k_1-k_\n",
       "\n",
       "       __                          __                          __             \n",
       "2+k_2}⋅E₂ + 16⋅\\chi_{+k_1-k_2+k_3}⋅E₃ + 16⋅\\chi_{+k_1-k_3+k_3}⋅E₂ + 16⋅\\chi_{+\n",
       "\n",
       "     __                          __         ___________________         ______\n",
       "k_1}⋅E₂ + 16⋅\\chi_{-k_1+k_1+k_1}⋅E₂ + 16⋅E₁⋅\\chi_{+k_1-k_1+k_2} + 16⋅E₁⋅\\chi_{\n",
       "\n",
       "_____________         ___________________         ___________________         \n",
       "+k_2+k_2-k_2} + 16⋅E₁⋅\\chi_{+k_2+k_3-k_3} + 16⋅E₁⋅\\chi_{+k_2-k_2+k_2} + 16⋅E₁⋅\n",
       "\n",
       "___________________         ___________         ___________________         __\n",
       "\\chi_{+k_2-k_3+k_3} + 16⋅E₁⋅\\chi_{+k_2} + 16⋅E₁⋅\\chi_{-k_1+k_1+k_2} + 16⋅E₁⋅\\c\n",
       "\n",
       "_________________         __         ___________________         _____________\n",
       "hi_{-k_2+k_2+k_2} + 16⋅E₁⋅E₂ + 16⋅E₂⋅\\chi_{-k_1+k_2+k_2} + 16⋅E₃⋅\\chi_{-k_1+k_\n",
       "\n",
       "______\n",
       "2+k_3}"
      ]
     },
     "execution_count": 9,
     "metadata": {},
     "output_type": "execute_result"
    }
   ],
   "source": [
    "cycled.expand()"
   ]
  },
  {
   "cell_type": "markdown",
   "metadata": {},
   "source": [
    "As you can see, we have 20 surviving signals and the $E_2\\overline{E_1}$ interferogram."
   ]
  },
  {
   "cell_type": "markdown",
   "metadata": {},
   "source": [
    "# 4x4x1 with chopping of third pulse"
   ]
  },
  {
   "cell_type": "markdown",
   "metadata": {},
   "source": [
    "Apply our previous phase cycling, expanding norms as $a_i$. We can see that our term of interest scales with $a_3$. We should be able to remove all the other contributions using chopping of the third pulse."
   ]
  },
  {
   "cell_type": "code",
   "execution_count": 10,
   "metadata": {
    "ExecuteTime": {
     "end_time": "2018-07-06T18:58:19.431720Z",
     "start_time": "2018-07-06T18:58:16.609891Z"
    }
   },
   "outputs": [],
   "source": [
    "cycled = phase_cycle(detected, phases, w_r, expand_norms=True).expand()\n",
    "#cycled"
   ]
  },
  {
   "cell_type": "code",
   "execution_count": 11,
   "metadata": {
    "ExecuteTime": {
     "end_time": "2018-07-06T18:58:19.855629Z",
     "start_time": "2018-07-06T18:58:19.553324Z"
    }
   },
   "outputs": [
    {
     "data": {
      "image/png": "[encoded data removed]",
      "text/latex": [
       "$$16 \\chi_{+k_1+k_3-k_3} a_{1} a_{2} a_{3}^{2} \\overline{E_{2}} + 16 \\chi_{+k_1-k_2+k_3} a_{1} a_{2} a_{3}^{2} \\overline{E_{3}} + 16 \\chi_{+k_1-k_3+k_3} a_{1} a_{2} a_{3}^{2} \\overline{E_{2}} + 16 E_{1} a_{1} a_{2} a_{3}^{2} \\overline{\\chi_{+k_2+k_3-k_3}} + 16 E_{1} a_{1} a_{2} a_{3}^{2} \\overline{\\chi_{+k_2-k_3+k_3}} + 16 E_{3} a_{1} a_{2} a_{3}^{2} \\overline{\\chi_{-k_1+k_2+k_3}}$$"
      ],
      "text/plain": [
       "                               2 __                                  2 __     \n",
       "16⋅\\chi_{+k_1+k_3-k_3}⋅a₁⋅a₂⋅a₃ ⋅E₂ + 16⋅\\chi_{+k_1-k_2+k_3}⋅a₁⋅a₂⋅a₃ ⋅E₃ + 16\n",
       "\n",
       "                             2 __                 2 ___________________       \n",
       "⋅\\chi_{+k_1-k_3+k_3}⋅a₁⋅a₂⋅a₃ ⋅E₂ + 16⋅E₁⋅a₁⋅a₂⋅a₃ ⋅\\chi_{+k_2+k_3-k_3} + 16⋅E\n",
       "\n",
       "          2 ___________________                 2 ___________________\n",
       "₁⋅a₁⋅a₂⋅a₃ ⋅\\chi_{+k_2-k_3+k_3} + 16⋅E₃⋅a₁⋅a₂⋅a₃ ⋅\\chi_{-k_1+k_2+k_3}"
      ]
     },
     "execution_count": 11,
     "metadata": {},
     "output_type": "execute_result"
    }
   ],
   "source": [
    "filter_terms(contains_filter(\"a_3\"), cycled)"
   ]
  },
  {
   "cell_type": "markdown",
   "metadata": {},
   "source": [
    "## Fully absorptive - W8"
   ]
  },
  {
   "cell_type": "markdown",
   "metadata": {},
   "source": [
    "## make self contained"
   ]
  },
  {
   "cell_type": "code",
   "execution_count": 30,
   "metadata": {
    "ExecuteTime": {
     "end_time": "2017-07-19T16:03:54.867000",
     "start_time": "2017-07-19T16:03:50.279000"
    }
   },
   "outputs": [],
   "source": [
    "phases = []\n",
    "norms = []\n",
    "for i, j in product(range(4), range(4)):\n",
    "    for a in [1, 0]:\n",
    "        phases.append([i*sy.pi/2, j*sy.pi/2, 0]) # we will end up with duplicates\n",
    "        norms.append([1, 1, a])\n",
    "# interleave w_r, -w_r\n",
    "w_chop = []\n",
    "for w in w_r:\n",
    "    w_chop.append(w)\n",
    "    w_chop.append(-w)\n",
    "#w_chop = list(chain(*zip(w_r, [-1*w for w in w_r]))# in one line\n",
    "s8 = phase_cycle(detected, phases, w_chop, norms)"
   ]
  },
  {
   "cell_type": "code",
   "execution_count": 31,
   "metadata": {
    "ExecuteTime": {
     "end_time": "2017-07-19T16:03:55.168000",
     "start_time": "2017-07-19T16:03:54.870000"
    }
   },
   "outputs": [
    {
     "data": {
      "image/png": "[encoded data removed]",
      "text/latex": [
       "$$16 \\chi_{+k_2+k_3-k_3} \\overline{E_{1}} + 16 \\chi_{+k_2-k_3+k_3} \\overline{E_{1}} + 16 \\chi_{-k_1+k_2+k_3} \\overline{E_{3}} + 16 E_{2} \\overline{\\chi_{+k_1+k_3-k_3}} + 16 E_{2} \\overline{\\chi_{+k_1-k_3+k_3}} + 16 E_{3} \\overline{\\chi_{+k_1-k_2+k_3}}$$"
      ],
      "text/plain": [
       "                       __                          __                         \n",
       "16⋅\\chi_{+k_2+k_3-k_3}⋅E₁ + 16⋅\\chi_{+k_2-k_3+k_3}⋅E₁ + 16⋅\\chi_{-k_1+k_2+k_3}\n",
       "\n",
       " __         ___________________         ___________________         __________\n",
       "⋅E₃ + 16⋅E₂⋅\\chi_{+k_1+k_3-k_3} + 16⋅E₂⋅\\chi_{+k_1-k_3+k_3} + 16⋅E₃⋅\\chi_{+k_1\n",
       "\n",
       "_________\n",
       "-k_2+k_3}"
      ]
     },
     "execution_count": 31,
     "metadata": {},
     "output_type": "execute_result"
    }
   ],
   "source": [
    "s8"
   ]
  },
  {
   "cell_type": "markdown",
   "metadata": {},
   "source": [
    "This contains the rephasing and non-rephasing signals, as well as correlation spectra from pulse pairs. These can be separated using other techniques. This should be manageable, now that there are 6 of them."
   ]
  },
  {
   "cell_type": "markdown",
   "metadata": {},
   "source": [
    "## rephasing + 2Q - W1"
   ]
  },
  {
   "cell_type": "code",
   "execution_count": 32,
   "metadata": {
    "ExecuteTime": {
     "end_time": "2017-07-19T16:03:59.742000",
     "start_time": "2017-07-19T16:03:55.171000"
    }
   },
   "outputs": [
    {
     "data": {
      "image/png": "[encoded data removed]",
      "text/latex": [
       "$$21$$"
      ],
      "text/plain": [
       "21"
      ]
     },
     "execution_count": 32,
     "metadata": {},
     "output_type": "execute_result"
    }
   ],
   "source": [
    "alpha_r = (-1, 0, 2)\n",
    "phases = []\n",
    "for i, j in product(range(4), range(4)):\n",
    "    phases.append([i*sy.pi/2, j*sy.pi/2, 0])\n",
    "w_r = weights(alpha_r, phases)\n",
    "cycled = phase_cycle(detected, phases, w_r, expand_norms=True)\n",
    "len(cycled.args) # we still have way too many elements to cope with"
   ]
  },
  {
   "cell_type": "code",
   "execution_count": 33,
   "metadata": {
    "ExecuteTime": {
     "end_time": "2017-07-19T16:04:00.093000",
     "start_time": "2017-07-19T16:03:59.745000"
    }
   },
   "outputs": [
    {
     "data": {
      "image/png": "[encoded data removed]",
      "text/latex": [
       "$$16 \\chi_{+k_1+k_2-k_2} a_{1} a_{2}^{2} a_{3} \\overline{E_{3}} + 16 \\chi_{+k_1+k_2-k_3} a_{1} a_{2}^{2} a_{3} \\overline{E_{2}} + 16 \\chi_{+k_1-k_2+k_2} a_{1} a_{2}^{2} a_{3} \\overline{E_{3}} + 16 E_{1} a_{1} a_{2}^{2} a_{3} \\overline{\\chi_{+k_2-k_2+k_3}} + 16 E_{1} a_{1} a_{2}^{2} a_{3} \\overline{\\chi_{-k_2+k_2+k_3}} + 16 E_{2} a_{1} a_{2}^{2} a_{3} \\overline{\\chi_{-k_1+k_2+k_3}}$$"
      ],
      "text/plain": [
       "                            2    __                               2    __     \n",
       "16⋅\\chi_{+k_1+k_2-k_2}⋅a₁⋅a₂ ⋅a₃⋅E₃ + 16⋅\\chi_{+k_1+k_2-k_3}⋅a₁⋅a₂ ⋅a₃⋅E₂ + 16\n",
       "\n",
       "                          2    __              2    ___________________       \n",
       "⋅\\chi_{+k_1-k_2+k_2}⋅a₁⋅a₂ ⋅a₃⋅E₃ + 16⋅E₁⋅a₁⋅a₂ ⋅a₃⋅\\chi_{+k_2-k_2+k_3} + 16⋅E\n",
       "\n",
       "       2    ___________________              2    ___________________\n",
       "₁⋅a₁⋅a₂ ⋅a₃⋅\\chi_{-k_2+k_2+k_3} + 16⋅E₂⋅a₁⋅a₂ ⋅a₃⋅\\chi_{-k_1+k_2+k_3}"
      ]
     },
     "execution_count": 33,
     "metadata": {},
     "output_type": "execute_result"
    }
   ],
   "source": [
    "filter_terms(contains_filter(\"a_2\"), cycled)"
   ]
  },
  {
   "cell_type": "code",
   "execution_count": 34,
   "metadata": {
    "ExecuteTime": {
     "end_time": "2017-07-19T16:04:07.889000",
     "start_time": "2017-07-19T16:04:03.989000"
    }
   },
   "outputs": [
    {
     "data": {
      "image/png": "[encoded data removed]",
      "text/latex": [
       "$$16 \\chi_{+k_1+k_2-k_2} \\overline{E_{3}} + 16 \\chi_{+k_1+k_2-k_3} \\overline{E_{2}} + 16 \\chi_{+k_1-k_2+k_2} \\overline{E_{3}} + 16 E_{1} \\overline{\\chi_{+k_2-k_2+k_3}} + 16 E_{1} \\overline{\\chi_{-k_2+k_2+k_3}} + 16 E_{2} \\overline{\\chi_{-k_1+k_2+k_3}}$$"
      ],
      "text/plain": [
       "                       __                          __                         \n",
       "16⋅\\chi_{+k_1+k_2-k_2}⋅E₃ + 16⋅\\chi_{+k_1+k_2-k_3}⋅E₂ + 16⋅\\chi_{+k_1-k_2+k_2}\n",
       "\n",
       " __         ___________________         ___________________         __________\n",
       "⋅E₃ + 16⋅E₁⋅\\chi_{+k_2-k_2+k_3} + 16⋅E₁⋅\\chi_{-k_2+k_2+k_3} + 16⋅E₂⋅\\chi_{-k_1\n",
       "\n",
       "_________\n",
       "+k_2+k_3}"
      ]
     },
     "execution_count": 34,
     "metadata": {},
     "output_type": "execute_result"
    }
   ],
   "source": [
    "phases = []\n",
    "norms = []\n",
    "for i, j in product(range(4), range(4)):\n",
    "    for a in [1, 0]:\n",
    "        phases.append([i*sy.pi/2, j*sy.pi/2, 0]) # we will end up with duplicates\n",
    "        norms.append([1, a, 1])\n",
    "# interleave w_r, -w_r\n",
    "w_chop = []\n",
    "for w in w_r:\n",
    "    w_chop.append(w)\n",
    "    w_chop.append(-w)\n",
    "phase_cycle(detected, phases, w_chop, norms)"
   ]
  },
  {
   "cell_type": "markdown",
   "metadata": {},
   "source": [
    "### NR - or whatever really"
   ]
  },
  {
   "cell_type": "code",
   "execution_count": 17,
   "metadata": {
    "ExecuteTime": {
     "end_time": "2017-07-18T14:16:12.063000",
     "start_time": "2017-07-18T14:16:07.498000"
    }
   },
   "outputs": [],
   "source": [
    "alpha_nr = (-1, 1, 1)\n",
    "phases = []\n",
    "for i, j in product(range(4), range(4)):\n",
    "    phases.append([i*sy.pi/2, j*sy.pi/2, 0])\n",
    "w_nr = weights(alpha_nr, phases)\n",
    "\n",
    "phases = []\n",
    "norms = []\n",
    "for i, j in product(range(4), range(4)):\n",
    "    for a in [1, 0]:\n",
    "        phases.append([i*sy.pi/2, j*sy.pi/2, 0]) # we will end up with duplicates\n",
    "        norms.append([1, 1, a])\n",
    "# interleave w_r, -w_r\n",
    "w_chop = []\n",
    "for w in w_nr:\n",
    "    w_chop.append(w)\n",
    "    w_chop.append(-w)\n",
    "\n",
    "cycled = phase_cycle(detected, phases, w_chop, norms)\n"
   ]
  },
  {
   "cell_type": "code",
   "execution_count": 18,
   "metadata": {
    "ExecuteTime": {
     "end_time": "2017-07-18T14:16:12.379000",
     "start_time": "2017-07-18T14:16:12.066000"
    }
   },
   "outputs": [
    {
     "data": {
      "image/png": "[encoded data removed]",
      "text/latex": [
       "$$16 \\chi_{+k_1+k_3-k_3} \\overline{E_{2}} + 16 \\chi_{+k_1-k_2+k_3} \\overline{E_{3}} + 16 \\chi_{+k_1-k_3+k_3} \\overline{E_{2}} + 16 E_{1} \\overline{\\chi_{+k_2+k_3-k_3}} + 16 E_{1} \\overline{\\chi_{+k_2-k_3+k_3}} + 16 E_{3} \\overline{\\chi_{-k_1+k_2+k_3}}$$"
      ],
      "text/plain": [
       "                       __                          __                         \n",
       "16⋅\\chi_{+k_1+k_3-k_3}⋅E₂ + 16⋅\\chi_{+k_1-k_2+k_3}⋅E₃ + 16⋅\\chi_{+k_1-k_3+k_3}\n",
       "\n",
       " __         ___________________         ___________________         __________\n",
       "⋅E₂ + 16⋅E₁⋅\\chi_{+k_2+k_3-k_3} + 16⋅E₁⋅\\chi_{+k_2-k_3+k_3} + 16⋅E₃⋅\\chi_{-k_1\n",
       "\n",
       "_________\n",
       "+k_2+k_3}"
      ]
     },
     "execution_count": 18,
     "metadata": {},
     "output_type": "execute_result"
    }
   ],
   "source": [
    "cycled"
   ]
  },
  {
   "cell_type": "markdown",
   "metadata": {
    "collapsed": true
   },
   "source": [
    "# ..."
   ]
  },
  {
   "cell_type": "code",
   "execution_count": 58,
   "metadata": {
    "ExecuteTime": {
     "end_time": "2017-07-17T16:37:10.719000",
     "start_time": "2017-07-17T16:37:06.268000"
    }
   },
   "outputs": [
    {
     "data": {
      "image/png": "[encoded data removed]",
      "text/latex": [
       "$$16 \\chi_{+k_1+k_2-k_3} \\overline{E_{1}} + 16 \\chi_{+k_1-k_1+k_2} \\overline{E_{3}} + 16 \\chi_{+k_2+k_2-k_2} \\overline{E_{3}} + 16 \\chi_{+k_2+k_2-k_3} \\overline{E_{2}} + 16 \\chi_{+k_2+k_3-k_3} \\overline{E_{3}} + 16 \\chi_{+k_2-k_2+k_2} \\overline{E_{3}} + 16 \\chi_{+k_2-k_3+k_3} \\overline{E_{3}} + 16 \\chi_{+k_2} \\overline{E_{3}} + 16 \\chi_{-k_1+k_1+k_2} \\overline{E_{3}} + 16 \\chi_{-k_2+k_2+k_2} \\overline{E_{3}} + 16 E_{1} \\overline{\\chi_{+k_1-k_2+k_3}} + 16 E_{2} \\overline{\\chi_{+k_1-k_1+k_3}} + 16 E_{2} \\overline{\\chi_{+k_2-k_2+k_3}} + 16 E_{2} \\overline{\\chi_{+k_3+k_3-k_3}} + 16 E_{2} \\overline{\\chi_{+k_3-k_3+k_3}} + 16 E_{2} \\overline{\\chi_{+k_3}} + 16 E_{2} \\overline{\\chi_{-k_1+k_1+k_3}} + 16 E_{2} \\overline{\\chi_{-k_2+k_2+k_3}} + 16 E_{2} \\overline{\\chi_{-k_3+k_3+k_3}} + 16 E_{2} \\overline{E_{3}} + 16 E_{3} \\overline{\\chi_{-k_2+k_3+k_3}}$$"
      ],
      "text/plain": [
       "                       __                          __                         \n",
       "16⋅\\chi_{+k_1+k_2-k_3}⋅E₁ + 16⋅\\chi_{+k_1-k_1+k_2}⋅E₃ + 16⋅\\chi_{+k_2+k_2-k_2}\n",
       "\n",
       " __                          __                          __                   \n",
       "⋅E₃ + 16⋅\\chi_{+k_2+k_2-k_3}⋅E₂ + 16⋅\\chi_{+k_2+k_3-k_3}⋅E₃ + 16⋅\\chi_{+k_2-k_\n",
       "\n",
       "       __                          __                  __                     \n",
       "2+k_2}⋅E₃ + 16⋅\\chi_{+k_2-k_3+k_3}⋅E₃ + 16⋅\\chi_{+k_2}⋅E₃ + 16⋅\\chi_{-k_1+k_1+\n",
       "\n",
       "     __                          __         ___________________         ______\n",
       "k_2}⋅E₃ + 16⋅\\chi_{-k_2+k_2+k_2}⋅E₃ + 16⋅E₁⋅\\chi_{+k_1-k_2+k_3} + 16⋅E₂⋅\\chi_{\n",
       "\n",
       "_____________         ___________________         ___________________         \n",
       "+k_1-k_1+k_3} + 16⋅E₂⋅\\chi_{+k_2-k_2+k_3} + 16⋅E₂⋅\\chi_{+k_3+k_3-k_3} + 16⋅E₂⋅\n",
       "\n",
       "___________________         ___________         ___________________         __\n",
       "\\chi_{+k_3-k_3+k_3} + 16⋅E₂⋅\\chi_{+k_3} + 16⋅E₂⋅\\chi_{-k_1+k_1+k_3} + 16⋅E₂⋅\\c\n",
       "\n",
       "_________________         ___________________         __         _____________\n",
       "hi_{-k_2+k_2+k_3} + 16⋅E₂⋅\\chi_{-k_3+k_3+k_3} + 16⋅E₂⋅E₃ + 16⋅E₃⋅\\chi_{-k_2+k_\n",
       "\n",
       "______\n",
       "3+k_3}"
      ]
     },
     "execution_count": 58,
     "metadata": {},
     "output_type": "execute_result"
    }
   ],
   "source": [
    "alpha = (0, -1, 2)\n",
    "phases = []\n",
    "for i, j in product(range(4), range(4)):\n",
    "    phases.append([i*sy.pi/2, j*sy.pi/2, 0])\n",
    "w_a = weights(alpha, phases)\n",
    "\n",
    "phases = []\n",
    "norms = []\n",
    "for i, j in product(range(4), range(4)):\n",
    "    for a in [1, 0]:\n",
    "        phases.append([i*sy.pi/2, j*sy.pi/2, 0]) # we will end up with duplicates\n",
    "        norms.append([1, 1, a])\n",
    "# interleave w_r, -w_r\n",
    "w_chop = []\n",
    "for w in w_a:\n",
    "    w_chop.append(w)\n",
    "    w_chop.append(-w)\n",
    "\n",
    "cycled = phase_cycle(detected, phases, w_chop, norms)\n",
    "cycled"
   ]
  },
  {
   "cell_type": "code",
   "execution_count": 55,
   "metadata": {
    "ExecuteTime": {
     "end_time": "2017-07-17T16:35:53.935000",
     "start_time": "2017-07-17T16:35:51.168000"
    }
   },
   "outputs": [],
   "source": [
    "prechop = phase_cycle(detected, phases, w_a, expand_norms=True)"
   ]
  },
  {
   "cell_type": "code",
   "execution_count": 56,
   "metadata": {
    "ExecuteTime": {
     "end_time": "2017-07-17T16:35:54.303000",
     "start_time": "2017-07-17T16:35:53.938000"
    }
   },
   "outputs": [
    {
     "data": {
      "image/png": "[encoded data removed]",
      "text/latex": [
       "$$- 4 \\chi_{+k_1+k_2-k_3} a_{1} a_{2} a_{3}^{2} \\overline{E_{3}} + 4 \\chi_{+k_1-k_2+k_3} a_{1} a_{2}^{2} a_{3} \\overline{E_{2}} + 4 i \\chi_{+k_1-k_2+k_3} a_{1} a_{2}^{2} a_{3} \\overline{E_{2}} + 4 i \\chi_{+k_1-k_2+k_3} a_{1} a_{2} a_{3}^{2} \\overline{E_{3}} - 4 \\chi_{-k_1+k_2+k_3} a_{1}^{2} a_{2} a_{3} \\overline{E_{1}} + 4 i \\chi_{-k_1+k_2+k_3} a_{1}^{2} a_{2} a_{3} \\overline{E_{1}} + 4 i \\chi_{-k_1+k_2+k_3} a_{1} a_{2} a_{3}^{2} \\overline{E_{3}} + 4 E_{1} a_{1}^{2} a_{2} a_{3} \\overline{\\chi_{-k_1+k_2+k_3}} + 4 i E_{1} a_{1}^{2} a_{2} a_{3} \\overline{\\chi_{-k_1+k_2+k_3}} + 4 E_{2} a_{1} a_{2}^{2} a_{3} \\overline{\\chi_{+k_1-k_2+k_3}} - 4 i E_{2} a_{1} a_{2}^{2} a_{3} \\overline{\\chi_{+k_1-k_2+k_3}} + 4 E_{3} a_{1} a_{2} a_{3}^{2} \\overline{\\chi_{+k_1+k_2-k_3}} + 4 i E_{3} a_{1} a_{2} a_{3}^{2} \\overline{\\chi_{+k_1-k_2+k_3}} + 4 i E_{3} a_{1} a_{2} a_{3}^{2} \\overline{\\chi_{-k_1+k_2+k_3}}$$"
      ],
      "text/plain": [
       "                                2 __                              2    __     \n",
       "- 4⋅\\chi_{+k_1+k_2-k_3}⋅a₁⋅a₂⋅a₃ ⋅E₃ + 4⋅\\chi_{+k_1-k_2+k_3}⋅a₁⋅a₂ ⋅a₃⋅E₂ + 4⋅\n",
       "\n",
       "                           2    __                                   2 __     \n",
       "ⅈ⋅\\chi_{+k_1-k_2+k_3}⋅a₁⋅a₂ ⋅a₃⋅E₂ + 4⋅ⅈ⋅\\chi_{+k_1-k_2+k_3}⋅a₁⋅a₂⋅a₃ ⋅E₃ - 4⋅\n",
       "\n",
       "                      2       __                             2       __       \n",
       "\\chi_{-k_1+k_2+k_3}⋅a₁ ⋅a₂⋅a₃⋅E₁ + 4⋅ⅈ⋅\\chi_{-k_1+k_2+k_3}⋅a₁ ⋅a₂⋅a₃⋅E₁ + 4⋅ⅈ⋅\n",
       "\n",
       "                            2 __          2       ___________________         \n",
       "\\chi_{-k_1+k_2+k_3}⋅a₁⋅a₂⋅a₃ ⋅E₃ + 4⋅E₁⋅a₁ ⋅a₂⋅a₃⋅\\chi_{-k_1+k_2+k_3} + 4⋅ⅈ⋅E₁\n",
       "\n",
       "   2       ___________________             2    ___________________           \n",
       "⋅a₁ ⋅a₂⋅a₃⋅\\chi_{-k_1+k_2+k_3} + 4⋅E₂⋅a₁⋅a₂ ⋅a₃⋅\\chi_{+k_1-k_2+k_3} - 4⋅ⅈ⋅E₂⋅a\n",
       "\n",
       "    2    ___________________                2 ___________________             \n",
       "₁⋅a₂ ⋅a₃⋅\\chi_{+k_1-k_2+k_3} + 4⋅E₃⋅a₁⋅a₂⋅a₃ ⋅\\chi_{+k_1+k_2-k_3} + 4⋅ⅈ⋅E₃⋅a₁⋅\n",
       "\n",
       "     2 ___________________                  2 ___________________\n",
       "a₂⋅a₃ ⋅\\chi_{+k_1-k_2+k_3} + 4⋅ⅈ⋅E₃⋅a₁⋅a₂⋅a₃ ⋅\\chi_{-k_1+k_2+k_3}"
      ]
     },
     "execution_count": 56,
     "metadata": {},
     "output_type": "execute_result"
    }
   ],
   "source": [
    "filter_terms(lambda t: all(['k_'+i in repr(t) for i in '123']), prechop)"
   ]
  },
  {
   "cell_type": "code",
   "execution_count": null,
   "metadata": {
    "collapsed": true
   },
   "outputs": [],
   "source": []
  }
 ],
 "metadata": {
  "kernelspec": {
   "display_name": "Python 3",
   "language": "python",
   "name": "python3"
  },
  "language_info": {
   "codemirror_mode": {
    "name": "ipython",
    "version": 3
   },
   "file_extension": ".py",
   "mimetype": "text/x-python",
   "name": "python",
   "nbconvert_exporter": "python",
   "pygments_lexer": "ipython3",
   "version": "3.6.2"
  },
  "toc": {
   "colors": {
    "hover_highlight": "#DAA520",
    "navigate_num": "#000000",
    "navigate_text": "#333333",
    "running_highlight": "#FF0000",
    "selected_highlight": "#FFD700",
    "sidebar_border": "#EEEEEE",
    "wrapper_background": "#FFFFFF"
   },
   "moveMenuLeft": true,
   "nav_menu": {
    "height": "119px",
    "width": "252px"
   },
   "navigate_menu": true,
   "number_sections": true,
   "sideBar": true,
   "threshold": 4,
   "toc_cell": false,
   "toc_section_display": "block",
   "toc_window_display": false,
   "widenNotebook": false
  },
  "varInspector": {
   "cols": {
    "lenName": 16,
    "lenType": 16,
    "lenVar": 40
   },
   "kernels_config": {
    "python": {
     "delete_cmd_postfix": "",
     "delete_cmd_prefix": "del ",
     "library": "var_list.py",
     "varRefreshCmd": "print(var_dic_list())"
    },
    "r": {
     "delete_cmd_postfix": ") ",
     "delete_cmd_prefix": "rm(",
     "library": "var_list.r",
     "varRefreshCmd": "cat(var_dic_list()) "
    }
   },
   "types_to_exclude": [
    "module",
    "function",
    "builtin_function_or_method",
    "instance",
    "_Feature"
   ],
   "window_display": false
  }
 },
 "nbformat": 4,
 "nbformat_minor": 2
}
