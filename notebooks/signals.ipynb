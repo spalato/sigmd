{
 "cells": [
  {
   "cell_type": "markdown",
   "metadata": {
    "run_control": {
     "frozen": false,
     "read_only": false
    }
   },
   "source": [
    "# Signals: properties of signal objects\n",
    "This notebook demonstrates the properties and attributes of signal objects, and more generally of sympy objects."
   ]
  },
  {
   "cell_type": "code",
   "execution_count": 39,
   "metadata": {
    "ExecuteTime": {
     "end_time": "2017-04-12T16:08:41.113000",
     "start_time": "2017-04-12T16:08:41.108000"
    },
    "collapsed": true
   },
   "outputs": [],
   "source": [
    "# setup\n",
    "from __future__ import division, print_function\n",
    "import sympy as sy\n",
    "from sig2d.signals import amplitude, e_field, signal, Signal, signals_for_order\n",
    "sy.init_printing()"
   ]
  },
  {
   "cell_type": "markdown",
   "metadata": {},
   "source": [
    "# Signals"
   ]
  },
  {
   "cell_type": "markdown",
   "metadata": {},
   "source": [
    "We can generate a single signal $\\chi_{+k_1+k_2}$ directly:"
   ]
  },
  {
   "cell_type": "code",
   "execution_count": 20,
   "metadata": {
    "ExecuteTime": {
     "end_time": "2017-04-12T16:01:53.850000",
     "start_time": "2017-04-12T16:01:53.480000"
    },
    "collapsed": false
   },
   "outputs": [
    {
     "data": {
      "image/png": "[encoded data removed]",
      "text/latex": [
       "$$\\chi_{-k_1+k_2}$$"
      ],
      "text/plain": [
       "\\chi_{-k_1+k_2}"
      ]
     },
     "execution_count": 20,
     "metadata": {},
     "output_type": "execute_result"
    }
   ],
   "source": [
    "s = Signal([-1,2])\n",
    "s"
   ]
  },
  {
   "cell_type": "markdown",
   "metadata": {},
   "source": [
    "It is a subtype of sympy's `Symbol`, and can be manipulated accordingly:"
   ]
  },
  {
   "cell_type": "code",
   "execution_count": 21,
   "metadata": {
    "ExecuteTime": {
     "end_time": "2017-04-12T16:01:54.227000",
     "start_time": "2017-04-12T16:01:53.852000"
    },
    "collapsed": false
   },
   "outputs": [
    {
     "data": {
      "image/png": "[encoded data removed]",
      "text/latex": [
       "$$\\overline{\\chi_{-k_1+k_2}}$$"
      ],
      "text/plain": [
       "_______________\n",
       "\\chi_{-k_1+k_2}"
      ]
     },
     "execution_count": 21,
     "metadata": {},
     "output_type": "execute_result"
    }
   ],
   "source": [
    "s.conjugate()"
   ]
  },
  {
   "cell_type": "code",
   "execution_count": 22,
   "metadata": {
    "ExecuteTime": {
     "end_time": "2017-04-12T16:01:54.683000",
     "start_time": "2017-04-12T16:01:54.276000"
    },
    "collapsed": false
   },
   "outputs": [
    {
     "data": {
      "image/png": "[encoded data removed]",
      "text/latex": [
       "$$\\left(\\Re{\\chi_{-k_1+k_2}}\\right)^{2} + \\left(\\Im{\\chi_{-k_1+k_2}}\\right)^{2}$$"
      ],
      "text/plain": [
       "  2                      2                 \n",
       "re (\\chi_{-k_1+k_2}) + im (\\chi_{-k_1+k_2})"
      ]
     },
     "execution_count": 22,
     "metadata": {},
     "output_type": "execute_result"
    }
   ],
   "source": [
    "sy.expand_complex(sy.Abs(s)**2)"
   ]
  },
  {
   "cell_type": "markdown",
   "metadata": {},
   "source": [
    "It has an extra attribute `k` to keep track of the wavevectors:"
   ]
  },
  {
   "cell_type": "code",
   "execution_count": 23,
   "metadata": {
    "ExecuteTime": {
     "end_time": "2017-04-12T16:01:57.919000",
     "start_time": "2017-04-12T16:01:57.560000"
    },
    "collapsed": false
   },
   "outputs": [
    {
     "data": {
      "image/png": "[encoded data removed]",
      "text/latex": [
       "$$\\left [ -1, \\quad 2\\right ]$$"
      ],
      "text/plain": [
       "[-1, 2]"
      ]
     },
     "execution_count": 23,
     "metadata": {},
     "output_type": "execute_result"
    }
   ],
   "source": [
    "s.k"
   ]
  },
  {
   "cell_type": "markdown",
   "metadata": {},
   "source": [
    "Their string representation is a valid latex expression:"
   ]
  },
  {
   "cell_type": "code",
   "execution_count": 28,
   "metadata": {
    "ExecuteTime": {
     "end_time": "2017-04-12T16:03:55.092000",
     "start_time": "2017-04-12T16:03:55.087000"
    },
    "collapsed": false
   },
   "outputs": [
    {
     "name": "stdout",
     "output_type": "stream",
     "text": [
      "\\chi_{-k_1+k_2}\n"
     ]
    }
   ],
   "source": [
    "print(repr(s))"
   ]
  },
  {
   "cell_type": "markdown",
   "metadata": {
    "ExecuteTime": {
     "end_time": "2017-04-12T16:04:13.169000",
     "start_time": "2017-04-12T16:04:13.163000"
    }
   },
   "source": [
    "Note that the raw string contains a double backslash `\\\\`. This is due to python syntax."
   ]
  },
  {
   "cell_type": "code",
   "execution_count": 30,
   "metadata": {
    "ExecuteTime": {
     "end_time": "2017-04-12T16:04:43.088000",
     "start_time": "2017-04-12T16:04:43.082000"
    },
    "collapsed": false
   },
   "outputs": [
    {
     "data": {
      "text/plain": [
       "'\\\\chi_{-k_1+k_2}'"
      ]
     },
     "execution_count": 30,
     "metadata": {},
     "output_type": "execute_result"
    }
   ],
   "source": [
    "repr(s)"
   ]
  },
  {
   "cell_type": "markdown",
   "metadata": {},
   "source": [
    "The symbols themselves aren't of much use: we need a way to apply phase cycling and chopping. This is achieved using amplitudes $A_i$. There are tools to generate the amplitudes without risk of typos, as well as the more complete signals and electric fields."
   ]
  },
  {
   "cell_type": "code",
   "execution_count": 31,
   "metadata": {
    "ExecuteTime": {
     "end_time": "2017-04-12T16:05:40.934000",
     "start_time": "2017-04-12T16:05:40.569000"
    },
    "collapsed": false
   },
   "outputs": [
    {
     "data": {
      "image/png": "[encoded data removed]",
      "text/latex": [
       "$$A_{2}$$"
      ],
      "text/plain": [
       "A₂"
      ]
     },
     "execution_count": 31,
     "metadata": {},
     "output_type": "execute_result"
    }
   ],
   "source": [
    "amplitude(2)"
   ]
  },
  {
   "cell_type": "code",
   "execution_count": 33,
   "metadata": {
    "ExecuteTime": {
     "end_time": "2017-04-12T16:05:56.858000",
     "start_time": "2017-04-12T16:05:56.490000"
    },
    "collapsed": false
   },
   "outputs": [
    {
     "data": {
      "image/png": "[encoded data removed]",
      "text/latex": [
       "$$A_{2} E_{2}$$"
      ],
      "text/plain": [
       "A₂⋅E₂"
      ]
     },
     "execution_count": 33,
     "metadata": {},
     "output_type": "execute_result"
    }
   ],
   "source": [
    "e_field(2)"
   ]
  },
  {
   "cell_type": "code",
   "execution_count": 35,
   "metadata": {
    "ExecuteTime": {
     "end_time": "2017-04-12T16:06:44.199000",
     "start_time": "2017-04-12T16:06:43.821000"
    },
    "collapsed": false
   },
   "outputs": [
    {
     "data": {
      "image/png": "[encoded data removed]",
      "text/latex": [
       "$$\\chi_{-k_1+k_2} A_{2} \\overline{A_{1}}$$"
      ],
      "text/plain": [
       "                   __\n",
       "\\chi_{-k_1+k_2}⋅A₂⋅A₁"
      ]
     },
     "execution_count": 35,
     "metadata": {},
     "output_type": "execute_result"
    }
   ],
   "source": [
    "sig = signal([-1, 2])\n",
    "sig"
   ]
  },
  {
   "cell_type": "markdown",
   "metadata": {},
   "source": [
    "Note that this signal is now composite: it's a product of multiple symbols.\n",
    "\n",
    "We can inspect the operation and elements:"
   ]
  },
  {
   "cell_type": "code",
   "execution_count": 37,
   "metadata": {
    "ExecuteTime": {
     "end_time": "2017-04-12T16:07:34.994000",
     "start_time": "2017-04-12T16:07:34.989000"
    },
    "collapsed": false
   },
   "outputs": [
    {
     "data": {
      "text/plain": [
       "sympy.core.mul.Mul"
      ]
     },
     "execution_count": 37,
     "metadata": {},
     "output_type": "execute_result"
    }
   ],
   "source": [
    "# it's a product\n",
    "sig.func"
   ]
  },
  {
   "cell_type": "code",
   "execution_count": 38,
   "metadata": {
    "ExecuteTime": {
     "end_time": "2017-04-12T16:07:37.788000",
     "start_time": "2017-04-12T16:07:37.410000"
    },
    "collapsed": false
   },
   "outputs": [
    {
     "data": {
      "image/png": "[encoded data removed]",
      "text/latex": [
       "$$\\left ( A_{2}, \\quad \\chi_{-k_1+k_2}, \\quad \\overline{A_{1}}\\right )$$"
      ],
      "text/plain": [
       "⎛                     __⎞\n",
       "⎝A₂, \\chi_{-k_1+k_2}, A₁⎠"
      ]
     },
     "execution_count": 38,
     "metadata": {},
     "output_type": "execute_result"
    }
   ],
   "source": [
    "# the arguments are in no particular order: complex numbers commute.\n",
    "sig.args"
   ]
  },
  {
   "cell_type": "markdown",
   "metadata": {},
   "source": [
    "The sum of multiple signals for a syntax tree: it's a sum of terms which are themselves products, and so on."
   ]
  },
  {
   "cell_type": "code",
   "execution_count": 40,
   "metadata": {
    "ExecuteTime": {
     "end_time": "2017-04-12T16:08:53.762000",
     "start_time": "2017-04-12T16:08:53.338000"
    },
    "collapsed": false
   },
   "outputs": [
    {
     "data": {
      "image/png": "[encoded data removed]",
      "text/latex": [
       "$$\\chi_{+k_1+k_1} A_{1}^{2} + \\chi_{+k_1+k_2} A_{1} A_{2} + \\chi_{+k_1-k_1} A_{1} \\overline{A_{1}} + \\chi_{+k_1-k_2} A_{1} \\overline{A_{2}} + \\chi_{+k_2+k_2} A_{2}^{2} + \\chi_{+k_2-k_2} A_{2} \\overline{A_{2}} + \\chi_{-k_1+k_1} A_{1} \\overline{A_{1}} + \\chi_{-k_1+k_2} A_{2} \\overline{A_{1}} + \\chi_{-k_1-k_1} \\overline{A_{1}}^{2} + \\chi_{-k_1-k_2} \\overline{A_{1}} \\overline{A_{2}} + \\chi_{-k_2+k_2} A_{2} \\overline{A_{2}} + \\chi_{-k_2-k_2} \\overline{A_{2}}^{2}$$"
      ],
      "text/plain": [
       "                                                                              \n",
       "                  2                                              __           \n",
       "\\chi_{+k_1+k_1}⋅A₁  + \\chi_{+k_1+k_2}⋅A₁⋅A₂ + \\chi_{+k_1-k_1}⋅A₁⋅A₁ + \\chi_{+k\n",
       "\n",
       "                                                                              \n",
       "           __                     2                      __                   \n",
       "_1-k_2}⋅A₁⋅A₂ + \\chi_{+k_2+k_2}⋅A₂  + \\chi_{+k_2-k_2}⋅A₂⋅A₂ + \\chi_{-k_1+k_1}⋅\n",
       "\n",
       "                                                  2                           \n",
       "   __                      __                   __                    __ __   \n",
       "A₁⋅A₁ + \\chi_{-k_1+k_2}⋅A₂⋅A₁ + \\chi_{-k_1-k_1}⋅A₁  + \\chi_{-k_1-k_2}⋅A₁⋅A₂ + \n",
       "\n",
       "                                          2\n",
       "                   __                   __ \n",
       "\\chi_{-k_2+k_2}⋅A₂⋅A₂ + \\chi_{-k_2-k_2}⋅A₂ "
      ]
     },
     "execution_count": 40,
     "metadata": {},
     "output_type": "execute_result"
    }
   ],
   "source": [
    "sig = signals_for_order(2,2) # 2 pulses, second order\n",
    "sig"
   ]
  },
  {
   "cell_type": "code",
   "execution_count": 42,
   "metadata": {
    "ExecuteTime": {
     "end_time": "2017-04-12T16:09:03.746000",
     "start_time": "2017-04-12T16:09:03.739000"
    },
    "collapsed": false
   },
   "outputs": [
    {
     "data": {
      "text/plain": [
       "sympy.core.add.Add"
      ]
     },
     "execution_count": 42,
     "metadata": {},
     "output_type": "execute_result"
    }
   ],
   "source": [
    "sig.func"
   ]
  },
  {
   "cell_type": "code",
   "execution_count": 43,
   "metadata": {
    "ExecuteTime": {
     "end_time": "2017-04-12T16:09:07.499000",
     "start_time": "2017-04-12T16:09:07.096000"
    },
    "collapsed": false
   },
   "outputs": [
    {
     "data": {
      "image/png": "[encoded data removed]",
      "text/latex": [
       "$$\\left ( \\chi_{+k_1+k_1} A_{1}^{2}, \\quad \\chi_{+k_2+k_2} A_{2}^{2}, \\quad \\chi_{-k_1-k_1} \\overline{A_{1}}^{2}, \\quad \\chi_{-k_2-k_2} \\overline{A_{2}}^{2}, \\quad \\chi_{+k_1+k_2} A_{1} A_{2}, \\quad \\chi_{+k_1-k_1} A_{1} \\overline{A_{1}}, \\quad \\chi_{+k_1-k_2} A_{1} \\overline{A_{2}}, \\quad \\chi_{-k_1+k_1} A_{1} \\overline{A_{1}}, \\quad \\chi_{+k_2-k_2} A_{2} \\overline{A_{2}}, \\quad \\chi_{-k_1+k_2} A_{2} \\overline{A_{1}}, \\quad \\chi_{-k_2+k_2} A_{2} \\overline{A_{2}}, \\quad \\chi_{-k_1-k_2} \\overline{A_{1}} \\overline{A_{2}}\\right )$$"
      ],
      "text/plain": [
       "⎛                                                            2                \n",
       "⎜                  2                    2                  __                 \n",
       "⎝\\chi_{+k_1+k_1}⋅A₁ , \\chi_{+k_2+k_2}⋅A₂ , \\chi_{-k_1-k_1}⋅A₁ , \\chi_{-k_2-k_2\n",
       "\n",
       "    2                                                                         \n",
       "  __                                             __                     __    \n",
       "}⋅A₂ , \\chi_{+k_1+k_2}⋅A₁⋅A₂, \\chi_{+k_1-k_1}⋅A₁⋅A₁, \\chi_{+k_1-k_2}⋅A₁⋅A₂, \\c\n",
       "\n",
       "                                                                              \n",
       "                 __                     __                     __             \n",
       "hi_{-k_1+k_1}⋅A₁⋅A₁, \\chi_{+k_2-k_2}⋅A₂⋅A₂, \\chi_{-k_1+k_2}⋅A₂⋅A₁, \\chi_{-k_2+\n",
       "\n",
       "                                 ⎞\n",
       "        __                  __ __⎟\n",
       "k_2}⋅A₂⋅A₂, \\chi_{-k_1-k_2}⋅A₁⋅A₂⎠"
      ]
     },
     "execution_count": 43,
     "metadata": {},
     "output_type": "execute_result"
    }
   ],
   "source": [
    "sig.args"
   ]
  },
  {
   "cell_type": "code",
   "execution_count": 44,
   "metadata": {
    "ExecuteTime": {
     "end_time": "2017-04-12T16:09:42.773000",
     "start_time": "2017-04-12T16:09:42.769000"
    },
    "collapsed": false
   },
   "outputs": [
    {
     "data": {
      "text/plain": [
       "sympy.core.mul.Mul"
      ]
     },
     "execution_count": 44,
     "metadata": {},
     "output_type": "execute_result"
    }
   ],
   "source": [
    "sig.args[0].func"
   ]
  },
  {
   "cell_type": "code",
   "execution_count": 45,
   "metadata": {
    "ExecuteTime": {
     "end_time": "2017-04-12T16:09:50.665000",
     "start_time": "2017-04-12T16:09:50.256000"
    },
    "collapsed": false
   },
   "outputs": [
    {
     "data": {
      "image/png": "[encoded data removed]",
      "text/latex": [
       "$$\\left ( A_{1}^{2}, \\quad \\chi_{+k_1+k_1}\\right )$$"
      ],
      "text/plain": [
       "⎛  2                 ⎞\n",
       "⎝A₁ , \\chi_{+k_1+k_1}⎠"
      ]
     },
     "execution_count": 45,
     "metadata": {},
     "output_type": "execute_result"
    }
   ],
   "source": [
    "sig.args[0].args"
   ]
  },
  {
   "cell_type": "markdown",
   "metadata": {},
   "source": [
    "Even a simple problem will have a lot of terms:"
   ]
  },
  {
   "cell_type": "code",
   "execution_count": 54,
   "metadata": {
    "ExecuteTime": {
     "end_time": "2017-04-12T16:12:51.602000",
     "start_time": "2017-04-12T16:12:51.055000"
    },
    "collapsed": false
   },
   "outputs": [
    {
     "data": {
      "image/png": "[encoded data removed]",
      "text/latex": [
       "$$169$$"
      ],
      "text/plain": [
       "169"
      ]
     },
     "execution_count": 54,
     "metadata": {},
     "output_type": "execute_result"
    }
   ],
   "source": [
    "detected = sig+e_field(2)\n",
    "detected *= detected.conjugate()\n",
    "detected = detected.expand()\n",
    "len(detected.args)"
   ]
  },
  {
   "cell_type": "code",
   "execution_count": null,
   "metadata": {
    "collapsed": true
   },
   "outputs": [],
   "source": []
  }
 ],
 "metadata": {
  "kernelspec": {
   "display_name": "Python 2",
   "language": "python",
   "name": "python2"
  },
  "language_info": {
   "codemirror_mode": {
    "name": "ipython",
    "version": 2
   },
   "file_extension": ".py",
   "mimetype": "text/x-python",
   "name": "python",
   "nbconvert_exporter": "python",
   "pygments_lexer": "ipython2",
   "version": "2.7.13"
  },
  "toc": {
   "nav_menu": {
    "height": "48px",
    "width": "252px"
   },
   "navigate_menu": true,
   "number_sections": true,
   "sideBar": true,
   "threshold": 4,
   "toc_cell": false,
   "toc_section_display": "block",
   "toc_window_display": false
  }
 },
 "nbformat": 4,
 "nbformat_minor": 2
}
