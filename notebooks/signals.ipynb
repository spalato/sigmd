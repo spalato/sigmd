{
 "cells": [
  {
   "cell_type": "markdown",
   "metadata": {},
   "source": [
    "# Signals: properties of signal objects\n",
    "This notebook demonstrates the properties and attributes of signal objects, and more generally of sympy objects."
   ]
  },
  {
   "cell_type": "code",
   "execution_count": 1,
   "metadata": {
    "ExecuteTime": {
     "end_time": "2017-07-17T15:37:54.722000",
     "start_time": "2017-07-17T15:37:54.163000"
    }
   },
   "outputs": [],
   "source": [
    "# setup\n",
    "from __future__ import division, print_function\n",
    "import sympy as sy\n",
    "from sig2d.signals import amplitude, e_field, signal, Signal, signals_for_order\n",
    "sy.init_printing()"
   ]
  },
  {
   "cell_type": "markdown",
   "metadata": {},
   "source": [
    "# Signals"
   ]
  },
  {
   "cell_type": "markdown",
   "metadata": {},
   "source": [
    "We can generate a single signal $\\chi_{-k_1+k_2}$ directly:"
   ]
  },
  {
   "cell_type": "code",
   "execution_count": 2,
   "metadata": {
    "ExecuteTime": {
     "end_time": "2017-07-17T15:37:55.205000",
     "start_time": "2017-07-17T15:37:54.725000"
    }
   },
   "outputs": [
    {
     "data": {
      "image/png": "[encoded data removed]",
      "text/latex": [
       "$$\\chi_{-k_1+k_2}$$"
      ],
      "text/plain": [
       "\\chi_{-k_1+k_2}"
      ]
     },
     "execution_count": 2,
     "metadata": {},
     "output_type": "execute_result"
    }
   ],
   "source": [
    "s = Signal([-1,2])\n",
    "s"
   ]
  },
  {
   "cell_type": "markdown",
   "metadata": {},
   "source": [
    "It is a subtype of sympy's `Symbol`, and can be manipulated accordingly:"
   ]
  },
  {
   "cell_type": "code",
   "execution_count": 3,
   "metadata": {
    "ExecuteTime": {
     "end_time": "2017-07-17T15:37:55.560000",
     "start_time": "2017-07-17T15:37:55.207000"
    }
   },
   "outputs": [
    {
     "data": {
      "image/png": "[encoded data removed]",
      "text/latex": [
       "$$\\overline{\\chi_{-k_1+k_2}}$$"
      ],
      "text/plain": [
       "_______________\n",
       "\\chi_{-k_1+k_2}"
      ]
     },
     "execution_count": 3,
     "metadata": {},
     "output_type": "execute_result"
    }
   ],
   "source": [
    "s.conjugate()"
   ]
  },
  {
   "cell_type": "code",
   "execution_count": 4,
   "metadata": {
    "ExecuteTime": {
     "end_time": "2017-07-17T15:37:55.893000",
     "start_time": "2017-07-17T15:37:55.563000"
    }
   },
   "outputs": [
    {
     "data": {
      "image/png": "[encoded data removed]",
      "text/latex": [
       "$$\\left(\\Re{\\chi_{-k_1+k_2}}\\right)^{2} + \\left(\\Im{\\chi_{-k_1+k_2}}\\right)^{2}$$"
      ],
      "text/plain": [
       "  2                      2                 \n",
       "re (\\chi_{-k_1+k_2}) + im (\\chi_{-k_1+k_2})"
      ]
     },
     "execution_count": 4,
     "metadata": {},
     "output_type": "execute_result"
    }
   ],
   "source": [
    "sy.expand_complex(sy.Abs(s)**2)"
   ]
  },
  {
   "cell_type": "markdown",
   "metadata": {},
   "source": [
    "It has an extra attribute `k` to keep track of the wavevectors:"
   ]
  },
  {
   "cell_type": "code",
   "execution_count": 5,
   "metadata": {
    "ExecuteTime": {
     "end_time": "2017-07-17T15:37:56.241000",
     "start_time": "2017-07-17T15:37:55.903000"
    }
   },
   "outputs": [
    {
     "data": {
      "image/png": "[encoded data removed]",
      "text/latex": [
       "$$\\left [ -1, \\quad 2\\right ]$$"
      ],
      "text/plain": [
       "[-1, 2]"
      ]
     },
     "execution_count": 5,
     "metadata": {},
     "output_type": "execute_result"
    }
   ],
   "source": [
    "s.k"
   ]
  },
  {
   "cell_type": "markdown",
   "metadata": {},
   "source": [
    "Their string representation is a valid latex expression:"
   ]
  },
  {
   "cell_type": "code",
   "execution_count": 6,
   "metadata": {
    "ExecuteTime": {
     "end_time": "2017-07-17T15:37:56.259000",
     "start_time": "2017-07-17T15:37:56.244000"
    }
   },
   "outputs": [
    {
     "name": "stdout",
     "output_type": "stream",
     "text": [
      "\\chi_{-k_1+k_2}\n"
     ]
    }
   ],
   "source": [
    "print(repr(s))"
   ]
  },
  {
   "cell_type": "markdown",
   "metadata": {
    "ExecuteTime": {
     "end_time": "2017-04-12T16:04:13.169000",
     "start_time": "2017-04-12T16:04:13.163000"
    }
   },
   "source": [
    "Note that the raw string contains a double backslash `\\\\`. This is due to python syntax."
   ]
  },
  {
   "cell_type": "code",
   "execution_count": 7,
   "metadata": {
    "ExecuteTime": {
     "end_time": "2017-07-17T15:37:56.562000",
     "start_time": "2017-07-17T15:37:56.556000"
    }
   },
   "outputs": [
    {
     "data": {
      "text/plain": [
       "'\\\\chi_{-k_1+k_2}'"
      ]
     },
     "execution_count": 7,
     "metadata": {},
     "output_type": "execute_result"
    }
   ],
   "source": [
    "repr(s)"
   ]
  },
  {
   "cell_type": "markdown",
   "metadata": {},
   "source": [
    "The symbols themselves aren't of much use: we need a way to apply phase cycling and chopping. This is achieved using amplitudes $A_i$. There are tools to generate the amplitudes without risk of typos, as well as the more complete signals and electric fields."
   ]
  },
  {
   "cell_type": "code",
   "execution_count": 8,
   "metadata": {
    "ExecuteTime": {
     "end_time": "2017-07-17T15:37:57.820000",
     "start_time": "2017-07-17T15:37:57.521000"
    }
   },
   "outputs": [
    {
     "data": {
      "image/png": "[encoded data removed]",
      "text/latex": [
       "$$A_{2}$$"
      ],
      "text/plain": [
       "A₂"
      ]
     },
     "execution_count": 8,
     "metadata": {},
     "output_type": "execute_result"
    }
   ],
   "source": [
    "amplitude(2)"
   ]
  },
  {
   "cell_type": "code",
   "execution_count": 9,
   "metadata": {
    "ExecuteTime": {
     "end_time": "2017-07-17T15:38:26.106000",
     "start_time": "2017-07-17T15:38:25.812000"
    }
   },
   "outputs": [
    {
     "data": {
      "image/png": "[encoded data removed]",
      "text/latex": [
       "$$A_{2} E_{2}$$"
      ],
      "text/plain": [
       "A₂⋅E₂"
      ]
     },
     "execution_count": 9,
     "metadata": {},
     "output_type": "execute_result"
    }
   ],
   "source": [
    "e_field(2)"
   ]
  },
  {
   "cell_type": "code",
   "execution_count": 10,
   "metadata": {
    "ExecuteTime": {
     "end_time": "2017-07-17T15:10:23.944000",
     "start_time": "2017-07-17T15:10:23.650000"
    }
   },
   "outputs": [
    {
     "data": {
      "image/png": "[encoded data removed]",
      "text/latex": [
       "$$\\chi_{-k_1+k_2} A_{2} \\overline{A_{1}}$$"
      ],
      "text/plain": [
       "                   __\n",
       "\\chi_{-k_1+k_2}⋅A₂⋅A₁"
      ]
     },
     "execution_count": 10,
     "metadata": {},
     "output_type": "execute_result"
    }
   ],
   "source": [
    "sig = signal([-1, 2])\n",
    "sig"
   ]
  },
  {
   "cell_type": "markdown",
   "metadata": {},
   "source": [
    "Note that this signal is now composite: it's a product of multiple symbols. Sympy represents this as a `func` (ex: sum, multiplication...) and `args` (argument).\n",
    "\n",
    "We can inspect the operation and elements:"
   ]
  },
  {
   "cell_type": "code",
   "execution_count": 11,
   "metadata": {
    "ExecuteTime": {
     "end_time": "2017-07-17T15:10:32.610000",
     "start_time": "2017-07-17T15:10:32.603000"
    }
   },
   "outputs": [
    {
     "data": {
      "text/plain": [
       "sympy.core.mul.Mul"
      ]
     },
     "execution_count": 11,
     "metadata": {},
     "output_type": "execute_result"
    }
   ],
   "source": [
    "# it's a product\n",
    "sig.func"
   ]
  },
  {
   "cell_type": "code",
   "execution_count": 12,
   "metadata": {
    "ExecuteTime": {
     "end_time": "2017-07-17T15:14:16.268000",
     "start_time": "2017-07-17T15:14:15.957000"
    }
   },
   "outputs": [
    {
     "data": {
      "image/png": "[encoded data removed]",
      "text/latex": [
       "$$\\left ( A_{2}, \\quad \\chi_{-k_1+k_2}, \\quad \\overline{A_{1}}\\right )$$"
      ],
      "text/plain": [
       "⎛                     __⎞\n",
       "⎝A₂, \\chi_{-k_1+k_2}, A₁⎠"
      ]
     },
     "execution_count": 12,
     "metadata": {},
     "output_type": "execute_result"
    }
   ],
   "source": [
    "# the arguments are in no particular order: complex numbers commute.\n",
    "sig.args"
   ]
  },
  {
   "cell_type": "markdown",
   "metadata": {},
   "source": [
    "The sum of multiple signals for a syntax tree: it's a sum of terms which are themselves products, and so on."
   ]
  },
  {
   "cell_type": "code",
   "execution_count": 13,
   "metadata": {
    "ExecuteTime": {
     "end_time": "2017-07-17T15:14:26.540000",
     "start_time": "2017-07-17T15:14:26.206000"
    }
   },
   "outputs": [
    {
     "data": {
      "image/png": "[encoded data removed]",
      "text/latex": [
       "$$\\chi_{+k_1+k_1} A_{1}^{2} + \\chi_{+k_1+k_2} A_{1} A_{2} + \\chi_{+k_1-k_1} A_{1} \\overline{A_{1}} + \\chi_{+k_1-k_2} A_{1} \\overline{A_{2}} + \\chi_{+k_2+k_2} A_{2}^{2} + \\chi_{+k_2-k_2} A_{2} \\overline{A_{2}} + \\chi_{-k_1+k_1} A_{1} \\overline{A_{1}} + \\chi_{-k_1+k_2} A_{2} \\overline{A_{1}} + \\chi_{-k_1-k_1} \\overline{A_{1}}^{2} + \\chi_{-k_1-k_2} \\overline{A_{1}} \\overline{A_{2}} + \\chi_{-k_2+k_2} A_{2} \\overline{A_{2}} + \\chi_{-k_2-k_2} \\overline{A_{2}}^{2}$$"
      ],
      "text/plain": [
       "                                                                              \n",
       "                  2                                              __           \n",
       "\\chi_{+k_1+k_1}⋅A₁  + \\chi_{+k_1+k_2}⋅A₁⋅A₂ + \\chi_{+k_1-k_1}⋅A₁⋅A₁ + \\chi_{+k\n",
       "\n",
       "                                                                              \n",
       "           __                     2                      __                   \n",
       "_1-k_2}⋅A₁⋅A₂ + \\chi_{+k_2+k_2}⋅A₂  + \\chi_{+k_2-k_2}⋅A₂⋅A₂ + \\chi_{-k_1+k_1}⋅\n",
       "\n",
       "                                                  2                           \n",
       "   __                      __                   __                    __ __   \n",
       "A₁⋅A₁ + \\chi_{-k_1+k_2}⋅A₂⋅A₁ + \\chi_{-k_1-k_1}⋅A₁  + \\chi_{-k_1-k_2}⋅A₁⋅A₂ + \n",
       "\n",
       "                                          2\n",
       "                   __                   __ \n",
       "\\chi_{-k_2+k_2}⋅A₂⋅A₂ + \\chi_{-k_2-k_2}⋅A₂ "
      ]
     },
     "execution_count": 13,
     "metadata": {},
     "output_type": "execute_result"
    }
   ],
   "source": [
    "sig = signals_for_order(2,2) # 2 pulses, second order\n",
    "sig"
   ]
  },
  {
   "cell_type": "code",
   "execution_count": 14,
   "metadata": {
    "ExecuteTime": {
     "end_time": "2017-07-17T15:14:29.698000",
     "start_time": "2017-07-17T15:14:29.692000"
    }
   },
   "outputs": [
    {
     "data": {
      "text/plain": [
       "sympy.core.add.Add"
      ]
     },
     "execution_count": 14,
     "metadata": {},
     "output_type": "execute_result"
    }
   ],
   "source": [
    "sig.func"
   ]
  },
  {
   "cell_type": "code",
   "execution_count": 15,
   "metadata": {
    "ExecuteTime": {
     "end_time": "2017-07-17T15:14:30.253000",
     "start_time": "2017-07-17T15:14:29.911000"
    }
   },
   "outputs": [
    {
     "data": {
      "image/png": "[encoded data removed]",
      "text/latex": [
       "$$\\left ( \\chi_{+k_1+k_1} A_{1}^{2}, \\quad \\chi_{+k_2+k_2} A_{2}^{2}, \\quad \\chi_{-k_1-k_1} \\overline{A_{1}}^{2}, \\quad \\chi_{-k_2-k_2} \\overline{A_{2}}^{2}, \\quad \\chi_{+k_1+k_2} A_{1} A_{2}, \\quad \\chi_{+k_1-k_1} A_{1} \\overline{A_{1}}, \\quad \\chi_{+k_1-k_2} A_{1} \\overline{A_{2}}, \\quad \\chi_{-k_1+k_1} A_{1} \\overline{A_{1}}, \\quad \\chi_{+k_2-k_2} A_{2} \\overline{A_{2}}, \\quad \\chi_{-k_1+k_2} A_{2} \\overline{A_{1}}, \\quad \\chi_{-k_2+k_2} A_{2} \\overline{A_{2}}, \\quad \\chi_{-k_1-k_2} \\overline{A_{1}} \\overline{A_{2}}\\right )$$"
      ],
      "text/plain": [
       "⎛                                                            2                \n",
       "⎜                  2                    2                  __                 \n",
       "⎝\\chi_{+k_1+k_1}⋅A₁ , \\chi_{+k_2+k_2}⋅A₂ , \\chi_{-k_1-k_1}⋅A₁ , \\chi_{-k_2-k_2\n",
       "\n",
       "    2                                                                         \n",
       "  __                                             __                     __    \n",
       "}⋅A₂ , \\chi_{+k_1+k_2}⋅A₁⋅A₂, \\chi_{+k_1-k_1}⋅A₁⋅A₁, \\chi_{+k_1-k_2}⋅A₁⋅A₂, \\c\n",
       "\n",
       "                                                                              \n",
       "                 __                     __                     __             \n",
       "hi_{-k_1+k_1}⋅A₁⋅A₁, \\chi_{+k_2-k_2}⋅A₂⋅A₂, \\chi_{-k_1+k_2}⋅A₂⋅A₁, \\chi_{-k_2+\n",
       "\n",
       "                                 ⎞\n",
       "        __                  __ __⎟\n",
       "k_2}⋅A₂⋅A₂, \\chi_{-k_1-k_2}⋅A₁⋅A₂⎠"
      ]
     },
     "execution_count": 15,
     "metadata": {},
     "output_type": "execute_result"
    }
   ],
   "source": [
    "sig.args"
   ]
  },
  {
   "cell_type": "markdown",
   "metadata": {},
   "source": [
    "Grab the first argument, look at it's function and arguments."
   ]
  },
  {
   "cell_type": "code",
   "execution_count": 16,
   "metadata": {
    "ExecuteTime": {
     "end_time": "2017-07-17T15:14:59.727000",
     "start_time": "2017-07-17T15:14:59.719000"
    }
   },
   "outputs": [
    {
     "data": {
      "text/plain": [
       "sympy.core.mul.Mul"
      ]
     },
     "execution_count": 16,
     "metadata": {},
     "output_type": "execute_result"
    }
   ],
   "source": [
    "sig.args[0].func"
   ]
  },
  {
   "cell_type": "code",
   "execution_count": 17,
   "metadata": {
    "ExecuteTime": {
     "end_time": "2017-07-17T15:15:00.800000",
     "start_time": "2017-07-17T15:15:00.137000"
    }
   },
   "outputs": [
    {
     "data": {
      "image/png": "[encoded data removed]",
      "text/latex": [
       "$$\\left ( A_{1}^{2}, \\quad \\chi_{+k_1+k_1}\\right )$$"
      ],
      "text/plain": [
       "⎛  2                 ⎞\n",
       "⎝A₁ , \\chi_{+k_1+k_1}⎠"
      ]
     },
     "execution_count": 17,
     "metadata": {},
     "output_type": "execute_result"
    }
   ],
   "source": [
    "sig.args[0].args"
   ]
  },
  {
   "cell_type": "markdown",
   "metadata": {},
   "source": [
    "Even a simple problem will have a lot of terms:"
   ]
  },
  {
   "cell_type": "code",
   "execution_count": 18,
   "metadata": {
    "ExecuteTime": {
     "end_time": "2017-07-17T15:15:06.738000",
     "start_time": "2017-07-17T15:15:06.154000"
    }
   },
   "outputs": [
    {
     "data": {
      "image/png": "[encoded data removed]",
      "text/latex": [
       "$$169$$"
      ],
      "text/plain": [
       "169"
      ]
     },
     "execution_count": 18,
     "metadata": {},
     "output_type": "execute_result"
    }
   ],
   "source": [
    "detected = sig+e_field(2)\n",
    "detected *= detected.conjugate()\n",
    "detected = detected.expand()\n",
    "len(detected.args)"
   ]
  },
  {
   "cell_type": "code",
   "execution_count": null,
   "metadata": {
    "collapsed": true
   },
   "outputs": [],
   "source": []
  },
  {
   "cell_type": "code",
   "execution_count": null,
   "metadata": {
    "collapsed": true
   },
   "outputs": [],
   "source": []
  },
  {
   "cell_type": "code",
   "execution_count": null,
   "metadata": {
    "collapsed": true
   },
   "outputs": [],
   "source": []
  }
 ],
 "metadata": {
  "kernelspec": {
   "display_name": "Python 3",
   "language": "python",
   "name": "python3"
  },
  "language_info": {
   "codemirror_mode": {
    "name": "ipython",
    "version": 3
   },
   "file_extension": ".py",
   "mimetype": "text/x-python",
   "name": "python",
   "nbconvert_exporter": "python",
   "pygments_lexer": "ipython3",
   "version": "3.6.2"
  },
  "toc": {
   "colors": {
    "hover_highlight": "#DAA520",
    "navigate_num": "#000000",
    "navigate_text": "#333333",
    "running_highlight": "#FF0000",
    "selected_highlight": "#FFD700",
    "sidebar_border": "#EEEEEE",
    "wrapper_background": "#FFFFFF"
   },
   "moveMenuLeft": true,
   "nav_menu": {
    "height": "48px",
    "width": "252px"
   },
   "navigate_menu": true,
   "number_sections": true,
   "sideBar": true,
   "threshold": 4,
   "toc_cell": false,
   "toc_section_display": "block",
   "toc_window_display": false,
   "widenNotebook": false
  },
  "varInspector": {
   "cols": {
    "lenName": 16,
    "lenType": 16,
    "lenVar": 40
   },
   "kernels_config": {
    "python": {
     "delete_cmd_postfix": "",
     "delete_cmd_prefix": "del ",
     "library": "var_list.py",
     "varRefreshCmd": "print(var_dic_list())"
    },
    "r": {
     "delete_cmd_postfix": ") ",
     "delete_cmd_prefix": "rm(",
     "library": "var_list.r",
     "varRefreshCmd": "cat(var_dic_list()) "
    }
   },
   "types_to_exclude": [
    "module",
    "function",
    "builtin_function_or_method",
    "instance",
    "_Feature"
   ],
   "window_display": false
  }
 },
 "nbformat": 4,
 "nbformat_minor": 2
}
