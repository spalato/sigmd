{
 "cells": [
  {
   "cell_type": "code",
   "execution_count": 1,
   "metadata": {
    "ExecuteTime": {
     "end_time": "2017-07-17T23:21:52.084000",
     "start_time": "2017-07-17T23:21:52.079000"
    },
    "collapsed": true
   },
   "outputs": [],
   "source": [
    "# try cycling all three pulses: 4x2x2?"
   ]
  },
  {
   "cell_type": "code",
   "execution_count": 2,
   "metadata": {
    "ExecuteTime": {
     "end_time": "2017-07-17T23:22:50.120000",
     "start_time": "2017-07-17T23:22:49.566000"
    },
    "collapsed": true
   },
   "outputs": [],
   "source": [
    "from __future__ import division, print_function\n",
    "from itertools import product, chain\n",
    "import sympy as sy\n",
    "import numpy as np\n",
    "from sig2d.signals import e_field, signals_for_order, phase_cycle, weights\n",
    "from sig2d.filters import collinear, filter_terms, contains_filter"
   ]
  },
  {
   "cell_type": "code",
   "execution_count": 3,
   "metadata": {
    "ExecuteTime": {
     "end_time": "2017-07-17T23:22:59.158000",
     "start_time": "2017-07-17T23:22:59.082000"
    },
    "collapsed": true
   },
   "outputs": [],
   "source": [
    "sy.init_printing()#fontsize=\"12pt\")"
   ]
  },
  {
   "cell_type": "code",
   "execution_count": 4,
   "metadata": {
    "ExecuteTime": {
     "end_time": "2017-07-17T23:23:04.917000",
     "start_time": "2017-07-17T23:23:04.468000"
    }
   },
   "outputs": [
    {
     "data": {
      "image/png": "[encoded data removed]",
      "text/latex": [
       "$$\\chi_{+k_1+k_1-k_1} A_{1}^{2} \\overline{A_{1}} + \\chi_{+k_1+k_1-k_2} A_{1}^{2} \\overline{A_{2}} + \\chi_{+k_1+k_1-k_3} A_{1}^{2} \\overline{A_{3}} + \\chi_{+k_1+k_2-k_2} A_{1} A_{2} \\overline{A_{2}} + \\chi_{+k_1+k_2-k_3} A_{1} A_{2} \\overline{A_{3}} + \\chi_{+k_1+k_3-k_3} A_{1} A_{3} \\overline{A_{3}} + \\chi_{+k_1-k_1+k_1} A_{1}^{2} \\overline{A_{1}} + \\chi_{+k_1-k_1+k_2} A_{1} A_{2} \\overline{A_{1}} + \\chi_{+k_1-k_1+k_3} A_{1} A_{3} \\overline{A_{1}} + \\chi_{+k_1-k_2+k_2} A_{1} A_{2} \\overline{A_{2}} + \\chi_{+k_1-k_2+k_3} A_{1} A_{3} \\overline{A_{2}} + \\chi_{+k_1-k_3+k_3} A_{1} A_{3} \\overline{A_{3}} + \\chi_{+k_1} A_{1} + \\chi_{+k_2+k_2-k_2} A_{2}^{2} \\overline{A_{2}} + \\chi_{+k_2+k_2-k_3} A_{2}^{2} \\overline{A_{3}} + \\chi_{+k_2+k_3-k_3} A_{2} A_{3} \\overline{A_{3}} + \\chi_{+k_2-k_2+k_2} A_{2}^{2} \\overline{A_{2}} + \\chi_{+k_2-k_2+k_3} A_{2} A_{3} \\overline{A_{2}} + \\chi_{+k_2-k_3+k_3} A_{2} A_{3} \\overline{A_{3}} + \\chi_{+k_2} A_{2} + \\chi_{+k_3+k_3-k_3} A_{3}^{2} \\overline{A_{3}} + \\chi_{+k_3-k_3+k_3} A_{3}^{2} \\overline{A_{3}} + \\chi_{+k_3} A_{3} + \\chi_{-k_1+k_1+k_1} A_{1}^{2} \\overline{A_{1}} + \\chi_{-k_1+k_1+k_2} A_{1} A_{2} \\overline{A_{1}} + \\chi_{-k_1+k_1+k_3} A_{1} A_{3} \\overline{A_{1}} + \\chi_{-k_1+k_2+k_2} A_{2}^{2} \\overline{A_{1}} + \\chi_{-k_1+k_2+k_3} A_{2} A_{3} \\overline{A_{1}} + \\chi_{-k_1+k_3+k_3} A_{3}^{2} \\overline{A_{1}} + \\chi_{-k_2+k_2+k_2} A_{2}^{2} \\overline{A_{2}} + \\chi_{-k_2+k_2+k_3} A_{2} A_{3} \\overline{A_{2}} + \\chi_{-k_2+k_3+k_3} A_{3}^{2} \\overline{A_{2}} + \\chi_{-k_3+k_3+k_3} A_{3}^{2} \\overline{A_{3}}$$"
      ],
      "text/plain": [
       "                      2 __                         2 __                       \n",
       "\\chi_{+k_1+k_1-k_1}⋅A₁ ⋅A₁ + \\chi_{+k_1+k_1-k_2}⋅A₁ ⋅A₂ + \\chi_{+k_1+k_1-k_3}⋅\n",
       "\n",
       "  2 __                             __                             __          \n",
       "A₁ ⋅A₃ + \\chi_{+k_1+k_2-k_2}⋅A₁⋅A₂⋅A₂ + \\chi_{+k_1+k_2-k_3}⋅A₁⋅A₂⋅A₃ + \\chi_{+\n",
       "\n",
       "                   __                         2 __                            \n",
       "k_1+k_3-k_3}⋅A₁⋅A₃⋅A₃ + \\chi_{+k_1-k_1+k_1}⋅A₁ ⋅A₁ + \\chi_{+k_1-k_1+k_2}⋅A₁⋅A₂\n",
       "\n",
       " __                             __                             __             \n",
       "⋅A₁ + \\chi_{+k_1-k_1+k_3}⋅A₁⋅A₃⋅A₁ + \\chi_{+k_1-k_2+k_2}⋅A₁⋅A₂⋅A₂ + \\chi_{+k_1\n",
       "\n",
       "                __                             __                             \n",
       "-k_2+k_3}⋅A₁⋅A₃⋅A₂ + \\chi_{+k_1-k_3+k_3}⋅A₁⋅A₃⋅A₃ + \\chi_{+k_1}⋅A₁ + \\chi_{+k_\n",
       "\n",
       "             2 __                         2 __                             __ \n",
       "2+k_2-k_2}⋅A₂ ⋅A₂ + \\chi_{+k_2+k_2-k_3}⋅A₂ ⋅A₃ + \\chi_{+k_2+k_3-k_3}⋅A₂⋅A₃⋅A₃ \n",
       "\n",
       "                        2 __                             __                   \n",
       "+ \\chi_{+k_2-k_2+k_2}⋅A₂ ⋅A₂ + \\chi_{+k_2-k_2+k_3}⋅A₂⋅A₃⋅A₂ + \\chi_{+k_2-k_3+k\n",
       "\n",
       "          __                                          2 __                    \n",
       "_3}⋅A₂⋅A₃⋅A₃ + \\chi_{+k_2}⋅A₂ + \\chi_{+k_3+k_3-k_3}⋅A₃ ⋅A₃ + \\chi_{+k_3-k_3+k_\n",
       "\n",
       "     2 __                                          2 __                       \n",
       "3}⋅A₃ ⋅A₃ + \\chi_{+k_3}⋅A₃ + \\chi_{-k_1+k_1+k_1}⋅A₁ ⋅A₁ + \\chi_{-k_1+k_1+k_2}⋅\n",
       "\n",
       "      __                             __                         2 __          \n",
       "A₁⋅A₂⋅A₁ + \\chi_{-k_1+k_1+k_3}⋅A₁⋅A₃⋅A₁ + \\chi_{-k_1+k_2+k_2}⋅A₂ ⋅A₁ + \\chi_{-\n",
       "\n",
       "                   __                         2 __                         2 _\n",
       "k_1+k_2+k_3}⋅A₂⋅A₃⋅A₁ + \\chi_{-k_1+k_3+k_3}⋅A₃ ⋅A₁ + \\chi_{-k_2+k_2+k_2}⋅A₂ ⋅A\n",
       "\n",
       "_                             __                         2 __                 \n",
       "₂ + \\chi_{-k_2+k_2+k_3}⋅A₂⋅A₃⋅A₂ + \\chi_{-k_2+k_3+k_3}⋅A₃ ⋅A₂ + \\chi_{-k_3+k_3\n",
       "\n",
       "        2 __\n",
       "+k_3}⋅A₃ ⋅A₃"
      ]
     },
     "execution_count": 4,
     "metadata": {},
     "output_type": "execute_result"
    }
   ],
   "source": [
    "sigs = sum(signals_for_order(i, 3, filters=collinear) for i in [1,2,3])\n",
    "sigs"
   ]
  },
  {
   "cell_type": "code",
   "execution_count": 5,
   "metadata": {
    "ExecuteTime": {
     "end_time": "2017-07-17T23:23:14.417000",
     "start_time": "2017-07-17T23:23:12.293000"
    }
   },
   "outputs": [
    {
     "name": "stdout",
     "output_type": "stream",
     "text": [
      "Total nb. terms:  1296\n",
      "Filtered: 207\n"
     ]
    }
   ],
   "source": [
    "detected = sigs+sum([e_field(i) for i in [1,2,3]])\n",
    "detected = sy.expand(sy.conjugate(detected)*detected)\n",
    "print(\"Total nb. terms: \", len(detected.args))\n",
    "detected = filter_terms(contains_filter(\"E_\"), detected)\n",
    "# by convention, drop all which contain complex conjuate of response\n",
    "#detected = filter_terms(lambda e: r\"conjugate(\\chi\" not in repr(e),\n",
    "#                        detected)\n",
    "print(\"Filtered:\", len(detected.args))"
   ]
  },
  {
   "cell_type": "code",
   "execution_count": 6,
   "metadata": {
    "ExecuteTime": {
     "end_time": "2017-07-17T23:23:34.265000",
     "start_time": "2017-07-17T23:23:33.954000"
    }
   },
   "outputs": [
    {
     "data": {
      "image/png": "[encoded data removed]",
      "text/latex": [
       "$$\\left [ \\left [ 0, \\quad 0, \\quad 0\\right ], \\quad \\left [ 0, \\quad 0, \\quad \\frac{\\pi}{2}\\right ], \\quad \\left [ 0, \\quad \\frac{\\pi}{2}, \\quad 0\\right ], \\quad \\left [ 0, \\quad \\frac{\\pi}{2}, \\quad \\frac{\\pi}{2}\\right ], \\quad \\left [ \\frac{\\pi}{2}, \\quad 0, \\quad 0\\right ], \\quad \\left [ \\frac{\\pi}{2}, \\quad 0, \\quad \\frac{\\pi}{2}\\right ], \\quad \\left [ \\frac{\\pi}{2}, \\quad \\frac{\\pi}{2}, \\quad 0\\right ], \\quad \\left [ \\frac{\\pi}{2}, \\quad \\frac{\\pi}{2}, \\quad \\frac{\\pi}{2}\\right ], \\quad \\left [ \\pi, \\quad 0, \\quad 0\\right ], \\quad \\left [ \\pi, \\quad 0, \\quad \\frac{\\pi}{2}\\right ], \\quad \\left [ \\pi, \\quad \\frac{\\pi}{2}, \\quad 0\\right ], \\quad \\left [ \\pi, \\quad \\frac{\\pi}{2}, \\quad \\frac{\\pi}{2}\\right ], \\quad \\left [ \\frac{3 \\pi}{2}, \\quad 0, \\quad 0\\right ], \\quad \\left [ \\frac{3 \\pi}{2}, \\quad 0, \\quad \\frac{\\pi}{2}\\right ], \\quad \\left [ \\frac{3 \\pi}{2}, \\quad \\frac{\\pi}{2}, \\quad 0\\right ], \\quad \\left [ \\frac{3 \\pi}{2}, \\quad \\frac{\\pi}{2}, \\quad \\frac{\\pi}{2}\\right ]\\right ]$$"
      ],
      "text/plain": [
       "⎡           ⎡      π⎤  ⎡   π   ⎤  ⎡   π  π⎤  ⎡π      ⎤  ⎡π     π⎤  ⎡π  π   ⎤  \n",
       "⎢[0, 0, 0], ⎢0, 0, ─⎥, ⎢0, ─, 0⎥, ⎢0, ─, ─⎥, ⎢─, 0, 0⎥, ⎢─, 0, ─⎥, ⎢─, ─, 0⎥, \n",
       "⎣           ⎣      2⎦  ⎣   2   ⎦  ⎣   2  2⎦  ⎣2      ⎦  ⎣2     2⎦  ⎣2  2   ⎦  \n",
       "\n",
       "⎡π  π  π⎤             ⎡      π⎤  ⎡   π   ⎤  ⎡   π  π⎤  ⎡3⋅π      ⎤  ⎡3⋅π     π\n",
       "⎢─, ─, ─⎥, [π, 0, 0], ⎢π, 0, ─⎥, ⎢π, ─, 0⎥, ⎢π, ─, ─⎥, ⎢───, 0, 0⎥, ⎢───, 0, ─\n",
       "⎣2  2  2⎦             ⎣      2⎦  ⎣   2   ⎦  ⎣   2  2⎦  ⎣ 2       ⎦  ⎣ 2      2\n",
       "\n",
       "⎤  ⎡3⋅π  π   ⎤  ⎡3⋅π  π  π⎤⎤\n",
       "⎥, ⎢───, ─, 0⎥, ⎢───, ─, ─⎥⎥\n",
       "⎦  ⎣ 2   2   ⎦  ⎣ 2   2  2⎦⎦"
      ]
     },
     "execution_count": 6,
     "metadata": {},
     "output_type": "execute_result"
    }
   ],
   "source": [
    "phases = []\n",
    "for i, j, k in product(range(4), range(2), range(2)):\n",
    "    phases.append([i*sy.pi/2, j*sy.pi/2, k*sy.pi/2])\n",
    "phases"
   ]
  },
  {
   "cell_type": "code",
   "execution_count": 18,
   "metadata": {
    "ExecuteTime": {
     "end_time": "2017-07-17T23:28:07.390000",
     "start_time": "2017-07-17T23:28:03.371000"
    }
   },
   "outputs": [
    {
     "data": {
      "image/png": "[encoded data removed]",
      "text/latex": [
       "$$48$$"
      ],
      "text/plain": [
       "48"
      ]
     },
     "execution_count": 18,
     "metadata": {},
     "output_type": "execute_result"
    }
   ],
   "source": [
    "alpha = (1, -1, 1)\n",
    "phases = []\n",
    "phases = []\n",
    "for i, j, k in product(range(4), range(2), range(2)):\n",
    "    phases.append([i*sy.pi/2, j*sy.pi/2, k*sy.pi/2])\n",
    "w_r = weights(alpha, phases)\n",
    "cycled = phase_cycle(detected, phases, w_r, expand_norms=True)\n",
    "len(cycled.args) # we still have way too many elements to cope with"
   ]
  },
  {
   "cell_type": "code",
   "execution_count": 19,
   "metadata": {
    "ExecuteTime": {
     "end_time": "2017-07-17T23:28:07.839000",
     "start_time": "2017-07-17T23:28:07.393000"
    }
   },
   "outputs": [
    {
     "data": {
      "image/png": "[encoded data removed]",
      "text/latex": [
       "$$8 \\chi_{+k_1-k_1+k_2} a_{1}^{3} a_{2} \\overline{E_{1}} - 8 i \\chi_{+k_1-k_1+k_2} a_{1}^{3} a_{2} \\overline{E_{1}} + 8 \\chi_{+k_2+k_2-k_2} a_{1} a_{2}^{3} \\overline{E_{1}} - 8 i \\chi_{+k_2+k_2-k_2} a_{1} a_{2}^{3} \\overline{E_{1}} + 8 \\chi_{+k_2+k_2-k_3} a_{1} a_{2}^{2} a_{3} \\overline{E_{1}} - 8 i \\chi_{+k_2+k_2-k_3} a_{1} a_{2}^{2} a_{3} \\overline{E_{1}} + 8 \\chi_{+k_2+k_3-k_3} a_{1} a_{2} a_{3}^{2} \\overline{E_{1}} - 8 i \\chi_{+k_2+k_3-k_3} a_{1} a_{2} a_{3}^{2} \\overline{E_{1}} + 8 \\chi_{+k_2-k_2+k_2} a_{1} a_{2}^{3} \\overline{E_{1}} - 8 i \\chi_{+k_2-k_2+k_2} a_{1} a_{2}^{3} \\overline{E_{1}} + 8 \\chi_{+k_2-k_3+k_3} a_{1} a_{2} a_{3}^{2} \\overline{E_{1}} - 8 i \\chi_{+k_2-k_3+k_3} a_{1} a_{2} a_{3}^{2} \\overline{E_{1}} + 8 \\chi_{+k_2} a_{1} a_{2} \\overline{E_{1}} - 8 i \\chi_{+k_2} a_{1} a_{2} \\overline{E_{1}} + 8 \\chi_{-k_1+k_1+k_2} a_{1}^{3} a_{2} \\overline{E_{1}} - 8 i \\chi_{-k_1+k_1+k_2} a_{1}^{3} a_{2} \\overline{E_{1}} + 8 \\chi_{-k_1+k_2+k_2} a_{1} a_{2}^{3} \\overline{E_{2}} - 8 i \\chi_{-k_1+k_2+k_2} a_{1} a_{2}^{3} \\overline{E_{2}} + 8 \\chi_{-k_1+k_2+k_2} a_{1} a_{2}^{2} a_{3} \\overline{E_{3}} - 8 i \\chi_{-k_1+k_2+k_2} a_{1} a_{2}^{2} a_{3} \\overline{E_{3}} + 8 \\chi_{-k_1+k_2+k_3} a_{1} a_{2} a_{3}^{2} \\overline{E_{3}} - 8 i \\chi_{-k_1+k_2+k_3} a_{1} a_{2} a_{3}^{2} \\overline{E_{3}} + 8 \\chi_{-k_2+k_2+k_2} a_{1} a_{2}^{3} \\overline{E_{1}} - 8 i \\chi_{-k_2+k_2+k_2} a_{1} a_{2}^{3} \\overline{E_{1}} + 8 E_{1} a_{1}^{3} a_{2} \\overline{\\chi_{+k_1+k_1-k_2}} - 8 i E_{1} a_{1}^{3} a_{2} \\overline{\\chi_{+k_1+k_1-k_2}} + 8 E_{2} a_{1}^{3} a_{2} \\overline{\\chi_{+k_1+k_1-k_1}} - 8 i E_{2} a_{1}^{3} a_{2} \\overline{\\chi_{+k_1+k_1-k_1}} + 8 E_{2} a_{1}^{3} a_{2} \\overline{\\chi_{+k_1-k_1+k_1}} - 8 i E_{2} a_{1}^{3} a_{2} \\overline{\\chi_{+k_1-k_1+k_1}} + 8 E_{2} a_{1}^{3} a_{2} \\overline{\\chi_{-k_1+k_1+k_1}} - 8 i E_{2} a_{1}^{3} a_{2} \\overline{\\chi_{-k_1+k_1+k_1}} + 8 E_{2} a_{1} a_{2}^{3} \\overline{\\chi_{+k_1+k_2-k_2}} - 8 i E_{2} a_{1} a_{2}^{3} \\overline{\\chi_{+k_1+k_2-k_2}} + 8 E_{2} a_{1} a_{2}^{3} \\overline{\\chi_{+k_1-k_2+k_2}} - 8 i E_{2} a_{1} a_{2}^{3} \\overline{\\chi_{+k_1-k_2+k_2}} + 8 E_{2} a_{1} a_{2}^{2} a_{3} \\overline{\\chi_{+k_1-k_2+k_3}} - 8 i E_{2} a_{1} a_{2}^{2} a_{3} \\overline{\\chi_{+k_1-k_2+k_3}} + 8 E_{2} a_{1} a_{2} a_{3}^{2} \\overline{\\chi_{+k_1+k_3-k_3}} - 8 i E_{2} a_{1} a_{2} a_{3}^{2} \\overline{\\chi_{+k_1+k_3-k_3}} + 8 E_{2} a_{1} a_{2} a_{3}^{2} \\overline{\\chi_{+k_1-k_3+k_3}} - 8 i E_{2} a_{1} a_{2} a_{3}^{2} \\overline{\\chi_{+k_1-k_3+k_3}} + 8 E_{2} a_{1} a_{2} \\overline{\\chi_{+k_1}} - 8 i E_{2} a_{1} a_{2} \\overline{\\chi_{+k_1}} + 8 E_{2} a_{1} a_{2} \\overline{E_{1}} - 8 i E_{2} a_{1} a_{2} \\overline{E_{1}} + 8 E_{3} a_{1} a_{2} a_{3}^{2} \\overline{\\chi_{+k_1-k_2+k_3}} - 8 i E_{3} a_{1} a_{2} a_{3}^{2} \\overline{\\chi_{+k_1-k_2+k_3}}$$"
      ],
      "text/plain": [
       "                        3    __                             3    __           \n",
       "8⋅\\chi_{+k_1-k_1+k_2}⋅a₁ ⋅a₂⋅E₁ - 8⋅ⅈ⋅\\chi_{+k_1-k_1+k_2}⋅a₁ ⋅a₂⋅E₁ + 8⋅\\chi_{\n",
       "\n",
       "                   3 __                                3 __                   \n",
       "+k_2+k_2-k_2}⋅a₁⋅a₂ ⋅E₁ - 8⋅ⅈ⋅\\chi_{+k_2+k_2-k_2}⋅a₁⋅a₂ ⋅E₁ + 8⋅\\chi_{+k_2+k_2\n",
       "\n",
       "           2    __                                2    __                     \n",
       "-k_3}⋅a₁⋅a₂ ⋅a₃⋅E₁ - 8⋅ⅈ⋅\\chi_{+k_2+k_2-k_3}⋅a₁⋅a₂ ⋅a₃⋅E₁ + 8⋅\\chi_{+k_2+k_3-k\n",
       "\n",
       "            2 __                                   2 __                       \n",
       "_3}⋅a₁⋅a₂⋅a₃ ⋅E₁ - 8⋅ⅈ⋅\\chi_{+k_2+k_3-k_3}⋅a₁⋅a₂⋅a₃ ⋅E₁ + 8⋅\\chi_{+k_2-k_2+k_2\n",
       "\n",
       "       3 __                                3 __                               \n",
       "}⋅a₁⋅a₂ ⋅E₁ - 8⋅ⅈ⋅\\chi_{+k_2-k_2+k_2}⋅a₁⋅a₂ ⋅E₁ + 8⋅\\chi_{+k_2-k_3+k_3}⋅a₁⋅a₂⋅\n",
       "\n",
       "  2 __                                   2 __                       __        \n",
       "a₃ ⋅E₁ - 8⋅ⅈ⋅\\chi_{+k_2-k_3+k_3}⋅a₁⋅a₂⋅a₃ ⋅E₁ + 8⋅\\chi_{+k_2}⋅a₁⋅a₂⋅E₁ - 8⋅ⅈ⋅\\\n",
       "\n",
       "                 __                           3    __                         \n",
       "chi_{+k_2}⋅a₁⋅a₂⋅E₁ + 8⋅\\chi_{-k_1+k_1+k_2}⋅a₁ ⋅a₂⋅E₁ - 8⋅ⅈ⋅\\chi_{-k_1+k_1+k_2\n",
       "\n",
       "    3    __                              3 __                                3\n",
       "}⋅a₁ ⋅a₂⋅E₁ + 8⋅\\chi_{-k_1+k_2+k_2}⋅a₁⋅a₂ ⋅E₂ - 8⋅ⅈ⋅\\chi_{-k_1+k_2+k_2}⋅a₁⋅a₂ \n",
       "\n",
       " __                              2    __                                2    _\n",
       "⋅E₂ + 8⋅\\chi_{-k_1+k_2+k_2}⋅a₁⋅a₂ ⋅a₃⋅E₃ - 8⋅ⅈ⋅\\chi_{-k_1+k_2+k_2}⋅a₁⋅a₂ ⋅a₃⋅E\n",
       "\n",
       "_                                 2 __                                   2 __ \n",
       "₃ + 8⋅\\chi_{-k_1+k_2+k_3}⋅a₁⋅a₂⋅a₃ ⋅E₃ - 8⋅ⅈ⋅\\chi_{-k_1+k_2+k_3}⋅a₁⋅a₂⋅a₃ ⋅E₃ \n",
       "\n",
       "                             3 __                                3 __         \n",
       "+ 8⋅\\chi_{-k_2+k_2+k_2}⋅a₁⋅a₂ ⋅E₁ - 8⋅ⅈ⋅\\chi_{-k_2+k_2+k_2}⋅a₁⋅a₂ ⋅E₁ + 8⋅E₁⋅a\n",
       "\n",
       " 3    ___________________            3    ___________________          3    __\n",
       "₁ ⋅a₂⋅\\chi_{+k_1+k_1-k_2} - 8⋅ⅈ⋅E₁⋅a₁ ⋅a₂⋅\\chi_{+k_1+k_1-k_2} + 8⋅E₂⋅a₁ ⋅a₂⋅\\c\n",
       "\n",
       "_________________            3    ___________________          3    __________\n",
       "hi_{+k_1+k_1-k_1} - 8⋅ⅈ⋅E₂⋅a₁ ⋅a₂⋅\\chi_{+k_1+k_1-k_1} + 8⋅E₂⋅a₁ ⋅a₂⋅\\chi_{+k_1\n",
       "\n",
       "_________            3    ___________________          3    __________________\n",
       "-k_1+k_1} - 8⋅ⅈ⋅E₂⋅a₁ ⋅a₂⋅\\chi_{+k_1-k_1+k_1} + 8⋅E₂⋅a₁ ⋅a₂⋅\\chi_{-k_1+k_1+k_1\n",
       "\n",
       "_            3    ___________________             3 ___________________       \n",
       "} - 8⋅ⅈ⋅E₂⋅a₁ ⋅a₂⋅\\chi_{-k_1+k_1+k_1} + 8⋅E₂⋅a₁⋅a₂ ⋅\\chi_{+k_1+k_2-k_2} - 8⋅ⅈ⋅\n",
       "\n",
       "        3 ___________________             3 ___________________               \n",
       "E₂⋅a₁⋅a₂ ⋅\\chi_{+k_1+k_2-k_2} + 8⋅E₂⋅a₁⋅a₂ ⋅\\chi_{+k_1-k_2+k_2} - 8⋅ⅈ⋅E₂⋅a₁⋅a₂\n",
       "\n",
       "3 ___________________             2    ___________________               2    \n",
       " ⋅\\chi_{+k_1-k_2+k_2} + 8⋅E₂⋅a₁⋅a₂ ⋅a₃⋅\\chi_{+k_1-k_2+k_3} - 8⋅ⅈ⋅E₂⋅a₁⋅a₂ ⋅a₃⋅\n",
       "\n",
       "___________________                2 ___________________                  2 __\n",
       "\\chi_{+k_1-k_2+k_3} + 8⋅E₂⋅a₁⋅a₂⋅a₃ ⋅\\chi_{+k_1+k_3-k_3} - 8⋅ⅈ⋅E₂⋅a₁⋅a₂⋅a₃ ⋅\\c\n",
       "\n",
       "_________________                2 ___________________                  2 ____\n",
       "hi_{+k_1+k_3-k_3} + 8⋅E₂⋅a₁⋅a₂⋅a₃ ⋅\\chi_{+k_1-k_3+k_3} - 8⋅ⅈ⋅E₂⋅a₁⋅a₂⋅a₃ ⋅\\chi\n",
       "\n",
       "_______________              ___________                ___________           \n",
       "_{+k_1-k_3+k_3} + 8⋅E₂⋅a₁⋅a₂⋅\\chi_{+k_1} - 8⋅ⅈ⋅E₂⋅a₁⋅a₂⋅\\chi_{+k_1} + 8⋅E₂⋅a₁⋅\n",
       "\n",
       "   __                __                2 ___________________                  \n",
       "a₂⋅E₁ - 8⋅ⅈ⋅E₂⋅a₁⋅a₂⋅E₁ + 8⋅E₃⋅a₁⋅a₂⋅a₃ ⋅\\chi_{+k_1-k_2+k_3} - 8⋅ⅈ⋅E₃⋅a₁⋅a₂⋅a₃\n",
       "\n",
       "2 ___________________\n",
       " ⋅\\chi_{+k_1-k_2+k_3}"
      ]
     },
     "execution_count": 19,
     "metadata": {},
     "output_type": "execute_result"
    }
   ],
   "source": [
    "cycled"
   ]
  },
  {
   "cell_type": "code",
   "execution_count": 20,
   "metadata": {
    "ExecuteTime": {
     "end_time": "2017-07-17T23:28:10.659000",
     "start_time": "2017-07-17T23:28:10.290000"
    }
   },
   "outputs": [
    {
     "data": {
      "image/png": "[encoded data removed]",
      "text/latex": [
       "$$8 \\chi_{+k_2+k_2-k_3} a_{1} a_{2}^{2} a_{3} \\overline{E_{1}} - 8 i \\chi_{+k_2+k_2-k_3} a_{1} a_{2}^{2} a_{3} \\overline{E_{1}} + 8 \\chi_{+k_2+k_3-k_3} a_{1} a_{2} a_{3}^{2} \\overline{E_{1}} - 8 i \\chi_{+k_2+k_3-k_3} a_{1} a_{2} a_{3}^{2} \\overline{E_{1}} + 8 \\chi_{+k_2-k_3+k_3} a_{1} a_{2} a_{3}^{2} \\overline{E_{1}} - 8 i \\chi_{+k_2-k_3+k_3} a_{1} a_{2} a_{3}^{2} \\overline{E_{1}} + 8 \\chi_{-k_1+k_2+k_2} a_{1} a_{2}^{2} a_{3} \\overline{E_{3}} - 8 i \\chi_{-k_1+k_2+k_2} a_{1} a_{2}^{2} a_{3} \\overline{E_{3}} + 8 \\chi_{-k_1+k_2+k_3} a_{1} a_{2} a_{3}^{2} \\overline{E_{3}} - 8 i \\chi_{-k_1+k_2+k_3} a_{1} a_{2} a_{3}^{2} \\overline{E_{3}} + 8 E_{2} a_{1} a_{2}^{2} a_{3} \\overline{\\chi_{+k_1-k_2+k_3}} - 8 i E_{2} a_{1} a_{2}^{2} a_{3} \\overline{\\chi_{+k_1-k_2+k_3}} + 8 E_{2} a_{1} a_{2} a_{3}^{2} \\overline{\\chi_{+k_1+k_3-k_3}} - 8 i E_{2} a_{1} a_{2} a_{3}^{2} \\overline{\\chi_{+k_1+k_3-k_3}} + 8 E_{2} a_{1} a_{2} a_{3}^{2} \\overline{\\chi_{+k_1-k_3+k_3}} - 8 i E_{2} a_{1} a_{2} a_{3}^{2} \\overline{\\chi_{+k_1-k_3+k_3}} + 8 E_{3} a_{1} a_{2} a_{3}^{2} \\overline{\\chi_{+k_1-k_2+k_3}} - 8 i E_{3} a_{1} a_{2} a_{3}^{2} \\overline{\\chi_{+k_1-k_2+k_3}}$$"
      ],
      "text/plain": [
       "                           2    __                                2    __     \n",
       "8⋅\\chi_{+k_2+k_2-k_3}⋅a₁⋅a₂ ⋅a₃⋅E₁ - 8⋅ⅈ⋅\\chi_{+k_2+k_2-k_3}⋅a₁⋅a₂ ⋅a₃⋅E₁ + 8⋅\n",
       "\n",
       "                            2 __                                   2 __       \n",
       "\\chi_{+k_2+k_3-k_3}⋅a₁⋅a₂⋅a₃ ⋅E₁ - 8⋅ⅈ⋅\\chi_{+k_2+k_3-k_3}⋅a₁⋅a₂⋅a₃ ⋅E₁ + 8⋅\\c\n",
       "\n",
       "                          2 __                                   2 __         \n",
       "hi_{+k_2-k_3+k_3}⋅a₁⋅a₂⋅a₃ ⋅E₁ - 8⋅ⅈ⋅\\chi_{+k_2-k_3+k_3}⋅a₁⋅a₂⋅a₃ ⋅E₁ + 8⋅\\chi\n",
       "\n",
       "                     2    __                                2    __           \n",
       "_{-k_1+k_2+k_2}⋅a₁⋅a₂ ⋅a₃⋅E₃ - 8⋅ⅈ⋅\\chi_{-k_1+k_2+k_2}⋅a₁⋅a₂ ⋅a₃⋅E₃ + 8⋅\\chi_{\n",
       "\n",
       "                      2 __                                   2 __             \n",
       "-k_1+k_2+k_3}⋅a₁⋅a₂⋅a₃ ⋅E₃ - 8⋅ⅈ⋅\\chi_{-k_1+k_2+k_3}⋅a₁⋅a₂⋅a₃ ⋅E₃ + 8⋅E₂⋅a₁⋅a₂\n",
       "\n",
       "2    ___________________               2    ___________________               \n",
       " ⋅a₃⋅\\chi_{+k_1-k_2+k_3} - 8⋅ⅈ⋅E₂⋅a₁⋅a₂ ⋅a₃⋅\\chi_{+k_1-k_2+k_3} + 8⋅E₂⋅a₁⋅a₂⋅a\n",
       "\n",
       " 2 ___________________                  2 ___________________                2\n",
       "₃ ⋅\\chi_{+k_1+k_3-k_3} - 8⋅ⅈ⋅E₂⋅a₁⋅a₂⋅a₃ ⋅\\chi_{+k_1+k_3-k_3} + 8⋅E₂⋅a₁⋅a₂⋅a₃ \n",
       "\n",
       " ___________________                  2 ___________________                2 _\n",
       "⋅\\chi_{+k_1-k_3+k_3} - 8⋅ⅈ⋅E₂⋅a₁⋅a₂⋅a₃ ⋅\\chi_{+k_1-k_3+k_3} + 8⋅E₃⋅a₁⋅a₂⋅a₃ ⋅\\\n",
       "\n",
       "__________________                  2 ___________________\n",
       "chi_{+k_1-k_2+k_3} - 8⋅ⅈ⋅E₃⋅a₁⋅a₂⋅a₃ ⋅\\chi_{+k_1-k_2+k_3}"
      ]
     },
     "execution_count": 20,
     "metadata": {},
     "output_type": "execute_result"
    }
   ],
   "source": [
    "filter_terms(contains_filter('a_3'), cycled)"
   ]
  },
  {
   "cell_type": "code",
   "execution_count": null,
   "metadata": {
    "collapsed": true
   },
   "outputs": [],
   "source": []
  }
 ],
 "metadata": {
  "kernelspec": {
   "display_name": "Python 3",
   "language": "python",
   "name": "python3"
  },
  "language_info": {
   "codemirror_mode": {
    "name": "ipython",
    "version": 3
   },
   "file_extension": ".py",
   "mimetype": "text/x-python",
   "name": "python",
   "nbconvert_exporter": "python",
   "pygments_lexer": "ipython3",
   "version": "3.6.1"
  },
  "toc": {
   "colors": {
    "hover_highlight": "#DAA520",
    "navigate_num": "#000000",
    "navigate_text": "#333333",
    "running_highlight": "#FF0000",
    "selected_highlight": "#FFD700",
    "sidebar_border": "#EEEEEE",
    "wrapper_background": "#FFFFFF"
   },
   "moveMenuLeft": true,
   "nav_menu": {
    "height": "12px",
    "width": "252px"
   },
   "navigate_menu": true,
   "number_sections": true,
   "sideBar": true,
   "threshold": 4,
   "toc_cell": false,
   "toc_section_display": "block",
   "toc_window_display": false,
   "widenNotebook": false
  }
 },
 "nbformat": 4,
 "nbformat_minor": 2
}
