{
 "cells": [
  {
   "cell_type": "code",
   "execution_count": 1,
   "metadata": {
    "ExecuteTime": {
     "end_time": "2018-06-19T02:22:20.092708Z",
     "start_time": "2018-06-19T02:22:19.205453Z"
    }
   },
   "outputs": [],
   "source": [
    "#from __future__ import division, print_function\n",
    "from itertools import product, chain\n",
    "import sympy as sy\n",
    "import numpy as np\n",
    "from sigmd.signals import e_field, signals_for_order, phase_cycle, weights\n",
    "from sigmd.filters import action, contains_filter, multifilter"
   ]
  },
  {
   "cell_type": "code",
   "execution_count": 5,
   "metadata": {
    "ExecuteTime": {
     "end_time": "2018-06-19T02:22:26.774050Z",
     "start_time": "2018-06-19T02:22:26.470769Z"
    }
   },
   "outputs": [],
   "source": [
    "sy.init_printing() # pretty!"
   ]
  },
  {
   "cell_type": "code",
   "execution_count": 18,
   "metadata": {
    "ExecuteTime": {
     "end_time": "2018-06-19T02:26:06.657669Z",
     "start_time": "2018-06-19T02:26:06.652680Z"
    }
   },
   "outputs": [],
   "source": [
    "def single_interactions(k):\n",
    "    return len(set(map(abs, k))) == len(k)\n",
    "\n",
    "def conventional(k):\n",
    "    return k[-1]/abs(k[-1]) == 1\n",
    "\n",
    "f = multifilter([single_interactions, action, conventional])"
   ]
  },
  {
   "cell_type": "code",
   "execution_count": 19,
   "metadata": {
    "ExecuteTime": {
     "end_time": "2018-06-19T02:26:08.384984Z",
     "start_time": "2018-06-19T02:26:08.311181Z"
    }
   },
   "outputs": [
    {
     "name": "stderr",
     "output_type": "stream",
     "text": [
      "c:\\work\\src\\sig2d\\src\\sigmd\\signals.py:146: UserWarning: Signals for order now doesn't do the sum\n",
      "  warnings.warn(\"Signals for order now doesn't do the sum\")\n"
     ]
    },
    {
     "data": {
      "image/png": "[encoded data removed]",
      "text/latex": [
       "$$9$$"
      ],
      "text/plain": [
       "9"
      ]
     },
     "execution_count": 19,
     "metadata": {},
     "output_type": "execute_result"
    }
   ],
   "source": [
    "sigs = sum(sum(signals_for_order(i, 4, filters=f))for i in [2,4])\n",
    "len(sigs.args)"
   ]
  },
  {
   "cell_type": "code",
   "execution_count": 20,
   "metadata": {
    "ExecuteTime": {
     "end_time": "2018-06-19T02:26:10.453305Z",
     "start_time": "2018-06-19T02:26:09.932695Z"
    }
   },
   "outputs": [
    {
     "data": {
      "image/png": "[encoded data removed]",
      "text/latex": [
       "$$\\chi_{+k_1-k_2-k_3+k_4} A_{1} A_{4} \\overline{A_{2}} \\overline{A_{3}} + \\chi_{-k_1+k_2-k_3+k_4} A_{2} A_{4} \\overline{A_{1}} \\overline{A_{3}} + \\chi_{-k_1+k_2} A_{2} \\overline{A_{1}} + \\chi_{-k_1+k_3} A_{3} \\overline{A_{1}} + \\chi_{-k_1+k_4} A_{4} \\overline{A_{1}} + \\chi_{-k_1-k_2+k_3+k_4} A_{3} A_{4} \\overline{A_{1}} \\overline{A_{2}} + \\chi_{-k_2+k_3} A_{3} \\overline{A_{2}} + \\chi_{-k_2+k_4} A_{4} \\overline{A_{2}} + \\chi_{-k_3+k_4} A_{4} \\overline{A_{3}}$$"
      ],
      "text/plain": [
       "                              __ __                                 __ __     \n",
       "\\chi_{+k_1-k_2-k_3+k_4}⋅A₁⋅A₄⋅A₂⋅A₃ + \\chi_{-k_1+k_2-k_3+k_4}⋅A₂⋅A₄⋅A₁⋅A₃ + \\c\n",
       "\n",
       "                 __                      __                      __           \n",
       "hi_{-k_1+k_2}⋅A₂⋅A₁ + \\chi_{-k_1+k_3}⋅A₃⋅A₁ + \\chi_{-k_1+k_4}⋅A₄⋅A₁ + \\chi_{-k\n",
       "\n",
       "                      __ __                      __                      __   \n",
       "_1-k_2+k_3+k_4}⋅A₃⋅A₄⋅A₁⋅A₂ + \\chi_{-k_2+k_3}⋅A₃⋅A₂ + \\chi_{-k_2+k_4}⋅A₄⋅A₂ + \n",
       "\n",
       "                   __\n",
       "\\chi_{-k_3+k_4}⋅A₄⋅A₃"
      ]
     },
     "execution_count": 20,
     "metadata": {},
     "output_type": "execute_result"
    }
   ],
   "source": [
    "sigs"
   ]
  },
  {
   "cell_type": "markdown",
   "metadata": {},
   "source": [
    "# Warren's 16 step"
   ]
  },
  {
   "cell_type": "code",
   "execution_count": 29,
   "metadata": {
    "ExecuteTime": {
     "end_time": "2018-06-19T02:54:39.845293Z",
     "start_time": "2018-06-19T02:54:39.545529Z"
    }
   },
   "outputs": [
    {
     "name": "stderr",
     "output_type": "stream",
     "text": [
      "c:\\work\\src\\sig2d\\src\\sigmd\\signals.py:146: UserWarning: Signals for order now doesn't do the sum\n",
      "  warnings.warn(\"Signals for order now doesn't do the sum\")\n"
     ]
    },
    {
     "data": {
      "image/png": "[encoded data removed]",
      "text/latex": [
       "$$102$$"
      ],
      "text/plain": [
       "102"
      ]
     },
     "execution_count": 29,
     "metadata": {},
     "output_type": "execute_result"
    }
   ],
   "source": [
    "sigs = sum(sum(signals_for_order(i, 3, filters=action))for i in [1,2,3,4])\n",
    "len(sigs.args)"
   ]
  },
  {
   "cell_type": "code",
   "execution_count": 33,
   "metadata": {
    "ExecuteTime": {
     "end_time": "2018-06-19T02:57:27.361045Z",
     "start_time": "2018-06-19T02:57:27.189504Z"
    }
   },
   "outputs": [
    {
     "data": {
      "image/png": "[encoded data removed]",
      "text/latex": [
       "$$\\left [ \\left [ 0, \\quad 0, \\quad 0\\right ], \\quad \\left [ 0, \\quad 0, \\quad \\frac{\\pi}{2}\\right ], \\quad \\left [ 0, \\quad 0, \\quad \\pi\\right ], \\quad \\left [ 0, \\quad 0, \\quad \\frac{3 \\pi}{2}\\right ], \\quad \\left [ 0, \\quad \\frac{\\pi}{2}, \\quad 0\\right ], \\quad \\left [ 0, \\quad \\frac{\\pi}{2}, \\quad \\frac{\\pi}{2}\\right ], \\quad \\left [ 0, \\quad \\frac{\\pi}{2}, \\quad \\pi\\right ], \\quad \\left [ 0, \\quad \\frac{\\pi}{2}, \\quad \\frac{3 \\pi}{2}\\right ], \\quad \\left [ 0, \\quad \\pi, \\quad 0\\right ], \\quad \\left [ 0, \\quad \\pi, \\quad \\frac{\\pi}{2}\\right ], \\quad \\left [ 0, \\quad \\pi, \\quad \\pi\\right ], \\quad \\left [ 0, \\quad \\pi, \\quad \\frac{3 \\pi}{2}\\right ], \\quad \\left [ 0, \\quad \\frac{3 \\pi}{2}, \\quad 0\\right ], \\quad \\left [ 0, \\quad \\frac{3 \\pi}{2}, \\quad \\frac{\\pi}{2}\\right ], \\quad \\left [ 0, \\quad \\frac{3 \\pi}{2}, \\quad \\pi\\right ], \\quad \\left [ 0, \\quad \\frac{3 \\pi}{2}, \\quad \\frac{3 \\pi}{2}\\right ]\\right ]$$"
      ],
      "text/plain": [
       "⎡           ⎡      π⎤             ⎡      3⋅π⎤  ⎡   π   ⎤  ⎡   π  π⎤  ⎡   π   ⎤\n",
       "⎢[0, 0, 0], ⎢0, 0, ─⎥, [0, 0, π], ⎢0, 0, ───⎥, ⎢0, ─, 0⎥, ⎢0, ─, ─⎥, ⎢0, ─, π⎥\n",
       "⎣           ⎣      2⎦             ⎣       2 ⎦  ⎣   2   ⎦  ⎣   2  2⎦  ⎣   2   ⎦\n",
       "\n",
       "  ⎡   π  3⋅π⎤             ⎡      π⎤             ⎡      3⋅π⎤  ⎡   3⋅π   ⎤  ⎡   \n",
       ", ⎢0, ─, ───⎥, [0, π, 0], ⎢0, π, ─⎥, [0, π, π], ⎢0, π, ───⎥, ⎢0, ───, 0⎥, ⎢0, \n",
       "  ⎣   2   2 ⎦             ⎣      2⎦             ⎣       2 ⎦  ⎣    2    ⎦  ⎣   \n",
       "\n",
       "3⋅π  π⎤  ⎡   3⋅π   ⎤  ⎡   3⋅π  3⋅π⎤⎤\n",
       "───, ─⎥, ⎢0, ───, π⎥, ⎢0, ───, ───⎥⎥\n",
       " 2   2⎦  ⎣    2    ⎦  ⎣    2    2 ⎦⎦"
      ]
     },
     "execution_count": 33,
     "metadata": {},
     "output_type": "execute_result"
    }
   ],
   "source": [
    "phases = []\n",
    "for i, j in product(range(4), range(4)):\n",
    "    phases.append([0, i*sy.pi*2/4, j*sy.pi*2/4])\n",
    "phases"
   ]
  },
  {
   "cell_type": "code",
   "execution_count": 37,
   "metadata": {
    "ExecuteTime": {
     "end_time": "2018-06-19T02:59:50.326363Z",
     "start_time": "2018-06-19T02:59:49.887562Z"
    }
   },
   "outputs": [],
   "source": [
    "alpha_r = (-1, 2, -1)\n",
    "weights(alpha_r, phases)\n",
    "cycled = phase_cycle(sigs, phases, weights=weights(alpha_r, phases)).expand()"
   ]
  },
  {
   "cell_type": "code",
   "execution_count": 41,
   "metadata": {
    "ExecuteTime": {
     "end_time": "2018-06-19T03:02:39.696339Z",
     "start_time": "2018-06-19T03:02:39.637471Z"
    }
   },
   "outputs": [
    {
     "data": {
      "image/png": "[encoded data removed]",
      "text/latex": [
       "$$16 \\chi_{+k_1-k_2-k_2+k_3}$$"
      ],
      "text/plain": [
       "16⋅\\chi_{+k_1-k_2-k_2+k_3}"
      ]
     },
     "execution_count": 41,
     "metadata": {},
     "output_type": "execute_result"
    }
   ],
   "source": [
    "cycled"
   ]
  },
  {
   "cell_type": "code",
   "execution_count": 42,
   "metadata": {
    "ExecuteTime": {
     "end_time": "2018-06-19T03:06:33.272912Z",
     "start_time": "2018-06-19T03:06:32.695426Z"
    }
   },
   "outputs": [
    {
     "data": {
      "image/png": "[encoded data removed]",
      "text/latex": [
       "$$16 \\chi_{+k_1-k_1-k_1+k_3} + 16 \\chi_{-k_1+k_1-k_1+k_3} + 16 \\chi_{-k_1+k_2-k_2+k_3} + 16 \\chi_{-k_1+k_3+k_3-k_3} + 16 \\chi_{-k_1+k_3-k_3+k_3} + 16 \\chi_{-k_1+k_3} + 16 \\chi_{-k_1-k_1+k_1+k_3} + 16 \\chi_{-k_1-k_2+k_2+k_3} + 16 \\chi_{-k_1-k_3+k_3+k_3}$$"
      ],
      "text/plain": [
       "16⋅\\chi_{+k_1-k_1-k_1+k_3} + 16⋅\\chi_{-k_1+k_1-k_1+k_3} + 16⋅\\chi_{-k_1+k_2-k_\n",
       "2+k_3} + 16⋅\\chi_{-k_1+k_3+k_3-k_3} + 16⋅\\chi_{-k_1+k_3-k_3+k_3} + 16⋅\\chi_{-k\n",
       "_1+k_3} + 16⋅\\chi_{-k_1-k_1+k_1+k_3} + 16⋅\\chi_{-k_1-k_2+k_2+k_3} + 16⋅\\chi_{-\n",
       "k_1-k_3+k_3+k_3}"
      ]
     },
     "execution_count": 42,
     "metadata": {},
     "output_type": "execute_result"
    }
   ],
   "source": [
    "phase_cycle(sigs, phases, weights=weights((1, 0, -1), phases)).expand()"
   ]
  },
  {
   "cell_type": "markdown",
   "metadata": {},
   "source": [
    "# Tan's 1x3x3x3"
   ]
  },
  {
   "cell_type": "code",
   "execution_count": 52,
   "metadata": {
    "ExecuteTime": {
     "end_time": "2018-06-19T03:09:31.086718Z",
     "start_time": "2018-06-19T03:09:30.224684Z"
    }
   },
   "outputs": [
    {
     "name": "stderr",
     "output_type": "stream",
     "text": [
      "c:\\work\\src\\sig2d\\src\\sigmd\\signals.py:146: UserWarning: Signals for order now doesn't do the sum\n",
      "  warnings.warn(\"Signals for order now doesn't do the sum\")\n"
     ]
    }
   ],
   "source": [
    "sigs = sum(sum(signals_for_order(i, 4, filters=action))for i in [1,2,3,4])"
   ]
  },
  {
   "cell_type": "code",
   "execution_count": 53,
   "metadata": {
    "ExecuteTime": {
     "end_time": "2018-06-19T03:09:36.594195Z",
     "start_time": "2018-06-19T03:09:35.407747Z"
    }
   },
   "outputs": [
    {
     "data": {
      "image/png": "[encoded data removed]",
      "text/latex": [
       "$$\\left [ \\left [ 0, \\quad 0, \\quad 0, \\quad 0\\right ], \\quad \\left [ 0, \\quad 0, \\quad 0, \\quad \\frac{2 \\pi}{3}\\right ], \\quad \\left [ 0, \\quad 0, \\quad 0, \\quad \\frac{4 \\pi}{3}\\right ], \\quad \\left [ 0, \\quad 0, \\quad \\frac{2 \\pi}{3}, \\quad 0\\right ], \\quad \\left [ 0, \\quad 0, \\quad \\frac{2 \\pi}{3}, \\quad \\frac{2 \\pi}{3}\\right ], \\quad \\left [ 0, \\quad 0, \\quad \\frac{2 \\pi}{3}, \\quad \\frac{4 \\pi}{3}\\right ], \\quad \\left [ 0, \\quad 0, \\quad \\frac{4 \\pi}{3}, \\quad 0\\right ], \\quad \\left [ 0, \\quad 0, \\quad \\frac{4 \\pi}{3}, \\quad \\frac{2 \\pi}{3}\\right ], \\quad \\left [ 0, \\quad 0, \\quad \\frac{4 \\pi}{3}, \\quad \\frac{4 \\pi}{3}\\right ], \\quad \\left [ 0, \\quad \\frac{2 \\pi}{3}, \\quad 0, \\quad 0\\right ], \\quad \\left [ 0, \\quad \\frac{2 \\pi}{3}, \\quad 0, \\quad \\frac{2 \\pi}{3}\\right ], \\quad \\left [ 0, \\quad \\frac{2 \\pi}{3}, \\quad 0, \\quad \\frac{4 \\pi}{3}\\right ], \\quad \\left [ 0, \\quad \\frac{2 \\pi}{3}, \\quad \\frac{2 \\pi}{3}, \\quad 0\\right ], \\quad \\left [ 0, \\quad \\frac{2 \\pi}{3}, \\quad \\frac{2 \\pi}{3}, \\quad \\frac{2 \\pi}{3}\\right ], \\quad \\left [ 0, \\quad \\frac{2 \\pi}{3}, \\quad \\frac{2 \\pi}{3}, \\quad \\frac{4 \\pi}{3}\\right ], \\quad \\left [ 0, \\quad \\frac{2 \\pi}{3}, \\quad \\frac{4 \\pi}{3}, \\quad 0\\right ], \\quad \\left [ 0, \\quad \\frac{2 \\pi}{3}, \\quad \\frac{4 \\pi}{3}, \\quad \\frac{2 \\pi}{3}\\right ], \\quad \\left [ 0, \\quad \\frac{2 \\pi}{3}, \\quad \\frac{4 \\pi}{3}, \\quad \\frac{4 \\pi}{3}\\right ], \\quad \\left [ 0, \\quad \\frac{4 \\pi}{3}, \\quad 0, \\quad 0\\right ], \\quad \\left [ 0, \\quad \\frac{4 \\pi}{3}, \\quad 0, \\quad \\frac{2 \\pi}{3}\\right ], \\quad \\left [ 0, \\quad \\frac{4 \\pi}{3}, \\quad 0, \\quad \\frac{4 \\pi}{3}\\right ], \\quad \\left [ 0, \\quad \\frac{4 \\pi}{3}, \\quad \\frac{2 \\pi}{3}, \\quad 0\\right ], \\quad \\left [ 0, \\quad \\frac{4 \\pi}{3}, \\quad \\frac{2 \\pi}{3}, \\quad \\frac{2 \\pi}{3}\\right ], \\quad \\left [ 0, \\quad \\frac{4 \\pi}{3}, \\quad \\frac{2 \\pi}{3}, \\quad \\frac{4 \\pi}{3}\\right ], \\quad \\left [ 0, \\quad \\frac{4 \\pi}{3}, \\quad \\frac{4 \\pi}{3}, \\quad 0\\right ], \\quad \\left [ 0, \\quad \\frac{4 \\pi}{3}, \\quad \\frac{4 \\pi}{3}, \\quad \\frac{2 \\pi}{3}\\right ], \\quad \\left [ 0, \\quad \\frac{4 \\pi}{3}, \\quad \\frac{4 \\pi}{3}, \\quad \\frac{4 \\pi}{3}\\right ]\\right ]$$"
      ],
      "text/plain": [
       "⎡              ⎡         2⋅π⎤  ⎡         4⋅π⎤  ⎡      2⋅π   ⎤  ⎡      2⋅π  2⋅π\n",
       "⎢[0, 0, 0, 0], ⎢0, 0, 0, ───⎥, ⎢0, 0, 0, ───⎥, ⎢0, 0, ───, 0⎥, ⎢0, 0, ───, ───\n",
       "⎣              ⎣          3 ⎦  ⎣          3 ⎦  ⎣       3    ⎦  ⎣       3    3 \n",
       "\n",
       "⎤  ⎡      2⋅π  4⋅π⎤  ⎡      4⋅π   ⎤  ⎡      4⋅π  2⋅π⎤  ⎡      4⋅π  4⋅π⎤  ⎡   2\n",
       "⎥, ⎢0, 0, ───, ───⎥, ⎢0, 0, ───, 0⎥, ⎢0, 0, ───, ───⎥, ⎢0, 0, ───, ───⎥, ⎢0, ─\n",
       "⎦  ⎣       3    3 ⎦  ⎣       3    ⎦  ⎣       3    3 ⎦  ⎣       3    3 ⎦  ⎣    \n",
       "\n",
       "⋅π      ⎤  ⎡   2⋅π     2⋅π⎤  ⎡   2⋅π     4⋅π⎤  ⎡   2⋅π  2⋅π   ⎤  ⎡   2⋅π  2⋅π \n",
       "──, 0, 0⎥, ⎢0, ───, 0, ───⎥, ⎢0, ───, 0, ───⎥, ⎢0, ───, ───, 0⎥, ⎢0, ───, ───,\n",
       "3       ⎦  ⎣    3       3 ⎦  ⎣    3       3 ⎦  ⎣    3    3    ⎦  ⎣    3    3  \n",
       "\n",
       " 2⋅π⎤  ⎡   2⋅π  2⋅π  4⋅π⎤  ⎡   2⋅π  4⋅π   ⎤  ⎡   2⋅π  4⋅π  2⋅π⎤  ⎡   2⋅π  4⋅π \n",
       " ───⎥, ⎢0, ───, ───, ───⎥, ⎢0, ───, ───, 0⎥, ⎢0, ───, ───, ───⎥, ⎢0, ───, ───,\n",
       "  3 ⎦  ⎣    3    3    3 ⎦  ⎣    3    3    ⎦  ⎣    3    3    3 ⎦  ⎣    3    3  \n",
       "\n",
       " 4⋅π⎤  ⎡   4⋅π      ⎤  ⎡   4⋅π     2⋅π⎤  ⎡   4⋅π     4⋅π⎤  ⎡   4⋅π  2⋅π   ⎤  ⎡\n",
       " ───⎥, ⎢0, ───, 0, 0⎥, ⎢0, ───, 0, ───⎥, ⎢0, ───, 0, ───⎥, ⎢0, ───, ───, 0⎥, ⎢\n",
       "  3 ⎦  ⎣    3       ⎦  ⎣    3       3 ⎦  ⎣    3       3 ⎦  ⎣    3    3    ⎦  ⎣\n",
       "\n",
       "   4⋅π  2⋅π  2⋅π⎤  ⎡   4⋅π  2⋅π  4⋅π⎤  ⎡   4⋅π  4⋅π   ⎤  ⎡   4⋅π  4⋅π  2⋅π⎤  ⎡\n",
       "0, ───, ───, ───⎥, ⎢0, ───, ───, ───⎥, ⎢0, ───, ───, 0⎥, ⎢0, ───, ───, ───⎥, ⎢\n",
       "    3    3    3 ⎦  ⎣    3    3    3 ⎦  ⎣    3    3    ⎦  ⎣    3    3    3 ⎦  ⎣\n",
       "\n",
       "   4⋅π  4⋅π  4⋅π⎤⎤\n",
       "0, ───, ───, ───⎥⎥\n",
       "    3    3    3 ⎦⎦"
      ]
     },
     "execution_count": 53,
     "metadata": {},
     "output_type": "execute_result"
    }
   ],
   "source": [
    "phases = []\n",
    "M, L, K = (3,3,3)\n",
    "for i, j, k in product(range(M), range(L), range(K)):\n",
    "    phases.append([0, i*sy.pi*2/M, j*sy.pi*2/L, k*sy.pi*2/K])\n",
    "phases"
   ]
  },
  {
   "cell_type": "code",
   "execution_count": 54,
   "metadata": {
    "ExecuteTime": {
     "end_time": "2018-06-19T03:09:45.856356Z",
     "start_time": "2018-06-19T03:09:40.379854Z"
    }
   },
   "outputs": [],
   "source": [
    "alpha_r = (-1, 1, 1, -1)\n",
    "w_r = weights(alpha_r, phases)\n",
    "cycled_r = sy.re(phase_cycle(sigs, phases, w_r).expand()).expand()"
   ]
  },
  {
   "cell_type": "code",
   "execution_count": 55,
   "metadata": {
    "ExecuteTime": {
     "end_time": "2018-06-19T03:09:52.280108Z",
     "start_time": "2018-06-19T03:09:52.228243Z"
    }
   },
   "outputs": [
    {
     "data": {
      "image/png": "[encoded data removed]",
      "text/latex": [
       "$$1376$$"
      ],
      "text/plain": [
       "1376"
      ]
     },
     "execution_count": 55,
     "metadata": {},
     "output_type": "execute_result"
    }
   ],
   "source": [
    "len(cycled_r.args)"
   ]
  },
  {
   "cell_type": "code",
   "execution_count": 56,
   "metadata": {
    "ExecuteTime": {
     "end_time": "2018-06-19T03:09:58.658227Z",
     "start_time": "2018-06-19T03:09:58.485698Z"
    }
   },
   "outputs": [
    {
     "data": {
      "image/png": "[encoded data removed]",
      "text/latex": [
       "$$\\left ( 9 \\chi_{+k_1+k_1-k_1-k_1}, \\quad 9 \\chi_{+k_1+k_1-k_1-k_2}, \\quad 9 \\chi_{+k_1+k_1-k_1-k_3}, \\quad 9 \\chi_{+k_1+k_1-k_1-k_4}, \\quad 9 \\chi_{+k_1+k_1-k_2-k_2}, \\quad 9 \\chi_{+k_1+k_1-k_2-k_3}, \\quad 9 \\chi_{+k_1+k_1-k_2-k_4}, \\quad 9 \\chi_{+k_1+k_1-k_3-k_3}, \\quad 9 \\chi_{+k_1+k_1-k_3-k_4}, \\quad 9 \\chi_{+k_1+k_1-k_4-k_4}\\right )$$"
      ],
      "text/plain": [
       "(9⋅\\chi_{+k_1+k_1-k_1-k_1}, 9⋅\\chi_{+k_1+k_1-k_1-k_2}, 9⋅\\chi_{+k_1+k_1-k_1-k_\n",
       "3}, 9⋅\\chi_{+k_1+k_1-k_1-k_4}, 9⋅\\chi_{+k_1+k_1-k_2-k_2}, 9⋅\\chi_{+k_1+k_1-k_2\n",
       "-k_3}, 9⋅\\chi_{+k_1+k_1-k_2-k_4}, 9⋅\\chi_{+k_1+k_1-k_3-k_3}, 9⋅\\chi_{+k_1+k_1-\n",
       "k_3-k_4}, 9⋅\\chi_{+k_1+k_1-k_4-k_4})"
      ]
     },
     "execution_count": 56,
     "metadata": {},
     "output_type": "execute_result"
    }
   ],
   "source": [
    "cycled_r.args[:10]"
   ]
  },
  {
   "cell_type": "code",
   "execution_count": 25,
   "metadata": {
    "ExecuteTime": {
     "end_time": "2018-06-19T02:26:42.574306Z",
     "start_time": "2018-06-19T02:26:40.890985Z"
    }
   },
   "outputs": [
    {
     "data": {
      "image/png": "[encoded data removed]",
      "text/latex": [
       "$$27 \\Re{\\left(\\chi_{+k_1-k_2-k_3+k_4}\\right)} + 9 \\Re{\\left(\\chi_{-k_1+k_2-k_3+k_4}\\right)} + 9 \\Re{\\left(\\chi_{-k_1+k_2}\\right)} + 9 \\Re{\\left(\\chi_{-k_1+k_3}\\right)} + 9 \\Re{\\left(\\chi_{-k_1+k_4}\\right)} + 9 \\Re{\\left(\\chi_{-k_1-k_2+k_3+k_4}\\right)} + 9 \\Re{\\left(\\chi_{-k_2+k_3}\\right)} + 9 \\Re{\\left(\\chi_{-k_2+k_4}\\right)} + 9 \\Re{\\left(\\chi_{-k_3+k_4}\\right)} + 5 \\Re{\\left(\\chi_{-k_1+k_2-k_3+k_4} e^{- \\frac{8 \\pi}{3} i}\\right)} + 7 \\Re{\\left(\\chi_{-k_1+k_2-k_3+k_4} e^{- \\frac{4 \\pi}{3} i}\\right)} + 4 \\Re{\\left(\\chi_{-k_1+k_2-k_3+k_4} e^{- \\frac{2 \\pi}{3} i}\\right)} + 2 \\Re{\\left(\\chi_{-k_1+k_2-k_3+k_4} e^{\\frac{2 \\pi}{3} i}\\right)} + 3 \\Re{\\left(\\chi_{-k_1+k_2} e^{- \\frac{8 \\pi}{3} i}\\right)} + 7 \\Re{\\left(\\chi_{-k_1+k_2} e^{- \\frac{4 \\pi}{3} i}\\right)} + 5 \\Re{\\left(\\chi_{-k_1+k_2} e^{- \\frac{2 \\pi}{3} i}\\right)} + 2 \\Re{\\left(\\chi_{-k_1+k_2} e^{\\frac{2 \\pi}{3} i}\\right)} + \\Re{\\left(\\chi_{-k_1+k_2} e^{\\frac{4 \\pi}{3} i}\\right)} + 3 \\Re{\\left(\\chi_{-k_1+k_3} e^{- \\frac{8 \\pi}{3} i}\\right)} + 7 \\Re{\\left(\\chi_{-k_1+k_3} e^{- \\frac{4 \\pi}{3} i}\\right)} + 5 \\Re{\\left(\\chi_{-k_1+k_3} e^{- \\frac{2 \\pi}{3} i}\\right)} + 2 \\Re{\\left(\\chi_{-k_1+k_3} e^{\\frac{2 \\pi}{3} i}\\right)} + \\Re{\\left(\\chi_{-k_1+k_3} e^{\\frac{4 \\pi}{3} i}\\right)} + 2 \\Re{\\left(\\chi_{-k_1+k_4} e^{- \\frac{8 \\pi}{3} i}\\right)} + 9 \\Re{\\left(\\chi_{-k_1+k_4} e^{- \\frac{4 \\pi}{3} i}\\right)} + 7 \\Re{\\left(\\chi_{-k_1+k_4} e^{- \\frac{2 \\pi}{3} i}\\right)} + 5 \\Re{\\left(\\chi_{-k_1-k_2+k_3+k_4} e^{- \\frac{8 \\pi}{3} i}\\right)} + 7 \\Re{\\left(\\chi_{-k_1-k_2+k_3+k_4} e^{- \\frac{4 \\pi}{3} i}\\right)} + 4 \\Re{\\left(\\chi_{-k_1-k_2+k_3+k_4} e^{- \\frac{2 \\pi}{3} i}\\right)} + 2 \\Re{\\left(\\chi_{-k_1-k_2+k_3+k_4} e^{\\frac{2 \\pi}{3} i}\\right)} + 2 \\Re{\\left(\\chi_{-k_2+k_3} e^{- \\frac{8 \\pi}{3} i}\\right)} + 5 \\Re{\\left(\\chi_{-k_2+k_3} e^{- \\frac{4 \\pi}{3} i}\\right)} + 4 \\Re{\\left(\\chi_{-k_2+k_3} e^{- \\frac{2 \\pi}{3} i}\\right)} + 4 \\Re{\\left(\\chi_{-k_2+k_3} e^{\\frac{2 \\pi}{3} i}\\right)} + 3 \\Re{\\left(\\chi_{-k_2+k_3} e^{\\frac{4 \\pi}{3} i}\\right)} + 7 \\Re{\\left(\\chi_{-k_2+k_4} e^{- \\frac{4 \\pi}{3} i}\\right)} + 8 \\Re{\\left(\\chi_{-k_2+k_4} e^{- \\frac{2 \\pi}{3} i}\\right)} + 2 \\Re{\\left(\\chi_{-k_2+k_4} e^{\\frac{2 \\pi}{3} i}\\right)} + \\Re{\\left(\\chi_{-k_2+k_4} e^{\\frac{4 \\pi}{3} i}\\right)} + 7 \\Re{\\left(\\chi_{-k_3+k_4} e^{- \\frac{4 \\pi}{3} i}\\right)} + 8 \\Re{\\left(\\chi_{-k_3+k_4} e^{- \\frac{2 \\pi}{3} i}\\right)} + 2 \\Re{\\left(\\chi_{-k_3+k_4} e^{\\frac{2 \\pi}{3} i}\\right)} + \\Re{\\left(\\chi_{-k_3+k_4} e^{\\frac{4 \\pi}{3} i}\\right)}$$"
      ],
      "text/plain": [
       "                                                                              \n",
       "                                                                              \n",
       "                                                                              \n",
       "27⋅re(\\chi_{+k_1-k_2-k_3+k_4}) + 9⋅re(\\chi_{-k_1+k_2-k_3+k_4}) + 9⋅re(\\chi_{-k\n",
       "\n",
       "                                                                              \n",
       "                                                                              \n",
       "                                                                              \n",
       "_1+k_2}) + 9⋅re(\\chi_{-k_1+k_3}) + 9⋅re(\\chi_{-k_1+k_4}) + 9⋅re(\\chi_{-k_1-k_2\n",
       "\n",
       "                                                                              \n",
       "                                                                              \n",
       "                                                                              \n",
       "+k_3+k_4}) + 9⋅re(\\chi_{-k_2+k_3}) + 9⋅re(\\chi_{-k_2+k_4}) + 9⋅re(\\chi_{-k_3+k\n",
       "\n",
       "           ⎛                         -8⋅ⅈ⋅π ⎞       ⎛                         \n",
       "           ⎜                         ───────⎟       ⎜                         \n",
       "           ⎜                            3   ⎟       ⎜                         \n",
       "_4}) + 5⋅re⎝\\chi_{-k_1+k_2-k_3+k_4}⋅ℯ       ⎠ + 7⋅re⎝\\chi_{-k_1+k_2-k_3+k_4}⋅ℯ\n",
       "\n",
       "-4⋅ⅈ⋅π ⎞       ⎛                         -2⋅ⅈ⋅π ⎞       ⎛                     \n",
       "───────⎟       ⎜                         ───────⎟       ⎜                     \n",
       "   3   ⎟       ⎜                            3   ⎟       ⎜                     \n",
       "       ⎠ + 4⋅re⎝\\chi_{-k_1+k_2-k_3+k_4}⋅ℯ       ⎠ + 2⋅re⎝\\chi_{-k_1+k_2-k_3+k_\n",
       "\n",
       "    2⋅ⅈ⋅π⎞       ⎛                 -8⋅ⅈ⋅π ⎞       ⎛                 -4⋅ⅈ⋅π ⎞  \n",
       "    ─────⎟       ⎜                 ───────⎟       ⎜                 ───────⎟  \n",
       "      3  ⎟       ⎜                    3   ⎟       ⎜                    3   ⎟  \n",
       "4}⋅ℯ     ⎠ + 3⋅re⎝\\chi_{-k_1+k_2}⋅ℯ       ⎠ + 7⋅re⎝\\chi_{-k_1+k_2}⋅ℯ       ⎠ +\n",
       "\n",
       "     ⎛                 -2⋅ⅈ⋅π ⎞       ⎛                 2⋅ⅈ⋅π⎞     ⎛          \n",
       "     ⎜                 ───────⎟       ⎜                 ─────⎟     ⎜          \n",
       "     ⎜                    3   ⎟       ⎜                   3  ⎟     ⎜          \n",
       " 5⋅re⎝\\chi_{-k_1+k_2}⋅ℯ       ⎠ + 2⋅re⎝\\chi_{-k_1+k_2}⋅ℯ     ⎠ + re⎝\\chi_{-k_1\n",
       "\n",
       "       4⋅ⅈ⋅π⎞       ⎛                 -8⋅ⅈ⋅π ⎞       ⎛                 -4⋅ⅈ⋅π \n",
       "       ─────⎟       ⎜                 ───────⎟       ⎜                 ───────\n",
       "         3  ⎟       ⎜                    3   ⎟       ⎜                    3   \n",
       "+k_2}⋅ℯ     ⎠ + 3⋅re⎝\\chi_{-k_1+k_3}⋅ℯ       ⎠ + 7⋅re⎝\\chi_{-k_1+k_3}⋅ℯ       \n",
       "\n",
       "⎞       ⎛                 -2⋅ⅈ⋅π ⎞       ⎛                 2⋅ⅈ⋅π⎞     ⎛       \n",
       "⎟       ⎜                 ───────⎟       ⎜                 ─────⎟     ⎜       \n",
       "⎟       ⎜                    3   ⎟       ⎜                   3  ⎟     ⎜       \n",
       "⎠ + 5⋅re⎝\\chi_{-k_1+k_3}⋅ℯ       ⎠ + 2⋅re⎝\\chi_{-k_1+k_3}⋅ℯ     ⎠ + re⎝\\chi_{-\n",
       "\n",
       "          4⋅ⅈ⋅π⎞       ⎛                 -8⋅ⅈ⋅π ⎞       ⎛                 -4⋅ⅈ\n",
       "          ─────⎟       ⎜                 ───────⎟       ⎜                 ────\n",
       "            3  ⎟       ⎜                    3   ⎟       ⎜                    3\n",
       "k_1+k_3}⋅ℯ     ⎠ + 2⋅re⎝\\chi_{-k_1+k_4}⋅ℯ       ⎠ + 9⋅re⎝\\chi_{-k_1+k_4}⋅ℯ    \n",
       "\n",
       "⋅π ⎞       ⎛                 -2⋅ⅈ⋅π ⎞       ⎛                         -8⋅ⅈ⋅π ⎞\n",
       "───⎟       ⎜                 ───────⎟       ⎜                         ───────⎟\n",
       "   ⎟       ⎜                    3   ⎟       ⎜                            3   ⎟\n",
       "   ⎠ + 7⋅re⎝\\chi_{-k_1+k_4}⋅ℯ       ⎠ + 5⋅re⎝\\chi_{-k_1-k_2+k_3+k_4}⋅ℯ       ⎠\n",
       "\n",
       "       ⎛                         -4⋅ⅈ⋅π ⎞       ⎛                         -2⋅ⅈ\n",
       "       ⎜                         ───────⎟       ⎜                         ────\n",
       "       ⎜                            3   ⎟       ⎜                            3\n",
       " + 7⋅re⎝\\chi_{-k_1-k_2+k_3+k_4}⋅ℯ       ⎠ + 4⋅re⎝\\chi_{-k_1-k_2+k_3+k_4}⋅ℯ    \n",
       "\n",
       "⋅π ⎞       ⎛                         2⋅ⅈ⋅π⎞       ⎛                 -8⋅ⅈ⋅π ⎞  \n",
       "───⎟       ⎜                         ─────⎟       ⎜                 ───────⎟  \n",
       "   ⎟       ⎜                           3  ⎟       ⎜                    3   ⎟  \n",
       "   ⎠ + 2⋅re⎝\\chi_{-k_1-k_2+k_3+k_4}⋅ℯ     ⎠ + 2⋅re⎝\\chi_{-k_2+k_3}⋅ℯ       ⎠ +\n",
       "\n",
       "     ⎛                 -4⋅ⅈ⋅π ⎞       ⎛                 -2⋅ⅈ⋅π ⎞       ⎛      \n",
       "     ⎜                 ───────⎟       ⎜                 ───────⎟       ⎜      \n",
       "     ⎜                    3   ⎟       ⎜                    3   ⎟       ⎜      \n",
       " 5⋅re⎝\\chi_{-k_2+k_3}⋅ℯ       ⎠ + 4⋅re⎝\\chi_{-k_2+k_3}⋅ℯ       ⎠ + 4⋅re⎝\\chi_{\n",
       "\n",
       "           2⋅ⅈ⋅π⎞       ⎛                 4⋅ⅈ⋅π⎞       ⎛                 -4⋅ⅈ⋅\n",
       "           ─────⎟       ⎜                 ─────⎟       ⎜                 ─────\n",
       "             3  ⎟       ⎜                   3  ⎟       ⎜                    3 \n",
       "-k_2+k_3}⋅ℯ     ⎠ + 3⋅re⎝\\chi_{-k_2+k_3}⋅ℯ     ⎠ + 7⋅re⎝\\chi_{-k_2+k_4}⋅ℯ     \n",
       "\n",
       "π ⎞       ⎛                 -2⋅ⅈ⋅π ⎞       ⎛                 2⋅ⅈ⋅π⎞     ⎛     \n",
       "──⎟       ⎜                 ───────⎟       ⎜                 ─────⎟     ⎜     \n",
       "  ⎟       ⎜                    3   ⎟       ⎜                   3  ⎟     ⎜     \n",
       "  ⎠ + 8⋅re⎝\\chi_{-k_2+k_4}⋅ℯ       ⎠ + 2⋅re⎝\\chi_{-k_2+k_4}⋅ℯ     ⎠ + re⎝\\chi_\n",
       "\n",
       "            4⋅ⅈ⋅π⎞       ⎛                 -4⋅ⅈ⋅π ⎞       ⎛                 -2\n",
       "            ─────⎟       ⎜                 ───────⎟       ⎜                 ──\n",
       "              3  ⎟       ⎜                    3   ⎟       ⎜                   \n",
       "{-k_2+k_4}⋅ℯ     ⎠ + 7⋅re⎝\\chi_{-k_3+k_4}⋅ℯ       ⎠ + 8⋅re⎝\\chi_{-k_3+k_4}⋅ℯ  \n",
       "\n",
       "⋅ⅈ⋅π ⎞       ⎛                 2⋅ⅈ⋅π⎞     ⎛                 4⋅ⅈ⋅π⎞\n",
       "─────⎟       ⎜                 ─────⎟     ⎜                 ─────⎟\n",
       " 3   ⎟       ⎜                   3  ⎟     ⎜                   3  ⎟\n",
       "     ⎠ + 2⋅re⎝\\chi_{-k_3+k_4}⋅ℯ     ⎠ + re⎝\\chi_{-k_3+k_4}⋅ℯ     ⎠"
      ]
     },
     "execution_count": 25,
     "metadata": {},
     "output_type": "execute_result"
    }
   ],
   "source": [
    "sy.re(cycled_r.expand())"
   ]
  },
  {
   "cell_type": "code",
   "execution_count": 17,
   "metadata": {
    "ExecuteTime": {
     "end_time": "2018-06-19T02:25:07.147806Z",
     "start_time": "2018-06-19T02:25:04.964842Z"
    }
   },
   "outputs": [
    {
     "data": {
      "image/png": "[encoded data removed]",
      "text/latex": [
       "$$9 \\Re{\\left(\\chi_{+k_1-k_2-k_3+k_4}\\right)} + 9 \\Re{\\left(\\chi_{-k_1+k_2+k_3-k_4}\\right)} - \\frac{1}{2} \\Re{\\left(\\chi_{+k_1+k_2-k_3-k_4} e^{- \\frac{4 \\pi}{3} i}\\right)} - \\frac{1}{2} \\Re{\\left(\\chi_{+k_1+k_2-k_3-k_4} e^{\\frac{2 \\pi}{3} i}\\right)} + \\Re{\\left(\\chi_{+k_1+k_2-k_3-k_4} e^{\\frac{8 \\pi}{3} i}\\right)} - \\frac{1}{2} \\Re{\\left(\\chi_{+k_1-k_2+k_3-k_4} e^{- \\frac{4 \\pi}{3} i}\\right)} - \\frac{1}{2} \\Re{\\left(\\chi_{+k_1-k_2+k_3-k_4} e^{\\frac{2 \\pi}{3} i}\\right)} + \\Re{\\left(\\chi_{+k_1-k_2+k_3-k_4} e^{\\frac{8 \\pi}{3} i}\\right)} - \\frac{3}{2} \\Re{\\left(\\chi_{+k_1-k_2-k_3+k_4} e^{- \\frac{4 \\pi}{3} i}\\right)} - \\frac{5}{2} \\Re{\\left(\\chi_{+k_1-k_2-k_3+k_4} e^{- \\frac{2 \\pi}{3} i}\\right)} - \\frac{5}{2} \\Re{\\left(\\chi_{+k_1-k_2-k_3+k_4} e^{\\frac{2 \\pi}{3} i}\\right)} - 2 \\Re{\\left(\\chi_{+k_1-k_2-k_3+k_4} e^{\\frac{4 \\pi}{3} i}\\right)} - \\frac{1}{2} \\Re{\\left(\\chi_{+k_1-k_2-k_3+k_4} e^{\\frac{8 \\pi}{3} i}\\right)} - \\frac{1}{2} \\Re{\\left(\\chi_{-k_1+k_2+k_3-k_4} e^{- \\frac{8 \\pi}{3} i}\\right)} - 2 \\Re{\\left(\\chi_{-k_1+k_2+k_3-k_4} e^{- \\frac{4 \\pi}{3} i}\\right)} - \\frac{5}{2} \\Re{\\left(\\chi_{-k_1+k_2+k_3-k_4} e^{- \\frac{2 \\pi}{3} i}\\right)} - \\frac{5}{2} \\Re{\\left(\\chi_{-k_1+k_2+k_3-k_4} e^{\\frac{2 \\pi}{3} i}\\right)} - \\frac{3}{2} \\Re{\\left(\\chi_{-k_1+k_2+k_3-k_4} e^{\\frac{4 \\pi}{3} i}\\right)} + \\Re{\\left(\\chi_{-k_1+k_2-k_3+k_4} e^{- \\frac{8 \\pi}{3} i}\\right)} - \\frac{1}{2} \\Re{\\left(\\chi_{-k_1+k_2-k_3+k_4} e^{- \\frac{2 \\pi}{3} i}\\right)} - \\frac{1}{2} \\Re{\\left(\\chi_{-k_1+k_2-k_3+k_4} e^{\\frac{4 \\pi}{3} i}\\right)} + \\Re{\\left(\\chi_{-k_1-k_2+k_3+k_4} e^{- \\frac{8 \\pi}{3} i}\\right)} - \\frac{1}{2} \\Re{\\left(\\chi_{-k_1-k_2+k_3+k_4} e^{- \\frac{2 \\pi}{3} i}\\right)} - \\frac{1}{2} \\Re{\\left(\\chi_{-k_1-k_2+k_3+k_4} e^{\\frac{4 \\pi}{3} i}\\right)} - \\frac{\\sqrt{3}}{2} \\Im{\\left(\\chi_{+k_1+k_2-k_3-k_4} e^{- \\frac{4 \\pi}{3} i}\\right)} + \\sqrt{3} \\Im{\\left(\\chi_{+k_1+k_2-k_3-k_4} e^{- \\frac{2 \\pi}{3} i}\\right)} + \\frac{\\sqrt{3}}{2} \\Im{\\left(\\chi_{+k_1+k_2-k_3-k_4} e^{\\frac{2 \\pi}{3} i}\\right)} - \\sqrt{3} \\Im{\\left(\\chi_{+k_1+k_2-k_3-k_4} e^{\\frac{4 \\pi}{3} i}\\right)} - \\frac{\\sqrt{3}}{2} \\Im{\\left(\\chi_{+k_1-k_2+k_3-k_4} e^{- \\frac{4 \\pi}{3} i}\\right)} + \\sqrt{3} \\Im{\\left(\\chi_{+k_1-k_2+k_3-k_4} e^{- \\frac{2 \\pi}{3} i}\\right)} + \\frac{\\sqrt{3}}{2} \\Im{\\left(\\chi_{+k_1-k_2+k_3-k_4} e^{\\frac{2 \\pi}{3} i}\\right)} - \\sqrt{3} \\Im{\\left(\\chi_{+k_1-k_2+k_3-k_4} e^{\\frac{4 \\pi}{3} i}\\right)} + \\frac{3 \\sqrt{3}}{2} \\Im{\\left(\\chi_{+k_1-k_2-k_3+k_4} e^{- \\frac{4 \\pi}{3} i}\\right)} - \\frac{5 \\sqrt{3}}{2} \\Im{\\left(\\chi_{+k_1-k_2-k_3+k_4} e^{- \\frac{2 \\pi}{3} i}\\right)} + \\frac{5 \\sqrt{3}}{2} \\Im{\\left(\\chi_{+k_1-k_2-k_3+k_4} e^{\\frac{2 \\pi}{3} i}\\right)} - 2 \\sqrt{3} \\Im{\\left(\\chi_{+k_1-k_2-k_3+k_4} e^{\\frac{4 \\pi}{3} i}\\right)} + \\frac{\\sqrt{3}}{2} \\Im{\\left(\\chi_{+k_1-k_2-k_3+k_4} e^{\\frac{8 \\pi}{3} i}\\right)} + \\frac{\\sqrt{3}}{2} \\Im{\\left(\\chi_{-k_1+k_2+k_3-k_4} e^{- \\frac{8 \\pi}{3} i}\\right)} - 2 \\sqrt{3} \\Im{\\left(\\chi_{-k_1+k_2+k_3-k_4} e^{- \\frac{4 \\pi}{3} i}\\right)} + \\frac{5 \\sqrt{3}}{2} \\Im{\\left(\\chi_{-k_1+k_2+k_3-k_4} e^{- \\frac{2 \\pi}{3} i}\\right)} - \\frac{5 \\sqrt{3}}{2} \\Im{\\left(\\chi_{-k_1+k_2+k_3-k_4} e^{\\frac{2 \\pi}{3} i}\\right)} + \\frac{3 \\sqrt{3}}{2} \\Im{\\left(\\chi_{-k_1+k_2+k_3-k_4} e^{\\frac{4 \\pi}{3} i}\\right)} - \\sqrt{3} \\Im{\\left(\\chi_{-k_1+k_2-k_3+k_4} e^{- \\frac{4 \\pi}{3} i}\\right)} + \\frac{\\sqrt{3}}{2} \\Im{\\left(\\chi_{-k_1+k_2-k_3+k_4} e^{- \\frac{2 \\pi}{3} i}\\right)} + \\sqrt{3} \\Im{\\left(\\chi_{-k_1+k_2-k_3+k_4} e^{\\frac{2 \\pi}{3} i}\\right)} - \\frac{\\sqrt{3}}{2} \\Im{\\left(\\chi_{-k_1+k_2-k_3+k_4} e^{\\frac{4 \\pi}{3} i}\\right)} - \\sqrt{3} \\Im{\\left(\\chi_{-k_1-k_2+k_3+k_4} e^{- \\frac{4 \\pi}{3} i}\\right)} + \\frac{\\sqrt{3}}{2} \\Im{\\left(\\chi_{-k_1-k_2+k_3+k_4} e^{- \\frac{2 \\pi}{3} i}\\right)} + \\sqrt{3} \\Im{\\left(\\chi_{-k_1-k_2+k_3+k_4} e^{\\frac{2 \\pi}{3} i}\\right)} - \\frac{\\sqrt{3}}{2} \\Im{\\left(\\chi_{-k_1-k_2+k_3+k_4} e^{\\frac{4 \\pi}{3} i}\\right)}$$"
      ],
      "text/plain": [
       "                                                                  ⎛           \n",
       "                                                                  ⎜           \n",
       "                                                                  ⎜           \n",
       "                                                                re⎝\\chi_{+k_1+\n",
       "9⋅re(\\chi_{+k_1-k_2-k_3+k_4}) + 9⋅re(\\chi_{-k_1+k_2+k_3-k_4}) - ──────────────\n",
       "                                                                              \n",
       "\n",
       "              -4⋅ⅈ⋅π ⎞     ⎛                         2⋅ⅈ⋅π⎞                   \n",
       "              ───────⎟     ⎜                         ─────⎟     ⎛             \n",
       "                 3   ⎟     ⎜                           3  ⎟     ⎜             \n",
       "k_2-k_3-k_4}⋅ℯ       ⎠   re⎝\\chi_{+k_1+k_2-k_3-k_4}⋅ℯ     ⎠     ⎜             \n",
       "────────────────────── - ────────────────────────────────── + re⎝\\chi_{+k_1+k_\n",
       "   2                                     2                                    \n",
       "\n",
       "                       ⎛                         -4⋅ⅈ⋅π ⎞     ⎛               \n",
       "            8⋅ⅈ⋅π⎞     ⎜                         ───────⎟     ⎜               \n",
       "            ─────⎟     ⎜                            3   ⎟     ⎜               \n",
       "              3  ⎟   re⎝\\chi_{+k_1-k_2+k_3-k_4}⋅ℯ       ⎠   re⎝\\chi_{+k_1-k_2+\n",
       "2-k_3-k_4}⋅ℯ     ⎠ - ──────────────────────────────────── - ──────────────────\n",
       "                                      2                                     2 \n",
       "\n",
       "          2⋅ⅈ⋅π⎞                                            ⎛                 \n",
       "          ─────⎟     ⎛                         8⋅ⅈ⋅π⎞       ⎜                 \n",
       "            3  ⎟     ⎜                         ─────⎟       ⎜                 \n",
       "k_3-k_4}⋅ℯ     ⎠     ⎜                           3  ⎟   3⋅re⎝\\chi_{+k_1-k_2-k_\n",
       "──────────────── + re⎝\\chi_{+k_1-k_2+k_3-k_4}⋅ℯ     ⎠ - ──────────────────────\n",
       "                                                                          2   \n",
       "\n",
       "        -4⋅ⅈ⋅π ⎞       ⎛                         -2⋅ⅈ⋅π ⎞       ⎛             \n",
       "        ───────⎟       ⎜                         ───────⎟       ⎜             \n",
       "           3   ⎟       ⎜                            3   ⎟       ⎜             \n",
       "3+k_4}⋅ℯ       ⎠   5⋅re⎝\\chi_{+k_1-k_2-k_3+k_4}⋅ℯ       ⎠   5⋅re⎝\\chi_{+k_1-k_\n",
       "──────────────── - ────────────────────────────────────── - ──────────────────\n",
       "                                     2                                       2\n",
       "\n",
       "            2⋅ⅈ⋅π⎞                                            ⎛               \n",
       "            ─────⎟       ⎛                         4⋅ⅈ⋅π⎞     ⎜               \n",
       "              3  ⎟       ⎜                         ─────⎟     ⎜               \n",
       "2-k_3+k_4}⋅ℯ     ⎠       ⎜                           3  ⎟   re⎝\\chi_{+k_1-k_2-\n",
       "────────────────── - 2⋅re⎝\\chi_{+k_1-k_2-k_3+k_4}⋅ℯ     ⎠ - ──────────────────\n",
       "                                                                            2 \n",
       "\n",
       "          8⋅ⅈ⋅π⎞     ⎛                         -8⋅ⅈ⋅π ⎞                       \n",
       "          ─────⎟     ⎜                         ───────⎟       ⎛               \n",
       "            3  ⎟     ⎜                            3   ⎟       ⎜               \n",
       "k_3+k_4}⋅ℯ     ⎠   re⎝\\chi_{-k_1+k_2+k_3-k_4}⋅ℯ       ⎠       ⎜               \n",
       "──────────────── - ──────────────────────────────────── - 2⋅re⎝\\chi_{-k_1+k_2+\n",
       "                                    2                                         \n",
       "\n",
       "                         ⎛                         -2⋅ⅈ⋅π ⎞       ⎛           \n",
       "          -4⋅ⅈ⋅π ⎞       ⎜                         ───────⎟       ⎜           \n",
       "          ───────⎟       ⎜                            3   ⎟       ⎜           \n",
       "             3   ⎟   5⋅re⎝\\chi_{-k_1+k_2+k_3-k_4}⋅ℯ       ⎠   5⋅re⎝\\chi_{-k_1+\n",
       "k_3-k_4}⋅ℯ       ⎠ - ────────────────────────────────────── - ────────────────\n",
       "                                       2                                      \n",
       "\n",
       "              2⋅ⅈ⋅π⎞       ⎛                         4⋅ⅈ⋅π⎞                   \n",
       "              ─────⎟       ⎜                         ─────⎟     ⎛             \n",
       "                3  ⎟       ⎜                           3  ⎟     ⎜             \n",
       "k_2+k_3-k_4}⋅ℯ     ⎠   3⋅re⎝\\chi_{-k_1+k_2+k_3-k_4}⋅ℯ     ⎠     ⎜             \n",
       "──────────────────── - ──────────────────────────────────── + re⎝\\chi_{-k_1+k_\n",
       " 2                                      2                                     \n",
       "\n",
       "                         ⎛                         -2⋅ⅈ⋅π ⎞     ⎛             \n",
       "            -8⋅ⅈ⋅π ⎞     ⎜                         ───────⎟     ⎜             \n",
       "            ───────⎟     ⎜                            3   ⎟     ⎜             \n",
       "               3   ⎟   re⎝\\chi_{-k_1+k_2-k_3+k_4}⋅ℯ       ⎠   re⎝\\chi_{-k_1+k_\n",
       "2-k_3+k_4}⋅ℯ       ⎠ - ──────────────────────────────────── - ────────────────\n",
       "                                        2                                     \n",
       "\n",
       "            4⋅ⅈ⋅π⎞                                            ⎛               \n",
       "            ─────⎟     ⎛                         -8⋅ⅈ⋅π ⎞     ⎜               \n",
       "              3  ⎟     ⎜                         ───────⎟     ⎜               \n",
       "2-k_3+k_4}⋅ℯ     ⎠     ⎜                            3   ⎟   re⎝\\chi_{-k_1-k_2+\n",
       "────────────────── + re⎝\\chi_{-k_1-k_2+k_3+k_4}⋅ℯ       ⎠ - ──────────────────\n",
       "2                                                                            2\n",
       "\n",
       "          -2⋅ⅈ⋅π ⎞     ⎛                         4⋅ⅈ⋅π⎞        ⎛              \n",
       "          ───────⎟     ⎜                         ─────⎟        ⎜              \n",
       "             3   ⎟     ⎜                           3  ⎟        ⎜              \n",
       "k_3+k_4}⋅ℯ       ⎠   re⎝\\chi_{-k_1-k_2+k_3+k_4}⋅ℯ     ⎠   √3⋅im⎝\\chi_{+k_1+k_2\n",
       "────────────────── - ────────────────────────────────── - ────────────────────\n",
       "                                     2                                       2\n",
       "\n",
       "           -4⋅ⅈ⋅π ⎞                                                  ⎛        \n",
       "           ───────⎟        ⎛                         -2⋅ⅈ⋅π ⎞        ⎜        \n",
       "              3   ⎟        ⎜                         ───────⎟        ⎜        \n",
       "-k_3-k_4}⋅ℯ       ⎠        ⎜                            3   ⎟   √3⋅im⎝\\chi_{+k\n",
       "─────────────────── + √3⋅im⎝\\chi_{+k_1+k_2-k_3-k_4}⋅ℯ       ⎠ + ──────────────\n",
       "                                                                              \n",
       "\n",
       "                 2⋅ⅈ⋅π⎞                                                ⎛      \n",
       "                 ─────⎟        ⎛                         4⋅ⅈ⋅π⎞        ⎜      \n",
       "                   3  ⎟        ⎜                         ─────⎟        ⎜      \n",
       "_1+k_2-k_3-k_4}⋅ℯ     ⎠        ⎜                           3  ⎟   √3⋅im⎝\\chi_{\n",
       "─────────────────────── - √3⋅im⎝\\chi_{+k_1+k_2-k_3-k_4}⋅ℯ     ⎠ - ────────────\n",
       "    2                                                                         \n",
       "\n",
       "                   -4⋅ⅈ⋅π ⎞                                                  ⎛\n",
       "                   ───────⎟        ⎛                         -2⋅ⅈ⋅π ⎞        ⎜\n",
       "                      3   ⎟        ⎜                         ───────⎟        ⎜\n",
       "+k_1-k_2+k_3-k_4}⋅ℯ       ⎠        ⎜                            3   ⎟   √3⋅im⎝\n",
       "─────────────────────────── + √3⋅im⎝\\chi_{+k_1-k_2+k_3-k_4}⋅ℯ       ⎠ + ──────\n",
       "       2                                                                      \n",
       "\n",
       "                         2⋅ⅈ⋅π⎞                                               \n",
       "                         ─────⎟        ⎛                         4⋅ⅈ⋅π⎞       \n",
       "                           3  ⎟        ⎜                         ─────⎟       \n",
       "\\chi_{+k_1-k_2+k_3-k_4}⋅ℯ     ⎠        ⎜                           3  ⎟   3⋅√3\n",
       "─────────────────────────────── - √3⋅im⎝\\chi_{+k_1-k_2+k_3-k_4}⋅ℯ     ⎠ + ────\n",
       "            2                                                                 \n",
       "\n",
       "   ⎛                         -4⋅ⅈ⋅π ⎞          ⎛                         -2⋅ⅈ⋅\n",
       "   ⎜                         ───────⎟          ⎜                         ─────\n",
       "   ⎜                            3   ⎟          ⎜                            3 \n",
       "⋅im⎝\\chi_{+k_1-k_2-k_3+k_4}⋅ℯ       ⎠   5⋅√3⋅im⎝\\chi_{+k_1-k_2-k_3+k_4}⋅ℯ     \n",
       "───────────────────────────────────── - ──────────────────────────────────────\n",
       "                2                                           2                 \n",
       "\n",
       "π ⎞          ⎛                         2⋅ⅈ⋅π⎞                                 \n",
       "──⎟          ⎜                         ─────⎟          ⎛                      \n",
       "  ⎟          ⎜                           3  ⎟          ⎜                      \n",
       "  ⎠   5⋅√3⋅im⎝\\chi_{+k_1-k_2-k_3+k_4}⋅ℯ     ⎠          ⎜                      \n",
       "─── + ─────────────────────────────────────── - 2⋅√3⋅im⎝\\chi_{+k_1-k_2-k_3+k_4\n",
       "                         2                                                    \n",
       "\n",
       "                 ⎛                         8⋅ⅈ⋅π⎞        ⎛                    \n",
       "   4⋅ⅈ⋅π⎞        ⎜                         ─────⎟        ⎜                    \n",
       "   ─────⎟        ⎜                           3  ⎟        ⎜                    \n",
       "     3  ⎟   √3⋅im⎝\\chi_{+k_1-k_2-k_3+k_4}⋅ℯ     ⎠   √3⋅im⎝\\chi_{-k_1+k_2+k_3-k\n",
       "}⋅ℯ     ⎠ + ───────────────────────────────────── + ──────────────────────────\n",
       "                              2                                        2      \n",
       "\n",
       "     -8⋅ⅈ⋅π ⎞                                                      ⎛          \n",
       "     ───────⎟          ⎛                         -4⋅ⅈ⋅π ⎞          ⎜          \n",
       "        3   ⎟          ⎜                         ───────⎟          ⎜          \n",
       "_4}⋅ℯ       ⎠          ⎜                            3   ⎟   5⋅√3⋅im⎝\\chi_{-k_1\n",
       "───────────── - 2⋅√3⋅im⎝\\chi_{-k_1+k_2+k_3-k_4}⋅ℯ       ⎠ + ──────────────────\n",
       "                                                                              \n",
       "\n",
       "               -2⋅ⅈ⋅π ⎞          ⎛                         2⋅ⅈ⋅π⎞          ⎛  \n",
       "               ───────⎟          ⎜                         ─────⎟          ⎜  \n",
       "                  3   ⎟          ⎜                           3  ⎟          ⎜  \n",
       "+k_2+k_3-k_4}⋅ℯ       ⎠   5⋅√3⋅im⎝\\chi_{-k_1+k_2+k_3-k_4}⋅ℯ     ⎠   3⋅√3⋅im⎝\\c\n",
       "─────────────────────── - ─────────────────────────────────────── + ──────────\n",
       "  2                                          2                                \n",
       "\n",
       "                       4⋅ⅈ⋅π⎞                                                 \n",
       "                       ─────⎟        ⎛                         -4⋅ⅈ⋅π ⎞       \n",
       "                         3  ⎟        ⎜                         ───────⎟       \n",
       "hi_{-k_1+k_2+k_3-k_4}⋅ℯ     ⎠        ⎜                            3   ⎟   √3⋅i\n",
       "───────────────────────────── - √3⋅im⎝\\chi_{-k_1+k_2-k_3+k_4}⋅ℯ       ⎠ + ────\n",
       "         2                                                                    \n",
       "\n",
       " ⎛                         -2⋅ⅈ⋅π ⎞                                           \n",
       " ⎜                         ───────⎟        ⎛                         2⋅ⅈ⋅π⎞   \n",
       " ⎜                            3   ⎟        ⎜                         ─────⎟   \n",
       "m⎝\\chi_{-k_1+k_2-k_3+k_4}⋅ℯ       ⎠        ⎜                           3  ⎟   \n",
       "─────────────────────────────────── + √3⋅im⎝\\chi_{-k_1+k_2-k_3+k_4}⋅ℯ     ⎠ - \n",
       "               2                                                              \n",
       "\n",
       "     ⎛                         4⋅ⅈ⋅π⎞                                         \n",
       "     ⎜                         ─────⎟        ⎛                         -4⋅ⅈ⋅π \n",
       "     ⎜                           3  ⎟        ⎜                         ───────\n",
       "√3⋅im⎝\\chi_{-k_1+k_2-k_3+k_4}⋅ℯ     ⎠        ⎜                            3   \n",
       "───────────────────────────────────── - √3⋅im⎝\\chi_{-k_1-k_2+k_3+k_4}⋅ℯ       \n",
       "                  2                                                           \n",
       "\n",
       "         ⎛                         -2⋅ⅈ⋅π ⎞                                   \n",
       "⎞        ⎜                         ───────⎟        ⎛                         2\n",
       "⎟        ⎜                            3   ⎟        ⎜                         ─\n",
       "⎟   √3⋅im⎝\\chi_{-k_1-k_2+k_3+k_4}⋅ℯ       ⎠        ⎜                          \n",
       "⎠ + ─────────────────────────────────────── + √3⋅im⎝\\chi_{-k_1-k_2+k_3+k_4}⋅ℯ \n",
       "                       2                                                      \n",
       "\n",
       "             ⎛                         4⋅ⅈ⋅π⎞\n",
       "⋅ⅈ⋅π⎞        ⎜                         ─────⎟\n",
       "────⎟        ⎜                           3  ⎟\n",
       " 3  ⎟   √3⋅im⎝\\chi_{-k_1-k_2+k_3+k_4}⋅ℯ     ⎠\n",
       "    ⎠ - ─────────────────────────────────────\n",
       "                          2                  "
      ]
     },
     "execution_count": 17,
     "metadata": {},
     "output_type": "execute_result"
    }
   ],
   "source": [
    "sy.re(cycled_r).expand()"
   ]
  },
  {
   "cell_type": "code",
   "execution_count": null,
   "metadata": {},
   "outputs": [],
   "source": []
  }
 ],
 "metadata": {
  "kernelspec": {
   "display_name": "Python 3",
   "language": "python",
   "name": "python3"
  },
  "toc": {
   "colors": {
    "hover_highlight": "#DAA520",
    "navigate_num": "#000000",
    "navigate_text": "#333333",
    "running_highlight": "#FF0000",
    "selected_highlight": "#FFD700",
    "sidebar_border": "#EEEEEE",
    "wrapper_background": "#FFFFFF"
   },
   "moveMenuLeft": true,
   "nav_menu": {
    "height": "49px",
    "width": "252px"
   },
   "navigate_menu": true,
   "number_sections": true,
   "sideBar": true,
   "threshold": 4,
   "toc_cell": false,
   "toc_section_display": "block",
   "toc_window_display": false,
   "widenNotebook": false
  },
  "varInspector": {
   "cols": {
    "lenName": 16,
    "lenType": 16,
    "lenVar": 40
   },
   "kernels_config": {
    "python": {
     "delete_cmd_postfix": "",
     "delete_cmd_prefix": "del ",
     "library": "var_list.py",
     "varRefreshCmd": "print(var_dic_list())"
    },
    "r": {
     "delete_cmd_postfix": ") ",
     "delete_cmd_prefix": "rm(",
     "library": "var_list.r",
     "varRefreshCmd": "cat(var_dic_list()) "
    }
   },
   "types_to_exclude": [
    "module",
    "function",
    "builtin_function_or_method",
    "instance",
    "_Feature"
   ],
   "window_display": false
  }
 },
 "nbformat": 4,
 "nbformat_minor": 2
}
