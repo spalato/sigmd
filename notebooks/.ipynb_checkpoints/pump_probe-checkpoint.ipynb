{
 "cells": [
  {
   "cell_type": "markdown",
   "metadata": {},
   "source": [
    "# Detection in pump-probe geometry.\n",
    "This notebook demonstrates the application of the `sigmd` module to detection in pump-probe geometry.\n",
    "This simpler, well established technique is also used as a tutorial.\n",
    "\n",
    "It demonstrates:\n",
    "- 2-step phase cycling\n",
    "- Pump-probe scatter removal using phase-cycling.\n",
    "- Pump-pump scatter removal using chopping."
   ]
  },
  {
   "cell_type": "code",
   "execution_count": 1,
   "metadata": {
    "ExecuteTime": {
     "end_time": "2017-07-17T15:39:01.893000",
     "start_time": "2017-07-17T15:39:01.395000"
    },
    "collapsed": true
   },
   "outputs": [],
   "source": [
    "from __future__ import division, print_function\n",
    "import sympy as sy\n",
    "from sig2d.signals import amplitude, e_field, signal, signals_for_order, Signal, phase_cycle\n",
    "from sig2d.filters import pump_probe, filter_terms, contains_filter\n",
    "from sig2d.signals import phase, norm"
   ]
  },
  {
   "cell_type": "code",
   "execution_count": 2,
   "metadata": {
    "ExecuteTime": {
     "end_time": "2017-07-17T15:39:01.971000",
     "start_time": "2017-07-17T15:39:01.896000"
    },
    "collapsed": true
   },
   "outputs": [],
   "source": [
    "sy.init_printing() # pretty!"
   ]
  },
  {
   "cell_type": "markdown",
   "metadata": {},
   "source": [
    "# Generate signal fields"
   ]
  },
  {
   "cell_type": "markdown",
   "metadata": {
    "ExecuteTime": {
     "end_time": "2017-04-12T16:17:39.119000",
     "start_time": "2017-04-12T16:17:39.108000"
    }
   },
   "source": [
    "Generate signals: up to third order with 3 pulses. We filter the indices using the pump probe filter, ie: keep only phase match along $k_3$ assuming $k_1$, $k_2$ are collinear and avoiding SHG, DC etc.\n",
    "\n",
    "The result contains pump-probe, 2D, TG and linear signals."
   ]
  },
  {
   "cell_type": "code",
   "execution_count": 3,
   "metadata": {
    "ExecuteTime": {
     "end_time": "2017-07-17T15:39:02.404000",
     "start_time": "2017-07-17T15:39:01.973000"
    }
   },
   "outputs": [
    {
     "data": {
      "image/png": "[encoded data removed]",
      "text/latex": [
       "$$\\chi_{+k_1-k_1+k_3} A_{1} A_{3} \\overline{A_{1}} + \\chi_{+k_1-k_2+k_3} A_{1} A_{3} \\overline{A_{2}} + \\chi_{+k_2-k_2+k_3} A_{2} A_{3} \\overline{A_{2}} + \\chi_{+k_3+k_3-k_3} A_{3}^{2} \\overline{A_{3}} + \\chi_{+k_3-k_3+k_3} A_{3}^{2} \\overline{A_{3}} + \\chi_{+k_3} A_{3} + \\chi_{-k_1+k_1+k_3} A_{1} A_{3} \\overline{A_{1}} + \\chi_{-k_1+k_2+k_3} A_{2} A_{3} \\overline{A_{1}} + \\chi_{-k_2+k_2+k_3} A_{2} A_{3} \\overline{A_{2}} + \\chi_{-k_3+k_3+k_3} A_{3}^{2} \\overline{A_{3}}$$"
      ],
      "text/plain": [
       "                          __                             __                   \n",
       "\\chi_{+k_1-k_1+k_3}⋅A₁⋅A₃⋅A₁ + \\chi_{+k_1-k_2+k_3}⋅A₁⋅A₃⋅A₂ + \\chi_{+k_2-k_2+k\n",
       "\n",
       "          __                         2 __                         2 __        \n",
       "_3}⋅A₂⋅A₃⋅A₂ + \\chi_{+k_3+k_3-k_3}⋅A₃ ⋅A₃ + \\chi_{+k_3-k_3+k_3}⋅A₃ ⋅A₃ + \\chi_\n",
       "\n",
       "                                      __                             __       \n",
       "{+k_3}⋅A₃ + \\chi_{-k_1+k_1+k_3}⋅A₁⋅A₃⋅A₁ + \\chi_{-k_1+k_2+k_3}⋅A₂⋅A₃⋅A₁ + \\chi\n",
       "\n",
       "                      __                         2 __\n",
       "_{-k_2+k_2+k_3}⋅A₂⋅A₃⋅A₂ + \\chi_{-k_3+k_3+k_3}⋅A₃ ⋅A₃"
      ]
     },
     "execution_count": 3,
     "metadata": {},
     "output_type": "execute_result"
    }
   ],
   "source": [
    "sigs = sum(signals_for_order(i, 3, filters=pump_probe) for i in [1,2,3])\n",
    "sigs"
   ]
  },
  {
   "cell_type": "markdown",
   "metadata": {},
   "source": [
    "# 2-step phase cycling"
   ]
  },
  {
   "cell_type": "markdown",
   "metadata": {},
   "source": [
    "## Generate detected signal"
   ]
  },
  {
   "cell_type": "markdown",
   "metadata": {},
   "source": [
    "Create the probe field. The field sent to de detector is the sum of this probe field and the signals."
   ]
  },
  {
   "cell_type": "code",
   "execution_count": 4,
   "metadata": {
    "ExecuteTime": {
     "end_time": "2017-07-17T15:39:02.716000",
     "start_time": "2017-07-17T15:39:02.407000"
    }
   },
   "outputs": [
    {
     "data": {
      "image/png": "[encoded data removed]",
      "text/latex": [
       "$$A_{3} E_{3}$$"
      ],
      "text/plain": [
       "A₃⋅E₃"
      ]
     },
     "execution_count": 4,
     "metadata": {},
     "output_type": "execute_result"
    }
   ],
   "source": [
    "probe_field = e_field(3)\n",
    "probe_field"
   ]
  },
  {
   "cell_type": "markdown",
   "metadata": {},
   "source": [
    "Interferometric detection of the signal and LO pulse, which is E3 in this case."
   ]
  },
  {
   "cell_type": "code",
   "execution_count": 5,
   "metadata": {
    "ExecuteTime": {
     "end_time": "2017-07-17T15:39:03.192000",
     "start_time": "2017-07-17T15:39:02.719000"
    }
   },
   "outputs": [
    {
     "data": {
      "image/png": "[encoded data removed]",
      "text/latex": [
       "$$121$$"
      ],
      "text/plain": [
       "121"
      ]
     },
     "execution_count": 5,
     "metadata": {},
     "output_type": "execute_result"
    }
   ],
   "source": [
    "detected = probe_field + sigs\n",
    "detected = sy.expand(sy.conjugate(detected)*detected)\n",
    "len(detected.args)"
   ]
  },
  {
   "cell_type": "markdown",
   "metadata": {},
   "source": [
    "The intensity contains a lot of terms! Luckily, we can neglect quite a lot of them: anything that doesn't contain the probe field (local oscillator) will be very weak.\n",
    "\n",
    "This is implemented using a term filter: the representation of each term needs to contain the string `\"E_\"`. This reduces the expression to 21 terms, which is much more manageable."
   ]
  },
  {
   "cell_type": "code",
   "execution_count": 6,
   "metadata": {
    "ExecuteTime": {
     "end_time": "2017-07-17T15:39:03.526000",
     "start_time": "2017-07-17T15:39:03.195000"
    }
   },
   "outputs": [
    {
     "data": {
      "image/png": "[encoded data removed]",
      "text/latex": [
       "$$21$$"
      ],
      "text/plain": [
       "21"
      ]
     },
     "execution_count": 6,
     "metadata": {},
     "output_type": "execute_result"
    }
   ],
   "source": [
    "detected = filter_terms(contains_filter(\"E_\"), detected)\n",
    "len(detected.args)"
   ]
  },
  {
   "cell_type": "markdown",
   "metadata": {},
   "source": [
    "## Manual phase cycling"
   ]
  },
  {
   "cell_type": "markdown",
   "metadata": {},
   "source": [
    "The next cell demonstrates manual phase cycling. The `signals` module provides tools to automate this (demonstrated later), but this details the underlying process.\n",
    "\n",
    "The 2-step phase cycling can be achieved by cycling the phase of pulse 1 $\\phi_1$ through (0, $\\pi$), and taking the difference. This amounts to weighting each by factors (1, -1).\n"
   ]
  },
  {
   "cell_type": "code",
   "execution_count": 7,
   "metadata": {
    "ExecuteTime": {
     "end_time": "2017-07-17T15:39:03.867000",
     "start_time": "2017-07-17T15:39:03.528000"
    }
   },
   "outputs": [
    {
     "data": {
      "image/png": "[encoded data removed]",
      "text/latex": [
       "$$\\left ( \\left [ 0, \\quad \\pi\\right ], \\quad \\left [ 1, \\quad -1\\right ]\\right )$$"
      ],
      "text/plain": [
       "([0, π], [1, -1])"
      ]
     },
     "execution_count": 7,
     "metadata": {},
     "output_type": "execute_result"
    }
   ],
   "source": [
    "phases = [0, sy.pi]\n",
    "# Next line follows Tan's nomenclature\n",
    "factors = [sy.exp(sy.I*p) for p in phases]\n",
    "phases, factors"
   ]
  },
  {
   "cell_type": "markdown",
   "metadata": {},
   "source": [
    "Phase cycling is achieved using sympy's substitution, replacing $A_1$ by $e^{i\\phi_1}$, and replacing $A_2$ and $A_3$ by 1."
   ]
  },
  {
   "cell_type": "code",
   "execution_count": 8,
   "metadata": {
    "ExecuteTime": {
     "end_time": "2017-07-17T15:39:04.237000",
     "start_time": "2017-07-17T15:39:03.870000"
    }
   },
   "outputs": [
    {
     "data": {
      "image/png": "[encoded data removed]",
      "text/latex": [
       "$$\\chi_{+k_1-k_1+k_3} \\overline{E_{3}} - \\chi_{+k_1-k_2+k_3} \\overline{E_{3}} + \\chi_{+k_2-k_2+k_3} \\overline{E_{3}} + \\chi_{+k_3+k_3-k_3} \\overline{E_{3}} + \\chi_{+k_3-k_3+k_3} \\overline{E_{3}} + \\chi_{+k_3} \\overline{E_{3}} + \\chi_{-k_1+k_1+k_3} \\overline{E_{3}} - \\chi_{-k_1+k_2+k_3} \\overline{E_{3}} + \\chi_{-k_2+k_2+k_3} \\overline{E_{3}} + \\chi_{-k_3+k_3+k_3} \\overline{E_{3}} + E_{3} \\overline{\\chi_{+k_1-k_1+k_3}} - E_{3} \\overline{\\chi_{+k_1-k_2+k_3}} + E_{3} \\overline{\\chi_{+k_2-k_2+k_3}} + E_{3} \\overline{\\chi_{+k_3+k_3-k_3}} + E_{3} \\overline{\\chi_{+k_3-k_3+k_3}} + E_{3} \\overline{\\chi_{+k_3}} + E_{3} \\overline{\\chi_{-k_1+k_1+k_3}} - E_{3} \\overline{\\chi_{-k_1+k_2+k_3}} + E_{3} \\overline{\\chi_{-k_2+k_2+k_3}} + E_{3} \\overline{\\chi_{-k_3+k_3+k_3}} + E_{3} \\overline{E_{3}}$$"
      ],
      "text/plain": [
       "                    __                       __                       __      \n",
       "\\chi_{+k_1-k_1+k_3}⋅E₃ - \\chi_{+k_1-k_2+k_3}⋅E₃ + \\chi_{+k_2-k_2+k_3}⋅E₃ + \\ch\n",
       "\n",
       "                 __                       __               __                 \n",
       "i_{+k_3+k_3-k_3}⋅E₃ + \\chi_{+k_3-k_3+k_3}⋅E₃ + \\chi_{+k_3}⋅E₃ + \\chi_{-k_1+k_1\n",
       "\n",
       "      __                       __                       __                    \n",
       "+k_3}⋅E₃ - \\chi_{-k_1+k_2+k_3}⋅E₃ + \\chi_{-k_2+k_2+k_3}⋅E₃ + \\chi_{-k_3+k_3+k_\n",
       "\n",
       "   __      ___________________      ___________________      _________________\n",
       "3}⋅E₃ + E₃⋅\\chi_{+k_1-k_1+k_3} - E₃⋅\\chi_{+k_1-k_2+k_3} + E₃⋅\\chi_{+k_2-k_2+k_\n",
       "\n",
       "__      ___________________      ___________________      ___________      ___\n",
       "3} + E₃⋅\\chi_{+k_3+k_3-k_3} + E₃⋅\\chi_{+k_3-k_3+k_3} + E₃⋅\\chi_{+k_3} + E₃⋅\\ch\n",
       "\n",
       "________________      ___________________      ___________________      ______\n",
       "i_{-k_1+k_1+k_3} - E₃⋅\\chi_{-k_1+k_2+k_3} + E₃⋅\\chi_{-k_2+k_2+k_3} + E₃⋅\\chi_{\n",
       "\n",
       "_____________      __\n",
       "-k_3+k_3+k_3} + E₃⋅E₃"
      ]
     },
     "execution_count": 8,
     "metadata": {},
     "output_type": "execute_result"
    }
   ],
   "source": [
    "detected.subs([(amplitude(1), sy.exp(-sy.I*sy.pi)),\n",
    "               (amplitude(2), 1),\n",
    "               (amplitude(3), 1)])"
   ]
  },
  {
   "cell_type": "markdown",
   "metadata": {},
   "source": [
    "The phase cycling is automated in a loop."
   ]
  },
  {
   "cell_type": "code",
   "execution_count": 9,
   "metadata": {
    "ExecuteTime": {
     "end_time": "2017-07-17T15:39:04.594000",
     "start_time": "2017-07-17T15:39:04.240000"
    }
   },
   "outputs": [
    {
     "data": {
      "image/png": "[encoded data removed]",
      "text/latex": [
       "$$2 \\chi_{+k_1-k_2+k_3} \\overline{E_{3}} + 2 \\chi_{-k_1+k_2+k_3} \\overline{E_{3}} + 2 E_{3} \\overline{\\chi_{+k_1-k_2+k_3}} + 2 E_{3} \\overline{\\chi_{-k_1+k_2+k_3}}$$"
      ],
      "text/plain": [
       "                      __                         __        ___________________\n",
       "2⋅\\chi_{+k_1-k_2+k_3}⋅E₃ + 2⋅\\chi_{-k_1+k_2+k_3}⋅E₃ + 2⋅E₃⋅\\chi_{+k_1-k_2+k_3}\n",
       "\n",
       "        ___________________\n",
       " + 2⋅E₃⋅\\chi_{-k_1+k_2+k_3}"
      ]
     },
     "execution_count": 9,
     "metadata": {},
     "output_type": "execute_result"
    }
   ],
   "source": [
    "cycled = sum(\n",
    "    [f*detected.subs(  # we supply a list of (variable, substitute)\n",
    "        [(amplitude(1), sy.exp(-sy.I*p)),  # A_1 -> exp(-i phi_1)\n",
    "         (amplitude(2), 1),\n",
    "         (amplitude(3), 1)])\n",
    "     for f, p in zip(factors, phases)\n",
    "    ])\n",
    "cycled"
   ]
  },
  {
   "cell_type": "markdown",
   "metadata": {
    "ExecuteTime": {
     "end_time": "2017-04-12T22:57:53.863000",
     "start_time": "2017-04-12T22:57:53.857000"
    }
   },
   "source": [
    "This is the real part of the sum of the rephasing and non-rephasing signals, interfering with $\\overline{E_3}$. A well known result."
   ]
  },
  {
   "cell_type": "markdown",
   "metadata": {
    "ExecuteTime": {
     "end_time": "2017-04-12T23:17:26.895000",
     "start_time": "2017-04-12T23:17:26.890000"
    }
   },
   "source": [
    "# 4-step phase cycling: Scatter removal"
   ]
  },
  {
   "cell_type": "markdown",
   "metadata": {},
   "source": [
    "## Detected signal, with scatter"
   ]
  },
  {
   "cell_type": "markdown",
   "metadata": {},
   "source": [
    "Define a scatter amplitude $\\alpha$. We now detect on top of everything else $\\alpha(E_1+E_2)$."
   ]
  },
  {
   "cell_type": "code",
   "execution_count": 10,
   "metadata": {
    "ExecuteTime": {
     "end_time": "2017-07-17T15:39:05.039000",
     "start_time": "2017-07-17T15:39:04.597000"
    }
   },
   "outputs": [
    {
     "data": {
      "image/png": "[encoded data removed]",
      "text/latex": [
       "$$169$$"
      ],
      "text/plain": [
       "169"
      ]
     },
     "execution_count": 10,
     "metadata": {},
     "output_type": "execute_result"
    }
   ],
   "source": [
    "alpha = sy.symbols(r\"\\alpha\", real=True)\n",
    "detected = sigs + probe_field + alpha*(e_field(1)+e_field(2))\n",
    "detected = sy.expand(sy.conjugate(detected)*detected)\n",
    "len(detected.args)"
   ]
  },
  {
   "cell_type": "markdown",
   "metadata": {},
   "source": [
    "We will now neglect signal-signal cross terms (as previously) and scatter-signal cross terms."
   ]
  },
  {
   "cell_type": "code",
   "execution_count": 11,
   "metadata": {
    "ExecuteTime": {
     "end_time": "2017-07-17T15:39:05.447000",
     "start_time": "2017-07-17T15:39:05.041000"
    }
   },
   "outputs": [
    {
     "data": {
      "image/png": "[encoded data removed]",
      "text/latex": [
       "$$29$$"
      ],
      "text/plain": [
       "29"
      ]
     },
     "execution_count": 11,
     "metadata": {},
     "output_type": "execute_result"
    }
   ],
   "source": [
    "detected = filter_terms(contains_filter(\"E_\"), detected)  # must contain E1, E2 or E3\n",
    "detected = filter_terms(lambda s: not (r'\\chi' in repr(s) and r'\\alpha' in repr(s)),\n",
    "                        detected)  # neglect terms with signal and scatter only\n",
    "len(detected.args)"
   ]
  },
  {
   "cell_type": "markdown",
   "metadata": {
    "ExecuteTime": {
     "end_time": "2017-04-12T23:24:40.200000",
     "start_time": "2017-04-12T23:24:39.684000"
    }
   },
   "source": [
    "## Two step phase cycling fails"
   ]
  },
  {
   "cell_type": "markdown",
   "metadata": {},
   "source": [
    "We now showcase automatic phase cycling using `phase_cycle`. For this, we need to prepare a table of phases (for all 3 pulses) and weights."
   ]
  },
  {
   "cell_type": "code",
   "execution_count": 12,
   "metadata": {
    "ExecuteTime": {
     "end_time": "2017-07-17T15:39:05.818000",
     "start_time": "2017-07-17T15:39:05.450000"
    }
   },
   "outputs": [
    {
     "data": {
      "image/png": "[encoded data removed]",
      "text/latex": [
       "$$2 \\chi_{+k_1-k_2+k_3} \\overline{E_{3}} + 2 \\chi_{-k_1+k_2+k_3} \\overline{E_{3}} + 2 E_{1} \\alpha^{2} \\overline{E_{2}} + 2 E_{1} \\alpha \\overline{E_{3}} + 2 E_{2} \\alpha^{2} \\overline{E_{1}} + 2 E_{3} \\alpha \\overline{E_{1}} + 2 E_{3} \\overline{\\chi_{+k_1-k_2+k_3}} + 2 E_{3} \\overline{\\chi_{-k_1+k_2+k_3}}$$"
      ],
      "text/plain": [
       "                      __                         __              2 __         \n",
       "2⋅\\chi_{+k_1-k_2+k_3}⋅E₃ + 2⋅\\chi_{-k_1+k_2+k_3}⋅E₃ + 2⋅E₁⋅\\alpha ⋅E₂ + 2⋅E₁⋅\\\n",
       "\n",
       "      __              2 __               __        ___________________        \n",
       "alpha⋅E₃ + 2⋅E₂⋅\\alpha ⋅E₁ + 2⋅E₃⋅\\alpha⋅E₁ + 2⋅E₃⋅\\chi_{+k_1-k_2+k_3} + 2⋅E₃⋅\n",
       "\n",
       "___________________\n",
       "\\chi_{-k_1+k_2+k_3}"
      ]
     },
     "execution_count": 12,
     "metadata": {},
     "output_type": "execute_result"
    }
   ],
   "source": [
    "# columns are pulses, rows are steps. \n",
    "phases = [[0,     0, 0],\n",
    "          [sy.pi, 0, 0]]\n",
    "weights = [1, -1] # simple 1D list, elements are steps\n",
    "phase_cycle(detected, phases, weights=weights)"
   ]
  },
  {
   "cell_type": "markdown",
   "metadata": {
    "ExecuteTime": {
     "end_time": "2017-04-12T23:48:46.289000",
     "start_time": "2017-04-12T23:48:45.885000"
    }
   },
   "source": [
    "The scatter signals still show up: both pump-probe scatter (ex: $\\alpha E_1 \\overline{E_3}$)\n",
    "and pump-pump scatter (ex: $\\alpha^2 E_1 \\overline{E_2}$) are still present."
   ]
  },
  {
   "cell_type": "markdown",
   "metadata": {},
   "source": [
    "## 4 step phase cycling removes pump-probe scatter"
   ]
  },
  {
   "cell_type": "code",
   "execution_count": 13,
   "metadata": {
    "ExecuteTime": {
     "end_time": "2017-07-17T15:39:06.183000",
     "start_time": "2017-07-17T15:39:05.820000"
    }
   },
   "outputs": [
    {
     "data": {
      "image/png": "[encoded data removed]",
      "text/latex": [
       "$$4 \\chi_{+k_1-k_2+k_3} \\overline{E_{3}} + 4 \\chi_{-k_1+k_2+k_3} \\overline{E_{3}} + 4 E_{1} \\alpha^{2} \\overline{E_{2}} + 4 E_{2} \\alpha^{2} \\overline{E_{1}} + 4 E_{3} \\overline{\\chi_{+k_1-k_2+k_3}} + 4 E_{3} \\overline{\\chi_{-k_1+k_2+k_3}}$$"
      ],
      "text/plain": [
       "                      __                         __              2 __         \n",
       "4⋅\\chi_{+k_1-k_2+k_3}⋅E₃ + 4⋅\\chi_{-k_1+k_2+k_3}⋅E₃ + 4⋅E₁⋅\\alpha ⋅E₂ + 4⋅E₂⋅\\\n",
       "\n",
       "     2 __        ___________________        ___________________\n",
       "alpha ⋅E₁ + 4⋅E₃⋅\\chi_{+k_1-k_2+k_3} + 4⋅E₃⋅\\chi_{-k_1+k_2+k_3}"
      ]
     },
     "execution_count": 13,
     "metadata": {},
     "output_type": "execute_result"
    }
   ],
   "source": [
    "phases = [[    0,     0, 0],\n",
    "          [    0, sy.pi, 0],\n",
    "          [sy.pi, sy.pi, 0],\n",
    "          [sy.pi,     0, 0]]\n",
    "weights = [1, -1, 1, -1]\n",
    "phase_cycle(detected, phases, weights)"
   ]
  },
  {
   "cell_type": "markdown",
   "metadata": {},
   "source": [
    "Only pump-pump scatter survives phase cycling. It's amplitude goes like $\\alpha^2$: it should be very small for most samples."
   ]
  },
  {
   "cell_type": "markdown",
   "metadata": {},
   "source": [
    "## 8 step scatter removal: cycling + chopping"
   ]
  },
  {
   "cell_type": "markdown",
   "metadata": {},
   "source": [
    "We can use python's `itertools` module to help in generating the tables."
   ]
  },
  {
   "cell_type": "code",
   "execution_count": 18,
   "metadata": {
    "ExecuteTime": {
     "end_time": "2017-07-17T15:39:06.188000",
     "start_time": "2017-07-17T15:39:06.185000"
    },
    "collapsed": true
   },
   "outputs": [],
   "source": [
    "from itertools import cycle, repeat, chain, product"
   ]
  },
  {
   "cell_type": "code",
   "execution_count": 19,
   "metadata": {
    "ExecuteTime": {
     "end_time": "2017-07-17T15:39:06.643000",
     "start_time": "2017-07-17T15:39:06.190000"
    }
   },
   "outputs": [
    {
     "data": {
      "image/png": "[encoded data removed]",
      "text/latex": [
       "$$\\left [ \\left [ 0, \\quad 0, \\quad 0\\right ], \\quad \\left [ 0, \\quad 0, \\quad 0\\right ], \\quad \\left [ 0, \\quad \\pi, \\quad 0\\right ], \\quad \\left [ 0, \\quad \\pi, \\quad 0\\right ], \\quad \\left [ \\pi, \\quad \\pi, \\quad 0\\right ], \\quad \\left [ \\pi, \\quad \\pi, \\quad 0\\right ], \\quad \\left [ \\pi, \\quad 0, \\quad 0\\right ], \\quad \\left [ \\pi, \\quad 0, \\quad 0\\right ]\\right ]$$"
      ],
      "text/plain": [
       "[[0, 0, 0], [0, 0, 0], [0, π, 0], [0, π, 0], [π, π, 0], [π, π, 0], [π, 0, 0], \n",
       "[π, 0, 0]]"
      ]
     },
     "execution_count": 19,
     "metadata": {},
     "output_type": "execute_result"
    }
   ],
   "source": [
    "phases = [[    0,     0, 0],\n",
    "          [    0, sy.pi, 0],\n",
    "          [sy.pi, sy.pi, 0],\n",
    "          [sy.pi,     0, 0]]\n",
    "# repeat each row twice\n",
    "phases = list(chain(*zip(phases, phases)))\n",
    "phases"
   ]
  },
  {
   "cell_type": "markdown",
   "metadata": {},
   "source": [
    "Cycle these two rows indefinitely"
   ]
  },
  {
   "cell_type": "code",
   "execution_count": 20,
   "metadata": {
    "ExecuteTime": {
     "end_time": "2017-07-17T15:39:06.968000",
     "start_time": "2017-07-17T15:39:06.646000"
    }
   },
   "outputs": [
    {
     "data": {
      "image/png": "[encoded data removed]",
      "text/latex": [
       "$$\\left [ \\left [ 1, \\quad 1, \\quad 1\\right ], \\quad \\left [ 1, \\quad 1, \\quad 0\\right ], \\quad \\left [ 1, \\quad 1, \\quad 1\\right ], \\quad \\left [ 1, \\quad 1, \\quad 0\\right ]\\right ]$$"
      ],
      "text/plain": [
       "[[1, 1, 1], [1, 1, 0], [1, 1, 1], [1, 1, 0]]"
      ]
     },
     "execution_count": 20,
     "metadata": {},
     "output_type": "execute_result"
    }
   ],
   "source": [
    "amps = cycle([[1,1,1], [1,1,0]])\n",
    "[next(amps) for i in range(4)]"
   ]
  },
  {
   "cell_type": "markdown",
   "metadata": {},
   "source": [
    "The `phase_cycle` function lets you supply chopping factors $a_j$. Each amplitude is substitued as: $A_j=a_je^{i \\phi_j}$."
   ]
  },
  {
   "cell_type": "code",
   "execution_count": 21,
   "metadata": {
    "ExecuteTime": {
     "end_time": "2017-07-17T15:40:41.350000",
     "start_time": "2017-07-17T15:40:41.041000"
    }
   },
   "outputs": [
    {
     "data": {
      "image/png": "[encoded data removed]",
      "text/latex": [
       "$$4 \\chi_{+k_1-k_2+k_3} \\overline{E_{3}} + 4 \\chi_{-k_1+k_2+k_3} \\overline{E_{3}} + 4 E_{3} \\overline{\\chi_{+k_1-k_2+k_3}} + 4 E_{3} \\overline{\\chi_{-k_1+k_2+k_3}}$$"
      ],
      "text/plain": [
       "                      __                         __        ___________________\n",
       "4⋅\\chi_{+k_1-k_2+k_3}⋅E₃ + 4⋅\\chi_{-k_1+k_2+k_3}⋅E₃ + 4⋅E₃⋅\\chi_{+k_1-k_2+k_3}\n",
       "\n",
       "        ___________________\n",
       " + 4⋅E₃⋅\\chi_{-k_1+k_2+k_3}"
      ]
     },
     "execution_count": 21,
     "metadata": {},
     "output_type": "execute_result"
    }
   ],
   "source": [
    "weights = [1, -1, -1, 1, 1, -1, -1, 1]\n",
    "cycled = phase_cycle(detected, phases, weights, amps)\n",
    "cycled"
   ]
  },
  {
   "cell_type": "markdown",
   "metadata": {},
   "source": [
    "All scatter is gone."
   ]
  },
  {
   "cell_type": "code",
   "execution_count": 22,
   "metadata": {
    "ExecuteTime": {
     "end_time": "2017-07-17T15:45:44.028000",
     "start_time": "2017-07-17T15:45:43.701000"
    }
   },
   "outputs": [
    {
     "data": {
      "image/png": "[encoded data removed]",
      "text/latex": [
       "$$\\Re{\\chi_{+k_1-k_2+k_3}} \\Re{E_{3}} + \\Re{\\chi_{-k_1+k_2+k_3}} \\Re{E_{3}} + \\Im{\\chi_{+k_1-k_2+k_3}} \\Im{E_{3}} + \\Im{\\chi_{-k_1+k_2+k_3}} \\Im{E_{3}}$$"
      ],
      "text/plain": [
       "re(\\chi_{+k_1-k_2+k_3})⋅re(E₃) + re(\\chi_{-k_1+k_2+k_3})⋅re(E₃) + im(\\chi_{+k_\n",
       "1-k_2+k_3})⋅im(E₃) + im(\\chi_{-k_1+k_2+k_3})⋅im(E₃)"
      ]
     },
     "execution_count": 22,
     "metadata": {},
     "output_type": "execute_result"
    }
   ],
   "source": [
    "expected =sy.re((Signal([1, -2, 3])+Signal([-1, 2, 3]))*e_field(-3, amp=False))\n",
    "sy.expand(expected)"
   ]
  },
  {
   "cell_type": "code",
   "execution_count": 23,
   "metadata": {
    "ExecuteTime": {
     "end_time": "2017-07-17T15:46:44.677000",
     "start_time": "2017-07-17T15:46:44.386000"
    }
   },
   "outputs": [
    {
     "data": {
      "image/png": "[encoded data removed]",
      "text/latex": [
       "$$0$$"
      ],
      "text/plain": [
       "0"
      ]
     },
     "execution_count": 23,
     "metadata": {},
     "output_type": "execute_result"
    }
   ],
   "source": [
    "sy.expand(8*expected - cycled, complex=True)"
   ]
  },
  {
   "cell_type": "markdown",
   "metadata": {},
   "source": [
    "A note on equality: the single equal `=` is used for variable assignment. The double equal `==` is used for identity in the programming sense. Two objects `A` and `B` can be different sympy objects yet be mathematically equal. Mathematical identity can be tested using simplifications or checking the difference simplifies to 0. See https://github.com/sympy/sympy/wiki/Faq#why-does-sympy-say-that-two-equal-expressions-are-unequal"
   ]
  },
  {
   "cell_type": "code",
   "execution_count": null,
   "metadata": {
    "collapsed": true
   },
   "outputs": [],
   "source": []
  }
 ],
 "metadata": {
  "kernelspec": {
   "display_name": "Python 3",
   "language": "python",
   "name": "python3"
  },
  "language_info": {
   "codemirror_mode": {
    "name": "ipython",
    "version": 3
   },
   "file_extension": ".py",
   "mimetype": "text/x-python",
   "name": "python",
   "nbconvert_exporter": "python",
   "pygments_lexer": "ipython3",
   "version": "3.6.1"
  },
  "toc": {
   "colors": {
    "hover_highlight": "#DAA520",
    "navigate_num": "#000000",
    "navigate_text": "#333333",
    "running_highlight": "#FF0000",
    "selected_highlight": "#FFD700",
    "sidebar_border": "#EEEEEE",
    "wrapper_background": "#FFFFFF"
   },
   "moveMenuLeft": true,
   "nav_menu": {
    "height": "209px",
    "width": "252px"
   },
   "navigate_menu": true,
   "number_sections": true,
   "sideBar": true,
   "threshold": 4,
   "toc_cell": false,
   "toc_section_display": "block",
   "toc_window_display": true,
   "widenNotebook": false
  }
 },
 "nbformat": 4,
 "nbformat_minor": 2
}
