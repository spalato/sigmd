{
 "cells": [
  {
   "cell_type": "markdown",
   "metadata": {
    "ExecuteTime": {
     "end_time": "2017-04-13T10:14:36.509000",
     "start_time": "2017-04-13T10:14:36.503000"
    },
    "run_control": {
     "frozen": false,
     "read_only": false
    }
   },
   "source": [
    "# Collinear interferometric detection, 3 pulses"
   ]
  },
  {
   "cell_type": "markdown",
   "metadata": {},
   "source": [
    "This demonstrates the validity of the interferometric detection of 3rd order signals in the collinear geometry using the 32 step phase cycling scheme presented in [!!! ref]."
   ]
  },
  {
   "cell_type": "code",
   "execution_count": 1,
   "metadata": {
    "ExecuteTime": {
     "end_time": "2017-05-12T14:56:13.557000",
     "start_time": "2017-05-12T14:56:06.841000"
    },
    "collapsed": false,
    "run_control": {
     "frozen": false,
     "read_only": false
    }
   },
   "outputs": [],
   "source": [
    "from __future__ import division, print_function\n",
    "from itertools import product, chain\n",
    "import sympy as sy\n",
    "import numpy as np\n",
    "from sig2d.signals import e_field, signals_for_order, phase_cycle, weights\n",
    "from sig2d.filters import collinear, filter_terms, contains_filter"
   ]
  },
  {
   "cell_type": "code",
   "execution_count": 2,
   "metadata": {
    "ExecuteTime": {
     "end_time": "2017-05-12T14:56:14.016000",
     "start_time": "2017-05-12T14:56:13.559000"
    },
    "collapsed": true,
    "run_control": {
     "frozen": false,
     "read_only": false
    }
   },
   "outputs": [],
   "source": [
    "sy.init_printing()#fontsize=\"12pt\")"
   ]
  },
  {
   "cell_type": "markdown",
   "metadata": {},
   "source": [
    "# Generate signal fields."
   ]
  },
  {
   "cell_type": "markdown",
   "metadata": {},
   "source": [
    "Collect up to third order with 3 pulses."
   ]
  },
  {
   "cell_type": "code",
   "execution_count": 3,
   "metadata": {
    "ExecuteTime": {
     "end_time": "2017-05-12T14:56:16.528000",
     "start_time": "2017-05-12T14:56:14.019000"
    },
    "collapsed": false,
    "run_control": {
     "frozen": false,
     "read_only": false
    }
   },
   "outputs": [
    {
     "data": {
      "image/png": "[encoded data removed]",
      "text/latex": [
       "$$\\chi_{+k_1+k_1-k_1} A_{1}^{2} \\overline{A_{1}} + \\chi_{+k_1+k_1-k_2} A_{1}^{2} \\overline{A_{2}} + \\chi_{+k_1+k_1-k_3} A_{1}^{2} \\overline{A_{3}} + \\chi_{+k_1+k_2-k_2} A_{1} A_{2} \\overline{A_{2}} + \\chi_{+k_1+k_2-k_3} A_{1} A_{2} \\overline{A_{3}} + \\chi_{+k_1+k_3-k_3} A_{1} A_{3} \\overline{A_{3}} + \\chi_{+k_1-k_1+k_1} A_{1}^{2} \\overline{A_{1}} + \\chi_{+k_1-k_1+k_2} A_{1} A_{2} \\overline{A_{1}} + \\chi_{+k_1-k_1+k_3} A_{1} A_{3} \\overline{A_{1}} + \\chi_{+k_1-k_2+k_2} A_{1} A_{2} \\overline{A_{2}} + \\chi_{+k_1-k_2+k_3} A_{1} A_{3} \\overline{A_{2}} + \\chi_{+k_1-k_3+k_3} A_{1} A_{3} \\overline{A_{3}} + \\chi_{+k_1} A_{1} + \\chi_{+k_2+k_2-k_2} A_{2}^{2} \\overline{A_{2}} + \\chi_{+k_2+k_2-k_3} A_{2}^{2} \\overline{A_{3}} + \\chi_{+k_2+k_3-k_3} A_{2} A_{3} \\overline{A_{3}} + \\chi_{+k_2-k_2+k_2} A_{2}^{2} \\overline{A_{2}} + \\chi_{+k_2-k_2+k_3} A_{2} A_{3} \\overline{A_{2}} + \\chi_{+k_2-k_3+k_3} A_{2} A_{3} \\overline{A_{3}} + \\chi_{+k_2} A_{2} + \\chi_{+k_3+k_3-k_3} A_{3}^{2} \\overline{A_{3}} + \\chi_{+k_3-k_3+k_3} A_{3}^{2} \\overline{A_{3}} + \\chi_{+k_3} A_{3} + \\chi_{-k_1+k_1+k_1} A_{1}^{2} \\overline{A_{1}} + \\chi_{-k_1+k_1+k_2} A_{1} A_{2} \\overline{A_{1}} + \\chi_{-k_1+k_1+k_3} A_{1} A_{3} \\overline{A_{1}} + \\chi_{-k_1+k_2+k_2} A_{2}^{2} \\overline{A_{1}} + \\chi_{-k_1+k_2+k_3} A_{2} A_{3} \\overline{A_{1}} + \\chi_{-k_1+k_3+k_3} A_{3}^{2} \\overline{A_{1}} + \\chi_{-k_2+k_2+k_2} A_{2}^{2} \\overline{A_{2}} + \\chi_{-k_2+k_2+k_3} A_{2} A_{3} \\overline{A_{2}} + \\chi_{-k_2+k_3+k_3} A_{3}^{2} \\overline{A_{2}} + \\chi_{-k_3+k_3+k_3} A_{3}^{2} \\overline{A_{3}}$$"
      ],
      "text/plain": [
       "                      2 __                         2 __                       \n",
       "\\chi_{+k_1+k_1-k_1}⋅A₁ ⋅A₁ + \\chi_{+k_1+k_1-k_2}⋅A₁ ⋅A₂ + \\chi_{+k_1+k_1-k_3}⋅\n",
       "\n",
       "  2 __                             __                             __          \n",
       "A₁ ⋅A₃ + \\chi_{+k_1+k_2-k_2}⋅A₁⋅A₂⋅A₂ + \\chi_{+k_1+k_2-k_3}⋅A₁⋅A₂⋅A₃ + \\chi_{+\n",
       "\n",
       "                   __                         2 __                            \n",
       "k_1+k_3-k_3}⋅A₁⋅A₃⋅A₃ + \\chi_{+k_1-k_1+k_1}⋅A₁ ⋅A₁ + \\chi_{+k_1-k_1+k_2}⋅A₁⋅A₂\n",
       "\n",
       " __                             __                             __             \n",
       "⋅A₁ + \\chi_{+k_1-k_1+k_3}⋅A₁⋅A₃⋅A₁ + \\chi_{+k_1-k_2+k_2}⋅A₁⋅A₂⋅A₂ + \\chi_{+k_1\n",
       "\n",
       "                __                             __                             \n",
       "-k_2+k_3}⋅A₁⋅A₃⋅A₂ + \\chi_{+k_1-k_3+k_3}⋅A₁⋅A₃⋅A₃ + \\chi_{+k_1}⋅A₁ + \\chi_{+k_\n",
       "\n",
       "             2 __                         2 __                             __ \n",
       "2+k_2-k_2}⋅A₂ ⋅A₂ + \\chi_{+k_2+k_2-k_3}⋅A₂ ⋅A₃ + \\chi_{+k_2+k_3-k_3}⋅A₂⋅A₃⋅A₃ \n",
       "\n",
       "                        2 __                             __                   \n",
       "+ \\chi_{+k_2-k_2+k_2}⋅A₂ ⋅A₂ + \\chi_{+k_2-k_2+k_3}⋅A₂⋅A₃⋅A₂ + \\chi_{+k_2-k_3+k\n",
       "\n",
       "          __                                          2 __                    \n",
       "_3}⋅A₂⋅A₃⋅A₃ + \\chi_{+k_2}⋅A₂ + \\chi_{+k_3+k_3-k_3}⋅A₃ ⋅A₃ + \\chi_{+k_3-k_3+k_\n",
       "\n",
       "     2 __                                          2 __                       \n",
       "3}⋅A₃ ⋅A₃ + \\chi_{+k_3}⋅A₃ + \\chi_{-k_1+k_1+k_1}⋅A₁ ⋅A₁ + \\chi_{-k_1+k_1+k_2}⋅\n",
       "\n",
       "      __                             __                         2 __          \n",
       "A₁⋅A₂⋅A₁ + \\chi_{-k_1+k_1+k_3}⋅A₁⋅A₃⋅A₁ + \\chi_{-k_1+k_2+k_2}⋅A₂ ⋅A₁ + \\chi_{-\n",
       "\n",
       "                   __                         2 __                         2 _\n",
       "k_1+k_2+k_3}⋅A₂⋅A₃⋅A₁ + \\chi_{-k_1+k_3+k_3}⋅A₃ ⋅A₁ + \\chi_{-k_2+k_2+k_2}⋅A₂ ⋅A\n",
       "\n",
       "_                             __                         2 __                 \n",
       "₂ + \\chi_{-k_2+k_2+k_3}⋅A₂⋅A₃⋅A₂ + \\chi_{-k_2+k_3+k_3}⋅A₃ ⋅A₂ + \\chi_{-k_3+k_3\n",
       "\n",
       "        2 __\n",
       "+k_3}⋅A₃ ⋅A₃"
      ]
     },
     "execution_count": 3,
     "metadata": {},
     "output_type": "execute_result"
    }
   ],
   "source": [
    "sigs = sum(signals_for_order(i, 3, filters=collinear) for i in [1,2,3])\n",
    "sigs"
   ]
  },
  {
   "cell_type": "code",
   "execution_count": 4,
   "metadata": {
    "ExecuteTime": {
     "end_time": "2017-05-12T14:56:19.367000",
     "start_time": "2017-05-12T14:56:19.045000"
    },
    "collapsed": false,
    "run_control": {
     "frozen": false,
     "read_only": false
    }
   },
   "outputs": [
    {
     "data": {
      "image/png": "[encoded data removed]",
      "text/latex": [
       "$$33$$"
      ],
      "text/plain": [
       "33"
      ]
     },
     "execution_count": 4,
     "metadata": {},
     "output_type": "execute_result"
    }
   ],
   "source": [
    "len(sigs.args)"
   ]
  },
  {
   "cell_type": "code",
   "execution_count": 5,
   "metadata": {
    "ExecuteTime": {
     "end_time": "2017-05-12T14:56:59.590000",
     "start_time": "2017-05-12T14:56:57.872000"
    },
    "collapsed": false,
    "run_control": {
     "frozen": false,
     "read_only": false
    }
   },
   "outputs": [
    {
     "name": "stdout",
     "output_type": "stream",
     "text": [
      "Total nb. terms:  1296\n",
      "Filtered: 207\n"
     ]
    }
   ],
   "source": [
    "detected = sigs+sum([e_field(i) for i in [1,2,3]])\n",
    "detected = sy.expand(sy.conjugate(detected)*detected)\n",
    "print(\"Total nb. terms: \", len(detected.args))\n",
    "detected = filter_terms(contains_filter(\"E_\"), detected)\n",
    "# by convention, drop all which contain complex conjuate of response\n",
    "#detected = filter_terms(lambda e: r\"conjugate(\\chi\" not in repr(e),\n",
    "#                        detected)\n",
    "print(\"Filtered:\", len(detected.args))"
   ]
  },
  {
   "cell_type": "markdown",
   "metadata": {
    "ExecuteTime": {
     "end_time": "2017-04-13T16:02:47.678000",
     "start_time": "2017-04-13T16:02:47.673000"
    }
   },
   "source": [
    "Yes, this expansion had 1296 terms. After neglecting terms where no exciting fields show up, we still have an untractable number of terms."
   ]
  },
  {
   "cell_type": "markdown",
   "metadata": {},
   "source": [
    "# 4x4x1 phase cycling"
   ]
  },
  {
   "cell_type": "code",
   "execution_count": 6,
   "metadata": {
    "ExecuteTime": {
     "end_time": "2017-05-12T14:57:45.878000",
     "start_time": "2017-05-12T14:57:45.415000"
    },
    "collapsed": false,
    "run_control": {
     "frozen": false,
     "read_only": false
    }
   },
   "outputs": [
    {
     "data": {
      "image/png": "[encoded data removed]",
      "text/latex": [
       "$$\\left [ \\left [ 0, \\quad 0, \\quad 0\\right ], \\quad \\left [ 0, \\quad \\frac{\\pi}{2}, \\quad 0\\right ], \\quad \\left [ 0, \\quad \\pi, \\quad 0\\right ], \\quad \\left [ 0, \\quad \\frac{3 \\pi}{2}, \\quad 0\\right ], \\quad \\left [ \\frac{\\pi}{2}, \\quad 0, \\quad 0\\right ], \\quad \\left [ \\frac{\\pi}{2}, \\quad \\frac{\\pi}{2}, \\quad 0\\right ], \\quad \\left [ \\frac{\\pi}{2}, \\quad \\pi, \\quad 0\\right ], \\quad \\left [ \\frac{\\pi}{2}, \\quad \\frac{3 \\pi}{2}, \\quad 0\\right ], \\quad \\left [ \\pi, \\quad 0, \\quad 0\\right ], \\quad \\left [ \\pi, \\quad \\frac{\\pi}{2}, \\quad 0\\right ], \\quad \\left [ \\pi, \\quad \\pi, \\quad 0\\right ], \\quad \\left [ \\pi, \\quad \\frac{3 \\pi}{2}, \\quad 0\\right ], \\quad \\left [ \\frac{3 \\pi}{2}, \\quad 0, \\quad 0\\right ], \\quad \\left [ \\frac{3 \\pi}{2}, \\quad \\frac{\\pi}{2}, \\quad 0\\right ], \\quad \\left [ \\frac{3 \\pi}{2}, \\quad \\pi, \\quad 0\\right ], \\quad \\left [ \\frac{3 \\pi}{2}, \\quad \\frac{3 \\pi}{2}, \\quad 0\\right ]\\right ]$$"
      ],
      "text/plain": [
       "⎡           ⎡   π   ⎤             ⎡   3⋅π   ⎤  ⎡π      ⎤  ⎡π  π   ⎤  ⎡π      ⎤\n",
       "⎢[0, 0, 0], ⎢0, ─, 0⎥, [0, π, 0], ⎢0, ───, 0⎥, ⎢─, 0, 0⎥, ⎢─, ─, 0⎥, ⎢─, π, 0⎥\n",
       "⎣           ⎣   2   ⎦             ⎣    2    ⎦  ⎣2      ⎦  ⎣2  2   ⎦  ⎣2      ⎦\n",
       "\n",
       "  ⎡π  3⋅π   ⎤             ⎡   π   ⎤             ⎡   3⋅π   ⎤  ⎡3⋅π      ⎤  ⎡3⋅π\n",
       ", ⎢─, ───, 0⎥, [π, 0, 0], ⎢π, ─, 0⎥, [π, π, 0], ⎢π, ───, 0⎥, ⎢───, 0, 0⎥, ⎢───\n",
       "  ⎣2   2    ⎦             ⎣   2   ⎦             ⎣    2    ⎦  ⎣ 2       ⎦  ⎣ 2 \n",
       "\n",
       "  π   ⎤  ⎡3⋅π      ⎤  ⎡3⋅π  3⋅π   ⎤⎤\n",
       ", ─, 0⎥, ⎢───, π, 0⎥, ⎢───, ───, 0⎥⎥\n",
       "  2   ⎦  ⎣ 2       ⎦  ⎣ 2    2    ⎦⎦"
      ]
     },
     "execution_count": 6,
     "metadata": {},
     "output_type": "execute_result"
    }
   ],
   "source": [
    "phases = []\n",
    "for i, j in product(range(4), range(4)):\n",
    "    phases.append([i*sy.pi/2, j*sy.pi/2, 0])\n",
    "phases"
   ]
  },
  {
   "cell_type": "code",
   "execution_count": 7,
   "metadata": {
    "ExecuteTime": {
     "end_time": "2017-05-12T14:59:18.689000",
     "start_time": "2017-05-12T14:59:13.600000"
    },
    "collapsed": false,
    "run_control": {
     "frozen": false,
     "read_only": false
    }
   },
   "outputs": [
    {
     "data": {
      "image/png": "[encoded data removed]",
      "text/latex": [
       "$$21$$"
      ],
      "text/plain": [
       "21"
      ]
     },
     "execution_count": 7,
     "metadata": {},
     "output_type": "execute_result"
    }
   ],
   "source": [
    "alpha_r = (1, -1, 1)\n",
    "w_r = weights(alpha_r, phases)\n",
    "cycled = phase_cycle(detected, phases, w_r)\n",
    "len(cycled.args) # we still have way too many elements to cope with"
   ]
  },
  {
   "cell_type": "code",
   "execution_count": 8,
   "metadata": {
    "ExecuteTime": {
     "end_time": "2017-05-12T14:59:28.527000",
     "start_time": "2017-05-12T14:59:28.176000"
    },
    "collapsed": false
   },
   "outputs": [
    {
     "data": {
      "image/png": "[encoded data removed]",
      "text/latex": [
       "$$\\left [ 1, \\quad i, \\quad -1, \\quad - i, \\quad - i, \\quad 1, \\quad i, \\quad -1, \\quad -1, \\quad - i, \\quad 1, \\quad i, \\quad i, \\quad -1, \\quad - i, \\quad 1\\right ]$$"
      ],
      "text/plain": [
       "[1, ⅈ, -1, -ⅈ, -ⅈ, 1, ⅈ, -1, -1, -ⅈ, 1, ⅈ, ⅈ, -1, -ⅈ, 1]"
      ]
     },
     "execution_count": 8,
     "metadata": {},
     "output_type": "execute_result"
    }
   ],
   "source": [
    "w_r"
   ]
  },
  {
   "cell_type": "code",
   "execution_count": 9,
   "metadata": {
    "ExecuteTime": {
     "end_time": "2017-05-12T15:00:11.104000",
     "start_time": "2017-05-12T15:00:10.763000"
    },
    "collapsed": false,
    "run_control": {
     "frozen": false,
     "read_only": false
    }
   },
   "outputs": [
    {
     "data": {
      "image/png": "[encoded data removed]",
      "text/latex": [
       "$$16 \\chi_{+k_1-k_1+k_2} \\overline{E_{1}} + 16 \\chi_{+k_2+k_2-k_2} \\overline{E_{1}} + 16 \\chi_{+k_2+k_3-k_3} \\overline{E_{1}} + 16 \\chi_{+k_2-k_2+k_2} \\overline{E_{1}} + 16 \\chi_{+k_2-k_3+k_3} \\overline{E_{1}} + 16 \\chi_{+k_2} \\overline{E_{1}} + 16 \\chi_{-k_1+k_1+k_2} \\overline{E_{1}} + 16 \\chi_{-k_1+k_2+k_2} \\overline{E_{2}} + 16 \\chi_{-k_1+k_2+k_3} \\overline{E_{3}} + 16 \\chi_{-k_2+k_2+k_2} \\overline{E_{1}} + 16 E_{1} \\overline{\\chi_{+k_1+k_1-k_2}} + 16 E_{2} \\overline{\\chi_{+k_1+k_1-k_1}} + 16 E_{2} \\overline{\\chi_{+k_1+k_2-k_2}} + 16 E_{2} \\overline{\\chi_{+k_1+k_3-k_3}} + 16 E_{2} \\overline{\\chi_{+k_1-k_1+k_1}} + 16 E_{2} \\overline{\\chi_{+k_1-k_2+k_2}} + 16 E_{2} \\overline{\\chi_{+k_1-k_3+k_3}} + 16 E_{2} \\overline{\\chi_{+k_1}} + 16 E_{2} \\overline{\\chi_{-k_1+k_1+k_1}} + 16 E_{2} \\overline{E_{1}} + 16 E_{3} \\overline{\\chi_{+k_1-k_2+k_3}}$$"
      ],
      "text/plain": [
       "                       __                          __                         \n",
       "16⋅\\chi_{+k_1-k_1+k_2}⋅E₁ + 16⋅\\chi_{+k_2+k_2-k_2}⋅E₁ + 16⋅\\chi_{+k_2+k_3-k_3}\n",
       "\n",
       " __                          __                          __                  _\n",
       "⋅E₁ + 16⋅\\chi_{+k_2-k_2+k_2}⋅E₁ + 16⋅\\chi_{+k_2-k_3+k_3}⋅E₁ + 16⋅\\chi_{+k_2}⋅E\n",
       "\n",
       "_                          __                          __                     \n",
       "₁ + 16⋅\\chi_{-k_1+k_1+k_2}⋅E₁ + 16⋅\\chi_{-k_1+k_2+k_2}⋅E₂ + 16⋅\\chi_{-k_1+k_2+\n",
       "\n",
       "     __                          __         ___________________         ______\n",
       "k_3}⋅E₃ + 16⋅\\chi_{-k_2+k_2+k_2}⋅E₁ + 16⋅E₁⋅\\chi_{+k_1+k_1-k_2} + 16⋅E₂⋅\\chi_{\n",
       "\n",
       "_____________         ___________________         ___________________         \n",
       "+k_1+k_1-k_1} + 16⋅E₂⋅\\chi_{+k_1+k_2-k_2} + 16⋅E₂⋅\\chi_{+k_1+k_3-k_3} + 16⋅E₂⋅\n",
       "\n",
       "___________________         ___________________         ___________________   \n",
       "\\chi_{+k_1-k_1+k_1} + 16⋅E₂⋅\\chi_{+k_1-k_2+k_2} + 16⋅E₂⋅\\chi_{+k_1-k_3+k_3} + \n",
       "\n",
       "      ___________         ___________________         __         _____________\n",
       "16⋅E₂⋅\\chi_{+k_1} + 16⋅E₂⋅\\chi_{-k_1+k_1+k_1} + 16⋅E₂⋅E₁ + 16⋅E₃⋅\\chi_{+k_1-k_\n",
       "\n",
       "______\n",
       "2+k_3}"
      ]
     },
     "execution_count": 9,
     "metadata": {},
     "output_type": "execute_result"
    }
   ],
   "source": [
    "cycled"
   ]
  },
  {
   "cell_type": "markdown",
   "metadata": {},
   "source": [
    "As you can see, we have 20 surviving signals and the $E_2\\overline{E_1}$ interferogram."
   ]
  },
  {
   "cell_type": "markdown",
   "metadata": {},
   "source": [
    "# 4x4x1 with chopping of third pulse"
   ]
  },
  {
   "cell_type": "markdown",
   "metadata": {},
   "source": [
    "Apply our previous phase cycling, expanding norms as $a_i$. We can see that our term of interest scales with $a_3$. We should be able to remove all the other contributions using chopping of the third pulse."
   ]
  },
  {
   "cell_type": "code",
   "execution_count": 10,
   "metadata": {
    "ExecuteTime": {
     "end_time": "2017-05-12T15:00:43.298000",
     "start_time": "2017-05-12T15:00:37.330000"
    },
    "collapsed": false,
    "run_control": {
     "frozen": false,
     "read_only": false
    }
   },
   "outputs": [
    {
     "data": {
      "image/png": "[encoded data removed]",
      "text/latex": [
       "$$16 \\chi_{+k_1-k_1+k_2} a_{1}^{3} a_{2} \\overline{E_{1}} + 16 \\chi_{+k_2+k_2-k_2} a_{1} a_{2}^{3} \\overline{E_{1}} + 16 \\chi_{+k_2+k_3-k_3} a_{1} a_{2} a_{3}^{2} \\overline{E_{1}} + 16 \\chi_{+k_2-k_2+k_2} a_{1} a_{2}^{3} \\overline{E_{1}} + 16 \\chi_{+k_2-k_3+k_3} a_{1} a_{2} a_{3}^{2} \\overline{E_{1}} + 16 \\chi_{+k_2} a_{1} a_{2} \\overline{E_{1}} + 16 \\chi_{-k_1+k_1+k_2} a_{1}^{3} a_{2} \\overline{E_{1}} + 16 \\chi_{-k_1+k_2+k_2} a_{1} a_{2}^{3} \\overline{E_{2}} + 16 \\chi_{-k_1+k_2+k_3} a_{1} a_{2} a_{3}^{2} \\overline{E_{3}} + 16 \\chi_{-k_2+k_2+k_2} a_{1} a_{2}^{3} \\overline{E_{1}} + 16 E_{1} a_{1}^{3} a_{2} \\overline{\\chi_{+k_1+k_1-k_2}} + 16 E_{2} a_{1}^{3} a_{2} \\overline{\\chi_{+k_1+k_1-k_1}} + 16 E_{2} a_{1}^{3} a_{2} \\overline{\\chi_{+k_1-k_1+k_1}} + 16 E_{2} a_{1}^{3} a_{2} \\overline{\\chi_{-k_1+k_1+k_1}} + 16 E_{2} a_{1} a_{2}^{3} \\overline{\\chi_{+k_1+k_2-k_2}} + 16 E_{2} a_{1} a_{2}^{3} \\overline{\\chi_{+k_1-k_2+k_2}} + 16 E_{2} a_{1} a_{2} a_{3}^{2} \\overline{\\chi_{+k_1+k_3-k_3}} + 16 E_{2} a_{1} a_{2} a_{3}^{2} \\overline{\\chi_{+k_1-k_3+k_3}} + 16 E_{2} a_{1} a_{2} \\overline{\\chi_{+k_1}} + 16 E_{2} a_{1} a_{2} \\overline{E_{1}} + 16 E_{3} a_{1} a_{2} a_{3}^{2} \\overline{\\chi_{+k_1-k_2+k_3}}$$"
      ],
      "text/plain": [
       "                         3    __                               3 __           \n",
       "16⋅\\chi_{+k_1-k_1+k_2}⋅a₁ ⋅a₂⋅E₁ + 16⋅\\chi_{+k_2+k_2-k_2}⋅a₁⋅a₂ ⋅E₁ + 16⋅\\chi_\n",
       "\n",
       "                       2 __                               3 __                \n",
       "{+k_2+k_3-k_3}⋅a₁⋅a₂⋅a₃ ⋅E₁ + 16⋅\\chi_{+k_2-k_2+k_2}⋅a₁⋅a₂ ⋅E₁ + 16⋅\\chi_{+k_2\n",
       "\n",
       "                  2 __                        __                            3 \n",
       "-k_3+k_3}⋅a₁⋅a₂⋅a₃ ⋅E₁ + 16⋅\\chi_{+k_2}⋅a₁⋅a₂⋅E₁ + 16⋅\\chi_{-k_1+k_1+k_2}⋅a₁ ⋅\n",
       "\n",
       "   __                               3 __                                  2 __\n",
       "a₂⋅E₁ + 16⋅\\chi_{-k_1+k_2+k_2}⋅a₁⋅a₂ ⋅E₂ + 16⋅\\chi_{-k_1+k_2+k_3}⋅a₁⋅a₂⋅a₃ ⋅E₃\n",
       "\n",
       "                               3 __           3    ___________________        \n",
       " + 16⋅\\chi_{-k_2+k_2+k_2}⋅a₁⋅a₂ ⋅E₁ + 16⋅E₁⋅a₁ ⋅a₂⋅\\chi_{+k_1+k_1-k_2} + 16⋅E₂\n",
       "\n",
       "   3    ___________________           3    ___________________           3    \n",
       "⋅a₁ ⋅a₂⋅\\chi_{+k_1+k_1-k_1} + 16⋅E₂⋅a₁ ⋅a₂⋅\\chi_{+k_1-k_1+k_1} + 16⋅E₂⋅a₁ ⋅a₂⋅\n",
       "\n",
       "___________________              3 ___________________              3 ________\n",
       "\\chi_{-k_1+k_1+k_1} + 16⋅E₂⋅a₁⋅a₂ ⋅\\chi_{+k_1+k_2-k_2} + 16⋅E₂⋅a₁⋅a₂ ⋅\\chi_{+k\n",
       "\n",
       "___________                 2 ___________________                 2 __________\n",
       "_1-k_2+k_2} + 16⋅E₂⋅a₁⋅a₂⋅a₃ ⋅\\chi_{+k_1+k_3-k_3} + 16⋅E₂⋅a₁⋅a₂⋅a₃ ⋅\\chi_{+k_1\n",
       "\n",
       "_________               ___________               __                 2 _______\n",
       "-k_3+k_3} + 16⋅E₂⋅a₁⋅a₂⋅\\chi_{+k_1} + 16⋅E₂⋅a₁⋅a₂⋅E₁ + 16⋅E₃⋅a₁⋅a₂⋅a₃ ⋅\\chi_{+\n",
       "\n",
       "____________\n",
       "k_1-k_2+k_3}"
      ]
     },
     "execution_count": 10,
     "metadata": {},
     "output_type": "execute_result"
    }
   ],
   "source": [
    "cycled = phase_cycle(detected, phases, w_r, expand_norms=True)\n",
    "cycled"
   ]
  },
  {
   "cell_type": "code",
   "execution_count": 11,
   "metadata": {
    "ExecuteTime": {
     "end_time": "2017-05-12T15:01:15.135000",
     "start_time": "2017-05-12T15:01:14.785000"
    },
    "collapsed": false,
    "run_control": {
     "frozen": false,
     "read_only": false
    }
   },
   "outputs": [
    {
     "data": {
      "image/png": "[encoded data removed]",
      "text/latex": [
       "$$16 \\chi_{+k_2+k_3-k_3} a_{1} a_{2} a_{3}^{2} \\overline{E_{1}} + 16 \\chi_{+k_2-k_3+k_3} a_{1} a_{2} a_{3}^{2} \\overline{E_{1}} + 16 \\chi_{-k_1+k_2+k_3} a_{1} a_{2} a_{3}^{2} \\overline{E_{3}} + 16 E_{2} a_{1} a_{2} a_{3}^{2} \\overline{\\chi_{+k_1+k_3-k_3}} + 16 E_{2} a_{1} a_{2} a_{3}^{2} \\overline{\\chi_{+k_1-k_3+k_3}} + 16 E_{3} a_{1} a_{2} a_{3}^{2} \\overline{\\chi_{+k_1-k_2+k_3}}$$"
      ],
      "text/plain": [
       "                               2 __                                  2 __     \n",
       "16⋅\\chi_{+k_2+k_3-k_3}⋅a₁⋅a₂⋅a₃ ⋅E₁ + 16⋅\\chi_{+k_2-k_3+k_3}⋅a₁⋅a₂⋅a₃ ⋅E₁ + 16\n",
       "\n",
       "                             2 __                 2 ___________________       \n",
       "⋅\\chi_{-k_1+k_2+k_3}⋅a₁⋅a₂⋅a₃ ⋅E₃ + 16⋅E₂⋅a₁⋅a₂⋅a₃ ⋅\\chi_{+k_1+k_3-k_3} + 16⋅E\n",
       "\n",
       "          2 ___________________                 2 ___________________\n",
       "₂⋅a₁⋅a₂⋅a₃ ⋅\\chi_{+k_1-k_3+k_3} + 16⋅E₃⋅a₁⋅a₂⋅a₃ ⋅\\chi_{+k_1-k_2+k_3}"
      ]
     },
     "execution_count": 11,
     "metadata": {},
     "output_type": "execute_result"
    }
   ],
   "source": [
    "filter_terms(contains_filter(\"a_3\"), cycled)"
   ]
  },
  {
   "cell_type": "markdown",
   "metadata": {},
   "source": [
    "## Fully absorptive - W8"
   ]
  },
  {
   "cell_type": "code",
   "execution_count": 12,
   "metadata": {
    "ExecuteTime": {
     "end_time": "2017-05-12T15:02:36.696000",
     "start_time": "2017-05-12T15:02:31.038000"
    },
    "collapsed": false,
    "run_control": {
     "frozen": false,
     "read_only": false
    }
   },
   "outputs": [
    {
     "data": {
      "image/png": "[encoded data removed]",
      "text/latex": [
       "$$16 \\chi_{+k_2+k_3-k_3} \\overline{E_{1}} + 16 \\chi_{+k_2-k_3+k_3} \\overline{E_{1}} + 16 \\chi_{-k_1+k_2+k_3} \\overline{E_{3}} + 16 E_{2} \\overline{\\chi_{+k_1+k_3-k_3}} + 16 E_{2} \\overline{\\chi_{+k_1-k_3+k_3}} + 16 E_{3} \\overline{\\chi_{+k_1-k_2+k_3}}$$"
      ],
      "text/plain": [
       "                       __                          __                         \n",
       "16⋅\\chi_{+k_2+k_3-k_3}⋅E₁ + 16⋅\\chi_{+k_2-k_3+k_3}⋅E₁ + 16⋅\\chi_{-k_1+k_2+k_3}\n",
       "\n",
       " __         ___________________         ___________________         __________\n",
       "⋅E₃ + 16⋅E₂⋅\\chi_{+k_1+k_3-k_3} + 16⋅E₂⋅\\chi_{+k_1-k_3+k_3} + 16⋅E₃⋅\\chi_{+k_1\n",
       "\n",
       "_________\n",
       "-k_2+k_3}"
      ]
     },
     "execution_count": 12,
     "metadata": {},
     "output_type": "execute_result"
    }
   ],
   "source": [
    "phases = []\n",
    "norms = []\n",
    "for i, j in product(range(4), range(4)):\n",
    "    for a in [1, 0]:\n",
    "        phases.append([i*sy.pi/2, j*sy.pi/2, 0]) # we will end up with duplicates\n",
    "        norms.append([1, 1, a])\n",
    "# interleave w_r, -w_r\n",
    "w_chop = []\n",
    "for w in w_r:\n",
    "    w_chop.append(w)\n",
    "    w_chop.append(-w)\n",
    "#w_chop = list(chain(*zip(w_r, [-1*w for w in w_r]))# in one line\n",
    "phase_cycle(detected, phases, w_chop, norms)"
   ]
  },
  {
   "cell_type": "markdown",
   "metadata": {},
   "source": [
    "This contains the rephasing and non-rephasing signals, as well as correlation spectra from pulse pairs. These can be separated using other techniques. This should be manageable, now that there are 6 of them."
   ]
  },
  {
   "cell_type": "markdown",
   "metadata": {},
   "source": [
    "### NR"
   ]
  },
  {
   "cell_type": "code",
   "execution_count": 40,
   "metadata": {
    "ExecuteTime": {
     "end_time": "2017-04-13T20:17:57.924000",
     "start_time": "2017-04-13T20:17:54.508000"
    },
    "collapsed": false,
    "run_control": {
     "frozen": false,
     "read_only": false
    }
   },
   "outputs": [
    {
     "data": {
      "image/png": "[encoded data removed]",
      "text/latex": [
       "$$4 i \\chi_{+k_1+k_1-k_1} \\overline{E_{2}} + 4 i \\chi_{+k_1+k_1-k_2} \\overline{E_{1}} + 8 \\chi_{+k_1+k_1-k_2} \\overline{E_{2}} + 4 \\chi_{+k_1+k_1-k_2} \\overline{E_{3}} + 4 \\chi_{+k_1+k_1-k_3} \\overline{E_{2}} + 4 i \\chi_{+k_1+k_2-k_2} \\overline{E_{2}} - 2 \\chi_{+k_1+k_2-k_3} \\overline{E_{3}} + 2 i \\chi_{+k_1+k_2-k_3} \\overline{E_{3}} + 2 \\chi_{+k_1+k_3-k_3} \\overline{E_{2}} + 2 i \\chi_{+k_1+k_3-k_3} \\overline{E_{2}} + 4 i \\chi_{+k_1-k_1+k_1} \\overline{E_{2}} + 4 i \\chi_{+k_1-k_1+k_2} \\overline{E_{1}} + 4 i \\chi_{+k_1-k_2+k_2} \\overline{E_{2}} + 4 \\chi_{+k_1-k_2+k_3} \\overline{E_{2}} + 2 \\chi_{+k_1-k_2+k_3} \\overline{E_{3}} + 2 i \\chi_{+k_1-k_2+k_3} \\overline{E_{3}} + 2 \\chi_{+k_1-k_3+k_3} \\overline{E_{2}} + 2 i \\chi_{+k_1-k_3+k_3} \\overline{E_{2}} + 4 i \\chi_{+k_1} \\overline{E_{2}} + 4 i \\chi_{+k_2+k_2-k_2} \\overline{E_{1}} - 4 i \\chi_{+k_2+k_2-k_3} \\overline{E_{1}} + 2 \\chi_{+k_2+k_3-k_3} \\overline{E_{1}} + 2 i \\chi_{+k_2+k_3-k_3} \\overline{E_{1}} + 4 i \\chi_{+k_2-k_2+k_2} \\overline{E_{1}} + 2 \\chi_{+k_2-k_3+k_3} \\overline{E_{1}} + 2 i \\chi_{+k_2-k_3+k_3} \\overline{E_{1}} + 4 i \\chi_{+k_2} \\overline{E_{1}} + 4 i \\chi_{-k_1+k_1+k_1} \\overline{E_{2}} + 4 i \\chi_{-k_1+k_1+k_2} \\overline{E_{1}} + 8 \\chi_{-k_1+k_2+k_2} \\overline{E_{1}} + 4 i \\chi_{-k_1+k_2+k_2} \\overline{E_{2}} - 4 i \\chi_{-k_1+k_2+k_2} \\overline{E_{3}} + 4 i \\chi_{-k_1+k_2+k_3} \\overline{E_{1}} + 2 \\chi_{-k_1+k_2+k_3} \\overline{E_{3}} + 2 i \\chi_{-k_1+k_2+k_3} \\overline{E_{3}} + 2 \\chi_{-k_1+k_3+k_3} \\overline{E_{2}} - 2 i \\chi_{-k_1+k_3+k_3} \\overline{E_{2}} + 4 i \\chi_{-k_2+k_2+k_2} \\overline{E_{1}} + 2 \\chi_{-k_2+k_3+k_3} \\overline{E_{1}} - 2 i \\chi_{-k_2+k_3+k_3} \\overline{E_{1}} + 4 i E_{1} \\overline{\\chi_{+k_1+k_1-k_2}} + 4 i E_{1} \\overline{\\chi_{+k_1-k_1+k_2}} + 4 i E_{1} \\overline{\\chi_{+k_2+k_2-k_2}} + 4 E_{1} \\overline{\\chi_{+k_2+k_2-k_3}} + 2 E_{1} \\overline{\\chi_{+k_2+k_3-k_3}} + 2 i E_{1} \\overline{\\chi_{+k_2+k_3-k_3}} + 4 i E_{1} \\overline{\\chi_{+k_2-k_2+k_2}} + 2 E_{1} \\overline{\\chi_{+k_2-k_3+k_3}} + 2 i E_{1} \\overline{\\chi_{+k_2-k_3+k_3}} + 4 i E_{1} \\overline{\\chi_{+k_2}} + 4 i E_{1} \\overline{\\chi_{-k_1+k_1+k_2}} + 8 E_{1} \\overline{\\chi_{-k_1+k_2+k_2}} + 4 E_{1} \\overline{\\chi_{-k_1+k_2+k_3}} + 4 i E_{1} \\overline{\\chi_{-k_2+k_2+k_2}} - 2 E_{1} \\overline{\\chi_{-k_2+k_3+k_3}} + 2 i E_{1} \\overline{\\chi_{-k_2+k_3+k_3}} + 4 i E_{1} \\overline{E_{2}} + 4 i E_{2} \\overline{\\chi_{+k_1+k_1-k_1}} + 8 E_{2} \\overline{\\chi_{+k_1+k_1-k_2}} + 4 i E_{2} \\overline{\\chi_{+k_1+k_1-k_3}} + 4 i E_{2} \\overline{\\chi_{+k_1+k_2-k_2}} + 2 E_{2} \\overline{\\chi_{+k_1+k_3-k_3}} + 2 i E_{2} \\overline{\\chi_{+k_1+k_3-k_3}} + 4 i E_{2} \\overline{\\chi_{+k_1-k_1+k_1}} + 4 i E_{2} \\overline{\\chi_{+k_1-k_2+k_2}} - 4 i E_{2} \\overline{\\chi_{+k_1-k_2+k_3}} + 2 E_{2} \\overline{\\chi_{+k_1-k_3+k_3}} + 2 i E_{2} \\overline{\\chi_{+k_1-k_3+k_3}} + 4 i E_{2} \\overline{\\chi_{+k_1}} + 4 i E_{2} \\overline{\\chi_{-k_1+k_1+k_1}} + 4 i E_{2} \\overline{\\chi_{-k_1+k_2+k_2}} - 2 E_{2} \\overline{\\chi_{-k_1+k_3+k_3}} + 2 i E_{2} \\overline{\\chi_{-k_1+k_3+k_3}} + 4 i E_{2} \\overline{E_{1}} + 4 i E_{3} \\overline{\\chi_{+k_1+k_1-k_2}} + 2 E_{3} \\overline{\\chi_{+k_1+k_2-k_3}} - 2 i E_{3} \\overline{\\chi_{+k_1+k_2-k_3}} + 2 E_{3} \\overline{\\chi_{+k_1-k_2+k_3}} + 2 i E_{3} \\overline{\\chi_{+k_1-k_2+k_3}} + 4 E_{3} \\overline{\\chi_{-k_1+k_2+k_2}} + 2 E_{3} \\overline{\\chi_{-k_1+k_2+k_3}} + 2 i E_{3} \\overline{\\chi_{-k_1+k_2+k_3}}$$"
      ],
      "text/plain": [
       "                        __                           __                       \n",
       "4⋅ⅈ⋅\\chi_{+k_1+k_1-k_1}⋅E₂ + 4⋅ⅈ⋅\\chi_{+k_1+k_1-k_2}⋅E₁ + 8⋅\\chi_{+k_1+k_1-k_2\n",
       "\n",
       "  __                         __                         __                    \n",
       "}⋅E₂ + 4⋅\\chi_{+k_1+k_1-k_2}⋅E₃ + 4⋅\\chi_{+k_1+k_1-k_3}⋅E₂ + 4⋅ⅈ⋅\\chi_{+k_1+k_\n",
       "\n",
       "       __                         __                           __             \n",
       "2-k_2}⋅E₂ - 2⋅\\chi_{+k_1+k_2-k_3}⋅E₃ + 2⋅ⅈ⋅\\chi_{+k_1+k_2-k_3}⋅E₃ + 2⋅\\chi_{+k\n",
       "\n",
       "            __                           __                           __      \n",
       "_1+k_3-k_3}⋅E₂ + 2⋅ⅈ⋅\\chi_{+k_1+k_3-k_3}⋅E₂ + 4⋅ⅈ⋅\\chi_{+k_1-k_1+k_1}⋅E₂ + 4⋅ⅈ\n",
       "\n",
       "                     __                           __                         _\n",
       "⋅\\chi_{+k_1-k_1+k_2}⋅E₁ + 4⋅ⅈ⋅\\chi_{+k_1-k_2+k_2}⋅E₂ + 4⋅\\chi_{+k_1-k_2+k_3}⋅E\n",
       "\n",
       "_                         __                           __                     \n",
       "₂ + 2⋅\\chi_{+k_1-k_2+k_3}⋅E₃ + 2⋅ⅈ⋅\\chi_{+k_1-k_2+k_3}⋅E₃ + 2⋅\\chi_{+k_1-k_3+k\n",
       "\n",
       "    __                           __                   __                      \n",
       "_3}⋅E₂ + 2⋅ⅈ⋅\\chi_{+k_1-k_3+k_3}⋅E₂ + 4⋅ⅈ⋅\\chi_{+k_1}⋅E₂ + 4⋅ⅈ⋅\\chi_{+k_2+k_2-\n",
       "\n",
       "     __                           __                         __               \n",
       "k_2}⋅E₁ - 4⋅ⅈ⋅\\chi_{+k_2+k_2-k_3}⋅E₁ + 2⋅\\chi_{+k_2+k_3-k_3}⋅E₁ + 2⋅ⅈ⋅\\chi_{+k\n",
       "\n",
       "            __                           __                         __        \n",
       "_2+k_3-k_3}⋅E₁ + 4⋅ⅈ⋅\\chi_{+k_2-k_2+k_2}⋅E₁ + 2⋅\\chi_{+k_2-k_3+k_3}⋅E₁ + 2⋅ⅈ⋅\\\n",
       "\n",
       "                   __                   __                           __       \n",
       "chi_{+k_2-k_3+k_3}⋅E₁ + 4⋅ⅈ⋅\\chi_{+k_2}⋅E₁ + 4⋅ⅈ⋅\\chi_{-k_1+k_1+k_1}⋅E₂ + 4⋅ⅈ⋅\n",
       "\n",
       "                    __                         __                           __\n",
       "\\chi_{-k_1+k_1+k_2}⋅E₁ + 8⋅\\chi_{-k_1+k_2+k_2}⋅E₁ + 4⋅ⅈ⋅\\chi_{-k_1+k_2+k_2}⋅E₂\n",
       "\n",
       "                           __                           __                    \n",
       " - 4⋅ⅈ⋅\\chi_{-k_1+k_2+k_2}⋅E₃ + 4⋅ⅈ⋅\\chi_{-k_1+k_2+k_3}⋅E₁ + 2⋅\\chi_{-k_1+k_2+\n",
       "\n",
       "     __                           __                         __               \n",
       "k_3}⋅E₃ + 2⋅ⅈ⋅\\chi_{-k_1+k_2+k_3}⋅E₃ + 2⋅\\chi_{-k_1+k_3+k_3}⋅E₂ - 2⋅ⅈ⋅\\chi_{-k\n",
       "\n",
       "            __                           __                         __        \n",
       "_1+k_3+k_3}⋅E₂ + 4⋅ⅈ⋅\\chi_{-k_2+k_2+k_2}⋅E₁ + 2⋅\\chi_{-k_2+k_3+k_3}⋅E₁ - 2⋅ⅈ⋅\\\n",
       "\n",
       "                   __          ___________________          __________________\n",
       "chi_{-k_2+k_3+k_3}⋅E₁ + 4⋅ⅈ⋅E₁⋅\\chi_{+k_1+k_1-k_2} + 4⋅ⅈ⋅E₁⋅\\chi_{+k_1-k_1+k_2\n",
       "\n",
       "_          ___________________        ___________________        _____________\n",
       "} + 4⋅ⅈ⋅E₁⋅\\chi_{+k_2+k_2-k_2} + 4⋅E₁⋅\\chi_{+k_2+k_2-k_3} + 2⋅E₁⋅\\chi_{+k_2+k_\n",
       "\n",
       "______          ___________________          ___________________        ______\n",
       "3-k_3} + 2⋅ⅈ⋅E₁⋅\\chi_{+k_2+k_3-k_3} + 4⋅ⅈ⋅E₁⋅\\chi_{+k_2-k_2+k_2} + 2⋅E₁⋅\\chi_{\n",
       "\n",
       "_____________          ___________________          ___________          _____\n",
       "+k_2-k_3+k_3} + 2⋅ⅈ⋅E₁⋅\\chi_{+k_2-k_3+k_3} + 4⋅ⅈ⋅E₁⋅\\chi_{+k_2} + 4⋅ⅈ⋅E₁⋅\\chi_\n",
       "\n",
       "______________        ___________________        ___________________          \n",
       "{-k_1+k_1+k_2} + 8⋅E₁⋅\\chi_{-k_1+k_2+k_2} + 4⋅E₁⋅\\chi_{-k_1+k_2+k_3} + 4⋅ⅈ⋅E₁⋅\n",
       "\n",
       "___________________        ___________________          ___________________   \n",
       "\\chi_{-k_2+k_2+k_2} - 2⋅E₁⋅\\chi_{-k_2+k_3+k_3} + 2⋅ⅈ⋅E₁⋅\\chi_{-k_2+k_3+k_3} + \n",
       "\n",
       "       __          ___________________        ___________________          ___\n",
       "4⋅ⅈ⋅E₁⋅E₂ + 4⋅ⅈ⋅E₂⋅\\chi_{+k_1+k_1-k_1} + 8⋅E₂⋅\\chi_{+k_1+k_1-k_2} + 4⋅ⅈ⋅E₂⋅\\ch\n",
       "\n",
       "________________          ___________________        ___________________      \n",
       "i_{+k_1+k_1-k_3} + 4⋅ⅈ⋅E₂⋅\\chi_{+k_1+k_2-k_2} + 2⋅E₂⋅\\chi_{+k_1+k_3-k_3} + 2⋅ⅈ\n",
       "\n",
       "    ___________________          ___________________          ________________\n",
       "⋅E₂⋅\\chi_{+k_1+k_3-k_3} + 4⋅ⅈ⋅E₂⋅\\chi_{+k_1-k_1+k_1} + 4⋅ⅈ⋅E₂⋅\\chi_{+k_1-k_2+k\n",
       "\n",
       "___          ___________________        ___________________          _________\n",
       "_2} - 4⋅ⅈ⋅E₂⋅\\chi_{+k_1-k_2+k_3} + 2⋅E₂⋅\\chi_{+k_1-k_3+k_3} + 2⋅ⅈ⋅E₂⋅\\chi_{+k_\n",
       "\n",
       "__________          ___________          ___________________          ________\n",
       "1-k_3+k_3} + 4⋅ⅈ⋅E₂⋅\\chi_{+k_1} + 4⋅ⅈ⋅E₂⋅\\chi_{-k_1+k_1+k_1} + 4⋅ⅈ⋅E₂⋅\\chi_{-k\n",
       "\n",
       "___________        ___________________          ___________________          _\n",
       "_1+k_2+k_2} - 2⋅E₂⋅\\chi_{-k_1+k_3+k_3} + 2⋅ⅈ⋅E₂⋅\\chi_{-k_1+k_3+k_3} + 4⋅ⅈ⋅E₂⋅E\n",
       "\n",
       "_          ___________________        ___________________          ___________\n",
       "₁ + 4⋅ⅈ⋅E₃⋅\\chi_{+k_1+k_1-k_2} + 2⋅E₃⋅\\chi_{+k_1+k_2-k_3} - 2⋅ⅈ⋅E₃⋅\\chi_{+k_1+\n",
       "\n",
       "________        ___________________          ___________________        ______\n",
       "k_2-k_3} + 2⋅E₃⋅\\chi_{+k_1-k_2+k_3} + 2⋅ⅈ⋅E₃⋅\\chi_{+k_1-k_2+k_3} + 4⋅E₃⋅\\chi_{\n",
       "\n",
       "_____________        ___________________          ___________________\n",
       "-k_1+k_2+k_2} + 2⋅E₃⋅\\chi_{-k_1+k_2+k_3} + 2⋅ⅈ⋅E₃⋅\\chi_{-k_1+k_2+k_3}"
      ]
     },
     "execution_count": 40,
     "metadata": {},
     "output_type": "execute_result"
    }
   ],
   "source": [
    "alpha_nr = (1, -1, 1)\n",
    "phases = []\n",
    "for i, j in product(range(4), range(4)):\n",
    "    phases.append([i*sy.pi/2, j*sy.pi/2, 0])\n",
    "w_nr = weights(alpha_nr, phases)\n",
    "\n",
    "phases = []\n",
    "norms = []\n",
    "for i, j in product(range(4), range(4)):\n",
    "    for a in [1, 0]:\n",
    "        phases.append([i*sy.pi/2, j*sy.pi/2, 0]) # we will end up with duplicates\n",
    "        norms.append([1, 1, a])\n",
    "# interleave w_r, -w_r\n",
    "w_chop = []\n",
    "for w in w_nr:\n",
    "    w_chop.append(w)\n",
    "    w_chop.append(-w)\n",
    "\n",
    "cycled = phase_cycle(detected, phases, w_nr, norms)\n"
   ]
  },
  {
   "cell_type": "code",
   "execution_count": 44,
   "metadata": {
    "ExecuteTime": {
     "end_time": "2017-04-13T20:27:08.830000",
     "start_time": "2017-04-13T20:27:08.160000"
    },
    "collapsed": false,
    "run_control": {
     "frozen": false,
     "read_only": false
    }
   },
   "outputs": [
    {
     "data": {
      "image/png": "[encoded data removed]",
      "text/latex": [
       "$$8 i \\Re{\\chi_{+k_1+k_1-k_1}} \\Re{E_{2}} + 8 i \\Re{\\chi_{+k_1+k_1-k_2}} \\Re{E_{1}} + 16 \\Re{\\chi_{+k_1+k_1-k_2}} \\Re{E_{2}} + 4 \\Re{\\chi_{+k_1+k_1-k_2}} \\Re{E_{3}} + 4 i \\Re{\\chi_{+k_1+k_1-k_2}} \\Re{E_{3}} - 4 \\Re{\\chi_{+k_1+k_1-k_2}} \\Im{E_{3}} - 4 i \\Re{\\chi_{+k_1+k_1-k_2}} \\Im{E_{3}} + 4 \\Re{\\chi_{+k_1+k_1-k_3}} \\Re{E_{2}} + 4 i \\Re{\\chi_{+k_1+k_1-k_3}} \\Re{E_{2}} - 4 \\Re{\\chi_{+k_1+k_1-k_3}} \\Im{E_{2}} - 4 i \\Re{\\chi_{+k_1+k_1-k_3}} \\Im{E_{2}} + 8 i \\Re{\\chi_{+k_1+k_2-k_2}} \\Re{E_{2}} + 4 \\Re{\\chi_{+k_1+k_2-k_3}} \\Im{E_{3}} + 4 i \\Re{\\chi_{+k_1+k_2-k_3}} \\Im{E_{3}} + 4 \\Re{\\chi_{+k_1+k_3-k_3}} \\Re{E_{2}} + 4 i \\Re{\\chi_{+k_1+k_3-k_3}} \\Re{E_{2}} + 8 i \\Re{\\chi_{+k_1-k_1+k_1}} \\Re{E_{2}} + 8 i \\Re{\\chi_{+k_1-k_1+k_2}} \\Re{E_{1}} + 8 i \\Re{\\chi_{+k_1-k_2+k_2}} \\Re{E_{2}} + 4 \\Re{\\chi_{+k_1-k_2+k_3}} \\Re{E_{2}} - 4 i \\Re{\\chi_{+k_1-k_2+k_3}} \\Re{E_{2}} + 4 \\Re{\\chi_{+k_1-k_2+k_3}} \\Re{E_{3}} + 4 i \\Re{\\chi_{+k_1-k_2+k_3}} \\Re{E_{3}} + 4 \\Re{\\chi_{+k_1-k_2+k_3}} \\Im{E_{2}} - 4 i \\Re{\\chi_{+k_1-k_2+k_3}} \\Im{E_{2}} + 4 \\Re{\\chi_{+k_1-k_3+k_3}} \\Re{E_{2}} + 4 i \\Re{\\chi_{+k_1-k_3+k_3}} \\Re{E_{2}} + 8 i \\Re{\\chi_{+k_1}} \\Re{E_{2}} + 8 i \\Re{\\chi_{+k_2+k_2-k_2}} \\Re{E_{1}} + 4 \\Re{\\chi_{+k_2+k_2-k_3}} \\Re{E_{1}} - 4 i \\Re{\\chi_{+k_2+k_2-k_3}} \\Re{E_{1}} - 4 \\Re{\\chi_{+k_2+k_2-k_3}} \\Im{E_{1}} + 4 i \\Re{\\chi_{+k_2+k_2-k_3}} \\Im{E_{1}} + 4 \\Re{\\chi_{+k_2+k_3-k_3}} \\Re{E_{1}} + 4 i \\Re{\\chi_{+k_2+k_3-k_3}} \\Re{E_{1}} + 8 i \\Re{\\chi_{+k_2-k_2+k_2}} \\Re{E_{1}} + 4 \\Re{\\chi_{+k_2-k_3+k_3}} \\Re{E_{1}} + 4 i \\Re{\\chi_{+k_2-k_3+k_3}} \\Re{E_{1}} + 8 i \\Re{\\chi_{+k_2}} \\Re{E_{1}} + 8 i \\Re{\\chi_{-k_1+k_1+k_1}} \\Re{E_{2}} + 8 i \\Re{\\chi_{-k_1+k_1+k_2}} \\Re{E_{1}} + 16 \\Re{\\chi_{-k_1+k_2+k_2}} \\Re{E_{1}} + 8 i \\Re{\\chi_{-k_1+k_2+k_2}} \\Re{E_{2}} + 4 \\Re{\\chi_{-k_1+k_2+k_2}} \\Re{E_{3}} - 4 i \\Re{\\chi_{-k_1+k_2+k_2}} \\Re{E_{3}} - 4 \\Re{\\chi_{-k_1+k_2+k_2}} \\Im{E_{3}} + 4 i \\Re{\\chi_{-k_1+k_2+k_2}} \\Im{E_{3}} + 4 \\Re{\\chi_{-k_1+k_2+k_3}} \\Re{E_{1}} + 4 i \\Re{\\chi_{-k_1+k_2+k_3}} \\Re{E_{1}} + 4 \\Re{\\chi_{-k_1+k_2+k_3}} \\Re{E_{3}} + 4 i \\Re{\\chi_{-k_1+k_2+k_3}} \\Re{E_{3}} + 4 \\Re{\\chi_{-k_1+k_2+k_3}} \\Im{E_{1}} + 4 i \\Re{\\chi_{-k_1+k_2+k_3}} \\Im{E_{1}} - 4 \\Re{\\chi_{-k_1+k_3+k_3}} \\Im{E_{2}} - 4 i \\Re{\\chi_{-k_1+k_3+k_3}} \\Im{E_{2}} + 8 i \\Re{\\chi_{-k_2+k_2+k_2}} \\Re{E_{1}} - 4 \\Re{\\chi_{-k_2+k_3+k_3}} \\Im{E_{1}} - 4 i \\Re{\\chi_{-k_2+k_3+k_3}} \\Im{E_{1}} + 8 i \\Re{E_{1}} \\Re{E_{2}} + 4 \\Re{E_{1}} \\Im{\\chi_{+k_2+k_2-k_3}} - 4 i \\Re{E_{1}} \\Im{\\chi_{+k_2+k_2-k_3}} - 4 \\Re{E_{1}} \\Im{\\chi_{-k_1+k_2+k_3}} - 4 i \\Re{E_{1}} \\Im{\\chi_{-k_1+k_2+k_3}} + 4 \\Re{E_{1}} \\Im{\\chi_{-k_2+k_3+k_3}} + 4 i \\Re{E_{1}} \\Im{\\chi_{-k_2+k_3+k_3}} + 4 \\Re{E_{2}} \\Im{\\chi_{+k_1+k_1-k_3}} + 4 i \\Re{E_{2}} \\Im{\\chi_{+k_1+k_1-k_3}} - 4 \\Re{E_{2}} \\Im{\\chi_{+k_1-k_2+k_3}} + 4 i \\Re{E_{2}} \\Im{\\chi_{+k_1-k_2+k_3}} + 4 \\Re{E_{2}} \\Im{\\chi_{-k_1+k_3+k_3}} + 4 i \\Re{E_{2}} \\Im{\\chi_{-k_1+k_3+k_3}} + 4 \\Re{E_{3}} \\Im{\\chi_{+k_1+k_1-k_2}} + 4 i \\Re{E_{3}} \\Im{\\chi_{+k_1+k_1-k_2}} - 4 \\Re{E_{3}} \\Im{\\chi_{+k_1+k_2-k_3}} - 4 i \\Re{E_{3}} \\Im{\\chi_{+k_1+k_2-k_3}} + 4 \\Re{E_{3}} \\Im{\\chi_{-k_1+k_2+k_2}} - 4 i \\Re{E_{3}} \\Im{\\chi_{-k_1+k_2+k_2}} + 8 i \\Im{\\chi_{+k_1+k_1-k_1}} \\Im{E_{2}} + 8 i \\Im{\\chi_{+k_1+k_1-k_2}} \\Im{E_{1}} + 16 \\Im{\\chi_{+k_1+k_1-k_2}} \\Im{E_{2}} + 4 \\Im{\\chi_{+k_1+k_1-k_2}} \\Im{E_{3}} + 4 i \\Im{\\chi_{+k_1+k_1-k_2}} \\Im{E_{3}} + 4 \\Im{\\chi_{+k_1+k_1-k_3}} \\Im{E_{2}} + 4 i \\Im{\\chi_{+k_1+k_1-k_3}} \\Im{E_{2}} + 8 i \\Im{\\chi_{+k_1+k_2-k_2}} \\Im{E_{2}} + 4 \\Im{\\chi_{+k_1+k_3-k_3}} \\Im{E_{2}} + 4 i \\Im{\\chi_{+k_1+k_3-k_3}} \\Im{E_{2}} + 8 i \\Im{\\chi_{+k_1-k_1+k_1}} \\Im{E_{2}} + 8 i \\Im{\\chi_{+k_1-k_1+k_2}} \\Im{E_{1}} + 8 i \\Im{\\chi_{+k_1-k_2+k_2}} \\Im{E_{2}} + 4 \\Im{\\chi_{+k_1-k_2+k_3}} \\Im{E_{2}} - 4 i \\Im{\\chi_{+k_1-k_2+k_3}} \\Im{E_{2}} + 4 \\Im{\\chi_{+k_1-k_2+k_3}} \\Im{E_{3}} + 4 i \\Im{\\chi_{+k_1-k_2+k_3}} \\Im{E_{3}} + 4 \\Im{\\chi_{+k_1-k_3+k_3}} \\Im{E_{2}} + 4 i \\Im{\\chi_{+k_1-k_3+k_3}} \\Im{E_{2}} + 8 i \\Im{\\chi_{+k_1}} \\Im{E_{2}} + 8 i \\Im{\\chi_{+k_2+k_2-k_2}} \\Im{E_{1}} + 4 \\Im{\\chi_{+k_2+k_2-k_3}} \\Im{E_{1}} - 4 i \\Im{\\chi_{+k_2+k_2-k_3}} \\Im{E_{1}} + 4 \\Im{\\chi_{+k_2+k_3-k_3}} \\Im{E_{1}} + 4 i \\Im{\\chi_{+k_2+k_3-k_3}} \\Im{E_{1}} + 8 i \\Im{\\chi_{+k_2-k_2+k_2}} \\Im{E_{1}} + 4 \\Im{\\chi_{+k_2-k_3+k_3}} \\Im{E_{1}} + 4 i \\Im{\\chi_{+k_2-k_3+k_3}} \\Im{E_{1}} + 8 i \\Im{\\chi_{+k_2}} \\Im{E_{1}} + 8 i \\Im{\\chi_{-k_1+k_1+k_1}} \\Im{E_{2}} + 8 i \\Im{\\chi_{-k_1+k_1+k_2}} \\Im{E_{1}} + 16 \\Im{\\chi_{-k_1+k_2+k_2}} \\Im{E_{1}} + 8 i \\Im{\\chi_{-k_1+k_2+k_2}} \\Im{E_{2}} + 4 \\Im{\\chi_{-k_1+k_2+k_2}} \\Im{E_{3}} - 4 i \\Im{\\chi_{-k_1+k_2+k_2}} \\Im{E_{3}} + 4 \\Im{\\chi_{-k_1+k_2+k_3}} \\Im{E_{1}} + 4 i \\Im{\\chi_{-k_1+k_2+k_3}} \\Im{E_{1}} + 4 \\Im{\\chi_{-k_1+k_2+k_3}} \\Im{E_{3}} + 4 i \\Im{\\chi_{-k_1+k_2+k_3}} \\Im{E_{3}} + 8 i \\Im{\\chi_{-k_2+k_2+k_2}} \\Im{E_{1}} + 8 i \\Im{E_{1}} \\Im{E_{2}}$$"
      ],
      "text/plain": [
       "8⋅ⅈ⋅re(\\chi_{+k_1+k_1-k_1})⋅re(E₂) + 8⋅ⅈ⋅re(\\chi_{+k_1+k_1-k_2})⋅re(E₁) + 16⋅r\n",
       "e(\\chi_{+k_1+k_1-k_2})⋅re(E₂) + 4⋅re(\\chi_{+k_1+k_1-k_2})⋅re(E₃) + 4⋅ⅈ⋅re(\\chi\n",
       "_{+k_1+k_1-k_2})⋅re(E₃) - 4⋅re(\\chi_{+k_1+k_1-k_2})⋅im(E₃) - 4⋅ⅈ⋅re(\\chi_{+k_1\n",
       "+k_1-k_2})⋅im(E₃) + 4⋅re(\\chi_{+k_1+k_1-k_3})⋅re(E₂) + 4⋅ⅈ⋅re(\\chi_{+k_1+k_1-k\n",
       "_3})⋅re(E₂) - 4⋅re(\\chi_{+k_1+k_1-k_3})⋅im(E₂) - 4⋅ⅈ⋅re(\\chi_{+k_1+k_1-k_3})⋅i\n",
       "m(E₂) + 8⋅ⅈ⋅re(\\chi_{+k_1+k_2-k_2})⋅re(E₂) + 4⋅re(\\chi_{+k_1+k_2-k_3})⋅im(E₃) \n",
       "+ 4⋅ⅈ⋅re(\\chi_{+k_1+k_2-k_3})⋅im(E₃) + 4⋅re(\\chi_{+k_1+k_3-k_3})⋅re(E₂) + 4⋅ⅈ⋅\n",
       "re(\\chi_{+k_1+k_3-k_3})⋅re(E₂) + 8⋅ⅈ⋅re(\\chi_{+k_1-k_1+k_1})⋅re(E₂) + 8⋅ⅈ⋅re(\\\n",
       "chi_{+k_1-k_1+k_2})⋅re(E₁) + 8⋅ⅈ⋅re(\\chi_{+k_1-k_2+k_2})⋅re(E₂) + 4⋅re(\\chi_{+\n",
       "k_1-k_2+k_3})⋅re(E₂) - 4⋅ⅈ⋅re(\\chi_{+k_1-k_2+k_3})⋅re(E₂) + 4⋅re(\\chi_{+k_1-k_\n",
       "2+k_3})⋅re(E₃) + 4⋅ⅈ⋅re(\\chi_{+k_1-k_2+k_3})⋅re(E₃) + 4⋅re(\\chi_{+k_1-k_2+k_3}\n",
       ")⋅im(E₂) - 4⋅ⅈ⋅re(\\chi_{+k_1-k_2+k_3})⋅im(E₂) + 4⋅re(\\chi_{+k_1-k_3+k_3})⋅re(E\n",
       "₂) + 4⋅ⅈ⋅re(\\chi_{+k_1-k_3+k_3})⋅re(E₂) + 8⋅ⅈ⋅re(\\chi_{+k_1})⋅re(E₂) + 8⋅ⅈ⋅re(\n",
       "\\chi_{+k_2+k_2-k_2})⋅re(E₁) + 4⋅re(\\chi_{+k_2+k_2-k_3})⋅re(E₁) - 4⋅ⅈ⋅re(\\chi_{\n",
       "+k_2+k_2-k_3})⋅re(E₁) - 4⋅re(\\chi_{+k_2+k_2-k_3})⋅im(E₁) + 4⋅ⅈ⋅re(\\chi_{+k_2+k\n",
       "_2-k_3})⋅im(E₁) + 4⋅re(\\chi_{+k_2+k_3-k_3})⋅re(E₁) + 4⋅ⅈ⋅re(\\chi_{+k_2+k_3-k_3\n",
       "})⋅re(E₁) + 8⋅ⅈ⋅re(\\chi_{+k_2-k_2+k_2})⋅re(E₁) + 4⋅re(\\chi_{+k_2-k_3+k_3})⋅re(\n",
       "E₁) + 4⋅ⅈ⋅re(\\chi_{+k_2-k_3+k_3})⋅re(E₁) + 8⋅ⅈ⋅re(\\chi_{+k_2})⋅re(E₁) + 8⋅ⅈ⋅re\n",
       "(\\chi_{-k_1+k_1+k_1})⋅re(E₂) + 8⋅ⅈ⋅re(\\chi_{-k_1+k_1+k_2})⋅re(E₁) + 16⋅re(\\chi\n",
       "_{-k_1+k_2+k_2})⋅re(E₁) + 8⋅ⅈ⋅re(\\chi_{-k_1+k_2+k_2})⋅re(E₂) + 4⋅re(\\chi_{-k_1\n",
       "+k_2+k_2})⋅re(E₃) - 4⋅ⅈ⋅re(\\chi_{-k_1+k_2+k_2})⋅re(E₃) - 4⋅re(\\chi_{-k_1+k_2+k\n",
       "_2})⋅im(E₃) + 4⋅ⅈ⋅re(\\chi_{-k_1+k_2+k_2})⋅im(E₃) + 4⋅re(\\chi_{-k_1+k_2+k_3})⋅r\n",
       "e(E₁) + 4⋅ⅈ⋅re(\\chi_{-k_1+k_2+k_3})⋅re(E₁) + 4⋅re(\\chi_{-k_1+k_2+k_3})⋅re(E₃) \n",
       "+ 4⋅ⅈ⋅re(\\chi_{-k_1+k_2+k_3})⋅re(E₃) + 4⋅re(\\chi_{-k_1+k_2+k_3})⋅im(E₁) + 4⋅ⅈ⋅\n",
       "re(\\chi_{-k_1+k_2+k_3})⋅im(E₁) - 4⋅re(\\chi_{-k_1+k_3+k_3})⋅im(E₂) - 4⋅ⅈ⋅re(\\ch\n",
       "i_{-k_1+k_3+k_3})⋅im(E₂) + 8⋅ⅈ⋅re(\\chi_{-k_2+k_2+k_2})⋅re(E₁) - 4⋅re(\\chi_{-k_\n",
       "2+k_3+k_3})⋅im(E₁) - 4⋅ⅈ⋅re(\\chi_{-k_2+k_3+k_3})⋅im(E₁) + 8⋅ⅈ⋅re(E₁)⋅re(E₂) + \n",
       "4⋅re(E₁)⋅im(\\chi_{+k_2+k_2-k_3}) - 4⋅ⅈ⋅re(E₁)⋅im(\\chi_{+k_2+k_2-k_3}) - 4⋅re(E\n",
       "₁)⋅im(\\chi_{-k_1+k_2+k_3}) - 4⋅ⅈ⋅re(E₁)⋅im(\\chi_{-k_1+k_2+k_3}) + 4⋅re(E₁)⋅im(\n",
       "\\chi_{-k_2+k_3+k_3}) + 4⋅ⅈ⋅re(E₁)⋅im(\\chi_{-k_2+k_3+k_3}) + 4⋅re(E₂)⋅im(\\chi_{\n",
       "+k_1+k_1-k_3}) + 4⋅ⅈ⋅re(E₂)⋅im(\\chi_{+k_1+k_1-k_3}) - 4⋅re(E₂)⋅im(\\chi_{+k_1-k\n",
       "_2+k_3}) + 4⋅ⅈ⋅re(E₂)⋅im(\\chi_{+k_1-k_2+k_3}) + 4⋅re(E₂)⋅im(\\chi_{-k_1+k_3+k_3\n",
       "}) + 4⋅ⅈ⋅re(E₂)⋅im(\\chi_{-k_1+k_3+k_3}) + 4⋅re(E₃)⋅im(\\chi_{+k_1+k_1-k_2}) + 4\n",
       "⋅ⅈ⋅re(E₃)⋅im(\\chi_{+k_1+k_1-k_2}) - 4⋅re(E₃)⋅im(\\chi_{+k_1+k_2-k_3}) - 4⋅ⅈ⋅re(\n",
       "E₃)⋅im(\\chi_{+k_1+k_2-k_3}) + 4⋅re(E₃)⋅im(\\chi_{-k_1+k_2+k_2}) - 4⋅ⅈ⋅re(E₃)⋅im\n",
       "(\\chi_{-k_1+k_2+k_2}) + 8⋅ⅈ⋅im(\\chi_{+k_1+k_1-k_1})⋅im(E₂) + 8⋅ⅈ⋅im(\\chi_{+k_1\n",
       "+k_1-k_2})⋅im(E₁) + 16⋅im(\\chi_{+k_1+k_1-k_2})⋅im(E₂) + 4⋅im(\\chi_{+k_1+k_1-k_\n",
       "2})⋅im(E₃) + 4⋅ⅈ⋅im(\\chi_{+k_1+k_1-k_2})⋅im(E₃) + 4⋅im(\\chi_{+k_1+k_1-k_3})⋅im\n",
       "(E₂) + 4⋅ⅈ⋅im(\\chi_{+k_1+k_1-k_3})⋅im(E₂) + 8⋅ⅈ⋅im(\\chi_{+k_1+k_2-k_2})⋅im(E₂)\n",
       " + 4⋅im(\\chi_{+k_1+k_3-k_3})⋅im(E₂) + 4⋅ⅈ⋅im(\\chi_{+k_1+k_3-k_3})⋅im(E₂) + 8⋅ⅈ\n",
       "⋅im(\\chi_{+k_1-k_1+k_1})⋅im(E₂) + 8⋅ⅈ⋅im(\\chi_{+k_1-k_1+k_2})⋅im(E₁) + 8⋅ⅈ⋅im(\n",
       "\\chi_{+k_1-k_2+k_2})⋅im(E₂) + 4⋅im(\\chi_{+k_1-k_2+k_3})⋅im(E₂) - 4⋅ⅈ⋅im(\\chi_{\n",
       "+k_1-k_2+k_3})⋅im(E₂) + 4⋅im(\\chi_{+k_1-k_2+k_3})⋅im(E₃) + 4⋅ⅈ⋅im(\\chi_{+k_1-k\n",
       "_2+k_3})⋅im(E₃) + 4⋅im(\\chi_{+k_1-k_3+k_3})⋅im(E₂) + 4⋅ⅈ⋅im(\\chi_{+k_1-k_3+k_3\n",
       "})⋅im(E₂) + 8⋅ⅈ⋅im(\\chi_{+k_1})⋅im(E₂) + 8⋅ⅈ⋅im(\\chi_{+k_2+k_2-k_2})⋅im(E₁) + \n",
       "4⋅im(\\chi_{+k_2+k_2-k_3})⋅im(E₁) - 4⋅ⅈ⋅im(\\chi_{+k_2+k_2-k_3})⋅im(E₁) + 4⋅im(\\\n",
       "chi_{+k_2+k_3-k_3})⋅im(E₁) + 4⋅ⅈ⋅im(\\chi_{+k_2+k_3-k_3})⋅im(E₁) + 8⋅ⅈ⋅im(\\chi_\n",
       "{+k_2-k_2+k_2})⋅im(E₁) + 4⋅im(\\chi_{+k_2-k_3+k_3})⋅im(E₁) + 4⋅ⅈ⋅im(\\chi_{+k_2-\n",
       "k_3+k_3})⋅im(E₁) + 8⋅ⅈ⋅im(\\chi_{+k_2})⋅im(E₁) + 8⋅ⅈ⋅im(\\chi_{-k_1+k_1+k_1})⋅im\n",
       "(E₂) + 8⋅ⅈ⋅im(\\chi_{-k_1+k_1+k_2})⋅im(E₁) + 16⋅im(\\chi_{-k_1+k_2+k_2})⋅im(E₁) \n",
       "+ 8⋅ⅈ⋅im(\\chi_{-k_1+k_2+k_2})⋅im(E₂) + 4⋅im(\\chi_{-k_1+k_2+k_2})⋅im(E₃) - 4⋅ⅈ⋅\n",
       "im(\\chi_{-k_1+k_2+k_2})⋅im(E₃) + 4⋅im(\\chi_{-k_1+k_2+k_3})⋅im(E₁) + 4⋅ⅈ⋅im(\\ch\n",
       "i_{-k_1+k_2+k_3})⋅im(E₁) + 4⋅im(\\chi_{-k_1+k_2+k_3})⋅im(E₃) + 4⋅ⅈ⋅im(\\chi_{-k_\n",
       "1+k_2+k_3})⋅im(E₃) + 8⋅ⅈ⋅im(\\chi_{-k_2+k_2+k_2})⋅im(E₁) + 8⋅ⅈ⋅im(E₁)⋅im(E₂)"
      ]
     },
     "execution_count": 44,
     "metadata": {},
     "output_type": "execute_result"
    }
   ],
   "source": [
    "sy.expand_complex(cycled).expand()"
   ]
  },
  {
   "cell_type": "code",
   "execution_count": null,
   "metadata": {
    "collapsed": true,
    "run_control": {
     "frozen": false,
     "read_only": false
    }
   },
   "outputs": [],
   "source": []
  }
 ],
 "metadata": {
  "kernelspec": {
   "display_name": "Python 2",
   "language": "python",
   "name": "python2"
  },
  "language_info": {
   "codemirror_mode": {
    "name": "ipython",
    "version": 2
   },
   "file_extension": ".py",
   "mimetype": "text/x-python",
   "name": "python",
   "nbconvert_exporter": "python",
   "pygments_lexer": "ipython2",
   "version": "2.7.13"
  },
  "toc": {
   "nav_menu": {
    "height": "119px",
    "width": "252px"
   },
   "navigate_menu": true,
   "number_sections": true,
   "sideBar": true,
   "threshold": 4,
   "toc_cell": false,
   "toc_section_display": "block",
   "toc_window_display": false
  }
 },
 "nbformat": 4,
 "nbformat_minor": 2
}
