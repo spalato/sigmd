{
 "cells": [
  {
   "cell_type": "code",
   "execution_count": 1,
   "metadata": {
    "ExecuteTime": {
     "end_time": "2018-06-19T01:54:48.064619Z",
     "start_time": "2018-06-19T01:54:47.303148Z"
    }
   },
   "outputs": [],
   "source": [
    "#from __future__ import division, print_function\n",
    "from itertools import product, chain\n",
    "import sympy as sy\n",
    "import numpy as np\n",
    "from sigmd.signals import e_field, signals_for_order, phase_cycle, weights\n",
    "from sigmd.filters import action, filter_terms, contains_filter"
   ]
  },
  {
   "cell_type": "code",
   "execution_count": 2,
   "metadata": {
    "ExecuteTime": {
     "end_time": "2018-06-19T01:55:03.396698Z",
     "start_time": "2018-06-19T01:55:02.903017Z"
    }
   },
   "outputs": [],
   "source": [
    "sy.init_printing() # pretty!"
   ]
  },
  {
   "cell_type": "code",
   "execution_count": 17,
   "metadata": {
    "ExecuteTime": {
     "end_time": "2018-06-19T01:59:04.950872Z",
     "start_time": "2018-06-19T01:59:04.869889Z"
    }
   },
   "outputs": [
    {
     "name": "stderr",
     "output_type": "stream",
     "text": [
      "c:\\work\\src\\sig2d\\src\\sigmd\\signals.py:146: UserWarning: Signals for order now doesn't do the sum\n",
      "  warnings.warn(\"Signals for order now doesn't do the sum\")\n"
     ]
    },
    {
     "data": {
      "image/png": "[encoded data removed]",
      "text/latex": [
       "$$230$$"
      ],
      "text/plain": [
       "230"
      ]
     },
     "execution_count": 17,
     "metadata": {},
     "output_type": "execute_result"
    }
   ],
   "source": [
    "sigs = sum(sum(signals_for_order(i, 4, filters=action))for i in [2,4])\n",
    "len(sigs.args)"
   ]
  },
  {
   "cell_type": "code",
   "execution_count": null,
   "metadata": {},
   "outputs": [],
   "source": [
    "detected = sigs\n",
    "##"
   ]
  },
  {
   "cell_type": "markdown",
   "metadata": {},
   "source": [
    "# Tan's 1x3x3x3"
   ]
  },
  {
   "cell_type": "code",
   "execution_count": null,
   "metadata": {},
   "outputs": [],
   "source": [
    "phases = []\n",
    "\n",
    "for i, j, k in product(range(3), range(3)):\n",
    "    phases.append([i*sy.pi*2/3, j*sy.pi*2/3, 0])\n",
    "phases"
   ]
  }
 ],
 "metadata": {
  "kernelspec": {
   "display_name": "Python 3",
   "language": "python",
   "name": "python3"
  },
  "toc": {
   "colors": {
    "hover_highlight": "#DAA520",
    "navigate_num": "#000000",
    "navigate_text": "#333333",
    "running_highlight": "#FF0000",
    "selected_highlight": "#FFD700",
    "sidebar_border": "#EEEEEE",
    "wrapper_background": "#FFFFFF"
   },
   "moveMenuLeft": true,
   "nav_menu": {
    "height": "31px",
    "width": "252px"
   },
   "navigate_menu": true,
   "number_sections": true,
   "sideBar": true,
   "threshold": 4,
   "toc_cell": false,
   "toc_section_display": "block",
   "toc_window_display": false,
   "widenNotebook": false
  },
  "varInspector": {
   "cols": {
    "lenName": 16,
    "lenType": 16,
    "lenVar": 40
   },
   "kernels_config": {
    "python": {
     "delete_cmd_postfix": "",
     "delete_cmd_prefix": "del ",
     "library": "var_list.py",
     "varRefreshCmd": "print(var_dic_list())"
    },
    "r": {
     "delete_cmd_postfix": ") ",
     "delete_cmd_prefix": "rm(",
     "library": "var_list.r",
     "varRefreshCmd": "cat(var_dic_list()) "
    }
   },
   "types_to_exclude": [
    "module",
    "function",
    "builtin_function_or_method",
    "instance",
    "_Feature"
   ],
   "window_display": false
  }
 },
 "nbformat": 4,
 "nbformat_minor": 2
}
