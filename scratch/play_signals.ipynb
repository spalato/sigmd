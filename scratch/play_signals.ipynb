{
 "cells": [
  {
   "cell_type": "markdown",
   "metadata": {},
   "source": [
    "# Preliminary to a test suite.\n",
    "Smoke tests"
   ]
  },
  {
   "cell_type": "code",
   "execution_count": 65,
   "metadata": {
    "collapsed": true
   },
   "outputs": [],
   "source": [
    "from __future__ import division, print_function\n",
    "#from sympy import latex\n",
    "import sympy as sy\n",
    "from math import copysign\n",
    "from operator import add, mul\n",
    "import numpy as np"
   ]
  },
  {
   "cell_type": "code",
   "execution_count": 2,
   "metadata": {
    "collapsed": false
   },
   "outputs": [],
   "source": [
    "from sig2d.signals import Signal, amplitude, signal, signals_for_order"
   ]
  },
  {
   "cell_type": "code",
   "execution_count": 3,
   "metadata": {
    "collapsed": false
   },
   "outputs": [],
   "source": [
    "sy.init_printing()"
   ]
  },
  {
   "cell_type": "code",
   "execution_count": 4,
   "metadata": {
    "collapsed": true
   },
   "outputs": [],
   "source": [
    "ks = [-1, 2, 3]"
   ]
  },
  {
   "cell_type": "markdown",
   "metadata": {},
   "source": [
    "## basic signal"
   ]
  },
  {
   "cell_type": "code",
   "execution_count": 5,
   "metadata": {
    "collapsed": false
   },
   "outputs": [
    {
     "data": {
      "text/plain": [
       "('\\\\chi_{-k_1+k_2+k_3}', str)"
      ]
     },
     "execution_count": 5,
     "metadata": {},
     "output_type": "execute_result"
    }
   ],
   "source": [
    "s = Signal._mk_symbol(ks)\n",
    "s, type(s)"
   ]
  },
  {
   "cell_type": "code",
   "execution_count": 6,
   "metadata": {
    "collapsed": false
   },
   "outputs": [
    {
     "data": {
      "image/png": "[encoded data removed]",
      "text/latex": [
       "$$\\chi_{-k_1+k_2+k_3}$$"
      ],
      "text/plain": [
       "\\chi_{-k_1+k_2+k_3}"
      ]
     },
     "execution_count": 6,
     "metadata": {},
     "output_type": "execute_result"
    }
   ],
   "source": [
    "s = Signal(ks)\n",
    "s"
   ]
  },
  {
   "cell_type": "code",
   "execution_count": 7,
   "metadata": {
    "collapsed": false
   },
   "outputs": [
    {
     "data": {
      "image/png": "[encoded data removed]",
      "text/latex": [
       "$$A_{1}$$"
      ],
      "text/plain": [
       "A₁"
      ]
     },
     "execution_count": 7,
     "metadata": {},
     "output_type": "execute_result"
    }
   ],
   "source": [
    "amplitude(1)"
   ]
  },
  {
   "cell_type": "code",
   "execution_count": 8,
   "metadata": {
    "collapsed": false
   },
   "outputs": [
    {
     "data": {
      "image/png": "[encoded data removed]",
      "text/latex": [
       "$$\\overline{A_{1}}$$"
      ],
      "text/plain": [
       "__\n",
       "A₁"
      ]
     },
     "execution_count": 8,
     "metadata": {},
     "output_type": "execute_result"
    }
   ],
   "source": [
    "amplitude(-1)"
   ]
  },
  {
   "cell_type": "code",
   "execution_count": 9,
   "metadata": {
    "collapsed": false
   },
   "outputs": [
    {
     "data": {
      "image/png": "[encoded data removed]",
      "text/latex": [
       "$$\\chi_{-k_1+k_2+k_3}$$"
      ],
      "text/plain": [
       "\\chi_{-k_1+k_2+k_3}"
      ]
     },
     "execution_count": 9,
     "metadata": {},
     "output_type": "execute_result"
    }
   ],
   "source": [
    "s"
   ]
  },
  {
   "cell_type": "code",
   "execution_count": 10,
   "metadata": {
    "collapsed": false
   },
   "outputs": [
    {
     "data": {
      "image/png": "[encoded data removed]",
      "text/latex": [
       "$$\\chi_{-k_1+k_2+k_3} A_{2} A_{3} \\overline{A_{1}}$$"
      ],
      "text/plain": [
       "                          __\n",
       "\\chi_{-k_1+k_2+k_3}⋅A₂⋅A₃⋅A₁"
      ]
     },
     "execution_count": 10,
     "metadata": {},
     "output_type": "execute_result"
    }
   ],
   "source": [
    "signal(ks)"
   ]
  },
  {
   "cell_type": "markdown",
   "metadata": {},
   "source": [
    "## playing with the generation of k-vector combinations"
   ]
  },
  {
   "cell_type": "code",
   "execution_count": 11,
   "metadata": {
    "collapsed": true
   },
   "outputs": [],
   "source": [
    "from itertools import product, combinations_with_replacement, chain, repeat"
   ]
  },
  {
   "cell_type": "code",
   "execution_count": 12,
   "metadata": {
    "collapsed": false
   },
   "outputs": [
    {
     "data": {
      "image/png": "[encoded data removed]",
      "text/latex": [
       "$$\\left [ -1, \\quad 2, \\quad 3\\right ]$$"
      ],
      "text/plain": [
       "[-1, 2, 3]"
      ]
     },
     "execution_count": 12,
     "metadata": {},
     "output_type": "execute_result"
    }
   ],
   "source": [
    "ks"
   ]
  },
  {
   "cell_type": "code",
   "execution_count": 13,
   "metadata": {
    "collapsed": false
   },
   "outputs": [
    {
     "data": {
      "image/png": "[encoded data removed]",
      "text/latex": [
       "$$\\left [ \\left ( 1, \\quad 1\\right ), \\quad \\left ( 1, \\quad 2\\right ), \\quad \\left ( 1, \\quad 3\\right ), \\quad \\left ( 2, \\quad 2\\right ), \\quad \\left ( 2, \\quad 3\\right ), \\quad \\left ( 3, \\quad 3\\right )\\right ]$$"
      ],
      "text/plain": [
       "[(1, 1), (1, 2), (1, 3), (2, 2), (2, 3), (3, 3)]"
      ]
     },
     "execution_count": 13,
     "metadata": {},
     "output_type": "execute_result"
    }
   ],
   "source": [
    "k = [1,2,3]\n",
    "list(combinations_with_replacement(k, 2))"
   ]
  },
  {
   "cell_type": "code",
   "execution_count": 14,
   "metadata": {
    "collapsed": false
   },
   "outputs": [
    {
     "data": {
      "image/png": "[encoded data removed]",
      "text/latex": [
       "$$\\left [ 1, \\quad -1, \\quad 2, \\quad -2, \\quad 3, \\quad -3\\right ]$$"
      ],
      "text/plain": [
       "[1, -1, 2, -2, 3, -3]"
      ]
     },
     "execution_count": 14,
     "metadata": {},
     "output_type": "execute_result"
    }
   ],
   "source": [
    "list(chain(*zip(k, [-i for i in k])))"
   ]
  },
  {
   "cell_type": "code",
   "execution_count": 15,
   "metadata": {
    "collapsed": false
   },
   "outputs": [
    {
     "data": {
      "image/png": "[encoded data removed]",
      "text/latex": [
       "$$\\left [ \\left ( 1, \\quad 1, \\quad 1\\right ), \\quad \\left ( 1, \\quad 1, \\quad 2\\right ), \\quad \\left ( 1, \\quad 1, \\quad 3\\right ), \\quad \\left ( 1, \\quad 2, \\quad 1\\right ), \\quad \\left ( 1, \\quad 2, \\quad 2\\right ), \\quad \\left ( 1, \\quad 2, \\quad 3\\right ), \\quad \\left ( 1, \\quad 3, \\quad 1\\right ), \\quad \\left ( 1, \\quad 3, \\quad 2\\right ), \\quad \\left ( 1, \\quad 3, \\quad 3\\right ), \\quad \\left ( 2, \\quad 1, \\quad 1\\right ), \\quad \\left ( 2, \\quad 1, \\quad 2\\right ), \\quad \\left ( 2, \\quad 1, \\quad 3\\right ), \\quad \\left ( 2, \\quad 2, \\quad 1\\right ), \\quad \\left ( 2, \\quad 2, \\quad 2\\right ), \\quad \\left ( 2, \\quad 2, \\quad 3\\right ), \\quad \\left ( 2, \\quad 3, \\quad 1\\right ), \\quad \\left ( 2, \\quad 3, \\quad 2\\right ), \\quad \\left ( 2, \\quad 3, \\quad 3\\right ), \\quad \\left ( 3, \\quad 1, \\quad 1\\right ), \\quad \\left ( 3, \\quad 1, \\quad 2\\right ), \\quad \\left ( 3, \\quad 1, \\quad 3\\right ), \\quad \\left ( 3, \\quad 2, \\quad 1\\right ), \\quad \\left ( 3, \\quad 2, \\quad 2\\right ), \\quad \\left ( 3, \\quad 2, \\quad 3\\right ), \\quad \\left ( 3, \\quad 3, \\quad 1\\right ), \\quad \\left ( 3, \\quad 3, \\quad 2\\right ), \\quad \\left ( 3, \\quad 3, \\quad 3\\right )\\right ]$$"
      ],
      "text/plain": [
       "[(1, 1, 1), (1, 1, 2), (1, 1, 3), (1, 2, 1), (1, 2, 2), (1, 2, 3), (1, 3, 1), \n",
       "(1, 3, 2), (1, 3, 3), (2, 1, 1), (2, 1, 2), (2, 1, 3), (2, 2, 1), (2, 2, 2), (\n",
       "2, 2, 3), (2, 3, 1), (2, 3, 2), (2, 3, 3), (3, 1, 1), (3, 1, 2), (3, 1, 3), (3\n",
       ", 2, 1), (3, 2, 2), (3, 2, 3), (3, 3, 1), (3, 3, 2), (3, 3, 3)]"
      ]
     },
     "execution_count": 15,
     "metadata": {},
     "output_type": "execute_result"
    }
   ],
   "source": [
    "list(product(*repeat(k, 3)))"
   ]
  },
  {
   "cell_type": "markdown",
   "metadata": {},
   "source": [
    "## signals for a given order"
   ]
  },
  {
   "cell_type": "code",
   "execution_count": 16,
   "metadata": {
    "collapsed": false
   },
   "outputs": [
    {
     "data": {
      "image/png": "[encoded data removed]",
      "text/latex": [
       "$$\\chi_{+k_1} A_{1} + \\chi_{-k_1} \\overline{A_{1}}$$"
      ],
      "text/plain": [
       "                             __\n",
       "\\chi_{+k_1}⋅A₁ + \\chi_{-k_1}⋅A₁"
      ]
     },
     "execution_count": 16,
     "metadata": {},
     "output_type": "execute_result"
    }
   ],
   "source": [
    "# order 1, 1 pulse, should give a single signal\n",
    "signals_for_order(1, 1)"
   ]
  },
  {
   "cell_type": "code",
   "execution_count": 17,
   "metadata": {
    "collapsed": false
   },
   "outputs": [
    {
     "data": {
      "image/png": "[encoded data removed]",
      "text/latex": [
       "$$\\chi_{+k_1+k_1} A_{1}^{2} + \\chi_{+k_1-k_1} A_{1} \\overline{A_{1}} + \\chi_{-k_1-k_1} \\overline{A_{1}}^{2}$$"
      ],
      "text/plain": [
       "                                                                2\n",
       "                  2                      __                   __ \n",
       "\\chi_{+k_1+k_1}⋅A₁  + \\chi_{+k_1-k_1}⋅A₁⋅A₁ + \\chi_{-k_1-k_1}⋅A₁ "
      ]
     },
     "execution_count": 17,
     "metadata": {},
     "output_type": "execute_result"
    }
   ],
   "source": [
    "signals_for_order(2,1)"
   ]
  },
  {
   "cell_type": "code",
   "execution_count": 18,
   "metadata": {
    "collapsed": false
   },
   "outputs": [
    {
     "data": {
      "image/png": "[encoded data removed]",
      "text/latex": [
       "$$\\chi_{+k_1+k_1+k_1} A_{1}^{3} + \\chi_{+k_1+k_1-k_1} A_{1}^{2} \\overline{A_{1}} + \\chi_{+k_1-k_1-k_1} A_{1} \\overline{A_{1}}^{2} + \\chi_{-k_1-k_1-k_1} \\overline{A_{1}}^{3}$$"
      ],
      "text/plain": [
       "                                                                              \n",
       "                      3                         2 __                          \n",
       "\\chi_{+k_1+k_1+k_1}⋅A₁  + \\chi_{+k_1+k_1-k_1}⋅A₁ ⋅A₁ + \\chi_{+k_1-k_1-k_1}⋅A₁⋅\n",
       "\n",
       "  2                         3\n",
       "__                        __ \n",
       "A₁  + \\chi_{-k_1-k_1-k_1}⋅A₁ "
      ]
     },
     "execution_count": 18,
     "metadata": {},
     "output_type": "execute_result"
    }
   ],
   "source": [
    "signals_for_order(3, 1)"
   ]
  },
  {
   "cell_type": "code",
   "execution_count": 19,
   "metadata": {
    "collapsed": false
   },
   "outputs": [
    {
     "data": {
      "image/png": "[encoded data removed]",
      "text/latex": [
       "$$\\chi_{+k_1} A_{1} + \\chi_{+k_2} A_{2} + \\chi_{-k_1} \\overline{A_{1}} + \\chi_{-k_2} \\overline{A_{2}}$$"
      ],
      "text/plain": [
       "                                              __               __\n",
       "\\chi_{+k_1}⋅A₁ + \\chi_{+k_2}⋅A₂ + \\chi_{-k_1}⋅A₁ + \\chi_{-k_2}⋅A₂"
      ]
     },
     "execution_count": 19,
     "metadata": {},
     "output_type": "execute_result"
    }
   ],
   "source": [
    "signals_for_order(1, 2)"
   ]
  },
  {
   "cell_type": "code",
   "execution_count": 20,
   "metadata": {
    "collapsed": false
   },
   "outputs": [
    {
     "data": {
      "image/png": "[encoded data removed]",
      "text/latex": [
       "$$\\chi_{+k_1} A_{1} + \\chi_{+k_2} A_{2} + \\chi_{+k_3} A_{3} + \\chi_{-k_1} \\overline{A_{1}} + \\chi_{-k_2} \\overline{A_{2}} + \\chi_{-k_3} \\overline{A_{3}}$$"
      ],
      "text/plain": [
       "                                                               __             \n",
       "\\chi_{+k_1}⋅A₁ + \\chi_{+k_2}⋅A₂ + \\chi_{+k_3}⋅A₃ + \\chi_{-k_1}⋅A₁ + \\chi_{-k_2\n",
       "\n",
       "  __               __\n",
       "}⋅A₂ + \\chi_{-k_3}⋅A₃"
      ]
     },
     "execution_count": 20,
     "metadata": {},
     "output_type": "execute_result"
    }
   ],
   "source": [
    "signals_for_order(1, 3)"
   ]
  },
  {
   "cell_type": "code",
   "execution_count": 21,
   "metadata": {
    "collapsed": false
   },
   "outputs": [
    {
     "data": {
      "image/png": "[encoded data removed]",
      "text/latex": [
       "$$\\chi_{+k_1+k_1} A_{1}^{2} + \\chi_{+k_1+k_2} A_{1} A_{2} + \\chi_{+k_1-k_1} A_{1} \\overline{A_{1}} + \\chi_{+k_1-k_2} A_{1} \\overline{A_{2}} + \\chi_{+k_2+k_2} A_{2}^{2} + \\chi_{+k_2-k_2} A_{2} \\overline{A_{2}} + \\chi_{-k_1+k_2} A_{2} \\overline{A_{1}} + \\chi_{-k_1-k_1} \\overline{A_{1}}^{2} + \\chi_{-k_1-k_2} \\overline{A_{1}} \\overline{A_{2}} + \\chi_{-k_2-k_2} \\overline{A_{2}}^{2}$$"
      ],
      "text/plain": [
       "                                                                              \n",
       "                  2                                              __           \n",
       "\\chi_{+k_1+k_1}⋅A₁  + \\chi_{+k_1+k_2}⋅A₁⋅A₂ + \\chi_{+k_1-k_1}⋅A₁⋅A₁ + \\chi_{+k\n",
       "\n",
       "                                                                              \n",
       "           __                     2                      __                   \n",
       "_1-k_2}⋅A₁⋅A₂ + \\chi_{+k_2+k_2}⋅A₂  + \\chi_{+k_2-k_2}⋅A₂⋅A₂ + \\chi_{-k_1+k_2}⋅\n",
       "\n",
       "                          2                                             2\n",
       "   __                   __                    __ __                   __ \n",
       "A₂⋅A₁ + \\chi_{-k_1-k_1}⋅A₁  + \\chi_{-k_1-k_2}⋅A₁⋅A₂ + \\chi_{-k_2-k_2}⋅A₂ "
      ]
     },
     "execution_count": 21,
     "metadata": {},
     "output_type": "execute_result"
    }
   ],
   "source": [
    "signals_for_order(2, 2)"
   ]
  },
  {
   "cell_type": "code",
   "execution_count": 22,
   "metadata": {
    "collapsed": false
   },
   "outputs": [
    {
     "data": {
      "image/png": "[encoded data removed]",
      "text/latex": [
       "$$\\chi_{+k_1+k_1+k_1} A_{1}^{3} + \\chi_{+k_1+k_1+k_2} A_{1}^{2} A_{2} + \\chi_{+k_1+k_1+k_3} A_{1}^{2} A_{3} + \\chi_{+k_1+k_1-k_1} A_{1}^{2} \\overline{A_{1}} + \\chi_{+k_1+k_1-k_2} A_{1}^{2} \\overline{A_{2}} + \\chi_{+k_1+k_1-k_3} A_{1}^{2} \\overline{A_{3}} + \\chi_{+k_1+k_2+k_2} A_{1} A_{2}^{2} + \\chi_{+k_1+k_2+k_3} A_{1} A_{2} A_{3} + \\chi_{+k_1+k_2-k_2} A_{1} A_{2} \\overline{A_{2}} + \\chi_{+k_1+k_2-k_3} A_{1} A_{2} \\overline{A_{3}} + \\chi_{+k_1+k_3+k_3} A_{1} A_{3}^{2} + \\chi_{+k_1+k_3-k_3} A_{1} A_{3} \\overline{A_{3}} + \\chi_{+k_1-k_1+k_2} A_{1} A_{2} \\overline{A_{1}} + \\chi_{+k_1-k_1+k_3} A_{1} A_{3} \\overline{A_{1}} + \\chi_{+k_1-k_1-k_1} A_{1} \\overline{A_{1}}^{2} + \\chi_{+k_1-k_1-k_2} A_{1} \\overline{A_{1}} \\overline{A_{2}} + \\chi_{+k_1-k_1-k_3} A_{1} \\overline{A_{1}} \\overline{A_{3}} + \\chi_{+k_1-k_2+k_3} A_{1} A_{3} \\overline{A_{2}} + \\chi_{+k_1-k_2-k_2} A_{1} \\overline{A_{2}}^{2} + \\chi_{+k_1-k_2-k_3} A_{1} \\overline{A_{2}} \\overline{A_{3}} + \\chi_{+k_1-k_3-k_3} A_{1} \\overline{A_{3}}^{2} + \\chi_{+k_2+k_2+k_2} A_{2}^{3} + \\chi_{+k_2+k_2+k_3} A_{2}^{2} A_{3} + \\chi_{+k_2+k_2-k_2} A_{2}^{2} \\overline{A_{2}} + \\chi_{+k_2+k_2-k_3} A_{2}^{2} \\overline{A_{3}} + \\chi_{+k_2+k_3+k_3} A_{2} A_{3}^{2} + \\chi_{+k_2+k_3-k_3} A_{2} A_{3} \\overline{A_{3}} + \\chi_{+k_2-k_2+k_3} A_{2} A_{3} \\overline{A_{2}} + \\chi_{+k_2-k_2-k_2} A_{2} \\overline{A_{2}}^{2} + \\chi_{+k_2-k_2-k_3} A_{2} \\overline{A_{2}} \\overline{A_{3}} + \\chi_{+k_2-k_3-k_3} A_{2} \\overline{A_{3}}^{2} + \\chi_{+k_3+k_3+k_3} A_{3}^{3} + \\chi_{+k_3+k_3-k_3} A_{3}^{2} \\overline{A_{3}} + \\chi_{+k_3-k_3-k_3} A_{3} \\overline{A_{3}}^{2} + \\chi_{-k_1+k_2+k_2} A_{2}^{2} \\overline{A_{1}} + \\chi_{-k_1+k_2+k_3} A_{2} A_{3} \\overline{A_{1}} + \\chi_{-k_1+k_2-k_2} A_{2} \\overline{A_{1}} \\overline{A_{2}} + \\chi_{-k_1+k_2-k_3} A_{2} \\overline{A_{1}} \\overline{A_{3}} + \\chi_{-k_1+k_3+k_3} A_{3}^{2} \\overline{A_{1}} + \\chi_{-k_1+k_3-k_3} A_{3} \\overline{A_{1}} \\overline{A_{3}} + \\chi_{-k_1-k_1+k_2} A_{2} \\overline{A_{1}}^{2} + \\chi_{-k_1-k_1+k_3} A_{3} \\overline{A_{1}}^{2} + \\chi_{-k_1-k_1-k_1} \\overline{A_{1}}^{3} + \\chi_{-k_1-k_1-k_2} \\overline{A_{1}}^{2} \\overline{A_{2}} + \\chi_{-k_1-k_1-k_3} \\overline{A_{1}}^{2} \\overline{A_{3}} + \\chi_{-k_1-k_2+k_3} A_{3} \\overline{A_{1}} \\overline{A_{2}} + \\chi_{-k_1-k_2-k_2} \\overline{A_{1}} \\overline{A_{2}}^{2} + \\chi_{-k_1-k_2-k_3} \\overline{A_{1}} \\overline{A_{2}} \\overline{A_{3}} + \\chi_{-k_1-k_3-k_3} \\overline{A_{1}} \\overline{A_{3}}^{2} + \\chi_{-k_2+k_3+k_3} A_{3}^{2} \\overline{A_{2}} + \\chi_{-k_2+k_3-k_3} A_{3} \\overline{A_{2}} \\overline{A_{3}} + \\chi_{-k_2-k_2+k_3} A_{3} \\overline{A_{2}}^{2} + \\chi_{-k_2-k_2-k_2} \\overline{A_{2}}^{3} + \\chi_{-k_2-k_2-k_3} \\overline{A_{2}}^{2} \\overline{A_{3}} + \\chi_{-k_2-k_3-k_3} \\overline{A_{2}} \\overline{A_{3}}^{2} + \\chi_{-k_3-k_3-k_3} \\overline{A_{3}}^{3}$$"
      ],
      "text/plain": [
       "                                                                              \n",
       "                      3                         2                            2\n",
       "\\chi_{+k_1+k_1+k_1}⋅A₁  + \\chi_{+k_1+k_1+k_2}⋅A₁ ⋅A₂ + \\chi_{+k_1+k_1+k_3}⋅A₁ \n",
       "\n",
       "                                                                              \n",
       "                            2 __                         2 __                 \n",
       "⋅A₃ + \\chi_{+k_1+k_1-k_1}⋅A₁ ⋅A₁ + \\chi_{+k_1+k_1-k_2}⋅A₁ ⋅A₂ + \\chi_{+k_1+k_1\n",
       "\n",
       "                                                                              \n",
       "        2 __                            2                                     \n",
       "-k_3}⋅A₁ ⋅A₃ + \\chi_{+k_1+k_2+k_2}⋅A₁⋅A₂  + \\chi_{+k_1+k_2+k_3}⋅A₁⋅A₂⋅A₃ + \\ch\n",
       "\n",
       "                                                                              \n",
       "                       __                             __                      \n",
       "i_{+k_1+k_2-k_2}⋅A₁⋅A₂⋅A₂ + \\chi_{+k_1+k_2-k_3}⋅A₁⋅A₂⋅A₃ + \\chi_{+k_1+k_3+k_3}\n",
       "\n",
       "                                                                              \n",
       "      2                             __                             __         \n",
       "⋅A₁⋅A₃  + \\chi_{+k_1+k_3-k_3}⋅A₁⋅A₃⋅A₃ + \\chi_{+k_1-k_1+k_2}⋅A₁⋅A₂⋅A₁ + \\chi_{\n",
       "\n",
       "                                                  2                           \n",
       "                    __                          __                           _\n",
       "+k_1-k_1+k_3}⋅A₁⋅A₃⋅A₁ + \\chi_{+k_1-k_1-k_1}⋅A₁⋅A₁  + \\chi_{+k_1-k_1-k_2}⋅A₁⋅A\n",
       "\n",
       "                                                                              \n",
       "_ __                          __ __                             __            \n",
       "₁⋅A₂ + \\chi_{+k_1-k_1-k_3}⋅A₁⋅A₁⋅A₃ + \\chi_{+k_1-k_2+k_3}⋅A₁⋅A₃⋅A₂ + \\chi_{+k_\n",
       "\n",
       "                2                                                           2 \n",
       "              __                           __ __                          __  \n",
       "1-k_2-k_2}⋅A₁⋅A₂  + \\chi_{+k_1-k_2-k_3}⋅A₁⋅A₂⋅A₃ + \\chi_{+k_1-k_3-k_3}⋅A₁⋅A₃  \n",
       "\n",
       "                                                                              \n",
       "                        3                         2                           \n",
       "+ \\chi_{+k_2+k_2+k_2}⋅A₂  + \\chi_{+k_2+k_2+k_3}⋅A₂ ⋅A₃ + \\chi_{+k_2+k_2-k_2}⋅A\n",
       "\n",
       "                                                                              \n",
       " 2 __                         2 __                            2               \n",
       "₂ ⋅A₂ + \\chi_{+k_2+k_2-k_3}⋅A₂ ⋅A₃ + \\chi_{+k_2+k_3+k_3}⋅A₂⋅A₃  + \\chi_{+k_2+k\n",
       "\n",
       "                                                                           2  \n",
       "              __                             __                          __   \n",
       "_3-k_3}⋅A₂⋅A₃⋅A₃ + \\chi_{+k_2-k_2+k_3}⋅A₂⋅A₃⋅A₂ + \\chi_{+k_2-k_2-k_2}⋅A₂⋅A₂  +\n",
       "\n",
       "                                                         2                    \n",
       "                        __ __                          __                     \n",
       " \\chi_{+k_2-k_2-k_3}⋅A₂⋅A₂⋅A₃ + \\chi_{+k_2-k_3-k_3}⋅A₂⋅A₃  + \\chi_{+k_3+k_3+k_\n",
       "\n",
       "                                                               2              \n",
       "     3                         2 __                          __               \n",
       "3}⋅A₃  + \\chi_{+k_3+k_3-k_3}⋅A₃ ⋅A₃ + \\chi_{+k_3-k_3-k_3}⋅A₃⋅A₃  + \\chi_{-k_1+\n",
       "\n",
       "                                                                              \n",
       "           2 __                             __                          __ __ \n",
       "k_2+k_2}⋅A₂ ⋅A₁ + \\chi_{-k_1+k_2+k_3}⋅A₂⋅A₃⋅A₁ + \\chi_{-k_1+k_2-k_2}⋅A₂⋅A₁⋅A₂ \n",
       "\n",
       "                                                                              \n",
       "                         __ __                         2 __                   \n",
       "+ \\chi_{-k_1+k_2-k_3}⋅A₂⋅A₁⋅A₃ + \\chi_{-k_1+k_3+k_3}⋅A₃ ⋅A₁ + \\chi_{-k_1+k_3-k\n",
       "\n",
       "                                        2                            2        \n",
       "       __ __                          __                           __         \n",
       "_3}⋅A₃⋅A₁⋅A₃ + \\chi_{-k_1-k_1+k_2}⋅A₂⋅A₁  + \\chi_{-k_1-k_1+k_3}⋅A₃⋅A₁  + \\chi_\n",
       "\n",
       "                 3                         2                            2     \n",
       "               __                        __  __                       __  __  \n",
       "{-k_1-k_1-k_1}⋅A₁  + \\chi_{-k_1-k_1-k_2}⋅A₁ ⋅A₂ + \\chi_{-k_1-k_1-k_3}⋅A₁ ⋅A₃ +\n",
       "\n",
       "                                                         2                    \n",
       "                        __ __                       __ __                     \n",
       " \\chi_{-k_1-k_2+k_3}⋅A₃⋅A₁⋅A₂ + \\chi_{-k_1-k_2-k_2}⋅A₁⋅A₂  + \\chi_{-k_1-k_2-k_\n",
       "\n",
       "                                       2                                      \n",
       "   __ __ __                       __ __                          2 __         \n",
       "3}⋅A₁⋅A₂⋅A₃ + \\chi_{-k_1-k_3-k_3}⋅A₁⋅A₃  + \\chi_{-k_2+k_3+k_3}⋅A₃ ⋅A₂ + \\chi_{\n",
       "\n",
       "                                                  2                         3 \n",
       "                 __ __                          __                        __  \n",
       "-k_2+k_3-k_3}⋅A₃⋅A₂⋅A₃ + \\chi_{-k_2-k_2+k_3}⋅A₃⋅A₂  + \\chi_{-k_2-k_2-k_2}⋅A₂  \n",
       "\n",
       "                        2                               2                     \n",
       "                      __  __                       __ __                      \n",
       "+ \\chi_{-k_2-k_2-k_3}⋅A₂ ⋅A₃ + \\chi_{-k_2-k_3-k_3}⋅A₂⋅A₃  + \\chi_{-k_3-k_3-k_3\n",
       "\n",
       "    3\n",
       "  __ \n",
       "}⋅A₃ "
      ]
     },
     "execution_count": 22,
     "metadata": {},
     "output_type": "execute_result"
    }
   ],
   "source": [
    "signals_for_order(3,3)"
   ]
  },
  {
   "cell_type": "code",
   "execution_count": 23,
   "metadata": {
    "collapsed": false
   },
   "outputs": [],
   "source": [
    "expr = sum(signals_for_order(i, n_pulses=3) for i in [1,2,3])"
   ]
  },
  {
   "cell_type": "code",
   "execution_count": 24,
   "metadata": {
    "collapsed": false
   },
   "outputs": [
    {
     "data": {
      "image/png": "[encoded data removed]",
      "text/latex": [
       "$$83$$"
      ],
      "text/plain": [
       "83"
      ]
     },
     "execution_count": 24,
     "metadata": {},
     "output_type": "execute_result"
    }
   ],
   "source": [
    "len(expr.args)  # WOOOHOO"
   ]
  },
  {
   "cell_type": "markdown",
   "metadata": {},
   "source": [
    "## let's decimate the list of k vectors"
   ]
  },
  {
   "cell_type": "code",
   "execution_count": 25,
   "metadata": {
    "collapsed": true
   },
   "outputs": [],
   "source": [
    "def fundamental_freq(k):\n",
    "    return abs(sum([copysign(1,i) for i in k])) == 1"
   ]
  },
  {
   "cell_type": "code",
   "execution_count": 26,
   "metadata": {
    "collapsed": false
   },
   "outputs": [
    {
     "data": {
      "image/png": "[encoded data removed]",
      "text/latex": [
       "$$\\chi_{+k_1+k_1-k_1} A_{1}^{2} \\overline{A_{1}} + \\chi_{+k_1+k_1-k_2} A_{1}^{2} \\overline{A_{2}} + \\chi_{+k_1+k_1-k_3} A_{1}^{2} \\overline{A_{3}} + \\chi_{+k_1+k_2-k_2} A_{1} A_{2} \\overline{A_{2}} + \\chi_{+k_1+k_2-k_3} A_{1} A_{2} \\overline{A_{3}} + \\chi_{+k_1+k_3-k_3} A_{1} A_{3} \\overline{A_{3}} + \\chi_{+k_1-k_1+k_2} A_{1} A_{2} \\overline{A_{1}} + \\chi_{+k_1-k_1+k_3} A_{1} A_{3} \\overline{A_{1}} + \\chi_{+k_1-k_1-k_1} A_{1} \\overline{A_{1}}^{2} + \\chi_{+k_1-k_1-k_2} A_{1} \\overline{A_{1}} \\overline{A_{2}} + \\chi_{+k_1-k_1-k_3} A_{1} \\overline{A_{1}} \\overline{A_{3}} + \\chi_{+k_1-k_2+k_3} A_{1} A_{3} \\overline{A_{2}} + \\chi_{+k_1-k_2-k_2} A_{1} \\overline{A_{2}}^{2} + \\chi_{+k_1-k_2-k_3} A_{1} \\overline{A_{2}} \\overline{A_{3}} + \\chi_{+k_1-k_3-k_3} A_{1} \\overline{A_{3}}^{2} + \\chi_{+k_2+k_2-k_2} A_{2}^{2} \\overline{A_{2}} + \\chi_{+k_2+k_2-k_3} A_{2}^{2} \\overline{A_{3}} + \\chi_{+k_2+k_3-k_3} A_{2} A_{3} \\overline{A_{3}} + \\chi_{+k_2-k_2+k_3} A_{2} A_{3} \\overline{A_{2}} + \\chi_{+k_2-k_2-k_2} A_{2} \\overline{A_{2}}^{2} + \\chi_{+k_2-k_2-k_3} A_{2} \\overline{A_{2}} \\overline{A_{3}} + \\chi_{+k_2-k_3-k_3} A_{2} \\overline{A_{3}}^{2} + \\chi_{+k_3+k_3-k_3} A_{3}^{2} \\overline{A_{3}} + \\chi_{+k_3-k_3-k_3} A_{3} \\overline{A_{3}}^{2} + \\chi_{-k_1+k_2+k_2} A_{2}^{2} \\overline{A_{1}} + \\chi_{-k_1+k_2+k_3} A_{2} A_{3} \\overline{A_{1}} + \\chi_{-k_1+k_2-k_2} A_{2} \\overline{A_{1}} \\overline{A_{2}} + \\chi_{-k_1+k_2-k_3} A_{2} \\overline{A_{1}} \\overline{A_{3}} + \\chi_{-k_1+k_3+k_3} A_{3}^{2} \\overline{A_{1}} + \\chi_{-k_1+k_3-k_3} A_{3} \\overline{A_{1}} \\overline{A_{3}} + \\chi_{-k_1-k_1+k_2} A_{2} \\overline{A_{1}}^{2} + \\chi_{-k_1-k_1+k_3} A_{3} \\overline{A_{1}}^{2} + \\chi_{-k_1-k_2+k_3} A_{3} \\overline{A_{1}} \\overline{A_{2}} + \\chi_{-k_2+k_3+k_3} A_{3}^{2} \\overline{A_{2}} + \\chi_{-k_2+k_3-k_3} A_{3} \\overline{A_{2}} \\overline{A_{3}} + \\chi_{-k_2-k_2+k_3} A_{3} \\overline{A_{2}}^{2}$$"
      ],
      "text/plain": [
       "                                                                              \n",
       "                      2 __                         2 __                       \n",
       "\\chi_{+k_1+k_1-k_1}⋅A₁ ⋅A₁ + \\chi_{+k_1+k_1-k_2}⋅A₁ ⋅A₂ + \\chi_{+k_1+k_1-k_3}⋅\n",
       "\n",
       "                                                                              \n",
       "  2 __                             __                             __          \n",
       "A₁ ⋅A₃ + \\chi_{+k_1+k_2-k_2}⋅A₁⋅A₂⋅A₂ + \\chi_{+k_1+k_2-k_3}⋅A₁⋅A₂⋅A₃ + \\chi_{+\n",
       "\n",
       "                                                                              \n",
       "                   __                             __                          \n",
       "k_1+k_3-k_3}⋅A₁⋅A₃⋅A₃ + \\chi_{+k_1-k_1+k_2}⋅A₁⋅A₂⋅A₁ + \\chi_{+k_1-k_1+k_3}⋅A₁⋅\n",
       "\n",
       "                                 2                                            \n",
       "   __                          __                           __ __             \n",
       "A₃⋅A₁ + \\chi_{+k_1-k_1-k_1}⋅A₁⋅A₁  + \\chi_{+k_1-k_1-k_2}⋅A₁⋅A₁⋅A₂ + \\chi_{+k_1\n",
       "\n",
       "                                                                             2\n",
       "             __ __                             __                          __ \n",
       "-k_1-k_3}⋅A₁⋅A₁⋅A₃ + \\chi_{+k_1-k_2+k_3}⋅A₁⋅A₃⋅A₂ + \\chi_{+k_1-k_2-k_2}⋅A₁⋅A₂ \n",
       "\n",
       "                                                           2                  \n",
       "                          __ __                          __                   \n",
       " + \\chi_{+k_1-k_2-k_3}⋅A₁⋅A₂⋅A₃ + \\chi_{+k_1-k_3-k_3}⋅A₁⋅A₃  + \\chi_{+k_2+k_2-\n",
       "\n",
       "                                                                              \n",
       "       2 __                         2 __                             __       \n",
       "k_2}⋅A₂ ⋅A₂ + \\chi_{+k_2+k_2-k_3}⋅A₂ ⋅A₃ + \\chi_{+k_2+k_3-k_3}⋅A₂⋅A₃⋅A₃ + \\chi\n",
       "\n",
       "                                                    2                         \n",
       "                      __                          __                          \n",
       "_{+k_2-k_2+k_3}⋅A₂⋅A₃⋅A₂ + \\chi_{+k_2-k_2-k_2}⋅A₂⋅A₂  + \\chi_{+k_2-k_2-k_3}⋅A₂\n",
       "\n",
       "                                  2                                           \n",
       " __ __                          __                          2 __              \n",
       "⋅A₂⋅A₃ + \\chi_{+k_2-k_3-k_3}⋅A₂⋅A₃  + \\chi_{+k_3+k_3-k_3}⋅A₃ ⋅A₃ + \\chi_{+k_3-\n",
       "\n",
       "              2                                                               \n",
       "            __                          2 __                             __   \n",
       "k_3-k_3}⋅A₃⋅A₃  + \\chi_{-k_1+k_2+k_2}⋅A₂ ⋅A₁ + \\chi_{-k_1+k_2+k_3}⋅A₂⋅A₃⋅A₁ + \n",
       "\n",
       "                                                                              \n",
       "                       __ __                          __ __                   \n",
       "\\chi_{-k_1+k_2-k_2}⋅A₂⋅A₁⋅A₂ + \\chi_{-k_1+k_2-k_3}⋅A₂⋅A₁⋅A₃ + \\chi_{-k_1+k_3+k\n",
       "\n",
       "                                                                     2        \n",
       "      2 __                          __ __                          __         \n",
       "_3}⋅A₃ ⋅A₁ + \\chi_{-k_1+k_3-k_3}⋅A₃⋅A₁⋅A₃ + \\chi_{-k_1-k_1+k_2}⋅A₂⋅A₁  + \\chi_\n",
       "\n",
       "                    2                                                         \n",
       "                  __                           __ __                         2\n",
       "{-k_1-k_1+k_3}⋅A₃⋅A₁  + \\chi_{-k_1-k_2+k_3}⋅A₃⋅A₁⋅A₂ + \\chi_{-k_2+k_3+k_3}⋅A₃ \n",
       "\n",
       "                                                              2\n",
       " __                          __ __                          __ \n",
       "⋅A₂ + \\chi_{-k_2+k_3-k_3}⋅A₃⋅A₂⋅A₃ + \\chi_{-k_2-k_2+k_3}⋅A₃⋅A₂ "
      ]
     },
     "execution_count": 26,
     "metadata": {},
     "output_type": "execute_result"
    }
   ],
   "source": [
    "signals_for_order(3, n_pulses=3, filter_=fundamental_freq)"
   ]
  },
  {
   "cell_type": "code",
   "execution_count": 27,
   "metadata": {
    "collapsed": true
   },
   "outputs": [],
   "source": [
    "def positive_last(k):\n",
    "    return k[-1] > 0"
   ]
  },
  {
   "cell_type": "code",
   "execution_count": 28,
   "metadata": {
    "collapsed": false
   },
   "outputs": [
    {
     "data": {
      "image/png": "[encoded data removed]",
      "text/latex": [
       "$$\\chi_{+k_1+k_1+k_1} A_{1}^{3} + \\chi_{+k_1+k_1+k_2} A_{1}^{2} A_{2} + \\chi_{+k_1+k_1+k_3} A_{1}^{2} A_{3} + \\chi_{+k_1+k_2+k_2} A_{1} A_{2}^{2} + \\chi_{+k_1+k_2+k_3} A_{1} A_{2} A_{3} + \\chi_{+k_1+k_3+k_3} A_{1} A_{3}^{2} + \\chi_{+k_1-k_1+k_2} A_{1} A_{2} \\overline{A_{1}} + \\chi_{+k_1-k_1+k_3} A_{1} A_{3} \\overline{A_{1}} + \\chi_{+k_1-k_2+k_3} A_{1} A_{3} \\overline{A_{2}} + \\chi_{+k_2+k_2+k_2} A_{2}^{3} + \\chi_{+k_2+k_2+k_3} A_{2}^{2} A_{3} + \\chi_{+k_2+k_3+k_3} A_{2} A_{3}^{2} + \\chi_{+k_2-k_2+k_3} A_{2} A_{3} \\overline{A_{2}} + \\chi_{+k_3+k_3+k_3} A_{3}^{3} + \\chi_{-k_1+k_2+k_2} A_{2}^{2} \\overline{A_{1}} + \\chi_{-k_1+k_2+k_3} A_{2} A_{3} \\overline{A_{1}} + \\chi_{-k_1+k_3+k_3} A_{3}^{2} \\overline{A_{1}} + \\chi_{-k_1-k_1+k_2} A_{2} \\overline{A_{1}}^{2} + \\chi_{-k_1-k_1+k_3} A_{3} \\overline{A_{1}}^{2} + \\chi_{-k_1-k_2+k_3} A_{3} \\overline{A_{1}} \\overline{A_{2}} + \\chi_{-k_2+k_3+k_3} A_{3}^{2} \\overline{A_{2}} + \\chi_{-k_2-k_2+k_3} A_{3} \\overline{A_{2}}^{2}$$"
      ],
      "text/plain": [
       "                                                                              \n",
       "                      3                         2                            2\n",
       "\\chi_{+k_1+k_1+k_1}⋅A₁  + \\chi_{+k_1+k_1+k_2}⋅A₁ ⋅A₂ + \\chi_{+k_1+k_1+k_3}⋅A₁ \n",
       "\n",
       "                                                                              \n",
       "                               2                                              \n",
       "⋅A₃ + \\chi_{+k_1+k_2+k_2}⋅A₁⋅A₂  + \\chi_{+k_1+k_2+k_3}⋅A₁⋅A₂⋅A₃ + \\chi_{+k_1+k\n",
       "\n",
       "                                                                              \n",
       "             2                             __                             __  \n",
       "_3+k_3}⋅A₁⋅A₃  + \\chi_{+k_1-k_1+k_2}⋅A₁⋅A₂⋅A₁ + \\chi_{+k_1-k_1+k_3}⋅A₁⋅A₃⋅A₁ +\n",
       "\n",
       "                                                                              \n",
       "                           __                         3                       \n",
       " \\chi_{+k_1-k_2+k_3}⋅A₁⋅A₃⋅A₂ + \\chi_{+k_2+k_2+k_2}⋅A₂  + \\chi_{+k_2+k_2+k_3}⋅\n",
       "\n",
       "                                                                              \n",
       "  2                               2                             __            \n",
       "A₂ ⋅A₃ + \\chi_{+k_2+k_3+k_3}⋅A₂⋅A₃  + \\chi_{+k_2-k_2+k_3}⋅A₂⋅A₃⋅A₂ + \\chi_{+k_\n",
       "\n",
       "                                                                              \n",
       "             3                         2 __                             __    \n",
       "3+k_3+k_3}⋅A₃  + \\chi_{-k_1+k_2+k_2}⋅A₂ ⋅A₁ + \\chi_{-k_1+k_2+k_3}⋅A₂⋅A₃⋅A₁ + \\\n",
       "\n",
       "                                                     2                        \n",
       "                     2 __                          __                         \n",
       "chi_{-k_1+k_3+k_3}⋅A₃ ⋅A₁ + \\chi_{-k_1-k_1+k_2}⋅A₂⋅A₁  + \\chi_{-k_1-k_1+k_3}⋅A\n",
       "\n",
       "    2                                                                         \n",
       "  __                           __ __                         2 __             \n",
       "₃⋅A₁  + \\chi_{-k_1-k_2+k_3}⋅A₃⋅A₁⋅A₂ + \\chi_{-k_2+k_3+k_3}⋅A₃ ⋅A₂ + \\chi_{-k_2\n",
       "\n",
       "               2\n",
       "             __ \n",
       "-k_2+k_3}⋅A₃⋅A₂ "
      ]
     },
     "execution_count": 28,
     "metadata": {},
     "output_type": "execute_result"
    }
   ],
   "source": [
    "signals_for_order(3, n_pulses=3, filter_=positive_last)"
   ]
  },
  {
   "cell_type": "code",
   "execution_count": 29,
   "metadata": {
    "collapsed": false
   },
   "outputs": [],
   "source": [
    "def multifilter(filters, reductop=all):\n",
    "    def composite(k):\n",
    "        return reductop([f(k) for f in filters])\n",
    "    return composite\n",
    "\n",
    "def accumulator(l, op=add):\n",
    "    \"\"\"\n",
    "    Returns the running accumulation of `l` using operator `op`.\n",
    "    \n",
    "    accumulate(l) results in the running sum.\n",
    "    \"\"\"\n",
    "    l = iter(l)\n",
    "    r = l.next()\n",
    "    for v in l:\n",
    "        r = op(r, v)\n",
    "        yield r\n",
    "        \n",
    "def accumulated(l, op=add):\n",
    "    \"\"\"Returns an running accumulation of `l` as a list.\"\"\"\n",
    "    return list(accumulator(l, op))\n",
    "        \n",
    "\n",
    "#def ends_with_k3(k):\n",
    "#    return abs(k[-1]) == 3\n",
    "\n",
    "def single_k3(k):  # emitted in the k3 direction?\n",
    "    return sum([abs(i)==3 for i in k]) == 1\n",
    "\n",
    "# Actually RWA\n",
    "def single_excitation(k):  # avoid +k1 +k1 sequences, which yeild |2><0| or try to deexcite the gs\n",
    "    # never get more than +1 or -1 total excitation, is that allright?\n",
    "    runsum = accumulated([copysign(1, i) for i in k])\n",
    "    return all([abs(r) <= 1 for r in runsum])\n",
    "\n",
    "# This is close to PP detection.\n",
    "pp = multifilter([fundamental_freq, positive_last, single_k3, single_excitation])"
   ]
  },
  {
   "cell_type": "code",
   "execution_count": 30,
   "metadata": {
    "collapsed": false
   },
   "outputs": [
    {
     "data": {
      "text/plain": [
       "([-1, -1, 3], [(-1, -1), (-1, 3)], True)"
      ]
     },
     "execution_count": 30,
     "metadata": {},
     "output_type": "execute_result"
    }
   ],
   "source": [
    "ks = [-1, 2, 3]\n",
    "ks = [-1, -1, 3]\n",
    "pairs = zip(ks[:-1], ks[1:])\n",
    "ks, pairs, any([i[0]==i[1] for i in pairs])"
   ]
  },
  {
   "cell_type": "code",
   "execution_count": 31,
   "metadata": {
    "collapsed": false
   },
   "outputs": [
    {
     "data": {
      "image/png": "[encoded data removed]",
      "text/latex": [
       "$$\\chi_{+k_1-k_1+k_3} A_{1} A_{3} \\overline{A_{1}} + \\chi_{+k_1-k_2+k_3} A_{1} A_{3} \\overline{A_{2}} + \\chi_{+k_2-k_2+k_3} A_{2} A_{3} \\overline{A_{2}} + \\chi_{-k_1+k_2+k_3} A_{2} A_{3} \\overline{A_{1}}$$"
      ],
      "text/plain": [
       "                          __                             __                   \n",
       "\\chi_{+k_1-k_1+k_3}⋅A₁⋅A₃⋅A₁ + \\chi_{+k_1-k_2+k_3}⋅A₁⋅A₃⋅A₂ + \\chi_{+k_2-k_2+k\n",
       "\n",
       "          __                             __\n",
       "_3}⋅A₂⋅A₃⋅A₂ + \\chi_{-k_1+k_2+k_3}⋅A₂⋅A₃⋅A₁"
      ]
     },
     "execution_count": 31,
     "metadata": {},
     "output_type": "execute_result"
    }
   ],
   "source": [
    "signals_for_order(3, n_pulses=3, filter_=pp)"
   ]
  },
  {
   "cell_type": "code",
   "execution_count": 32,
   "metadata": {
    "collapsed": false
   },
   "outputs": [
    {
     "data": {
      "image/png": "[encoded data removed]",
      "text/latex": [
       "$$-1.0$$"
      ],
      "text/plain": [
       "-1.0"
      ]
     },
     "execution_count": 32,
     "metadata": {},
     "output_type": "execute_result"
    }
   ],
   "source": [
    "copysign(1,-3)"
   ]
  },
  {
   "cell_type": "code",
   "execution_count": 33,
   "metadata": {
    "collapsed": false
   },
   "outputs": [
    {
     "data": {
      "image/png": "[encoded data removed]",
      "text/latex": [
       "$$\\left ( 0, \\quad 1\\right )$$"
      ],
      "text/plain": [
       "(0, 1)"
      ]
     },
     "execution_count": 33,
     "metadata": {},
     "output_type": "execute_result"
    }
   ],
   "source": [
    "int(False), int(True)"
   ]
  },
  {
   "cell_type": "markdown",
   "metadata": {},
   "source": [
    "## Tentative pp detection"
   ]
  },
  {
   "cell_type": "code",
   "execution_count": 107,
   "metadata": {
    "collapsed": false
   },
   "outputs": [
    {
     "data": {
      "image/png": "[encoded data removed]",
      "text/latex": [
       "$$\\chi_{+k_1-k_1+k_3} A_{1} A_{3} \\overline{A_{1}} + \\chi_{+k_1-k_2+k_3} A_{1} A_{3} \\overline{A_{2}} + \\chi_{+k_2-k_2+k_3} A_{2} A_{3} \\overline{A_{2}} + \\chi_{+k_3} A_{3} + \\chi_{-k_1+k_2+k_3} A_{2} A_{3} \\overline{A_{1}}$$"
      ],
      "text/plain": [
       "                          __                             __                   \n",
       "\\chi_{+k_1-k_1+k_3}⋅A₁⋅A₃⋅A₁ + \\chi_{+k_1-k_2+k_3}⋅A₁⋅A₃⋅A₂ + \\chi_{+k_2-k_2+k\n",
       "\n",
       "          __                                              __\n",
       "_3}⋅A₂⋅A₃⋅A₂ + \\chi_{+k_3}⋅A₃ + \\chi_{-k_1+k_2+k_3}⋅A₂⋅A₃⋅A₁"
      ]
     },
     "execution_count": 107,
     "metadata": {},
     "output_type": "execute_result"
    }
   ],
   "source": [
    "expr = sum(signals_for_order(i, n_pulses=3, filter_=pp) for i in [1,2,3])\n",
    "expr"
   ]
  },
  {
   "cell_type": "code",
   "execution_count": 108,
   "metadata": {
    "collapsed": true
   },
   "outputs": [],
   "source": [
    "#  incident fields"
   ]
  },
  {
   "cell_type": "code",
   "execution_count": 109,
   "metadata": {
    "collapsed": false
   },
   "outputs": [
    {
     "data": {
      "image/png": "[encoded data removed]",
      "text/latex": [
       "$$\\chi_{+k_1-k_1+k_3} A_{1} A_{3} \\overline{A_{1}} + \\chi_{+k_1-k_2+k_3} A_{1} A_{3} \\overline{A_{2}} + \\chi_{+k_2-k_2+k_3} A_{2} A_{3} \\overline{A_{2}} + \\chi_{+k_3} A_{3} + \\chi_{-k_1+k_2+k_3} A_{2} A_{3} \\overline{A_{1}} + A_{3} E_{3}$$"
      ],
      "text/plain": [
       "                          __                             __                   \n",
       "\\chi_{+k_1-k_1+k_3}⋅A₁⋅A₃⋅A₁ + \\chi_{+k_1-k_2+k_3}⋅A₁⋅A₃⋅A₂ + \\chi_{+k_2-k_2+k\n",
       "\n",
       "          __                                              __        \n",
       "_3}⋅A₂⋅A₃⋅A₂ + \\chi_{+k_3}⋅A₃ + \\chi_{-k_1+k_2+k_3}⋅A₂⋅A₃⋅A₁ + A₃⋅E₃"
      ]
     },
     "execution_count": 109,
     "metadata": {},
     "output_type": "execute_result"
    }
   ],
   "source": [
    "a3 = amplitude(3)\n",
    "sig = sy.symbols(\"E_3\")*a3 + expr\n",
    "sig"
   ]
  },
  {
   "cell_type": "code",
   "execution_count": 110,
   "metadata": {
    "collapsed": false
   },
   "outputs": [
    {
     "data": {
      "image/png": "[encoded data removed]",
      "text/latex": [
       "$$36$$"
      ],
      "text/plain": [
       "36"
      ]
     },
     "execution_count": 110,
     "metadata": {},
     "output_type": "execute_result"
    }
   ],
   "source": [
    "detected_full = sy.expand(sy.conjugate(sig)*sig)\n",
    "len(detected_full.args)"
   ]
  },
  {
   "cell_type": "code",
   "execution_count": 111,
   "metadata": {
    "collapsed": false
   },
   "outputs": [
    {
     "data": {
      "text/plain": [
       "'A_3*E_3*conjugate(A_3)*conjugate(E_3)'"
      ]
     },
     "execution_count": 111,
     "metadata": {},
     "output_type": "execute_result"
    }
   ],
   "source": [
    "repr(detected_full.args[0])"
   ]
  },
  {
   "cell_type": "code",
   "execution_count": 112,
   "metadata": {
    "collapsed": false
   },
   "outputs": [],
   "source": [
    "# we can filter by 'E_3' being in every arg\n",
    "detected_large = filter(lambda s: 'E_3' in repr(s), detected_full.args)\n",
    "# there is a problem with the complex conjugates.\n",
    "detected_large = filter(lambda s: 'conjugate(\\\\chi' not in repr(s), detected_large)"
   ]
  },
  {
   "cell_type": "code",
   "execution_count": 113,
   "metadata": {
    "collapsed": false
   },
   "outputs": [
    {
     "data": {
      "text/plain": [
       "tuple"
      ]
     },
     "execution_count": 113,
     "metadata": {},
     "output_type": "execute_result"
    }
   ],
   "source": [
    "type(detected_large)"
   ]
  },
  {
   "cell_type": "code",
   "execution_count": 114,
   "metadata": {
    "collapsed": false
   },
   "outputs": [
    {
     "data": {
      "image/png": "[encoded data removed]",
      "text/latex": [
       "$$\\chi_{+k_1-k_1+k_3} A_{1} A_{3} \\overline{A_{1}} \\overline{A_{3}} \\overline{E_{3}} + \\chi_{+k_1-k_2+k_3} A_{1} A_{3} \\overline{A_{2}} \\overline{A_{3}} \\overline{E_{3}} + \\chi_{+k_2-k_2+k_3} A_{2} A_{3} \\overline{A_{2}} \\overline{A_{3}} \\overline{E_{3}} + \\chi_{+k_3} A_{3} \\overline{A_{3}} \\overline{E_{3}} + \\chi_{-k_1+k_2+k_3} A_{2} A_{3} \\overline{A_{1}} \\overline{A_{3}} \\overline{E_{3}} + A_{3} E_{3} \\overline{A_{3}} \\overline{E_{3}}$$"
      ],
      "text/plain": [
       "                          __ __ __                             __ __ __       \n",
       "\\chi_{+k_1-k_1+k_3}⋅A₁⋅A₃⋅A₁⋅A₃⋅E₃ + \\chi_{+k_1-k_2+k_3}⋅A₁⋅A₃⋅A₂⋅A₃⋅E₃ + \\chi\n",
       "\n",
       "                      __ __ __                  __ __                         \n",
       "_{+k_2-k_2+k_3}⋅A₂⋅A₃⋅A₂⋅A₃⋅E₃ + \\chi_{+k_3}⋅A₃⋅A₃⋅E₃ + \\chi_{-k_1+k_2+k_3}⋅A₂\n",
       "\n",
       "    __ __ __         __ __\n",
       "⋅A₃⋅A₁⋅A₃⋅E₃ + A₃⋅E₃⋅A₃⋅E₃"
      ]
     },
     "execution_count": 114,
     "metadata": {},
     "output_type": "execute_result"
    }
   ],
   "source": [
    "detected_large = detected_full.func(*detected_large)\n",
    "detected_large"
   ]
  },
  {
   "cell_type": "code",
   "execution_count": 115,
   "metadata": {
    "collapsed": false
   },
   "outputs": [
    {
     "data": {
      "image/png": "[encoded data removed]",
      "text/latex": [
       "$$2 \\chi_{+k_1-k_2+k_3} \\overline{E_{3}} + 2 \\chi_{-k_1+k_2+k_3} \\overline{E_{3}}$$"
      ],
      "text/plain": [
       "                      __                         __\n",
       "2⋅\\chi_{+k_1-k_2+k_3}⋅E₃ + 2⋅\\chi_{-k_1+k_2+k_3}⋅E₃"
      ]
     },
     "execution_count": 115,
     "metadata": {},
     "output_type": "execute_result"
    }
   ],
   "source": [
    "# now onto phase cycling?!\n",
    "a1 = amplitude(1)\n",
    "a3 = amplitude(3)\n",
    "a2 = amplitude(2)\n",
    "phases = [0, sy.pi]\n",
    "# Next line follows Tan's nomenclature\n",
    "factors = [sy.exp(sy.I*p) for p in phases]\n",
    "sum([f*detected_large.subs([(a1, 1),\n",
    "                          (a3, 1),\n",
    "                          (a2, sy.exp(-sy.I*p))])\n",
    "     for f, p in zip(factors, phases)]\n",
    "    )\n",
    "#detected_large.subs([(a1, 1), (a3, 1), (a2, sy.exp(sy.I*sy.pi))])\n",
    "# still an extra term"
   ]
  },
  {
   "cell_type": "code",
   "execution_count": 131,
   "metadata": {
    "collapsed": false
   },
   "outputs": [
    {
     "data": {
      "image/png": "[encoded data removed]",
      "text/latex": [
       "$$\\chi_{+k_1-k_1+k_3} \\overline{E_{3}} + \\chi_{+k_1-k_2+k_3} \\overline{E_{3}} + \\chi_{+k_2-k_2+k_3} \\overline{E_{3}} + \\chi_{+k_3} \\overline{E_{3}} + \\chi_{-k_1+k_2+k_3} \\overline{E_{3}} + E_{3} \\overline{E_{3}} + \\left(\\chi_{+k_1-k_1+k_3} \\overline{E_{3}} + \\chi_{+k_1-k_2+k_3} e^{- \\frac{4 \\pi}{3} i} \\overline{E_{3}} + \\chi_{+k_2-k_2+k_3} \\overline{E_{3}} + \\chi_{+k_3} \\overline{E_{3}} + \\chi_{-k_1+k_2+k_3} e^{\\frac{4 \\pi}{3} i} \\overline{E_{3}} + E_{3} \\overline{E_{3}}\\right) e^{\\frac{4 \\pi}{3} i} + \\left(\\chi_{+k_1-k_1+k_3} \\overline{E_{3}} + \\chi_{+k_1-k_2+k_3} e^{- \\frac{2 \\pi}{3} i} \\overline{E_{3}} + \\chi_{+k_2-k_2+k_3} \\overline{E_{3}} + \\chi_{+k_3} \\overline{E_{3}} + \\chi_{-k_1+k_2+k_3} e^{\\frac{2 \\pi}{3} i} \\overline{E_{3}} + E_{3} \\overline{E_{3}}\\right) e^{\\frac{2 \\pi}{3} i}$$"
      ],
      "text/plain": [
       "                                                                              \n",
       "                                                                              \n",
       "                    __                       __                       __      \n",
       "\\chi_{+k_1-k_1+k_3}⋅E₃ + \\chi_{+k_1-k_2+k_3}⋅E₃ + \\chi_{+k_2-k_2+k_3}⋅E₃ + \\ch\n",
       "\n",
       "                                               ⎛                              \n",
       "                                               ⎜                              \n",
       "         __                       __      __   ⎜                    __        \n",
       "i_{+k_3}⋅E₃ + \\chi_{-k_1+k_2+k_3}⋅E₃ + E₃⋅E₃ + ⎝\\chi_{+k_1-k_1+k_3}⋅E₃ + \\chi_\n",
       "\n",
       "                -4⋅ⅈ⋅π                                                        \n",
       "                ───────                                                       \n",
       "                   3    __                       __               __          \n",
       "{+k_1-k_2+k_3}⋅ℯ       ⋅E₃ + \\chi_{+k_2-k_2+k_3}⋅E₃ + \\chi_{+k_3}⋅E₃ + \\chi_{-\n",
       "\n",
       "              4⋅ⅈ⋅π           ⎞  4⋅ⅈ⋅π   ⎛                                    \n",
       "              ─────           ⎟  ─────   ⎜                                    \n",
       "                3   __      __⎟    3     ⎜                    __              \n",
       "k_1+k_2+k_3}⋅ℯ     ⋅E₃ + E₃⋅E₃⎠⋅ℯ      + ⎝\\chi_{+k_1-k_1+k_3}⋅E₃ + \\chi_{+k_1-\n",
       "\n",
       "          -2⋅ⅈ⋅π                                                              \n",
       "          ───────                                                             \n",
       "             3    __                       __               __                \n",
       "k_2+k_3}⋅ℯ       ⋅E₃ + \\chi_{+k_2-k_2+k_3}⋅E₃ + \\chi_{+k_3}⋅E₃ + \\chi_{-k_1+k_\n",
       "\n",
       "        2⋅ⅈ⋅π           ⎞  2⋅ⅈ⋅π\n",
       "        ─────           ⎟  ─────\n",
       "          3   __      __⎟    3  \n",
       "2+k_3}⋅ℯ     ⋅E₃ + E₃⋅E₃⎠⋅ℯ     "
      ]
     },
     "execution_count": 131,
     "metadata": {},
     "output_type": "execute_result"
    }
   ],
   "source": [
    "# try 3 step\n",
    "phases = [0, sy.Rational(2,3)*sy.pi, sy.Rational(4,3)*sy.pi]\n",
    "factors = [sy.exp(sy.I*p) for p in phases]\n",
    "s = sum([f*detected_large.subs([(a1, 1),\n",
    "                          (a3, 1),\n",
    "                          (a2, sy.exp(sy.I*p))])\n",
    "     for f, p in zip(factors, phases)]\n",
    "    )\n",
    "# doesn't work. My program may need a 'Feynman Pathway' abstraction. Or maybe it does?\n",
    "#sy.simplify(sy.re(s))\n",
    "#s = s.expand(complex=True)\n",
    "#sy.re(s), sy.im(s)\n",
    "s"
   ]
  },
  {
   "cell_type": "code",
   "execution_count": 132,
   "metadata": {
    "collapsed": false
   },
   "outputs": [
    {
     "data": {
      "image/png": "[encoded data removed]",
      "text/latex": [
       "$$\\chi_{+k_1-k_1+k_3} \\overline{E_{3}} + \\chi_{+k_1-k_2+k_3} \\overline{E_{3}} + \\chi_{+k_2-k_2+k_3} \\overline{E_{3}} + \\chi_{+k_3} \\overline{E_{3}} + \\chi_{-k_1+k_2+k_3} \\overline{E_{3}} + E_{3} \\overline{E_{3}} + \\left(\\chi_{+k_1-k_1+k_3} \\overline{E_{3}} + \\chi_{+k_1-k_2+k_3} e^{- \\frac{4 \\pi}{3} i} \\overline{E_{3}} + \\chi_{+k_2-k_2+k_3} \\overline{E_{3}} + \\chi_{+k_3} \\overline{E_{3}} + \\chi_{-k_1+k_2+k_3} e^{\\frac{4 \\pi}{3} i} \\overline{E_{3}} + E_{3} \\overline{E_{3}}\\right) e^{\\frac{4 \\pi}{3} i} + \\left(\\chi_{+k_1-k_1+k_3} \\overline{E_{3}} + \\chi_{+k_1-k_2+k_3} e^{- \\frac{2 \\pi}{3} i} \\overline{E_{3}} + \\chi_{+k_2-k_2+k_3} \\overline{E_{3}} + \\chi_{+k_3} \\overline{E_{3}} + \\chi_{-k_1+k_2+k_3} e^{\\frac{2 \\pi}{3} i} \\overline{E_{3}} + E_{3} \\overline{E_{3}}\\right) e^{\\frac{2 \\pi}{3} i}$$"
      ],
      "text/plain": [
       "                                                                              \n",
       "                                                                              \n",
       "                    __                       __                       __      \n",
       "\\chi_{+k_1-k_1+k_3}⋅E₃ + \\chi_{+k_1-k_2+k_3}⋅E₃ + \\chi_{+k_2-k_2+k_3}⋅E₃ + \\ch\n",
       "\n",
       "                                               ⎛                              \n",
       "                                               ⎜                              \n",
       "         __                       __      __   ⎜                    __        \n",
       "i_{+k_3}⋅E₃ + \\chi_{-k_1+k_2+k_3}⋅E₃ + E₃⋅E₃ + ⎝\\chi_{+k_1-k_1+k_3}⋅E₃ + \\chi_\n",
       "\n",
       "                -4⋅ⅈ⋅π                                                        \n",
       "                ───────                                                       \n",
       "                   3    __                       __               __          \n",
       "{+k_1-k_2+k_3}⋅ℯ       ⋅E₃ + \\chi_{+k_2-k_2+k_3}⋅E₃ + \\chi_{+k_3}⋅E₃ + \\chi_{-\n",
       "\n",
       "              4⋅ⅈ⋅π           ⎞  4⋅ⅈ⋅π   ⎛                                    \n",
       "              ─────           ⎟  ─────   ⎜                                    \n",
       "                3   __      __⎟    3     ⎜                    __              \n",
       "k_1+k_2+k_3}⋅ℯ     ⋅E₃ + E₃⋅E₃⎠⋅ℯ      + ⎝\\chi_{+k_1-k_1+k_3}⋅E₃ + \\chi_{+k_1-\n",
       "\n",
       "          -2⋅ⅈ⋅π                                                              \n",
       "          ───────                                                             \n",
       "             3    __                       __               __                \n",
       "k_2+k_3}⋅ℯ       ⋅E₃ + \\chi_{+k_2-k_2+k_3}⋅E₃ + \\chi_{+k_3}⋅E₃ + \\chi_{-k_1+k_\n",
       "\n",
       "        2⋅ⅈ⋅π           ⎞  2⋅ⅈ⋅π\n",
       "        ─────           ⎟  ─────\n",
       "          3   __      __⎟    3  \n",
       "2+k_3}⋅ℯ     ⋅E₃ + E₃⋅E₃⎠⋅ℯ     "
      ]
     },
     "execution_count": 132,
     "metadata": {},
     "output_type": "execute_result"
    }
   ],
   "source": [
    "s.conjugate().conjugate()"
   ]
  },
  {
   "cell_type": "code",
   "execution_count": 133,
   "metadata": {
    "collapsed": false
   },
   "outputs": [
    {
     "data": {
      "image/png": "[encoded data removed]",
      "text/latex": [
       "$$3 \\Re{\\chi_{+k_1-k_2+k_3}} \\Re{E_{3}} - 3 i \\Re{\\chi_{+k_1-k_2+k_3}} \\Im{E_{3}} + 3 i \\Re{E_{3}} \\Im{\\chi_{+k_1-k_2+k_3}} + 3 \\Im{\\chi_{+k_1-k_2+k_3}} \\Im{E_{3}}$$"
      ],
      "text/plain": [
       "3⋅re(\\chi_{+k_1-k_2+k_3})⋅re(E₃) - 3⋅ⅈ⋅re(\\chi_{+k_1-k_2+k_3})⋅im(E₃) + 3⋅ⅈ⋅re\n",
       "(E₃)⋅im(\\chi_{+k_1-k_2+k_3}) + 3⋅im(\\chi_{+k_1-k_2+k_3})⋅im(E₃)"
      ]
     },
     "execution_count": 133,
     "metadata": {},
     "output_type": "execute_result"
    }
   ],
   "source": [
    "s.expand(complex=True)"
   ]
  },
  {
   "cell_type": "code",
   "execution_count": 135,
   "metadata": {
    "collapsed": false
   },
   "outputs": [
    {
     "data": {
      "image/png": "[encoded data removed]",
      "text/latex": [
       "$$\\left ( 3 \\Re{\\chi_{+k_1-k_2+k_3}} \\Re{E_{3}} + 3 \\Im{\\chi_{+k_1-k_2+k_3}} \\Im{E_{3}}, \\quad - 3 \\Re{\\chi_{+k_1-k_2+k_3}} \\Im{E_{3}} + 3 \\Re{E_{3}} \\Im{\\chi_{+k_1-k_2+k_3}}\\right )$$"
      ],
      "text/plain": [
       "(3⋅re(\\chi_{+k_1-k_2+k_3})⋅re(E₃) + 3⋅im(\\chi_{+k_1-k_2+k_3})⋅im(E₃), -3⋅re(\\c\n",
       "hi_{+k_1-k_2+k_3})⋅im(E₃) + 3⋅re(E₃)⋅im(\\chi_{+k_1-k_2+k_3}))"
      ]
     },
     "execution_count": 135,
     "metadata": {},
     "output_type": "execute_result"
    }
   ],
   "source": [
    "sy.re(s.expand(complex=True)), sy.im(s.expand(complex=True))"
   ]
  },
  {
   "cell_type": "code",
   "execution_count": 137,
   "metadata": {
    "collapsed": false
   },
   "outputs": [
    {
     "data": {
      "image/png": "[encoded data removed]",
      "text/latex": [
       "$$3 \\Re{\\chi_{+k_1-k_2+k_3}} \\Re{E_{3}} - 3 \\Re{\\chi_{+k_1-k_2+k_3}} \\Im{E_{3}} + 3 \\Re{E_{3}} \\Im{\\chi_{+k_1-k_2+k_3}} + 3 \\Im{\\chi_{+k_1-k_2+k_3}} \\Im{E_{3}}$$"
      ],
      "text/plain": [
       "3⋅re(\\chi_{+k_1-k_2+k_3})⋅re(E₃) - 3⋅re(\\chi_{+k_1-k_2+k_3})⋅im(E₃) + 3⋅re(E₃)\n",
       "⋅im(\\chi_{+k_1-k_2+k_3}) + 3⋅im(\\chi_{+k_1-k_2+k_3})⋅im(E₃)"
      ]
     },
     "execution_count": 137,
     "metadata": {},
     "output_type": "execute_result"
    }
   ],
   "source": [
    "sy.re(s.expand(complex=True)) +sy.im(s.expand(complex=True))"
   ]
  },
  {
   "cell_type": "code",
   "execution_count": 120,
   "metadata": {
    "collapsed": false
   },
   "outputs": [
    {
     "data": {
      "image/png": "[encoded data removed]",
      "text/latex": [
       "$$- 3 \\Re{\\chi_{+k_1-k_2+k_3}} \\Re{E_{3}} + 3 i \\Re{\\chi_{+k_1-k_2+k_3}} \\Im{E_{3}} - 3 i \\Re{E_{3}} \\Im{\\chi_{+k_1-k_2+k_3}} - 3 \\Im{\\chi_{+k_1-k_2+k_3}} \\Im{E_{3}}$$"
      ],
      "text/plain": [
       "-3⋅re(\\chi_{+k_1-k_2+k_3})⋅re(E₃) + 3⋅ⅈ⋅re(\\chi_{+k_1-k_2+k_3})⋅im(E₃) - 3⋅ⅈ⋅r\n",
       "e(E₃)⋅im(\\chi_{+k_1-k_2+k_3}) - 3⋅im(\\chi_{+k_1-k_2+k_3})⋅im(E₃)"
      ]
     },
     "execution_count": 120,
     "metadata": {},
     "output_type": "execute_result"
    }
   ],
   "source": [
    "# second 3-step\n",
    "# try 3 step\n",
    "phases = [0, sy.Rational(2,3)*sy.pi, sy.Rational(4,3)*sy.pi]\n",
    "factors = [-sy.exp(sy.I*p) for p in phases]\n",
    "s = sum([f*detected_large.subs([(a1, 1),\n",
    "                          (a3, 1),\n",
    "                          (a2, sy.exp(sy.I*p))])\n",
    "     for f, p in zip(factors, phases)]\n",
    "    )\n",
    "# doesn't work. My program may need a 'Feynman Pathway' abstraction. Or maybe it does?\n",
    "#sy.simplify(sy.re(s))\n",
    "s.expand(complex=True)"
   ]
  },
  {
   "cell_type": "code",
   "execution_count": 117,
   "metadata": {
    "collapsed": false
   },
   "outputs": [
    {
     "data": {
      "image/png": "[encoded data removed]",
      "text/latex": [
       "$$4 \\Re{\\left(\\chi_{-k_1+k_2+k_3} \\overline{E_{3}}\\right)}$$"
      ],
      "text/plain": [
       "    ⎛                    __⎞\n",
       "4⋅re⎝\\chi_{-k_1+k_2+k_3}⋅E₃⎠"
      ]
     },
     "execution_count": 117,
     "metadata": {},
     "output_type": "execute_result"
    }
   ],
   "source": [
    "# try 4 step\n",
    "phases = [0, sy.pi/2, sy.pi, 3*sy.pi/2]\n",
    "factors = [sy.exp(sy.I*p) for p in phases]\n",
    "sy.re(sum([f*detected_large.subs([(a1, 1),\n",
    "                          (a3, 1),\n",
    "                          (a2, sy.exp(-sy.I*p))])\n",
    "     for f, p in zip(factors, phases)]\n",
    "    ))\n"
   ]
  },
  {
   "cell_type": "code",
   "execution_count": 118,
   "metadata": {
    "collapsed": false
   },
   "outputs": [
    {
     "data": {
      "image/png": "[encoded data removed]",
      "text/latex": [
       "$$\\chi_{+k_1-k_1+k_3} \\overline{E_{3}} + \\chi_{+k_1-k_2+k_3} e^{- i \\Delta\\phi_{12}} \\overline{E_{3}} + \\chi_{+k_2-k_2+k_3} \\overline{E_{3}} + \\chi_{+k_3} \\overline{E_{3}} + \\chi_{-k_1+k_2+k_3} e^{i \\Delta\\phi_{12}} \\overline{E_{3}} + E_{3} \\overline{E_{3}}$$"
      ],
      "text/plain": [
       "                    __                        -ⅈ⋅\\Delta\\phi_{12} __           \n",
       "\\chi_{+k_1-k_1+k_3}⋅E₃ + \\chi_{+k_1-k_2+k_3}⋅ℯ                  ⋅E₃ + \\chi_{+k\n",
       "\n",
       "            __               __                        ⅈ⋅\\Delta\\phi_{12} __   \n",
       "_2-k_2+k_3}⋅E₃ + \\chi_{+k_3}⋅E₃ + \\chi_{-k_1+k_2+k_3}⋅ℯ                 ⋅E₃ + \n",
       "\n",
       "   __\n",
       "E₃⋅E₃"
      ]
     },
     "execution_count": 118,
     "metadata": {},
     "output_type": "execute_result"
    }
   ],
   "source": [
    "phi12 = sy.symbols(\"\\Delta\\phi_{12}\", real=True)\n",
    "detected_large.subs([(a1, 1),\n",
    "                          (a3, 1),\n",
    "                          (a2, sy.exp(sy.I*phi12))])\n"
   ]
  },
  {
   "cell_type": "code",
   "execution_count": 46,
   "metadata": {
    "collapsed": false
   },
   "outputs": [
    {
     "ename": "NameError",
     "evalue": "name 'accumulate' is not defined",
     "output_type": "error",
     "traceback": [
      "\u001b[0;31m---------------------------------------------------------------------------\u001b[0m",
      "\u001b[0;31mNameError\u001b[0m                                 Traceback (most recent call last)",
      "\u001b[0;32m<ipython-input-46-be37cd9e2ba9>\u001b[0m in \u001b[0;36m<module>\u001b[0;34m()\u001b[0m\n\u001b[0;32m----> 1\u001b[0;31m \u001b[0mlist\u001b[0m\u001b[0;34m(\u001b[0m\u001b[0maccumulate\u001b[0m\u001b[0;34m(\u001b[0m\u001b[0mrange\u001b[0m\u001b[0;34m(\u001b[0m\u001b[0;36m5\u001b[0m\u001b[0;34m)\u001b[0m\u001b[0;34m)\u001b[0m\u001b[0;34m)\u001b[0m\u001b[0;34m\u001b[0m\u001b[0m\n\u001b[0m",
      "\u001b[0;31mNameError\u001b[0m: name 'accumulate' is not defined"
     ]
    }
   ],
   "source": [
    "list(accumulate(range(5)))"
   ]
  },
  {
   "cell_type": "code",
   "execution_count": 54,
   "metadata": {
    "collapsed": false
   },
   "outputs": [
    {
     "data": {
      "image/png": "[encoded data removed]",
      "text/latex": [
       "$$0$$"
      ],
      "text/plain": [
       "0"
      ]
     },
     "execution_count": 54,
     "metadata": {},
     "output_type": "execute_result"
    }
   ],
   "source": [
    "a_list = list(range(5))\n",
    "iter(a_list).next()"
   ]
  },
  {
   "cell_type": "code",
   "execution_count": 55,
   "metadata": {
    "collapsed": false
   },
   "outputs": [
    {
     "data": {
      "image/png": "[encoded data removed]",
      "text/latex": [
       "$$\\left [ 1, \\quad 3, \\quad 6, \\quad 10\\right ]$$"
      ],
      "text/plain": [
       "[1, 3, 6, 10]"
      ]
     },
     "execution_count": 55,
     "metadata": {},
     "output_type": "execute_result"
    }
   ],
   "source": [
    "list(accumulator(range(5)))"
   ]
  },
  {
   "cell_type": "code",
   "execution_count": 56,
   "metadata": {
    "collapsed": false
   },
   "outputs": [
    {
     "data": {
      "image/png": "[encoded data removed]",
      "text/latex": [
       "$$\\left [ 1, \\quad 3, \\quad 6, \\quad 10\\right ]$$"
      ],
      "text/plain": [
       "[1, 3, 6, 10]"
      ]
     },
     "execution_count": 56,
     "metadata": {},
     "output_type": "execute_result"
    }
   ],
   "source": [
    "accumulated(range(5))"
   ]
  },
  {
   "cell_type": "code",
   "execution_count": 57,
   "metadata": {
    "collapsed": false
   },
   "outputs": [
    {
     "data": {
      "text/plain": [
       "True"
      ]
     },
     "execution_count": 57,
     "metadata": {},
     "output_type": "execute_result"
    }
   ],
   "source": [
    "single_excitation([-1, +2, +3])"
   ]
  },
  {
   "cell_type": "code",
   "execution_count": 58,
   "metadata": {
    "collapsed": false
   },
   "outputs": [
    {
     "data": {
      "text/plain": [
       "False"
      ]
     },
     "execution_count": 58,
     "metadata": {},
     "output_type": "execute_result"
    }
   ],
   "source": [
    "single_excitation([-1, -2, +3])"
   ]
  },
  {
   "cell_type": "code",
   "execution_count": 59,
   "metadata": {
    "collapsed": false
   },
   "outputs": [
    {
     "data": {
      "text/plain": [
       "False"
      ]
     },
     "execution_count": 59,
     "metadata": {},
     "output_type": "execute_result"
    }
   ],
   "source": [
    "single_excitation([-1, -1, +3])"
   ]
  },
  {
   "cell_type": "markdown",
   "metadata": {
    "collapsed": true
   },
   "source": [
    "## See if we can deal with scatter"
   ]
  },
  {
   "cell_type": "code",
   "execution_count": 139,
   "metadata": {
    "collapsed": false
   },
   "outputs": [
    {
     "data": {
      "image/png": "[encoded data removed]",
      "text/latex": [
       "$$\\chi_{+k_1-k_1+k_3} A_{1} A_{3} \\overline{A_{1}} \\overline{A_{3}} \\overline{E_{3}} + \\chi_{+k_1-k_2+k_3} A_{1} A_{3} \\overline{A_{2}} \\overline{A_{3}} \\overline{E_{3}} + \\chi_{+k_2-k_2+k_3} A_{2} A_{3} \\overline{A_{2}} \\overline{A_{3}} \\overline{E_{3}} + \\chi_{+k_3} A_{3} \\overline{A_{3}} \\overline{E_{3}} + \\chi_{-k_1+k_2+k_3} A_{2} A_{3} \\overline{A_{1}} \\overline{A_{3}} \\overline{E_{3}} + A_{1} E_{1} \\alpha^{2} \\overline{A_{1}} \\overline{E_{1}} + A_{1} E_{1} \\alpha^{2} \\overline{A_{2}} \\overline{E_{2}} + A_{1} E_{1} \\alpha \\overline{A_{3}} \\overline{E_{3}} + A_{2} E_{2} \\alpha^{2} \\overline{A_{1}} \\overline{E_{1}} + A_{2} E_{2} \\alpha^{2} \\overline{A_{2}} \\overline{E_{2}} + A_{2} E_{2} \\alpha \\overline{A_{3}} \\overline{E_{3}} + A_{3} E_{3} \\alpha \\overline{A_{1}} \\overline{E_{1}} + A_{3} E_{3} \\alpha \\overline{A_{2}} \\overline{E_{2}} + A_{3} E_{3} \\overline{A_{3}} \\overline{E_{3}}$$"
      ],
      "text/plain": [
       "                          __ __ __                             __ __ __       \n",
       "\\chi_{+k_1-k_1+k_3}⋅A₁⋅A₃⋅A₁⋅A₃⋅E₃ + \\chi_{+k_1-k_2+k_3}⋅A₁⋅A₃⋅A₂⋅A₃⋅E₃ + \\chi\n",
       "\n",
       "                      __ __ __                  __ __                         \n",
       "_{+k_2-k_2+k_3}⋅A₂⋅A₃⋅A₂⋅A₃⋅E₃ + \\chi_{+k_3}⋅A₃⋅A₃⋅E₃ + \\chi_{-k_1+k_2+k_3}⋅A₂\n",
       "\n",
       "    __ __ __               2 __ __               2 __ __                __ __ \n",
       "⋅A₃⋅A₁⋅A₃⋅E₃ + A₁⋅E₁⋅\\alpha ⋅A₁⋅E₁ + A₁⋅E₁⋅\\alpha ⋅A₂⋅E₂ + A₁⋅E₁⋅\\alpha⋅A₃⋅E₃ \n",
       "\n",
       "              2 __ __               2 __ __                __ __              \n",
       "+ A₂⋅E₂⋅\\alpha ⋅A₁⋅E₁ + A₂⋅E₂⋅\\alpha ⋅A₂⋅E₂ + A₂⋅E₂⋅\\alpha⋅A₃⋅E₃ + A₃⋅E₃⋅\\alph\n",
       "\n",
       "  __ __                __ __         __ __\n",
       "a⋅A₁⋅E₁ + A₃⋅E₃⋅\\alpha⋅A₂⋅E₂ + A₃⋅E₃⋅A₃⋅E₃"
      ]
     },
     "execution_count": 139,
     "metadata": {},
     "output_type": "execute_result"
    }
   ],
   "source": [
    "scat = sy.symbols(r'\\alpha', real=True)\n",
    "e1, e2, e3 = sy.symbols('E_1:4')\n",
    "sig_w_scatter = sig+scat*(a1*e1+a2*e2)\n",
    "sig_w_scatter = sy.expand(np.conjugate(sig_w_scatter)*sig_w_scatter)\n",
    "## remove scatter cross terms (\\alpha is small) # maybe that is what they call 'pump-pump scatter'\n",
    "#sig_w_scatter = (sig_w_scatter + sy.O(scat**2)).removeO()\n",
    "head = sig_w_scatter.func\n",
    "# there is a problem with the complex conjugates. Or is there? maybe not in fourier space...\n",
    "# But maybe we don't have to be in Fourier Space. \n",
    "sig_w_scatter = filter(lambda s: 'conjugate(\\\\chi' not in repr(s), sig_w_scatter.args)\n",
    "# remove terms depending on double responses (vanishingly small)\n",
    "sig_w_scatter = filter(lambda s: repr(s).count(r'\\chi_')<2, sig_w_scatter)\n",
    "# remove scatter-response cross-terms (small) ... maybe that is not needed\n",
    "sig_w_scatter = filter(lambda s: not (r'\\chi' in repr(s) and r'\\alpha'  in repr(s)), sig_w_scatter)\n",
    "sig_w_scatter = head(*sig_w_scatter)\n",
    "sig_w_scatter"
   ]
  },
  {
   "cell_type": "code",
   "execution_count": 62,
   "metadata": {
    "collapsed": false
   },
   "outputs": [
    {
     "data": {
      "image/png": "[encoded data removed]",
      "text/latex": [
       "$$2 \\chi_{+k_1-k_1+k_2} \\overline{E_{3}} + 2 \\chi_{+k_1-k_2+k_3} \\overline{E_{3}} + 2 \\chi_{+k_2} \\overline{E_{3}} + 2 \\chi_{-k_1+k_2+k_3} \\overline{E_{3}} + 2 \\chi_{-k_2+k_3+k_3} \\overline{E_{3}} + 2 E_{1} \\alpha^{2} \\overline{E_{2}} + 2 E_{2} \\alpha^{2} \\overline{E_{1}} + 2 E_{2} \\alpha \\overline{E_{3}} + 2 E_{3} \\alpha \\overline{E_{2}}$$"
      ],
      "text/plain": [
       "                      __                         __                 __        \n",
       "2⋅\\chi_{+k_1-k_1+k_2}⋅E₃ + 2⋅\\chi_{+k_1-k_2+k_3}⋅E₃ + 2⋅\\chi_{+k_2}⋅E₃ + 2⋅\\ch\n",
       "\n",
       "                 __                         __              2 __              \n",
       "i_{-k_1+k_2+k_3}⋅E₃ + 2⋅\\chi_{-k_2+k_3+k_3}⋅E₃ + 2⋅E₁⋅\\alpha ⋅E₂ + 2⋅E₂⋅\\alpha\n",
       "\n",
       "2 __               __               __\n",
       " ⋅E₁ + 2⋅E₂⋅\\alpha⋅E₃ + 2⋅E₃⋅\\alpha⋅E₂"
      ]
     },
     "execution_count": 62,
     "metadata": {},
     "output_type": "execute_result"
    }
   ],
   "source": [
    "phases = [0, sy.I*sy.pi]\n",
    "factors = [1, -1]\n",
    "cycled = sum([f*sig_w_scatter.subs([(a1, 1),\n",
    "                          (a3, 1),\n",
    "                          (a2, sy.exp(p))])\n",
    "     for f, p in zip(factors, phases)]\n",
    "    )\n",
    "cycled"
   ]
  },
  {
   "cell_type": "code",
   "execution_count": null,
   "metadata": {
    "collapsed": true
   },
   "outputs": [],
   "source": []
  },
  {
   "cell_type": "code",
   "execution_count": null,
   "metadata": {
    "collapsed": false
   },
   "outputs": [],
   "source": [
    "\n",
    "sy.expand(sy.Integer(-1)**sy.Rational(2,3))"
   ]
  },
  {
   "cell_type": "markdown",
   "metadata": {},
   "source": [
    "## Collinear geometry\n"
   ]
  },
  {
   "cell_type": "code",
   "execution_count": 150,
   "metadata": {
    "collapsed": false
   },
   "outputs": [
    {
     "data": {
      "image/png": "[encoded data removed]",
      "text/latex": [
       "$$\\chi_{+k_1-k_1+k_2} A_{1} A_{2} \\overline{A_{1}}^{2} \\overline{E_{1}} + \\chi_{+k_1-k_1+k_2} A_{1} A_{2} \\overline{A_{1}} \\overline{A_{2}} \\overline{E_{2}} + \\chi_{+k_1-k_1+k_2} A_{1} A_{2} \\overline{A_{1}} \\overline{A_{3}} \\overline{E_{3}} + \\chi_{+k_1-k_1+k_3} A_{1} A_{3} \\overline{A_{1}}^{2} \\overline{E_{1}} + \\chi_{+k_1-k_1+k_3} A_{1} A_{3} \\overline{A_{1}} \\overline{A_{2}} \\overline{E_{2}} + \\chi_{+k_1-k_1+k_3} A_{1} A_{3} \\overline{A_{1}} \\overline{A_{3}} \\overline{E_{3}} + \\chi_{+k_1-k_2+k_3} A_{1} A_{3} \\overline{A_{1}} \\overline{A_{2}} \\overline{E_{1}} + \\chi_{+k_1-k_2+k_3} A_{1} A_{3} \\overline{A_{2}}^{2} \\overline{E_{2}} + \\chi_{+k_1-k_2+k_3} A_{1} A_{3} \\overline{A_{2}} \\overline{A_{3}} \\overline{E_{3}} + \\chi_{+k_1} A_{1} \\overline{A_{1}} \\overline{E_{1}} + \\chi_{+k_1} A_{1} \\overline{A_{2}} \\overline{E_{2}} + \\chi_{+k_1} A_{1} \\overline{A_{3}} \\overline{E_{3}} + \\chi_{+k_2-k_2+k_3} A_{2} A_{3} \\overline{A_{1}} \\overline{A_{2}} \\overline{E_{1}} + \\chi_{+k_2-k_2+k_3} A_{2} A_{3} \\overline{A_{2}}^{2} \\overline{E_{2}} + \\chi_{+k_2-k_2+k_3} A_{2} A_{3} \\overline{A_{2}} \\overline{A_{3}} \\overline{E_{3}} + \\chi_{+k_2} A_{2} \\overline{A_{1}} \\overline{E_{1}} + \\chi_{+k_2} A_{2} \\overline{A_{2}} \\overline{E_{2}} + \\chi_{+k_2} A_{2} \\overline{A_{3}} \\overline{E_{3}} + \\chi_{+k_3} A_{3} \\overline{A_{1}} \\overline{E_{1}} + \\chi_{+k_3} A_{3} \\overline{A_{2}} \\overline{E_{2}} + \\chi_{+k_3} A_{3} \\overline{A_{3}} \\overline{E_{3}} + \\chi_{-k_1+k_2+k_2} A_{2}^{2} \\overline{A_{1}}^{2} \\overline{E_{1}} + \\chi_{-k_1+k_2+k_2} A_{2}^{2} \\overline{A_{1}} \\overline{A_{2}} \\overline{E_{2}} + \\chi_{-k_1+k_2+k_2} A_{2}^{2} \\overline{A_{1}} \\overline{A_{3}} \\overline{E_{3}} + \\chi_{-k_1+k_2+k_3} A_{2} A_{3} \\overline{A_{1}}^{2} \\overline{E_{1}} + \\chi_{-k_1+k_2+k_3} A_{2} A_{3} \\overline{A_{1}} \\overline{A_{2}} \\overline{E_{2}} + \\chi_{-k_1+k_2+k_3} A_{2} A_{3} \\overline{A_{1}} \\overline{A_{3}} \\overline{E_{3}} + \\chi_{-k_1+k_3+k_3} A_{3}^{2} \\overline{A_{1}}^{2} \\overline{E_{1}} + \\chi_{-k_1+k_3+k_3} A_{3}^{2} \\overline{A_{1}} \\overline{A_{2}} \\overline{E_{2}} + \\chi_{-k_1+k_3+k_3} A_{3}^{2} \\overline{A_{1}} \\overline{A_{3}} \\overline{E_{3}} + \\chi_{-k_2+k_3+k_3} A_{3}^{2} \\overline{A_{1}} \\overline{A_{2}} \\overline{E_{1}} + \\chi_{-k_2+k_3+k_3} A_{3}^{2} \\overline{A_{2}}^{2} \\overline{E_{2}} + \\chi_{-k_2+k_3+k_3} A_{3}^{2} \\overline{A_{2}} \\overline{A_{3}} \\overline{E_{3}} + A_{1} E_{1} \\overline{A_{1}} \\overline{E_{1}} + A_{1} E_{1} \\overline{A_{2}} \\overline{E_{2}} + A_{1} E_{1} \\overline{A_{3}} \\overline{E_{3}} + A_{2} E_{2} \\overline{A_{1}} \\overline{E_{1}} + A_{2} E_{2} \\overline{A_{2}} \\overline{E_{2}} + A_{2} E_{2} \\overline{A_{3}} \\overline{E_{3}} + A_{3} E_{3} \\overline{A_{1}} \\overline{E_{1}} + A_{3} E_{3} \\overline{A_{2}} \\overline{E_{2}} + A_{3} E_{3} \\overline{A_{3}} \\overline{E_{3}}$$"
      ],
      "text/plain": [
       "                            2                                                 \n",
       "                          __  __                             __ __ __         \n",
       "\\chi_{+k_1-k_1+k_2}⋅A₁⋅A₂⋅A₁ ⋅E₁ + \\chi_{+k_1-k_1+k_2}⋅A₁⋅A₂⋅A₁⋅A₂⋅E₂ + \\chi_{\n",
       "\n",
       "                                                           2                  \n",
       "                    __ __ __                             __  __               \n",
       "+k_1-k_1+k_2}⋅A₁⋅A₂⋅A₁⋅A₃⋅E₃ + \\chi_{+k_1-k_1+k_3}⋅A₁⋅A₃⋅A₁ ⋅E₁ + \\chi_{+k_1-k\n",
       "\n",
       "                                                                              \n",
       "              __ __ __                             __ __ __                   \n",
       "_1+k_3}⋅A₁⋅A₃⋅A₁⋅A₂⋅E₂ + \\chi_{+k_1-k_1+k_3}⋅A₁⋅A₃⋅A₁⋅A₃⋅E₃ + \\chi_{+k_1-k_2+k\n",
       "\n",
       "                                                 2                            \n",
       "          __ __ __                             __  __                         \n",
       "_3}⋅A₁⋅A₃⋅A₁⋅A₂⋅E₁ + \\chi_{+k_1-k_2+k_3}⋅A₁⋅A₃⋅A₂ ⋅E₂ + \\chi_{+k_1-k_2+k_3}⋅A₁\n",
       "\n",
       "                                                                              \n",
       "    __ __ __                  __ __                  __ __                  __\n",
       "⋅A₃⋅A₂⋅A₃⋅E₃ + \\chi_{+k_1}⋅A₁⋅A₁⋅E₁ + \\chi_{+k_1}⋅A₁⋅A₂⋅E₂ + \\chi_{+k_1}⋅A₁⋅A₃\n",
       "\n",
       "                                                                       2      \n",
       " __                             __ __ __                             __  __   \n",
       "⋅E₃ + \\chi_{+k_2-k_2+k_3}⋅A₂⋅A₃⋅A₁⋅A₂⋅E₁ + \\chi_{+k_2-k_2+k_3}⋅A₂⋅A₃⋅A₂ ⋅E₂ + \n",
       "\n",
       "                                                                              \n",
       "                          __ __ __                  __ __                  __ \n",
       "\\chi_{+k_2-k_2+k_3}⋅A₂⋅A₃⋅A₂⋅A₃⋅E₃ + \\chi_{+k_2}⋅A₂⋅A₁⋅E₁ + \\chi_{+k_2}⋅A₂⋅A₂⋅\n",
       "\n",
       "                                                                              \n",
       "__                  __ __                  __ __                  __ __       \n",
       "E₂ + \\chi_{+k_2}⋅A₂⋅A₃⋅E₃ + \\chi_{+k_3}⋅A₃⋅A₁⋅E₁ + \\chi_{+k_3}⋅A₃⋅A₂⋅E₂ + \\chi\n",
       "\n",
       "                                             2                                \n",
       "           __ __                         2 __  __                         2 __\n",
       "_{+k_3}⋅A₃⋅A₃⋅E₃ + \\chi_{-k_1+k_2+k_2}⋅A₂ ⋅A₁ ⋅E₁ + \\chi_{-k_1+k_2+k_2}⋅A₂ ⋅A₁\n",
       "\n",
       "                                                                        2     \n",
       " __ __                         2 __ __ __                             __  __  \n",
       "⋅A₂⋅E₂ + \\chi_{-k_1+k_2+k_2}⋅A₂ ⋅A₁⋅A₃⋅E₃ + \\chi_{-k_1+k_2+k_3}⋅A₂⋅A₃⋅A₁ ⋅E₁ +\n",
       "\n",
       "                                                                              \n",
       "                           __ __ __                             __ __ __      \n",
       " \\chi_{-k_1+k_2+k_3}⋅A₂⋅A₃⋅A₁⋅A₂⋅E₂ + \\chi_{-k_1+k_2+k_3}⋅A₂⋅A₃⋅A₁⋅A₃⋅E₃ + \\ch\n",
       "\n",
       "                       2                                                      \n",
       "                   2 __  __                         2 __ __ __                \n",
       "i_{-k_1+k_3+k_3}⋅A₃ ⋅A₁ ⋅E₁ + \\chi_{-k_1+k_3+k_3}⋅A₃ ⋅A₁⋅A₂⋅E₂ + \\chi_{-k_1+k_\n",
       "\n",
       "                                                                              \n",
       "         2 __ __ __                         2 __ __ __                        \n",
       "3+k_3}⋅A₃ ⋅A₁⋅A₃⋅E₃ + \\chi_{-k_2+k_3+k_3}⋅A₃ ⋅A₁⋅A₂⋅E₁ + \\chi_{-k_2+k_3+k_3}⋅A\n",
       "\n",
       "     2                                                                        \n",
       " 2 __  __                         2 __ __ __         __ __         __ __      \n",
       "₃ ⋅A₂ ⋅E₂ + \\chi_{-k_2+k_3+k_3}⋅A₃ ⋅A₂⋅A₃⋅E₃ + A₁⋅E₁⋅A₁⋅E₁ + A₁⋅E₁⋅A₂⋅E₂ + A₁⋅\n",
       "\n",
       "                                                                              \n",
       "   __ __         __ __         __ __         __ __         __ __         __ __\n",
       "E₁⋅A₃⋅E₃ + A₂⋅E₂⋅A₁⋅E₁ + A₂⋅E₂⋅A₂⋅E₂ + A₂⋅E₂⋅A₃⋅E₃ + A₃⋅E₃⋅A₁⋅E₁ + A₃⋅E₃⋅A₂⋅E₂\n",
       "\n",
       "              \n",
       "         __ __\n",
       " + A₃⋅E₃⋅A₃⋅E₃"
      ]
     },
     "execution_count": 150,
     "metadata": {},
     "output_type": "execute_result"
    }
   ],
   "source": [
    "# setup filters\n",
    "col = multifilter([fundamental_freq, positive_last, single_excitation])\n",
    "expr = sum(signals_for_order(i, n_pulses=3, filter_=col) for i in [1,2,3])\n",
    "sig = sum([mul(*t) for t in zip(sy.symbols('E_1:4'), sy.symbols('A_1:4'))]) + expr\n",
    "sig = sy.expand(sy.conjugate(sig)*sig)\n",
    "head = sig.func\n",
    "args = sig.args\n",
    "# filter out conjugates while we learn about this\n",
    "args = filter(lambda s: 'conjugate(\\\\chi' not in repr(s), args)\n",
    "args = filter(lambda s: repr(s).count(r'\\chi_')<2, args)\n",
    "sig = head(*args)\n",
    "sig"
   ]
  },
  {
   "cell_type": "code",
   "execution_count": 82,
   "metadata": {
    "collapsed": false
   },
   "outputs": [
    {
     "data": {
      "image/png": "[encoded data removed]",
      "text/latex": [
       "$$42$$"
      ],
      "text/plain": [
       "42"
      ]
     },
     "execution_count": 82,
     "metadata": {},
     "output_type": "execute_result"
    }
   ],
   "source": [
    "len(sig.args)"
   ]
  },
  {
   "cell_type": "code",
   "execution_count": 99,
   "metadata": {
    "collapsed": false
   },
   "outputs": [],
   "source": [
    "b1, b2, b3 = sy.symbols('b_1:4', non_negative=True, real=True)\n",
    "phi1, phi2, phi3 = sy.symbols(r'\\phi_1:4', real=True)\n",
    "sigs = sig.subs([\n",
    "        (a1, b1*sy.exp(-sy.I*phi1)),\n",
    "        (a2, b2*sy.exp(-sy.I*phi2)),\n",
    "        (a3, b3*sy.exp(-sy.I*phi3))\n",
    "    ])"
   ]
  },
  {
   "cell_type": "code",
   "execution_count": 100,
   "metadata": {
    "collapsed": false
   },
   "outputs": [
    {
     "data": {
      "text/plain": [
       "True"
      ]
     },
     "execution_count": 100,
     "metadata": {},
     "output_type": "execute_result"
    }
   ],
   "source": [
    "def find_sym(expr1, expr2):\n",
    "    \"Find expr1 in expr2. Returns a boolean if found.\"\n",
    "    for a in sy.postorder_traversal(expr2):\n",
    "        if expr1 == a:\n",
    "            return True\n",
    "    return False\n",
    "\n",
    "find_sym(sy.sympify('x'), sy.sympify('x*y+1'))"
   ]
  },
  {
   "cell_type": "code",
   "execution_count": 101,
   "metadata": {
    "collapsed": false
   },
   "outputs": [
    {
     "data": {
      "image/png": "[encoded data removed]",
      "text/latex": [
       "$$\\left ( E_{1} b_{1}^{2} \\overline{E_{1}}, \\quad E_{2} b_{2}^{2} \\overline{E_{2}}, \\quad E_{3} b_{3}^{2} \\overline{E_{3}}, \\quad \\chi_{+k_1} b_{1}^{2} \\overline{E_{1}}, \\quad \\chi_{+k_2} b_{2}^{2} \\overline{E_{2}}, \\quad \\chi_{+k_3} b_{3}^{2} \\overline{E_{3}}, \\quad \\chi_{+k_1-k_1+k_2} b_{1}^{2} b_{2}^{2} \\overline{E_{2}}, \\quad \\chi_{+k_1-k_1+k_3} b_{1}^{2} b_{3}^{2} \\overline{E_{3}}, \\quad \\chi_{+k_2-k_2+k_3} b_{2}^{2} b_{3}^{2} \\overline{E_{3}}, \\quad E_{2} b_{2} b_{3} e^{- i \\phi_2} e^{i \\phi_3} \\overline{E_{3}}, \\quad E_{3} b_{2} b_{3} e^{i \\phi_2} e^{- i \\phi_3} \\overline{E_{2}}, \\quad \\chi_{+k_2} b_{2} b_{3} e^{- i \\phi_2} e^{i \\phi_3} \\overline{E_{3}}, \\quad \\chi_{+k_3} b_{2} b_{3} e^{i \\phi_2} e^{- i \\phi_3} \\overline{E_{2}}, \\quad \\chi_{-k_2+k_3+k_3} b_{2} b_{3}^{3} e^{i \\phi_2} e^{- i \\phi_3} \\overline{E_{3}}, \\quad \\chi_{+k_2-k_2+k_3} b_{2}^{3} b_{3} e^{i \\phi_2} e^{- i \\phi_3} \\overline{E_{2}}, \\quad \\chi_{-k_2+k_3+k_3} b_{2}^{2} b_{3}^{2} e^{2 i \\phi_2} e^{- 2 i \\phi_3} \\overline{E_{2}}, \\quad \\chi_{+k_1-k_1+k_2} b_{1}^{2} b_{2} b_{3} e^{- i \\phi_2} e^{i \\phi_3} \\overline{E_{3}}, \\quad \\chi_{+k_1-k_1+k_3} b_{1}^{2} b_{2} b_{3} e^{i \\phi_2} e^{- i \\phi_3} \\overline{E_{2}}, \\quad \\chi_{+k_1-k_2+k_3} b_{1}^{2} b_{2} b_{3} e^{i \\phi_2} e^{- i \\phi_3} \\overline{E_{1}}\\right )$$"
      ],
      "text/plain": [
       "⎛     2 __       2 __       2 __                2 __                2 __      \n",
       "⎝E₁⋅b₁ ⋅E₁, E₂⋅b₂ ⋅E₂, E₃⋅b₃ ⋅E₃, \\chi_{+k_1}⋅b₁ ⋅E₁, \\chi_{+k_2}⋅b₂ ⋅E₂, \\chi\n",
       "\n",
       "          2 __                        2   2 __                        2   2 __\n",
       "_{+k_3}⋅b₃ ⋅E₃, \\chi_{+k_1-k_1+k_2}⋅b₁ ⋅b₂ ⋅E₂, \\chi_{+k_1-k_1+k_3}⋅b₁ ⋅b₃ ⋅E₃\n",
       "\n",
       "                        2   2 __            -ⅈ⋅\\phi₂  ⅈ⋅\\phi₃ __            ⅈ⋅\n",
       ", \\chi_{+k_2-k_2+k_3}⋅b₂ ⋅b₃ ⋅E₃, E₂⋅b₂⋅b₃⋅ℯ        ⋅ℯ       ⋅E₃, E₃⋅b₂⋅b₃⋅ℯ  \n",
       "\n",
       "\\phi₂  -ⅈ⋅\\phi₃ __                     -ⅈ⋅\\phi₂  ⅈ⋅\\phi₃ __                   \n",
       "     ⋅ℯ        ⋅E₂, \\chi_{+k_2}⋅b₂⋅b₃⋅ℯ        ⋅ℯ       ⋅E₃, \\chi_{+k_3}⋅b₂⋅b₃\n",
       "\n",
       "  ⅈ⋅\\phi₂  -ⅈ⋅\\phi₃ __                           3  ⅈ⋅\\phi₂  -ⅈ⋅\\phi₃ __      \n",
       "⋅ℯ       ⋅ℯ        ⋅E₂, \\chi_{-k_2+k_3+k_3}⋅b₂⋅b₃ ⋅ℯ       ⋅ℯ        ⋅E₃, \\chi\n",
       "\n",
       "                  3     ⅈ⋅\\phi₂  -ⅈ⋅\\phi₃ __                        2   2  2⋅ⅈ\n",
       "_{+k_2-k_2+k_3}⋅b₂ ⋅b₃⋅ℯ       ⋅ℯ        ⋅E₂, \\chi_{-k_2+k_3+k_3}⋅b₂ ⋅b₃ ⋅ℯ   \n",
       "\n",
       "⋅\\phi₂  -2⋅ⅈ⋅\\phi₃ __                        2        -ⅈ⋅\\phi₂  ⅈ⋅\\phi₃ __    \n",
       "      ⋅ℯ          ⋅E₂, \\chi_{+k_1-k_1+k_2}⋅b₁ ⋅b₂⋅b₃⋅ℯ        ⋅ℯ       ⋅E₃, \\c\n",
       "\n",
       "                    2        ⅈ⋅\\phi₂  -ⅈ⋅\\phi₃ __                        2    \n",
       "hi_{+k_1-k_1+k_3}⋅b₁ ⋅b₂⋅b₃⋅ℯ       ⋅ℯ        ⋅E₂, \\chi_{+k_1-k_2+k_3}⋅b₁ ⋅b₂⋅\n",
       "\n",
       "    ⅈ⋅\\phi₂  -ⅈ⋅\\phi₃ __⎞\n",
       "b₃⋅ℯ       ⋅ℯ        ⋅E₁⎠"
      ]
     },
     "execution_count": 101,
     "metadata": {},
     "output_type": "execute_result"
    }
   ],
   "source": [
    "# terms without phi1\n",
    "filter(lambda x: not find_sym(phi1, x), sigs.args)#"
   ]
  },
  {
   "cell_type": "code",
   "execution_count": 148,
   "metadata": {
    "collapsed": false
   },
   "outputs": [
    {
     "data": {
      "image/png": "[encoded data removed]",
      "text/latex": [
       "$$\\left ( \\chi_{+k_1-k_2+k_3} b_{1} b_{2} b_{3}^{2} e^{- i \\phi_1} e^{i \\phi_2} \\overline{E_{3}}, \\quad \\chi_{-k_1+k_2+k_3} b_{1} b_{2} b_{3}^{2} e^{i \\phi_1} e^{- i \\phi_2} \\overline{E_{3}}, \\quad \\chi_{-k_1+k_2+k_3} b_{1} b_{2}^{2} b_{3} e^{i \\phi_1} e^{- i \\phi_3} \\overline{E_{2}}, \\quad \\chi_{+k_1-k_2+k_3} b_{1}^{2} b_{2} b_{3} e^{i \\phi_2} e^{- i \\phi_3} \\overline{E_{1}}, \\quad \\chi_{+k_1-k_2+k_3} b_{1} b_{2}^{2} b_{3} e^{- i \\phi_1} e^{2 i \\phi_2} e^{- i \\phi_3} \\overline{E_{2}}, \\quad \\chi_{-k_1+k_2+k_3} b_{1}^{2} b_{2} b_{3} e^{2 i \\phi_1} e^{- i \\phi_2} e^{- i \\phi_3} \\overline{E_{1}}\\right )$$"
      ],
      "text/plain": [
       "⎛                            2  -ⅈ⋅\\phi₁  ⅈ⋅\\phi₂ __                          \n",
       "⎝\\chi_{+k_1-k_2+k_3}⋅b₁⋅b₂⋅b₃ ⋅ℯ        ⋅ℯ       ⋅E₃, \\chi_{-k_1+k_2+k_3}⋅b₁⋅b\n",
       "\n",
       "    2  ⅈ⋅\\phi₁  -ⅈ⋅\\phi₂ __                           2     ⅈ⋅\\phi₁  -ⅈ⋅\\phi₃ \n",
       "₂⋅b₃ ⋅ℯ       ⋅ℯ        ⋅E₃, \\chi_{-k_1+k_2+k_3}⋅b₁⋅b₂ ⋅b₃⋅ℯ       ⋅ℯ        ⋅\n",
       "\n",
       "__                        2        ⅈ⋅\\phi₂  -ⅈ⋅\\phi₃ __                       \n",
       "E₂, \\chi_{+k_1-k_2+k_3}⋅b₁ ⋅b₂⋅b₃⋅ℯ       ⋅ℯ        ⋅E₁, \\chi_{+k_1-k_2+k_3}⋅b\n",
       "\n",
       "    2     -ⅈ⋅\\phi₁  2⋅ⅈ⋅\\phi₂  -ⅈ⋅\\phi₃ __                        2        2⋅ⅈ\n",
       "₁⋅b₂ ⋅b₃⋅ℯ        ⋅ℯ         ⋅ℯ        ⋅E₂, \\chi_{-k_1+k_2+k_3}⋅b₁ ⋅b₂⋅b₃⋅ℯ   \n",
       "\n",
       "⋅\\phi₁  -ⅈ⋅\\phi₂  -ⅈ⋅\\phi₃ __⎞\n",
       "      ⋅ℯ        ⋅ℯ        ⋅E₁⎠"
      ]
     },
     "execution_count": 148,
     "metadata": {},
     "output_type": "execute_result"
    }
   ],
   "source": [
    "# terms with chi_-k1+k2+k3\n",
    "filter(lambda x: (\n",
    "        find_sym(Signal([-1, 2, 3]), x)\n",
    "        or find_sym(Signal([1,-2,3]), x)),\n",
    "    sigs.args)"
   ]
  },
  {
   "cell_type": "code",
   "execution_count": 151,
   "metadata": {
    "collapsed": false
   },
   "outputs": [
    {
     "data": {
      "image/png": "[encoded data removed]",
      "text/latex": [
       "$$2 \\chi_{+k_1-k_1+k_2} \\overline{E_{1}} + 2 \\chi_{+k_1-k_1+k_2} \\overline{E_{3}} + 2 \\chi_{+k_1-k_1+k_3} \\overline{E_{2}} + 2 \\chi_{+k_1-k_2+k_3} \\overline{E_{1}} + 2 \\chi_{+k_1-k_2+k_3} \\overline{E_{3}} + 2 \\chi_{+k_1} \\overline{E_{2}} + 2 \\chi_{+k_2-k_2+k_3} \\overline{E_{2}} + 2 \\chi_{+k_2} \\overline{E_{1}} + 2 \\chi_{+k_2} \\overline{E_{3}} + 2 \\chi_{+k_3} \\overline{E_{2}} + 2 \\chi_{-k_1+k_2+k_2} \\overline{E_{2}} + 2 \\chi_{-k_1+k_2+k_3} \\overline{E_{1}} + 2 \\chi_{-k_1+k_2+k_3} \\overline{E_{3}} + 2 \\chi_{-k_1+k_3+k_3} \\overline{E_{2}} + 2 \\chi_{-k_2+k_3+k_3} \\overline{E_{1}} + 2 \\chi_{-k_2+k_3+k_3} \\overline{E_{3}} + 2 E_{1} \\overline{E_{2}} + 2 E_{2} \\overline{E_{1}} + 2 E_{2} \\overline{E_{3}} + 2 E_{3} \\overline{E_{2}}$$"
      ],
      "text/plain": [
       "                      __                         __                         __\n",
       "2⋅\\chi_{+k_1-k_1+k_2}⋅E₁ + 2⋅\\chi_{+k_1-k_1+k_2}⋅E₃ + 2⋅\\chi_{+k_1-k_1+k_3}⋅E₂\n",
       "\n",
       "                         __                         __                 __     \n",
       " + 2⋅\\chi_{+k_1-k_2+k_3}⋅E₁ + 2⋅\\chi_{+k_1-k_2+k_3}⋅E₃ + 2⋅\\chi_{+k_1}⋅E₂ + 2⋅\n",
       "\n",
       "                    __                 __                 __                 _\n",
       "\\chi_{+k_2-k_2+k_3}⋅E₂ + 2⋅\\chi_{+k_2}⋅E₁ + 2⋅\\chi_{+k_2}⋅E₃ + 2⋅\\chi_{+k_3}⋅E\n",
       "\n",
       "_                         __                         __                       \n",
       "₂ + 2⋅\\chi_{-k_1+k_2+k_2}⋅E₂ + 2⋅\\chi_{-k_1+k_2+k_3}⋅E₁ + 2⋅\\chi_{-k_1+k_2+k_3\n",
       "\n",
       "  __                         __                         __                    \n",
       "}⋅E₃ + 2⋅\\chi_{-k_1+k_3+k_3}⋅E₂ + 2⋅\\chi_{-k_2+k_3+k_3}⋅E₁ + 2⋅\\chi_{-k_2+k_3+\n",
       "\n",
       "     __        __        __        __        __\n",
       "k_3}⋅E₃ + 2⋅E₁⋅E₂ + 2⋅E₂⋅E₁ + 2⋅E₂⋅E₃ + 2⋅E₃⋅E₂"
      ]
     },
     "execution_count": 151,
     "metadata": {},
     "output_type": "execute_result"
    }
   ],
   "source": [
    "# try 2step, for fun\n",
    "phases = [0, sy.pi]\n",
    "# Next line follows Tan's nomenclature\n",
    "factors = [sy.exp(sy.I*p) for p in phases]\n",
    "sum([f*sig.subs([(a1, 1),\n",
    "                          (a3, 1),\n",
    "                          (a2, sy.exp(-sy.I*p))])\n",
    "     for f, p in zip(factors, phases)]\n",
    "    )"
   ]
  },
  {
   "cell_type": "code",
   "execution_count": null,
   "metadata": {
    "collapsed": true
   },
   "outputs": [],
   "source": []
  }
 ],
 "metadata": {
  "kernelspec": {
   "display_name": "Python 2",
   "language": "python",
   "name": "python2"
  },
  "language_info": {
   "codemirror_mode": {
    "name": "ipython",
    "version": 2
   },
   "file_extension": ".py",
   "mimetype": "text/x-python",
   "name": "python",
   "nbconvert_exporter": "python",
   "pygments_lexer": "ipython2",
   "version": "2.7.10"
  }
 },
 "nbformat": 4,
 "nbformat_minor": 0
}
