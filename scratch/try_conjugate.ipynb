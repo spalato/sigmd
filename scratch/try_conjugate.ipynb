{
 "cells": [
  {
   "cell_type": "code",
   "execution_count": 1,
   "metadata": {
    "collapsed": true
   },
   "outputs": [],
   "source": [
    "# try conjugate.\n",
    "# we should have: conj(\\chi_{+k1-k2-k3}) = -\\chi_{-k1+k2+k3}"
   ]
  },
  {
   "cell_type": "code",
   "execution_count": 18,
   "metadata": {
    "collapsed": true
   },
   "outputs": [],
   "source": [
    "import sympy as sy\n",
    "from sig2d.signals import Signal, signals_for_order, amplitude"
   ]
  },
  {
   "cell_type": "code",
   "execution_count": 8,
   "metadata": {
    "collapsed": true
   },
   "outputs": [],
   "source": [
    "sy.init_printing()"
   ]
  },
  {
   "cell_type": "code",
   "execution_count": 9,
   "metadata": {
    "collapsed": false
   },
   "outputs": [
    {
     "data": {
      "image/png": "[encoded data removed]",
      "text/latex": [
       "$$\\chi_{+k_1}$$"
      ],
      "text/plain": [
       "\\chi_{+k_1}"
      ]
     },
     "execution_count": 9,
     "metadata": {},
     "output_type": "execute_result"
    }
   ],
   "source": [
    "s1 = Signal([1])\n",
    "s1"
   ]
  },
  {
   "cell_type": "code",
   "execution_count": 10,
   "metadata": {
    "collapsed": false
   },
   "outputs": [
    {
     "data": {
      "image/png": "[encoded data removed]",
      "text/latex": [
       "$$- \\chi_{-k_1}$$"
      ],
      "text/plain": [
       "-\\chi_{-k_1}"
      ]
     },
     "execution_count": 10,
     "metadata": {},
     "output_type": "execute_result"
    }
   ],
   "source": [
    "sy.conjugate(s1)"
   ]
  },
  {
   "cell_type": "code",
   "execution_count": 37,
   "metadata": {
    "collapsed": true
   },
   "outputs": [],
   "source": [
    "def sign_convention(k):\n",
    "    return k[-1] <0"
   ]
  },
  {
   "cell_type": "code",
   "execution_count": 40,
   "metadata": {
    "collapsed": true
   },
   "outputs": [],
   "source": [
    "expr = signals_for_order(1,1, filter_=sign_convention)"
   ]
  },
  {
   "cell_type": "code",
   "execution_count": 41,
   "metadata": {
    "collapsed": false
   },
   "outputs": [
    {
     "data": {
      "image/png": "[encoded data removed]",
      "text/latex": [
       "$$- \\chi_{+k_1} \\chi_{-k_1} A_{1} \\overline{A_{1}}$$"
      ],
      "text/plain": [
       "                            __\n",
       "-\\chi_{+k_1}⋅\\chi_{-k_1}⋅A₁⋅A₁"
      ]
     },
     "execution_count": 41,
     "metadata": {},
     "output_type": "execute_result"
    }
   ],
   "source": [
    "sy.expand(sy.conjugate(expr)*expr)"
   ]
  },
  {
   "cell_type": "code",
   "execution_count": 42,
   "metadata": {
    "collapsed": false
   },
   "outputs": [
    {
     "data": {
      "image/png": "[encoded data removed]",
      "text/latex": [
       "$$\\chi_{-k_1} \\overline{A_{1}} + A_{1} E_{1}$$"
      ],
      "text/plain": [
       "            __        \n",
       "\\chi_{-k_1}⋅A₁ + A₁⋅E₁"
      ]
     },
     "execution_count": 42,
     "metadata": {},
     "output_type": "execute_result"
    }
   ],
   "source": [
    "e1 = sy.symbols('E_1')\n",
    "sig = expr+ amplitude(1)*e1\n",
    "sig"
   ]
  },
  {
   "cell_type": "code",
   "execution_count": 43,
   "metadata": {
    "collapsed": false
   },
   "outputs": [
    {
     "data": {
      "image/png": "[encoded data removed]",
      "text/latex": [
       "$$- \\chi_{+k_1} \\chi_{-k_1} A_{1} \\overline{A_{1}} - \\chi_{+k_1} A_{1}^{2} E_{1} + \\chi_{-k_1} \\overline{A_{1}}^{2} \\overline{E_{1}} + A_{1} E_{1} \\overline{A_{1}} \\overline{E_{1}}$$"
      ],
      "text/plain": [
       "                                                                     2        \n",
       "                             __                 2                  __  __     \n",
       "- \\chi_{+k_1}⋅\\chi_{-k_1}⋅A₁⋅A₁ - \\chi_{+k_1}⋅A₁ ⋅E₁ + \\chi_{-k_1}⋅A₁ ⋅E₁ + A₁\n",
       "\n",
       "         \n",
       "    __ __\n",
       "⋅E₁⋅A₁⋅E₁"
      ]
     },
     "execution_count": 43,
     "metadata": {},
     "output_type": "execute_result"
    }
   ],
   "source": [
    "detected=sy.expand(sy.conjugate(sig)*sig)\n",
    "detected"
   ]
  },
  {
   "cell_type": "code",
   "execution_count": 44,
   "metadata": {
    "collapsed": false
   },
   "outputs": [
    {
     "data": {
      "image/png": "[encoded data removed]",
      "text/latex": [
       "$$- \\chi_{+k_1} \\chi_{-k_1} - \\chi_{+k_1} E_{1} + \\chi_{-k_1} \\overline{E_{1}} + E_{1} \\overline{E_{1}}$$"
      ],
      "text/plain": [
       "                                                        __      __\n",
       "-\\chi_{+k_1}⋅\\chi_{-k_1} - \\chi_{+k_1}⋅E₁ + \\chi_{-k_1}⋅E₁ + E₁⋅E₁"
      ]
     },
     "execution_count": 44,
     "metadata": {},
     "output_type": "execute_result"
    }
   ],
   "source": [
    "detected.subs('A_1', 1)"
   ]
  },
  {
   "cell_type": "code",
   "execution_count": 45,
   "metadata": {
    "collapsed": false
   },
   "outputs": [
    {
     "data": {
      "image/png": "[encoded data removed]",
      "text/latex": [
       "$$- \\chi_{+k_1} A_{1}^{2} E_{1} + \\chi_{-k_1} \\overline{A_{1}}^{2} \\overline{E_{1}} + A_{1} E_{1} \\overline{A_{1}} \\overline{E_{1}}$$"
      ],
      "text/plain": [
       "                                     2                 \n",
       "                2                  __  __         __ __\n",
       "- \\chi_{+k_1}⋅A₁ ⋅E₁ + \\chi_{-k_1}⋅A₁ ⋅E₁ + A₁⋅E₁⋅A₁⋅E₁"
      ]
     },
     "execution_count": 45,
     "metadata": {},
     "output_type": "execute_result"
    }
   ],
   "source": [
    "f = detected.func\n",
    "args = detected.args\n",
    "args = [a for a in detected.args if 'E_1' in repr(a)]\n",
    "detected = f(*args)\n",
    "detected"
   ]
  },
  {
   "cell_type": "code",
   "execution_count": 46,
   "metadata": {
    "collapsed": false
   },
   "outputs": [
    {
     "data": {
      "image/png": "[encoded data removed]",
      "text/latex": [
       "$$- \\chi_{+k_1} E_{1} + \\chi_{-k_1} \\overline{E_{1}} + E_{1} \\overline{E_{1}}$$"
      ],
      "text/plain": [
       "                              __      __\n",
       "-\\chi_{+k_1}⋅E₁ + \\chi_{-k_1}⋅E₁ + E₁⋅E₁"
      ]
     },
     "execution_count": 46,
     "metadata": {},
     "output_type": "execute_result"
    }
   ],
   "source": [
    "s = detected.subs('A_1', 1)\n",
    "s"
   ]
  },
  {
   "cell_type": "code",
   "execution_count": 36,
   "metadata": {
    "collapsed": false
   },
   "outputs": [
    {
     "data": {
      "image/png": "[encoded data removed]",
      "text/latex": [
       "$$- 2 i \\Re{\\chi_{+k_1}} \\Im{E_{1}} - 2 i \\Re{\\chi_{-k_1}} \\Im{E_{1}} + \\left(\\Re{E_{1}}\\right)^{2} + 2 \\Im{\\chi_{+k_1}} \\Im{E_{1}} + 2 \\Im{\\chi_{-k_1}} \\Im{E_{1}} + \\left(\\Im{E_{1}}\\right)^{2}$$"
      ],
      "text/plain": [
       "                                                             2                \n",
       "-2⋅ⅈ⋅re(\\chi_{+k_1})⋅im(E₁) - 2⋅ⅈ⋅re(\\chi_{-k_1})⋅im(E₁) + re (E₁) + 2⋅im(\\chi\n",
       "\n",
       "                                               2    \n",
       "_{+k_1})⋅im(E₁) + 2⋅im(\\chi_{-k_1})⋅im(E₁) + im (E₁)"
      ]
     },
     "execution_count": 36,
     "metadata": {},
     "output_type": "execute_result"
    }
   ],
   "source": []
  },
  {
   "cell_type": "code",
   "execution_count": null,
   "metadata": {
    "collapsed": true
   },
   "outputs": [],
   "source": []
  }
 ],
 "metadata": {
  "kernelspec": {
   "display_name": "Python 2",
   "language": "python",
   "name": "python2"
  },
  "language_info": {
   "codemirror_mode": {
    "name": "ipython",
    "version": 2
   },
   "file_extension": ".py",
   "mimetype": "text/x-python",
   "name": "python",
   "nbconvert_exporter": "python",
   "pygments_lexer": "ipython2",
   "version": "2.7.10"
  }
 },
 "nbformat": 4,
 "nbformat_minor": 0
}
