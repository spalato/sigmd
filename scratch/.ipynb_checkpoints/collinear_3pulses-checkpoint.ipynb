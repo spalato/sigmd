{
 "cells": [
  {
   "cell_type": "markdown",
   "metadata": {},
   "source": [
    "# 3 pules collinear"
   ]
  },
  {
   "cell_type": "code",
   "execution_count": 60,
   "metadata": {
    "collapsed": true,
    "run_control": {
     "frozen": false,
     "read_only": false
    }
   },
   "outputs": [],
   "source": [
    "from __future__ import division, print_function\n",
    "#from sympy import latex\n",
    "import sympy as sy\n",
    "from math import copysign\n",
    "from operator import add, mul\n",
    "import numpy as np\n",
    "from itertools import product, repeat, chain\n",
    "from functools import partial, reduce\n",
    "from operator import mul\n",
    "import numpy as np"
   ]
  },
  {
   "cell_type": "code",
   "execution_count": 3,
   "metadata": {
    "collapsed": true,
    "run_control": {
     "frozen": false,
     "read_only": false
    }
   },
   "outputs": [],
   "source": [
    "from sig2d.signals import Signal, amplitude, signal, signals_for_order"
   ]
  },
  {
   "cell_type": "code",
   "execution_count": 4,
   "metadata": {
    "collapsed": true,
    "run_control": {
     "frozen": false,
     "read_only": false
    }
   },
   "outputs": [],
   "source": [
    "sy.init_printing()"
   ]
  },
  {
   "cell_type": "code",
   "execution_count": 7,
   "metadata": {
    "collapsed": true,
    "run_control": {
     "frozen": false,
     "read_only": false
    }
   },
   "outputs": [],
   "source": [
    "sy.init_printing?"
   ]
  },
  {
   "cell_type": "code",
   "execution_count": 101,
   "metadata": {
    "collapsed": true,
    "run_control": {
     "frozen": false,
     "read_only": false
    }
   },
   "outputs": [],
   "source": [
    "# utilites and filters\n",
    "def fundamental_freq(k):\n",
    "    return sum([copysign(1,i) for i in k]) == 1\n",
    "\n",
    "\n",
    "def intrapulse(k, min_l=2):\n",
    "    \"\"\"Remove intrapulse interactions, where all interactions are with same pulse\"\"\"\n",
    "    return len(k) < min_l or any([abs(i)==abs(k[0]) for i in k])\n",
    "#def positive_last(k):\n",
    "#    return k[-1] > 0\n",
    "\n",
    "def multifilter(filters, reductop=all):\n",
    "    def composite(k):\n",
    "        return reductop([f(k) for f in filters])\n",
    "    return composite\n",
    "\n",
    "def accumulator(l, op=add):\n",
    "    \"\"\"\n",
    "    Returns the running accumulation of `l` using operator `op`.\n",
    "    \n",
    "    accumulate(l) results in the running sum.\n",
    "    \"\"\"\n",
    "    l = iter(l)\n",
    "    r = l.next()\n",
    "    for v in l:\n",
    "        r = op(r, v)\n",
    "        yield r\n",
    "        \n",
    "def accumulated(l, op=add):\n",
    "    \"\"\"Returns an running accumulation of `l` as a list.\"\"\"\n",
    "    return list(accumulator(l, op))\n",
    "        \n",
    "\n",
    "#def ends_with_k3(k):\n",
    "#    return abs(k[-1]) == 3\n",
    "\n",
    "#def single_k3(k):  # emitted in the k3 direction?\n",
    "#    return sum([abs(i)==3 for i in k]) == 1\n",
    "\n",
    "# emit in k3 direction\n",
    "def emit_k3(k):\n",
    "    # total +1 in k3 direction\n",
    "    # others cancel out\n",
    "    return (sum([copysign(1, i) for i in k if abs(i)==3]) == 1) and (sum([copysign(1, i) for i in k if abs(i)!=3]) == 0)\n",
    "\n",
    "#def rwa(k):  # avoid +k1 +k1 sequences, which yeild |2><0| or try to deexcite the gs\n",
    "#    # never get more than +1 or -1 total excitation, is that allright? # actually wrong. we can have |2><0| in two steps\n",
    "#    runsum = accumulated([copysign(1, i) for i in k]) \n",
    "#    return all([abs(r) <= 1 for r in runsum])\n",
    "\n",
    "def contains(s, sig):\n",
    "    \"\"\"Signal contains string s\"\"\"\n",
    "    return s in repr(sig)\n",
    "\n",
    "def contains_filter(s):\n",
    "    return partial(contains, s)\n",
    "\n",
    "#pp_2d = multifilter([fundamental_freq, positive_last, single_k3, single_excitation])\n",
    "filter_collinear = multifilter([fundamental_freq])"
   ]
  },
  {
   "cell_type": "markdown",
   "metadata": {},
   "source": [
    "## collinear 2 pulses signals, up to 3rd orer"
   ]
  },
  {
   "cell_type": "code",
   "execution_count": 9,
   "metadata": {
    "collapsed": false,
    "run_control": {
     "frozen": false,
     "read_only": false
    }
   },
   "outputs": [
    {
     "data": {
      "image/png": "[encoded data removed]",
      "text/latex": [
       "$$\\chi_{+k_1+k_1-k_1} A_{1}^{2} \\overline{A_{1}} + \\chi_{+k_1+k_1-k_2} A_{1}^{2} \\overline{A_{2}} + \\chi_{+k_1+k_1-k_3} A_{1}^{2} \\overline{A_{3}} + \\chi_{+k_1+k_2-k_2} A_{1} A_{2} \\overline{A_{2}} + \\chi_{+k_1+k_2-k_3} A_{1} A_{2} \\overline{A_{3}} + \\chi_{+k_1+k_3-k_3} A_{1} A_{3} \\overline{A_{3}} + \\chi_{+k_1-k_1+k_1} A_{1}^{2} \\overline{A_{1}} + \\chi_{+k_1-k_1+k_2} A_{1} A_{2} \\overline{A_{1}} + \\chi_{+k_1-k_1+k_3} A_{1} A_{3} \\overline{A_{1}} + \\chi_{+k_1-k_2+k_2} A_{1} A_{2} \\overline{A_{2}} + \\chi_{+k_1-k_2+k_3} A_{1} A_{3} \\overline{A_{2}} + \\chi_{+k_1-k_3+k_3} A_{1} A_{3} \\overline{A_{3}} + \\chi_{+k_1} A_{1} + \\chi_{+k_2+k_2-k_2} A_{2}^{2} \\overline{A_{2}} + \\chi_{+k_2+k_2-k_3} A_{2}^{2} \\overline{A_{3}} + \\chi_{+k_2+k_3-k_3} A_{2} A_{3} \\overline{A_{3}} + \\chi_{+k_2-k_2+k_2} A_{2}^{2} \\overline{A_{2}} + \\chi_{+k_2-k_2+k_3} A_{2} A_{3} \\overline{A_{2}} + \\chi_{+k_2-k_3+k_3} A_{2} A_{3} \\overline{A_{3}} + \\chi_{+k_2} A_{2} + \\chi_{+k_3+k_3-k_3} A_{3}^{2} \\overline{A_{3}} + \\chi_{+k_3-k_3+k_3} A_{3}^{2} \\overline{A_{3}} + \\chi_{+k_3} A_{3} + \\chi_{-k_1+k_1+k_1} A_{1}^{2} \\overline{A_{1}} + \\chi_{-k_1+k_1+k_2} A_{1} A_{2} \\overline{A_{1}} + \\chi_{-k_1+k_1+k_3} A_{1} A_{3} \\overline{A_{1}} + \\chi_{-k_1+k_2+k_2} A_{2}^{2} \\overline{A_{1}} + \\chi_{-k_1+k_2+k_3} A_{2} A_{3} \\overline{A_{1}} + \\chi_{-k_1+k_3+k_3} A_{3}^{2} \\overline{A_{1}} + \\chi_{-k_2+k_2+k_2} A_{2}^{2} \\overline{A_{2}} + \\chi_{-k_2+k_2+k_3} A_{2} A_{3} \\overline{A_{2}} + \\chi_{-k_2+k_3+k_3} A_{3}^{2} \\overline{A_{2}} + \\chi_{-k_3+k_3+k_3} A_{3}^{2} \\overline{A_{3}}$$"
      ],
      "text/plain": [
       "                      2 __                         2 __                       \n",
       "\\chi_{+k_1+k_1-k_1}⋅A₁ ⋅A₁ + \\chi_{+k_1+k_1-k_2}⋅A₁ ⋅A₂ + \\chi_{+k_1+k_1-k_3}⋅\n",
       "\n",
       "  2 __                             __                             __          \n",
       "A₁ ⋅A₃ + \\chi_{+k_1+k_2-k_2}⋅A₁⋅A₂⋅A₂ + \\chi_{+k_1+k_2-k_3}⋅A₁⋅A₂⋅A₃ + \\chi_{+\n",
       "\n",
       "                   __                         2 __                            \n",
       "k_1+k_3-k_3}⋅A₁⋅A₃⋅A₃ + \\chi_{+k_1-k_1+k_1}⋅A₁ ⋅A₁ + \\chi_{+k_1-k_1+k_2}⋅A₁⋅A₂\n",
       "\n",
       " __                             __                             __             \n",
       "⋅A₁ + \\chi_{+k_1-k_1+k_3}⋅A₁⋅A₃⋅A₁ + \\chi_{+k_1-k_2+k_2}⋅A₁⋅A₂⋅A₂ + \\chi_{+k_1\n",
       "\n",
       "                __                             __                             \n",
       "-k_2+k_3}⋅A₁⋅A₃⋅A₂ + \\chi_{+k_1-k_3+k_3}⋅A₁⋅A₃⋅A₃ + \\chi_{+k_1}⋅A₁ + \\chi_{+k_\n",
       "\n",
       "             2 __                         2 __                             __ \n",
       "2+k_2-k_2}⋅A₂ ⋅A₂ + \\chi_{+k_2+k_2-k_3}⋅A₂ ⋅A₃ + \\chi_{+k_2+k_3-k_3}⋅A₂⋅A₃⋅A₃ \n",
       "\n",
       "                        2 __                             __                   \n",
       "+ \\chi_{+k_2-k_2+k_2}⋅A₂ ⋅A₂ + \\chi_{+k_2-k_2+k_3}⋅A₂⋅A₃⋅A₂ + \\chi_{+k_2-k_3+k\n",
       "\n",
       "          __                                          2 __                    \n",
       "_3}⋅A₂⋅A₃⋅A₃ + \\chi_{+k_2}⋅A₂ + \\chi_{+k_3+k_3-k_3}⋅A₃ ⋅A₃ + \\chi_{+k_3-k_3+k_\n",
       "\n",
       "     2 __                                          2 __                       \n",
       "3}⋅A₃ ⋅A₃ + \\chi_{+k_3}⋅A₃ + \\chi_{-k_1+k_1+k_1}⋅A₁ ⋅A₁ + \\chi_{-k_1+k_1+k_2}⋅\n",
       "\n",
       "      __                             __                         2 __          \n",
       "A₁⋅A₂⋅A₁ + \\chi_{-k_1+k_1+k_3}⋅A₁⋅A₃⋅A₁ + \\chi_{-k_1+k_2+k_2}⋅A₂ ⋅A₁ + \\chi_{-\n",
       "\n",
       "                   __                         2 __                         2 _\n",
       "k_1+k_2+k_3}⋅A₂⋅A₃⋅A₁ + \\chi_{-k_1+k_3+k_3}⋅A₃ ⋅A₁ + \\chi_{-k_2+k_2+k_2}⋅A₂ ⋅A\n",
       "\n",
       "_                             __                         2 __                 \n",
       "₂ + \\chi_{-k_2+k_2+k_3}⋅A₂⋅A₃⋅A₂ + \\chi_{-k_2+k_3+k_3}⋅A₃ ⋅A₂ + \\chi_{-k_3+k_3\n",
       "\n",
       "        2 __\n",
       "+k_3}⋅A₃ ⋅A₃"
      ]
     },
     "execution_count": 9,
     "metadata": {},
     "output_type": "execute_result"
    }
   ],
   "source": [
    "sigs = sum(signals_for_order(i, n_pulses=3, filter_=filter_collinear) for i in [1, 2, 3])\n",
    "sigs"
   ]
  },
  {
   "cell_type": "code",
   "execution_count": 22,
   "metadata": {
    "collapsed": false,
    "run_control": {
     "frozen": false,
     "read_only": false
    }
   },
   "outputs": [
    {
     "data": {
      "image/png": "[encoded data removed]",
      "text/latex": [
       "$$\\left ( A_{1} E_{1} \\overline{A_{1}} \\overline{E_{1}}, \\quad A_{1} E_{1} \\overline{\\chi_{+k_1}} \\overline{A_{1}}, \\quad A_{1} E_{1} \\overline{A_{2}} \\overline{E_{2}}, \\quad A_{1} E_{1} \\overline{\\chi_{+k_2}} \\overline{A_{2}}, \\quad A_{1} E_{1} \\overline{A_{3}} \\overline{E_{3}}\\right )$$"
      ],
      "text/plain": [
       "⎛      __ __        ___________ __        __ __        ___________ __        _\n",
       "⎝A₁⋅E₁⋅A₁⋅E₁, A₁⋅E₁⋅\\chi_{+k_1}⋅A₁, A₁⋅E₁⋅A₂⋅E₂, A₁⋅E₁⋅\\chi_{+k_2}⋅A₂, A₁⋅E₁⋅A\n",
       "\n",
       "_ __⎞\n",
       "₃⋅E₃⎠"
      ]
     },
     "execution_count": 22,
     "metadata": {},
     "output_type": "execute_result"
    }
   ],
   "source": [
    "amps = {i: amplitude(i) for i in [1,2,3]}\n",
    "efield = {i+1: v for i, v in enumerate(sy.symbols(\"E_1:4\"))}\n",
    "detected = sigs + sum(amps[i]*efield[i] for i in sorted(amps.keys()))\n",
    "detected = sy.expand(sy.conjugate(detected)*detected)\n",
    "# prepare further neglect\n",
    "head = detected.func\n",
    "args = detected.args\n",
    "# filter signal/signal cross terms\n",
    "args = filter(contains_filter(\"E_\"), args)\n",
    "detected = head(*args)\n",
    "len(detected.args)"
   ]
  },
  {
   "cell_type": "markdown",
   "metadata": {},
   "source": [
    "## phase cycle: 4x4x1"
   ]
  },
  {
   "cell_type": "code",
   "execution_count": 11,
   "metadata": {
    "collapsed": false,
    "run_control": {
     "frozen": false,
     "read_only": false
    }
   },
   "outputs": [
    {
     "data": {
      "image/png": "[encoded data removed]",
      "text/latex": [
       "$$\\left \\{ 1 : \\left ( 0, \\quad 0, \\quad 0, \\quad 0, \\quad \\frac{\\pi}{2}, \\quad \\frac{\\pi}{2}, \\quad \\frac{\\pi}{2}, \\quad \\frac{\\pi}{2}, \\quad \\pi, \\quad \\pi, \\quad \\pi, \\quad \\pi, \\quad \\frac{3 \\pi}{2}, \\quad \\frac{3 \\pi}{2}, \\quad \\frac{3 \\pi}{2}, \\quad \\frac{3 \\pi}{2}\\right ), \\quad 2 : \\left ( 0, \\quad \\frac{\\pi}{2}, \\quad \\pi, \\quad \\frac{3 \\pi}{2}, \\quad 0, \\quad \\frac{\\pi}{2}, \\quad \\pi, \\quad \\frac{3 \\pi}{2}, \\quad 0, \\quad \\frac{\\pi}{2}, \\quad \\pi, \\quad \\frac{3 \\pi}{2}, \\quad 0, \\quad \\frac{\\pi}{2}, \\quad \\pi, \\quad \\frac{3 \\pi}{2}\\right )\\right \\}$$"
      ],
      "text/plain": [
       "⎧   ⎛            π  π  π  π              3⋅π  3⋅π  3⋅π  3⋅π⎞     ⎛   π     3⋅π\n",
       "⎨1: ⎜0, 0, 0, 0, ─, ─, ─, ─, π, π, π, π, ───, ───, ───, ───⎟, 2: ⎜0, ─, π, ───\n",
       "⎩   ⎝            2  2  2  2               2    2    2    2 ⎠     ⎝   2      2 \n",
       "\n",
       "     π     3⋅π     π     3⋅π     π     3⋅π⎞⎫\n",
       ", 0, ─, π, ───, 0, ─, π, ───, 0, ─, π, ───⎟⎬\n",
       "     2      2      2      2      2      2 ⎠⎭"
      ]
     },
     "execution_count": 11,
     "metadata": {},
     "output_type": "execute_result"
    }
   ],
   "source": [
    "phases = [i*sy.pi/2 for i in range(4)]\n",
    "phiv = {i+1: v for i, v in enumerate(zip(*list(product(phases, repeat=2))))}\n",
    "phiv"
   ]
  },
  {
   "cell_type": "markdown",
   "metadata": {},
   "source": [
    "### B2: -1, 1 ,1"
   ]
  },
  {
   "cell_type": "code",
   "execution_count": 99,
   "metadata": {
    "collapsed": false,
    "run_control": {
     "frozen": false,
     "read_only": false
    }
   },
   "outputs": [
    {
     "data": {
      "image/png": "[encoded data removed]",
      "text/latex": [
       "$$\\left [ 1, \\quad - i, \\quad -1, \\quad i, \\quad i, \\quad 1, \\quad - i, \\quad -1, \\quad -1, \\quad i, \\quad 1, \\quad - i, \\quad - i, \\quad -1, \\quad i, \\quad 1\\right ]$$"
      ],
      "text/plain": [
       "[1, -ⅈ, -1, ⅈ, ⅈ, 1, -ⅈ, -1, -1, ⅈ, 1, -ⅈ, -ⅈ, -1, ⅈ, 1]"
      ]
     },
     "execution_count": 99,
     "metadata": {},
     "output_type": "execute_result"
    }
   ],
   "source": [
    "pc_exp = {1: -1, 2: 1, 3: 1} # phase cycle exponents, alpha, beta, gamma\n",
    "factors = [reduce(mul, [sy.exp(-sy.I*pc_exp[i]*phiv[i][j]) for i in sorted(phiv.keys())]) for j in range(len(phases)**2)]\n",
    "factors"
   ]
  },
  {
   "cell_type": "code",
   "execution_count": 91,
   "metadata": {
    "collapsed": false,
    "run_control": {
     "frozen": false,
     "read_only": false
    }
   },
   "outputs": [],
   "source": [
    "# prepare chopping:\n",
    "a = {i+1: v for i, v in enumerate(sy.symbols('a1:4', real=True, nonnegative=True))}\n",
    "phi = {i+1: v for i, v in enumerate(sy.symbols('\\phi_1:4', real=True))}\n",
    "detected = detected.subs([(amps[i], a[i]*sy.exp(sy.I*phi[i])) for i in amps.keys()])"
   ]
  },
  {
   "cell_type": "code",
   "execution_count": 92,
   "metadata": {
    "collapsed": false,
    "run_control": {
     "frozen": false,
     "read_only": false
    }
   },
   "outputs": [
    {
     "data": {
      "image/png": "[encoded data removed]",
      "text/latex": [
       "$$\\left ( E_{1} a_{1}^{2} a_{2}^{2} e^{- 2 i \\phi_1} e^{2 i \\phi_2} \\overline{\\chi_{-k_1+k_2+k_2}}, \\quad E_{2} a_{1} a_{2}^{3} e^{- i \\phi_1} e^{i \\phi_2} \\overline{\\chi_{-k_1+k_2+k_2}}, \\quad \\chi_{-k_1+k_2+k_2} a_{1} a_{2}^{3} e^{i \\phi_1} e^{- i \\phi_2} \\overline{E_{2}}, \\quad \\chi_{-k_1+k_2+k_2} a_{1}^{2} a_{2}^{2} e^{2 i \\phi_1} e^{- 2 i \\phi_2} \\overline{E_{1}}, \\quad E_{3} a_{1} a_{2}^{2} a_{3} e^{- i \\phi_1} e^{2 i \\phi_2} e^{- i \\phi_3} \\overline{\\chi_{-k_1+k_2+k_2}}, \\quad \\chi_{-k_1+k_2+k_2} a_{1} a_{2}^{2} a_{3} e^{i \\phi_1} e^{- 2 i \\phi_2} e^{i \\phi_3} \\overline{E_{3}}\\right )$$"
      ],
      "text/plain": [
       "⎛     2   2  -2⋅ⅈ⋅\\phi₁  2⋅ⅈ⋅\\phi₂ ___________________          3  -ⅈ⋅\\phi₁  ⅈ\n",
       "⎝E₁⋅a₁ ⋅a₂ ⋅ℯ          ⋅ℯ         ⋅\\chi_{-k_1+k_2+k_2}, E₂⋅a₁⋅a₂ ⋅ℯ        ⋅ℯ \n",
       "\n",
       "⋅\\phi₂ ___________________                           3  ⅈ⋅\\phi₁  -ⅈ⋅\\phi₂ __  \n",
       "      ⋅\\chi_{-k_1+k_2+k_2}, \\chi_{-k_1+k_2+k_2}⋅a₁⋅a₂ ⋅ℯ       ⋅ℯ        ⋅E₂, \n",
       "\n",
       "                      2   2  2⋅ⅈ⋅\\phi₁  -2⋅ⅈ⋅\\phi₂ __          2     -ⅈ⋅\\phi₁ \n",
       "\\chi_{-k_1+k_2+k_2}⋅a₁ ⋅a₂ ⋅ℯ         ⋅ℯ          ⋅E₁, E₃⋅a₁⋅a₂ ⋅a₃⋅ℯ        ⋅\n",
       "\n",
       " 2⋅ⅈ⋅\\phi₂  -ⅈ⋅\\phi₃ ___________________                           2     ⅈ⋅\\ph\n",
       "ℯ         ⋅ℯ        ⋅\\chi_{-k_1+k_2+k_2}, \\chi_{-k_1+k_2+k_2}⋅a₁⋅a₂ ⋅a₃⋅ℯ     \n",
       "\n",
       "i₁  -2⋅ⅈ⋅\\phi₂  ⅈ⋅\\phi₃ __⎞\n",
       "  ⋅ℯ          ⋅ℯ       ⋅E₃⎠"
      ]
     },
     "execution_count": 92,
     "metadata": {},
     "output_type": "execute_result"
    }
   ],
   "source": [
    "# looking for 1-23\n",
    "repr(detected.args[2])\n",
    "filter(lambda s: \"-k_1+k_2+k_2\" in repr(s), detected.args)"
   ]
  },
  {
   "cell_type": "code",
   "execution_count": 93,
   "metadata": {
    "collapsed": false,
    "run_control": {
     "frozen": false,
     "read_only": false
    }
   },
   "outputs": [
    {
     "data": {
      "image/png": "[encoded data removed]",
      "text/latex": [
       "$$16 \\chi_{+k_1+k_1-k_1} a_{1}^{3} a_{2} \\overline{E_{2}} + 16 \\chi_{+k_1+k_1-k_2} a_{1}^{3} a_{2} \\overline{E_{1}} + 16 \\chi_{+k_1+k_2-k_2} a_{1} a_{2}^{3} \\overline{E_{2}} + 16 \\chi_{+k_1+k_3-k_3} a_{1} a_{2} a_{3}^{2} \\overline{E_{2}} + 16 \\chi_{+k_1-k_1+k_1} a_{1}^{3} a_{2} \\overline{E_{2}} + 16 \\chi_{+k_1-k_2+k_2} a_{1} a_{2}^{3} \\overline{E_{2}} + 16 \\chi_{+k_1-k_2+k_3} a_{1} a_{2} a_{3}^{2} \\overline{E_{3}} + 16 \\chi_{+k_1-k_3+k_3} a_{1} a_{2} a_{3}^{2} \\overline{E_{2}} + 16 \\chi_{+k_1} a_{1} a_{2} \\overline{E_{2}} + 16 \\chi_{-k_1+k_1+k_1} a_{1}^{3} a_{2} \\overline{E_{2}} + 16 E_{1} a_{1}^{3} a_{2} \\overline{\\chi_{+k_1-k_1+k_2}} + 16 E_{1} a_{1}^{3} a_{2} \\overline{\\chi_{-k_1+k_1+k_2}} + 16 E_{1} a_{1} a_{2}^{3} \\overline{\\chi_{+k_2+k_2-k_2}} + 16 E_{1} a_{1} a_{2}^{3} \\overline{\\chi_{+k_2-k_2+k_2}} + 16 E_{1} a_{1} a_{2}^{3} \\overline{\\chi_{-k_2+k_2+k_2}} + 16 E_{1} a_{1} a_{2} a_{3}^{2} \\overline{\\chi_{+k_2+k_3-k_3}} + 16 E_{1} a_{1} a_{2} a_{3}^{2} \\overline{\\chi_{+k_2-k_3+k_3}} + 16 E_{1} a_{1} a_{2} \\overline{\\chi_{+k_2}} + 16 E_{1} a_{1} a_{2} \\overline{E_{2}} + 16 E_{2} a_{1} a_{2}^{3} \\overline{\\chi_{-k_1+k_2+k_2}} + 16 E_{3} a_{1} a_{2} a_{3}^{2} \\overline{\\chi_{-k_1+k_2+k_3}}$$"
      ],
      "text/plain": [
       "                         3    __                            3    __           \n",
       "16⋅\\chi_{+k_1+k_1-k_1}⋅a₁ ⋅a₂⋅E₂ + 16⋅\\chi_{+k_1+k_1-k_2}⋅a₁ ⋅a₂⋅E₁ + 16⋅\\chi_\n",
       "\n",
       "                    3 __                                  2 __                \n",
       "{+k_1+k_2-k_2}⋅a₁⋅a₂ ⋅E₂ + 16⋅\\chi_{+k_1+k_3-k_3}⋅a₁⋅a₂⋅a₃ ⋅E₂ + 16⋅\\chi_{+k_1\n",
       "\n",
       "            3    __                               3 __                        \n",
       "-k_1+k_1}⋅a₁ ⋅a₂⋅E₂ + 16⋅\\chi_{+k_1-k_2+k_2}⋅a₁⋅a₂ ⋅E₂ + 16⋅\\chi_{+k_1-k_2+k_3\n",
       "\n",
       "          2 __                                  2 __                        __\n",
       "}⋅a₁⋅a₂⋅a₃ ⋅E₃ + 16⋅\\chi_{+k_1-k_3+k_3}⋅a₁⋅a₂⋅a₃ ⋅E₂ + 16⋅\\chi_{+k_1}⋅a₁⋅a₂⋅E₂\n",
       "\n",
       "                            3    __           3    ___________________        \n",
       " + 16⋅\\chi_{-k_1+k_1+k_1}⋅a₁ ⋅a₂⋅E₂ + 16⋅E₁⋅a₁ ⋅a₂⋅\\chi_{+k_1-k_1+k_2} + 16⋅E₁\n",
       "\n",
       "   3    ___________________              3 ___________________              3 \n",
       "⋅a₁ ⋅a₂⋅\\chi_{-k_1+k_1+k_2} + 16⋅E₁⋅a₁⋅a₂ ⋅\\chi_{+k_2+k_2-k_2} + 16⋅E₁⋅a₁⋅a₂ ⋅\n",
       "\n",
       "___________________              3 ___________________                 2 _____\n",
       "\\chi_{+k_2-k_2+k_2} + 16⋅E₁⋅a₁⋅a₂ ⋅\\chi_{-k_2+k_2+k_2} + 16⋅E₁⋅a₁⋅a₂⋅a₃ ⋅\\chi_\n",
       "\n",
       "______________                 2 ___________________               ___________\n",
       "{+k_2+k_3-k_3} + 16⋅E₁⋅a₁⋅a₂⋅a₃ ⋅\\chi_{+k_2-k_3+k_3} + 16⋅E₁⋅a₁⋅a₂⋅\\chi_{+k_2}\n",
       "\n",
       "               __              3 ___________________                 2 _______\n",
       " + 16⋅E₁⋅a₁⋅a₂⋅E₂ + 16⋅E₂⋅a₁⋅a₂ ⋅\\chi_{-k_1+k_2+k_2} + 16⋅E₃⋅a₁⋅a₂⋅a₃ ⋅\\chi_{-\n",
       "\n",
       "____________\n",
       "k_1+k_2+k_3}"
      ]
     },
     "execution_count": 93,
     "metadata": {},
     "output_type": "execute_result"
    }
   ],
   "source": [
    "sig = sum([f*detected.subs(\n",
    "    [\n",
    "            (phi[1], p1),\n",
    "            (phi[2], p2)\n",
    "        ]) for f, p1, p2 in zip(factors, phiv[1], phiv[2])]).simplify().expand(basic=True)\n",
    "len(sig.args)\n",
    "sig"
   ]
  },
  {
   "cell_type": "markdown",
   "metadata": {},
   "source": [
    "### chopping third pulse"
   ]
  },
  {
   "cell_type": "code",
   "execution_count": 100,
   "metadata": {
    "collapsed": false,
    "run_control": {
     "frozen": false,
     "read_only": false
    }
   },
   "outputs": [
    {
     "data": {
      "image/png": "[encoded data removed]",
      "text/latex": [
       "$$6$$"
      ],
      "text/plain": [
       "6"
      ]
     },
     "execution_count": 100,
     "metadata": {},
     "output_type": "execute_result"
    }
   ],
   "source": [
    "phiv_c = {i: list(chain(*repeat(phiv[i], 2))) for i in phiv.keys()}\n",
    "factors_c = factors[:]\n",
    "factors_c.extend([-f for f in factors])\n",
    "a3 = [1]*16 + [0]*16\n",
    "sig_c = sum([f*detected.subs(\n",
    "    [\n",
    "            (phi[1], p1),\n",
    "            (phi[2], p2),\n",
    "            (a[3], c_f3)\n",
    "        ]) for f, c_f3, p1, p2 in zip(factors_c, a3, phiv_c[1], phiv_c[2])]).simplify().expand(basic=True)\n",
    "len(sig_c.args)"
   ]
  },
  {
   "cell_type": "code",
   "execution_count": 103,
   "metadata": {
    "collapsed": false,
    "run_control": {
     "frozen": false,
     "read_only": false
    }
   },
   "outputs": [
    {
     "data": {
      "image/png": "[encoded data removed]",
      "text/latex": [
       "$$16 \\chi_{+k_1+k_3-k_3} a_{1} a_{2} \\overline{E_{2}} + 16 \\chi_{+k_1-k_2+k_3} a_{1} a_{2} \\overline{E_{3}} + 16 \\chi_{+k_1-k_3+k_3} a_{1} a_{2} \\overline{E_{2}} + 16 E_{1} a_{1} a_{2} \\overline{\\chi_{+k_2+k_3-k_3}} + 16 E_{1} a_{1} a_{2} \\overline{\\chi_{+k_2-k_3+k_3}} + 16 E_{3} a_{1} a_{2} \\overline{\\chi_{-k_1+k_2+k_3}}$$"
      ],
      "text/plain": [
       "                             __                                __             \n",
       "16⋅\\chi_{+k_1+k_3-k_3}⋅a₁⋅a₂⋅E₂ + 16⋅\\chi_{+k_1-k_2+k_3}⋅a₁⋅a₂⋅E₃ + 16⋅\\chi_{+\n",
       "\n",
       "                   __               ___________________               ________\n",
       "k_1-k_3+k_3}⋅a₁⋅a₂⋅E₂ + 16⋅E₁⋅a₁⋅a₂⋅\\chi_{+k_2+k_3-k_3} + 16⋅E₁⋅a₁⋅a₂⋅\\chi_{+k\n",
       "\n",
       "___________               ___________________\n",
       "_2-k_3+k_3} + 16⋅E₃⋅a₁⋅a₂⋅\\chi_{-k_1+k_2+k_3}"
      ]
     },
     "execution_count": 103,
     "metadata": {},
     "output_type": "execute_result"
    }
   ],
   "source": [
    "sig_c"
   ]
  },
  {
   "cell_type": "code",
   "execution_count": null,
   "metadata": {
    "collapsed": true,
    "run_control": {
     "frozen": false,
     "read_only": false
    }
   },
   "outputs": [],
   "source": []
  },
  {
   "cell_type": "code",
   "execution_count": 102,
   "metadata": {
    "collapsed": false,
    "run_control": {
     "frozen": false,
     "read_only": false
    }
   },
   "outputs": [
    {
     "data": {
      "image/png": "[encoded data removed]",
      "text/latex": [
       "$$32$$"
      ],
      "text/plain": [
       "32"
      ]
     },
     "execution_count": 102,
     "metadata": {},
     "output_type": "execute_result"
    }
   ],
   "source": [
    "len(factors_c)"
   ]
  },
  {
   "cell_type": "code",
   "execution_count": 86,
   "metadata": {
    "collapsed": false,
    "run_control": {
     "frozen": false,
     "read_only": false
    }
   },
   "outputs": [
    {
     "data": {
      "image/png": "[encoded data removed]",
      "text/latex": [
       "$$21$$"
      ],
      "text/plain": [
       "21"
      ]
     },
     "execution_count": 86,
     "metadata": {},
     "output_type": "execute_result"
    }
   ],
   "source": [
    "len(sig.args)"
   ]
  },
  {
   "cell_type": "code",
   "execution_count": 80,
   "metadata": {
    "collapsed": false,
    "run_control": {
     "frozen": false,
     "read_only": false
    }
   },
   "outputs": [
    {
     "data": {
      "image/png": "[encoded data removed]",
      "text/latex": [
       "$$\\left [ 0, \\quad 0, \\quad 0, \\quad 0, \\quad \\frac{\\pi}{2}, \\quad \\frac{\\pi}{2}, \\quad \\frac{\\pi}{2}, \\quad \\frac{\\pi}{2}, \\quad \\pi, \\quad \\pi, \\quad \\pi, \\quad \\pi, \\quad \\frac{3 \\pi}{2}, \\quad \\frac{3 \\pi}{2}, \\quad \\frac{3 \\pi}{2}, \\quad \\frac{3 \\pi}{2}, \\quad 0, \\quad 0, \\quad 0, \\quad 0, \\quad \\frac{\\pi}{2}, \\quad \\frac{\\pi}{2}, \\quad \\frac{\\pi}{2}, \\quad \\frac{\\pi}{2}, \\quad \\pi, \\quad \\pi, \\quad \\pi, \\quad \\pi, \\quad \\frac{3 \\pi}{2}, \\quad \\frac{3 \\pi}{2}, \\quad \\frac{3 \\pi}{2}, \\quad \\frac{3 \\pi}{2}\\right ]$$"
      ],
      "text/plain": [
       "⎡            π  π  π  π              3⋅π  3⋅π  3⋅π  3⋅π              π  π  π  \n",
       "⎢0, 0, 0, 0, ─, ─, ─, ─, π, π, π, π, ───, ───, ───, ───, 0, 0, 0, 0, ─, ─, ─, \n",
       "⎣            2  2  2  2               2    2    2    2               2  2  2  \n",
       "\n",
       "π              3⋅π  3⋅π  3⋅π  3⋅π⎤\n",
       "─, π, π, π, π, ───, ───, ───, ───⎥\n",
       "2               2    2    2    2 ⎦"
      ]
     },
     "execution_count": 80,
     "metadata": {},
     "output_type": "execute_result"
    }
   ],
   "source": [
    "phiv_c[1]"
   ]
  },
  {
   "cell_type": "code",
   "execution_count": 81,
   "metadata": {
    "collapsed": false,
    "run_control": {
     "frozen": false,
     "read_only": false
    }
   },
   "outputs": [
    {
     "data": {
      "image/png": "[encoded data removed]",
      "text/latex": [
       "$$\\left [ 0, \\quad \\frac{\\pi}{2}, \\quad \\pi, \\quad \\frac{3 \\pi}{2}, \\quad 0, \\quad \\frac{\\pi}{2}, \\quad \\pi, \\quad \\frac{3 \\pi}{2}, \\quad 0, \\quad \\frac{\\pi}{2}, \\quad \\pi, \\quad \\frac{3 \\pi}{2}, \\quad 0, \\quad \\frac{\\pi}{2}, \\quad \\pi, \\quad \\frac{3 \\pi}{2}, \\quad 0, \\quad \\frac{\\pi}{2}, \\quad \\pi, \\quad \\frac{3 \\pi}{2}, \\quad 0, \\quad \\frac{\\pi}{2}, \\quad \\pi, \\quad \\frac{3 \\pi}{2}, \\quad 0, \\quad \\frac{\\pi}{2}, \\quad \\pi, \\quad \\frac{3 \\pi}{2}, \\quad 0, \\quad \\frac{\\pi}{2}, \\quad \\pi, \\quad \\frac{3 \\pi}{2}\\right ]$$"
      ],
      "text/plain": [
       "⎡   π     3⋅π     π     3⋅π     π     3⋅π     π     3⋅π     π     3⋅π     π   \n",
       "⎢0, ─, π, ───, 0, ─, π, ───, 0, ─, π, ───, 0, ─, π, ───, 0, ─, π, ───, 0, ─, π\n",
       "⎣   2      2      2      2      2      2      2      2      2      2      2   \n",
       "\n",
       "  3⋅π     π     3⋅π     π     3⋅π⎤\n",
       ", ───, 0, ─, π, ───, 0, ─, π, ───⎥\n",
       "   2      2      2      2      2 ⎦"
      ]
     },
     "execution_count": 81,
     "metadata": {},
     "output_type": "execute_result"
    }
   ],
   "source": [
    "phiv_c[2]"
   ]
  },
  {
   "cell_type": "code",
   "execution_count": 82,
   "metadata": {
    "collapsed": false,
    "run_control": {
     "frozen": false,
     "read_only": false
    }
   },
   "outputs": [
    {
     "data": {
      "image/png": "[encoded data removed]",
      "text/latex": [
       "$$\\left [ 1, \\quad - i, \\quad -1, \\quad i, \\quad i, \\quad 1, \\quad - i, \\quad -1, \\quad -1, \\quad i, \\quad 1, \\quad - i, \\quad - i, \\quad -1, \\quad i, \\quad 1, \\quad 1, \\quad - i, \\quad -1, \\quad i, \\quad i, \\quad 1, \\quad - i, \\quad -1, \\quad -1, \\quad i, \\quad 1, \\quad - i, \\quad - i, \\quad -1, \\quad i, \\quad 1\\right ]$$"
      ],
      "text/plain": [
       "[1, -ⅈ, -1, ⅈ, ⅈ, 1, -ⅈ, -1, -1, ⅈ, 1, -ⅈ, -ⅈ, -1, ⅈ, 1, 1, -ⅈ, -1, ⅈ, ⅈ, 1, -\n",
       "ⅈ, -1, -1, ⅈ, 1, -ⅈ, -ⅈ, -1, ⅈ, 1]"
      ]
     },
     "execution_count": 82,
     "metadata": {},
     "output_type": "execute_result"
    }
   ],
   "source": [
    "factors_c"
   ]
  },
  {
   "cell_type": "code",
   "execution_count": 83,
   "metadata": {
    "collapsed": false,
    "run_control": {
     "frozen": false,
     "read_only": false
    }
   },
   "outputs": [
    {
     "data": {
      "image/png": "[encoded data removed]",
      "text/latex": [
       "$$\\left [ 1, \\quad 1, \\quad 1, \\quad 1, \\quad 1, \\quad 1, \\quad 1, \\quad 1, \\quad 1, \\quad 1, \\quad 1, \\quad 1, \\quad 1, \\quad 1, \\quad 1, \\quad 1, \\quad 0, \\quad 0, \\quad 0, \\quad 0, \\quad 0, \\quad 0, \\quad 0, \\quad 0, \\quad 0, \\quad 0, \\quad 0, \\quad 0, \\quad 0, \\quad 0, \\quad 0, \\quad 0\\right ]$$"
      ],
      "text/plain": [
       "[1, 1, 1, 1, 1, 1, 1, 1, 1, 1, 1, 1, 1, 1, 1, 1, 0, 0, 0, 0, 0, 0, 0, 0, 0, 0,\n",
       " 0, 0, 0, 0, 0, 0]"
      ]
     },
     "execution_count": 83,
     "metadata": {},
     "output_type": "execute_result"
    }
   ],
   "source": [
    "a3"
   ]
  },
  {
   "cell_type": "code",
   "execution_count": null,
   "metadata": {
    "collapsed": true,
    "run_control": {
     "frozen": false,
     "read_only": false
    }
   },
   "outputs": [],
   "source": []
  }
 ],
 "metadata": {
  "kernelspec": {
   "display_name": "Python 2",
   "language": "python",
   "name": "python2"
  },
  "language_info": {
   "codemirror_mode": {
    "name": "ipython",
    "version": 2
   },
   "file_extension": ".py",
   "mimetype": "text/x-python",
   "name": "python",
   "nbconvert_exporter": "python",
   "pygments_lexer": "ipython2",
   "version": "2.7.13"
  },
  "toc": {
   "nav_menu": {
    "height": "119px",
    "width": "252px"
   },
   "navigate_menu": true,
   "number_sections": true,
   "sideBar": true,
   "threshold": 4,
   "toc_cell": false,
   "toc_section_display": "block",
   "toc_window_display": false
  }
 },
 "nbformat": 4,
 "nbformat_minor": 0
}
