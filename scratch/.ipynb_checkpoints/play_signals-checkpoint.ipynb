{
 "cells": [
  {
   "cell_type": "markdown",
   "metadata": {},
   "source": [
    "# Preliminary to a test suite.\n",
    "Smoke tests"
   ]
  },
  {
   "cell_type": "code",
   "execution_count": 31,
   "metadata": {
    "collapsed": true
   },
   "outputs": [],
   "source": [
    "from __future__ import division, print_function\n",
    "#from sympy import latex\n",
    "import sympy as sy\n",
    "from math import copysign\n",
    "from operator import add\n",
    "import numpy as np"
   ]
  },
  {
   "cell_type": "code",
   "execution_count": 2,
   "metadata": {
    "collapsed": false
   },
   "outputs": [],
   "source": [
    "from sig2d.signals import Signal, amplitude, signal, signals_for_order"
   ]
  },
  {
   "cell_type": "code",
   "execution_count": 3,
   "metadata": {
    "collapsed": false
   },
   "outputs": [],
   "source": [
    "sy.init_printing()"
   ]
  },
  {
   "cell_type": "code",
   "execution_count": 4,
   "metadata": {
    "collapsed": true
   },
   "outputs": [],
   "source": [
    "ks = [-1, 2, 3]"
   ]
  },
  {
   "cell_type": "markdown",
   "metadata": {},
   "source": [
    "## basic signal"
   ]
  },
  {
   "cell_type": "code",
   "execution_count": 5,
   "metadata": {
    "collapsed": false
   },
   "outputs": [
    {
     "data": {
      "text/plain": [
       "('\\\\chi_{-k_1+k_2+k_3}', str)"
      ]
     },
     "execution_count": 5,
     "metadata": {},
     "output_type": "execute_result"
    }
   ],
   "source": [
    "s = Signal._mk_symbol(ks)\n",
    "s, type(s)"
   ]
  },
  {
   "cell_type": "code",
   "execution_count": 6,
   "metadata": {
    "collapsed": false
   },
   "outputs": [
    {
     "data": {
      "image/png": "[encoded data removed]",
      "text/latex": [
       "$$\\chi_{-k_1+k_2+k_3}$$"
      ],
      "text/plain": [
       "\\chi_{-k_1+k_2+k_3}"
      ]
     },
     "execution_count": 6,
     "metadata": {},
     "output_type": "execute_result"
    }
   ],
   "source": [
    "s = Signal(ks)\n",
    "s"
   ]
  },
  {
   "cell_type": "code",
   "execution_count": 7,
   "metadata": {
    "collapsed": false
   },
   "outputs": [
    {
     "data": {
      "image/png": "[encoded data removed]",
      "text/latex": [
       "$$A_{1}$$"
      ],
      "text/plain": [
       "A₁"
      ]
     },
     "execution_count": 7,
     "metadata": {},
     "output_type": "execute_result"
    }
   ],
   "source": [
    "amplitude(1)"
   ]
  },
  {
   "cell_type": "code",
   "execution_count": 8,
   "metadata": {
    "collapsed": false
   },
   "outputs": [
    {
     "data": {
      "image/png": "[encoded data removed]",
      "text/latex": [
       "$$\\overline{A_{1}}$$"
      ],
      "text/plain": [
       "__\n",
       "A₁"
      ]
     },
     "execution_count": 8,
     "metadata": {},
     "output_type": "execute_result"
    }
   ],
   "source": [
    "amplitude(-1)"
   ]
  },
  {
   "cell_type": "code",
   "execution_count": 9,
   "metadata": {
    "collapsed": false
   },
   "outputs": [
    {
     "data": {
      "image/png": "[encoded data removed]",
      "text/latex": [
       "$$\\chi_{-k_1+k_2+k_3}$$"
      ],
      "text/plain": [
       "\\chi_{-k_1+k_2+k_3}"
      ]
     },
     "execution_count": 9,
     "metadata": {},
     "output_type": "execute_result"
    }
   ],
   "source": [
    "s"
   ]
  },
  {
   "cell_type": "code",
   "execution_count": 10,
   "metadata": {
    "collapsed": false
   },
   "outputs": [
    {
     "data": {
      "image/png": "[encoded data removed]",
      "text/latex": [
       "$$\\chi_{-k_1+k_2+k_3} A_{2} A_{3} \\overline{A_{1}}$$"
      ],
      "text/plain": [
       "                          __\n",
       "\\chi_{-k_1+k_2+k_3}⋅A₂⋅A₃⋅A₁"
      ]
     },
     "execution_count": 10,
     "metadata": {},
     "output_type": "execute_result"
    }
   ],
   "source": [
    "signal(ks)"
   ]
  },
  {
   "cell_type": "markdown",
   "metadata": {},
   "source": [
    "## playing with the generation of k-vector combinations"
   ]
  },
  {
   "cell_type": "code",
   "execution_count": 11,
   "metadata": {
    "collapsed": true
   },
   "outputs": [],
   "source": [
    "from itertools import product, combinations_with_replacement, chain, repeat"
   ]
  },
  {
   "cell_type": "code",
   "execution_count": 12,
   "metadata": {
    "collapsed": false
   },
   "outputs": [
    {
     "data": {
      "image/png": "[encoded data removed]",
      "text/latex": [
       "$$\\left [ -1, \\quad 2, \\quad 3\\right ]$$"
      ],
      "text/plain": [
       "[-1, 2, 3]"
      ]
     },
     "execution_count": 12,
     "metadata": {},
     "output_type": "execute_result"
    }
   ],
   "source": [
    "ks"
   ]
  },
  {
   "cell_type": "code",
   "execution_count": 13,
   "metadata": {
    "collapsed": false
   },
   "outputs": [
    {
     "data": {
      "image/png": "[encoded data removed]",
      "text/latex": [
       "$$\\left [ \\left ( 1, \\quad 1\\right ), \\quad \\left ( 1, \\quad 2\\right ), \\quad \\left ( 1, \\quad 3\\right ), \\quad \\left ( 2, \\quad 2\\right ), \\quad \\left ( 2, \\quad 3\\right ), \\quad \\left ( 3, \\quad 3\\right )\\right ]$$"
      ],
      "text/plain": [
       "[(1, 1), (1, 2), (1, 3), (2, 2), (2, 3), (3, 3)]"
      ]
     },
     "execution_count": 13,
     "metadata": {},
     "output_type": "execute_result"
    }
   ],
   "source": [
    "k = [1,2,3]\n",
    "list(combinations_with_replacement(k, 2))"
   ]
  },
  {
   "cell_type": "code",
   "execution_count": 14,
   "metadata": {
    "collapsed": false
   },
   "outputs": [
    {
     "data": {
      "image/png": "[encoded data removed]",
      "text/latex": [
       "$$\\left [ 1, \\quad -1, \\quad 2, \\quad -2, \\quad 3, \\quad -3\\right ]$$"
      ],
      "text/plain": [
       "[1, -1, 2, -2, 3, -3]"
      ]
     },
     "execution_count": 14,
     "metadata": {},
     "output_type": "execute_result"
    }
   ],
   "source": [
    "list(chain(*zip(k, [-i for i in k])))"
   ]
  },
  {
   "cell_type": "code",
   "execution_count": 15,
   "metadata": {
    "collapsed": false
   },
   "outputs": [
    {
     "data": {
      "image/png": "[encoded data removed]",
      "text/latex": [
       "$$\\left [ \\left ( 1, \\quad 1, \\quad 1\\right ), \\quad \\left ( 1, \\quad 1, \\quad 2\\right ), \\quad \\left ( 1, \\quad 1, \\quad 3\\right ), \\quad \\left ( 1, \\quad 2, \\quad 1\\right ), \\quad \\left ( 1, \\quad 2, \\quad 2\\right ), \\quad \\left ( 1, \\quad 2, \\quad 3\\right ), \\quad \\left ( 1, \\quad 3, \\quad 1\\right ), \\quad \\left ( 1, \\quad 3, \\quad 2\\right ), \\quad \\left ( 1, \\quad 3, \\quad 3\\right ), \\quad \\left ( 2, \\quad 1, \\quad 1\\right ), \\quad \\left ( 2, \\quad 1, \\quad 2\\right ), \\quad \\left ( 2, \\quad 1, \\quad 3\\right ), \\quad \\left ( 2, \\quad 2, \\quad 1\\right ), \\quad \\left ( 2, \\quad 2, \\quad 2\\right ), \\quad \\left ( 2, \\quad 2, \\quad 3\\right ), \\quad \\left ( 2, \\quad 3, \\quad 1\\right ), \\quad \\left ( 2, \\quad 3, \\quad 2\\right ), \\quad \\left ( 2, \\quad 3, \\quad 3\\right ), \\quad \\left ( 3, \\quad 1, \\quad 1\\right ), \\quad \\left ( 3, \\quad 1, \\quad 2\\right ), \\quad \\left ( 3, \\quad 1, \\quad 3\\right ), \\quad \\left ( 3, \\quad 2, \\quad 1\\right ), \\quad \\left ( 3, \\quad 2, \\quad 2\\right ), \\quad \\left ( 3, \\quad 2, \\quad 3\\right ), \\quad \\left ( 3, \\quad 3, \\quad 1\\right ), \\quad \\left ( 3, \\quad 3, \\quad 2\\right ), \\quad \\left ( 3, \\quad 3, \\quad 3\\right )\\right ]$$"
      ],
      "text/plain": [
       "[(1, 1, 1), (1, 1, 2), (1, 1, 3), (1, 2, 1), (1, 2, 2), (1, 2, 3), (1, 3, 1), \n",
       "(1, 3, 2), (1, 3, 3), (2, 1, 1), (2, 1, 2), (2, 1, 3), (2, 2, 1), (2, 2, 2), (\n",
       "2, 2, 3), (2, 3, 1), (2, 3, 2), (2, 3, 3), (3, 1, 1), (3, 1, 2), (3, 1, 3), (3\n",
       ", 2, 1), (3, 2, 2), (3, 2, 3), (3, 3, 1), (3, 3, 2), (3, 3, 3)]"
      ]
     },
     "execution_count": 15,
     "metadata": {},
     "output_type": "execute_result"
    }
   ],
   "source": [
    "list(product(*repeat(k, 3)))"
   ]
  },
  {
   "cell_type": "markdown",
   "metadata": {},
   "source": [
    "## signals for a given order"
   ]
  },
  {
   "cell_type": "code",
   "execution_count": 16,
   "metadata": {
    "collapsed": false
   },
   "outputs": [
    {
     "data": {
      "image/png": "[encoded data removed]",
      "text/latex": [
       "$$\\chi_{+k_1} A_{1} + \\chi_{-k_1} \\overline{A_{1}}$$"
      ],
      "text/plain": [
       "                             __\n",
       "\\chi_{+k_1}⋅A₁ + \\chi_{-k_1}⋅A₁"
      ]
     },
     "execution_count": 16,
     "metadata": {},
     "output_type": "execute_result"
    }
   ],
   "source": [
    "# order 1, 1 pulse, should give a single signal\n",
    "signals_for_order(1, 1)"
   ]
  },
  {
   "cell_type": "code",
   "execution_count": 17,
   "metadata": {
    "collapsed": false
   },
   "outputs": [
    {
     "data": {
      "image/png": "[encoded data removed]",
      "text/latex": [
       "$$\\chi_{+k_1+k_1} A_{1}^{2} + \\chi_{+k_1-k_1} A_{1} \\overline{A_{1}} + \\chi_{-k_1-k_1} \\overline{A_{1}}^{2}$$"
      ],
      "text/plain": [
       "                                                                2\n",
       "                  2                      __                   __ \n",
       "\\chi_{+k_1+k_1}⋅A₁  + \\chi_{+k_1-k_1}⋅A₁⋅A₁ + \\chi_{-k_1-k_1}⋅A₁ "
      ]
     },
     "execution_count": 17,
     "metadata": {},
     "output_type": "execute_result"
    }
   ],
   "source": [
    "signals_for_order(2,1)"
   ]
  },
  {
   "cell_type": "code",
   "execution_count": 18,
   "metadata": {
    "collapsed": false
   },
   "outputs": [
    {
     "data": {
      "image/png": "[encoded data removed]",
      "text/latex": [
       "$$\\chi_{+k_1+k_1+k_1} A_{1}^{3} + \\chi_{+k_1+k_1-k_1} A_{1}^{2} \\overline{A_{1}} + \\chi_{+k_1-k_1-k_1} A_{1} \\overline{A_{1}}^{2} + \\chi_{-k_1-k_1-k_1} \\overline{A_{1}}^{3}$$"
      ],
      "text/plain": [
       "                                                                              \n",
       "                      3                         2 __                          \n",
       "\\chi_{+k_1+k_1+k_1}⋅A₁  + \\chi_{+k_1+k_1-k_1}⋅A₁ ⋅A₁ + \\chi_{+k_1-k_1-k_1}⋅A₁⋅\n",
       "\n",
       "  2                         3\n",
       "__                        __ \n",
       "A₁  + \\chi_{-k_1-k_1-k_1}⋅A₁ "
      ]
     },
     "execution_count": 18,
     "metadata": {},
     "output_type": "execute_result"
    }
   ],
   "source": [
    "signals_for_order(3, 1)"
   ]
  },
  {
   "cell_type": "code",
   "execution_count": 19,
   "metadata": {
    "collapsed": false
   },
   "outputs": [
    {
     "data": {
      "image/png": "[encoded data removed]",
      "text/latex": [
       "$$\\chi_{+k_1} A_{1} + \\chi_{+k_2} A_{2} + \\chi_{-k_1} \\overline{A_{1}} + \\chi_{-k_2} \\overline{A_{2}}$$"
      ],
      "text/plain": [
       "                                              __               __\n",
       "\\chi_{+k_1}⋅A₁ + \\chi_{+k_2}⋅A₂ + \\chi_{-k_1}⋅A₁ + \\chi_{-k_2}⋅A₂"
      ]
     },
     "execution_count": 19,
     "metadata": {},
     "output_type": "execute_result"
    }
   ],
   "source": [
    "signals_for_order(1, 2)"
   ]
  },
  {
   "cell_type": "code",
   "execution_count": 20,
   "metadata": {
    "collapsed": false
   },
   "outputs": [
    {
     "data": {
      "image/png": "[encoded data removed]",
      "text/latex": [
       "$$\\chi_{+k_1} A_{1} + \\chi_{+k_2} A_{2} + \\chi_{+k_3} A_{3} + \\chi_{-k_1} \\overline{A_{1}} + \\chi_{-k_2} \\overline{A_{2}} + \\chi_{-k_3} \\overline{A_{3}}$$"
      ],
      "text/plain": [
       "                                                               __             \n",
       "\\chi_{+k_1}⋅A₁ + \\chi_{+k_2}⋅A₂ + \\chi_{+k_3}⋅A₃ + \\chi_{-k_1}⋅A₁ + \\chi_{-k_2\n",
       "\n",
       "  __               __\n",
       "}⋅A₂ + \\chi_{-k_3}⋅A₃"
      ]
     },
     "execution_count": 20,
     "metadata": {},
     "output_type": "execute_result"
    }
   ],
   "source": [
    "signals_for_order(1, 3)"
   ]
  },
  {
   "cell_type": "code",
   "execution_count": 21,
   "metadata": {
    "collapsed": false
   },
   "outputs": [
    {
     "data": {
      "image/png": "[encoded data removed]",
      "text/latex": [
       "$$\\chi_{+k_1+k_1} A_{1}^{2} + \\chi_{+k_1+k_2} A_{1} A_{2} + \\chi_{+k_1-k_1} A_{1} \\overline{A_{1}} + \\chi_{+k_1-k_2} A_{1} \\overline{A_{2}} + \\chi_{+k_2+k_2} A_{2}^{2} + \\chi_{+k_2-k_2} A_{2} \\overline{A_{2}} + \\chi_{-k_1+k_2} A_{2} \\overline{A_{1}} + \\chi_{-k_1-k_1} \\overline{A_{1}}^{2} + \\chi_{-k_1-k_2} \\overline{A_{1}} \\overline{A_{2}} + \\chi_{-k_2-k_2} \\overline{A_{2}}^{2}$$"
      ],
      "text/plain": [
       "                                                                              \n",
       "                  2                                              __           \n",
       "\\chi_{+k_1+k_1}⋅A₁  + \\chi_{+k_1+k_2}⋅A₁⋅A₂ + \\chi_{+k_1-k_1}⋅A₁⋅A₁ + \\chi_{+k\n",
       "\n",
       "                                                                              \n",
       "           __                     2                      __                   \n",
       "_1-k_2}⋅A₁⋅A₂ + \\chi_{+k_2+k_2}⋅A₂  + \\chi_{+k_2-k_2}⋅A₂⋅A₂ + \\chi_{-k_1+k_2}⋅\n",
       "\n",
       "                          2                                             2\n",
       "   __                   __                    __ __                   __ \n",
       "A₂⋅A₁ + \\chi_{-k_1-k_1}⋅A₁  + \\chi_{-k_1-k_2}⋅A₁⋅A₂ + \\chi_{-k_2-k_2}⋅A₂ "
      ]
     },
     "execution_count": 21,
     "metadata": {},
     "output_type": "execute_result"
    }
   ],
   "source": [
    "signals_for_order(2, 2)"
   ]
  },
  {
   "cell_type": "code",
   "execution_count": 22,
   "metadata": {
    "collapsed": false
   },
   "outputs": [
    {
     "data": {
      "image/png": "[encoded data removed]",
      "text/latex": [
       "$$\\chi_{+k_1+k_1+k_1} A_{1}^{3} + \\chi_{+k_1+k_1+k_2} A_{1}^{2} A_{2} + \\chi_{+k_1+k_1+k_3} A_{1}^{2} A_{3} + \\chi_{+k_1+k_1-k_1} A_{1}^{2} \\overline{A_{1}} + \\chi_{+k_1+k_1-k_2} A_{1}^{2} \\overline{A_{2}} + \\chi_{+k_1+k_1-k_3} A_{1}^{2} \\overline{A_{3}} + \\chi_{+k_1+k_2+k_2} A_{1} A_{2}^{2} + \\chi_{+k_1+k_2+k_3} A_{1} A_{2} A_{3} + \\chi_{+k_1+k_2-k_2} A_{1} A_{2} \\overline{A_{2}} + \\chi_{+k_1+k_2-k_3} A_{1} A_{2} \\overline{A_{3}} + \\chi_{+k_1+k_3+k_3} A_{1} A_{3}^{2} + \\chi_{+k_1+k_3-k_3} A_{1} A_{3} \\overline{A_{3}} + \\chi_{+k_1-k_1+k_2} A_{1} A_{2} \\overline{A_{1}} + \\chi_{+k_1-k_1+k_3} A_{1} A_{3} \\overline{A_{1}} + \\chi_{+k_1-k_1-k_1} A_{1} \\overline{A_{1}}^{2} + \\chi_{+k_1-k_1-k_2} A_{1} \\overline{A_{1}} \\overline{A_{2}} + \\chi_{+k_1-k_1-k_3} A_{1} \\overline{A_{1}} \\overline{A_{3}} + \\chi_{+k_1-k_2+k_3} A_{1} A_{3} \\overline{A_{2}} + \\chi_{+k_1-k_2-k_2} A_{1} \\overline{A_{2}}^{2} + \\chi_{+k_1-k_2-k_3} A_{1} \\overline{A_{2}} \\overline{A_{3}} + \\chi_{+k_1-k_3-k_3} A_{1} \\overline{A_{3}}^{2} + \\chi_{+k_2+k_2+k_2} A_{2}^{3} + \\chi_{+k_2+k_2+k_3} A_{2}^{2} A_{3} + \\chi_{+k_2+k_2-k_2} A_{2}^{2} \\overline{A_{2}} + \\chi_{+k_2+k_2-k_3} A_{2}^{2} \\overline{A_{3}} + \\chi_{+k_2+k_3+k_3} A_{2} A_{3}^{2} + \\chi_{+k_2+k_3-k_3} A_{2} A_{3} \\overline{A_{3}} + \\chi_{+k_2-k_2+k_3} A_{2} A_{3} \\overline{A_{2}} + \\chi_{+k_2-k_2-k_2} A_{2} \\overline{A_{2}}^{2} + \\chi_{+k_2-k_2-k_3} A_{2} \\overline{A_{2}} \\overline{A_{3}} + \\chi_{+k_2-k_3-k_3} A_{2} \\overline{A_{3}}^{2} + \\chi_{+k_3+k_3+k_3} A_{3}^{3} + \\chi_{+k_3+k_3-k_3} A_{3}^{2} \\overline{A_{3}} + \\chi_{+k_3-k_3-k_3} A_{3} \\overline{A_{3}}^{2} + \\chi_{-k_1+k_2+k_2} A_{2}^{2} \\overline{A_{1}} + \\chi_{-k_1+k_2+k_3} A_{2} A_{3} \\overline{A_{1}} + \\chi_{-k_1+k_2-k_2} A_{2} \\overline{A_{1}} \\overline{A_{2}} + \\chi_{-k_1+k_2-k_3} A_{2} \\overline{A_{1}} \\overline{A_{3}} + \\chi_{-k_1+k_3+k_3} A_{3}^{2} \\overline{A_{1}} + \\chi_{-k_1+k_3-k_3} A_{3} \\overline{A_{1}} \\overline{A_{3}} + \\chi_{-k_1-k_1+k_2} A_{2} \\overline{A_{1}}^{2} + \\chi_{-k_1-k_1+k_3} A_{3} \\overline{A_{1}}^{2} + \\chi_{-k_1-k_1-k_1} \\overline{A_{1}}^{3} + \\chi_{-k_1-k_1-k_2} \\overline{A_{1}}^{2} \\overline{A_{2}} + \\chi_{-k_1-k_1-k_3} \\overline{A_{1}}^{2} \\overline{A_{3}} + \\chi_{-k_1-k_2+k_3} A_{3} \\overline{A_{1}} \\overline{A_{2}} + \\chi_{-k_1-k_2-k_2} \\overline{A_{1}} \\overline{A_{2}}^{2} + \\chi_{-k_1-k_2-k_3} \\overline{A_{1}} \\overline{A_{2}} \\overline{A_{3}} + \\chi_{-k_1-k_3-k_3} \\overline{A_{1}} \\overline{A_{3}}^{2} + \\chi_{-k_2+k_3+k_3} A_{3}^{2} \\overline{A_{2}} + \\chi_{-k_2+k_3-k_3} A_{3} \\overline{A_{2}} \\overline{A_{3}} + \\chi_{-k_2-k_2+k_3} A_{3} \\overline{A_{2}}^{2} + \\chi_{-k_2-k_2-k_2} \\overline{A_{2}}^{3} + \\chi_{-k_2-k_2-k_3} \\overline{A_{2}}^{2} \\overline{A_{3}} + \\chi_{-k_2-k_3-k_3} \\overline{A_{2}} \\overline{A_{3}}^{2} + \\chi_{-k_3-k_3-k_3} \\overline{A_{3}}^{3}$$"
      ],
      "text/plain": [
       "                                                                              \n",
       "                      3                         2                            2\n",
       "\\chi_{+k_1+k_1+k_1}⋅A₁  + \\chi_{+k_1+k_1+k_2}⋅A₁ ⋅A₂ + \\chi_{+k_1+k_1+k_3}⋅A₁ \n",
       "\n",
       "                                                                              \n",
       "                            2 __                         2 __                 \n",
       "⋅A₃ + \\chi_{+k_1+k_1-k_1}⋅A₁ ⋅A₁ + \\chi_{+k_1+k_1-k_2}⋅A₁ ⋅A₂ + \\chi_{+k_1+k_1\n",
       "\n",
       "                                                                              \n",
       "        2 __                            2                                     \n",
       "-k_3}⋅A₁ ⋅A₃ + \\chi_{+k_1+k_2+k_2}⋅A₁⋅A₂  + \\chi_{+k_1+k_2+k_3}⋅A₁⋅A₂⋅A₃ + \\ch\n",
       "\n",
       "                                                                              \n",
       "                       __                             __                      \n",
       "i_{+k_1+k_2-k_2}⋅A₁⋅A₂⋅A₂ + \\chi_{+k_1+k_2-k_3}⋅A₁⋅A₂⋅A₃ + \\chi_{+k_1+k_3+k_3}\n",
       "\n",
       "                                                                              \n",
       "      2                             __                             __         \n",
       "⋅A₁⋅A₃  + \\chi_{+k_1+k_3-k_3}⋅A₁⋅A₃⋅A₃ + \\chi_{+k_1-k_1+k_2}⋅A₁⋅A₂⋅A₁ + \\chi_{\n",
       "\n",
       "                                                  2                           \n",
       "                    __                          __                           _\n",
       "+k_1-k_1+k_3}⋅A₁⋅A₃⋅A₁ + \\chi_{+k_1-k_1-k_1}⋅A₁⋅A₁  + \\chi_{+k_1-k_1-k_2}⋅A₁⋅A\n",
       "\n",
       "                                                                              \n",
       "_ __                          __ __                             __            \n",
       "₁⋅A₂ + \\chi_{+k_1-k_1-k_3}⋅A₁⋅A₁⋅A₃ + \\chi_{+k_1-k_2+k_3}⋅A₁⋅A₃⋅A₂ + \\chi_{+k_\n",
       "\n",
       "                2                                                           2 \n",
       "              __                           __ __                          __  \n",
       "1-k_2-k_2}⋅A₁⋅A₂  + \\chi_{+k_1-k_2-k_3}⋅A₁⋅A₂⋅A₃ + \\chi_{+k_1-k_3-k_3}⋅A₁⋅A₃  \n",
       "\n",
       "                                                                              \n",
       "                        3                         2                           \n",
       "+ \\chi_{+k_2+k_2+k_2}⋅A₂  + \\chi_{+k_2+k_2+k_3}⋅A₂ ⋅A₃ + \\chi_{+k_2+k_2-k_2}⋅A\n",
       "\n",
       "                                                                              \n",
       " 2 __                         2 __                            2               \n",
       "₂ ⋅A₂ + \\chi_{+k_2+k_2-k_3}⋅A₂ ⋅A₃ + \\chi_{+k_2+k_3+k_3}⋅A₂⋅A₃  + \\chi_{+k_2+k\n",
       "\n",
       "                                                                           2  \n",
       "              __                             __                          __   \n",
       "_3-k_3}⋅A₂⋅A₃⋅A₃ + \\chi_{+k_2-k_2+k_3}⋅A₂⋅A₃⋅A₂ + \\chi_{+k_2-k_2-k_2}⋅A₂⋅A₂  +\n",
       "\n",
       "                                                         2                    \n",
       "                        __ __                          __                     \n",
       " \\chi_{+k_2-k_2-k_3}⋅A₂⋅A₂⋅A₃ + \\chi_{+k_2-k_3-k_3}⋅A₂⋅A₃  + \\chi_{+k_3+k_3+k_\n",
       "\n",
       "                                                               2              \n",
       "     3                         2 __                          __               \n",
       "3}⋅A₃  + \\chi_{+k_3+k_3-k_3}⋅A₃ ⋅A₃ + \\chi_{+k_3-k_3-k_3}⋅A₃⋅A₃  + \\chi_{-k_1+\n",
       "\n",
       "                                                                              \n",
       "           2 __                             __                          __ __ \n",
       "k_2+k_2}⋅A₂ ⋅A₁ + \\chi_{-k_1+k_2+k_3}⋅A₂⋅A₃⋅A₁ + \\chi_{-k_1+k_2-k_2}⋅A₂⋅A₁⋅A₂ \n",
       "\n",
       "                                                                              \n",
       "                         __ __                         2 __                   \n",
       "+ \\chi_{-k_1+k_2-k_3}⋅A₂⋅A₁⋅A₃ + \\chi_{-k_1+k_3+k_3}⋅A₃ ⋅A₁ + \\chi_{-k_1+k_3-k\n",
       "\n",
       "                                        2                            2        \n",
       "       __ __                          __                           __         \n",
       "_3}⋅A₃⋅A₁⋅A₃ + \\chi_{-k_1-k_1+k_2}⋅A₂⋅A₁  + \\chi_{-k_1-k_1+k_3}⋅A₃⋅A₁  + \\chi_\n",
       "\n",
       "                 3                         2                            2     \n",
       "               __                        __  __                       __  __  \n",
       "{-k_1-k_1-k_1}⋅A₁  + \\chi_{-k_1-k_1-k_2}⋅A₁ ⋅A₂ + \\chi_{-k_1-k_1-k_3}⋅A₁ ⋅A₃ +\n",
       "\n",
       "                                                         2                    \n",
       "                        __ __                       __ __                     \n",
       " \\chi_{-k_1-k_2+k_3}⋅A₃⋅A₁⋅A₂ + \\chi_{-k_1-k_2-k_2}⋅A₁⋅A₂  + \\chi_{-k_1-k_2-k_\n",
       "\n",
       "                                       2                                      \n",
       "   __ __ __                       __ __                          2 __         \n",
       "3}⋅A₁⋅A₂⋅A₃ + \\chi_{-k_1-k_3-k_3}⋅A₁⋅A₃  + \\chi_{-k_2+k_3+k_3}⋅A₃ ⋅A₂ + \\chi_{\n",
       "\n",
       "                                                  2                         3 \n",
       "                 __ __                          __                        __  \n",
       "-k_2+k_3-k_3}⋅A₃⋅A₂⋅A₃ + \\chi_{-k_2-k_2+k_3}⋅A₃⋅A₂  + \\chi_{-k_2-k_2-k_2}⋅A₂  \n",
       "\n",
       "                        2                               2                     \n",
       "                      __  __                       __ __                      \n",
       "+ \\chi_{-k_2-k_2-k_3}⋅A₂ ⋅A₃ + \\chi_{-k_2-k_3-k_3}⋅A₂⋅A₃  + \\chi_{-k_3-k_3-k_3\n",
       "\n",
       "    3\n",
       "  __ \n",
       "}⋅A₃ "
      ]
     },
     "execution_count": 22,
     "metadata": {},
     "output_type": "execute_result"
    }
   ],
   "source": [
    "signals_for_order(3,3)"
   ]
  },
  {
   "cell_type": "code",
   "execution_count": 23,
   "metadata": {
    "collapsed": false
   },
   "outputs": [],
   "source": [
    "expr = sum(signals_for_order(i, n_pulses=3) for i in [1,2,3])"
   ]
  },
  {
   "cell_type": "code",
   "execution_count": 24,
   "metadata": {
    "collapsed": false
   },
   "outputs": [
    {
     "data": {
      "image/png": "[encoded data removed]",
      "text/latex": [
       "$$83$$"
      ],
      "text/plain": [
       "83"
      ]
     },
     "execution_count": 24,
     "metadata": {},
     "output_type": "execute_result"
    }
   ],
   "source": [
    "len(expr.args)  # WOOOHOO"
   ]
  },
  {
   "cell_type": "markdown",
   "metadata": {},
   "source": [
    "## let's decimate the list of k vectors"
   ]
  },
  {
   "cell_type": "code",
   "execution_count": 25,
   "metadata": {
    "collapsed": true
   },
   "outputs": [],
   "source": [
    "def fundamental_freq(k):\n",
    "    return abs(sum([copysign(1,i) for i in k])) == 1"
   ]
  },
  {
   "cell_type": "code",
   "execution_count": 26,
   "metadata": {
    "collapsed": false
   },
   "outputs": [
    {
     "data": {
      "image/png": "[encoded data removed]",
      "text/latex": [
       "$$\\chi_{+k_1+k_1-k_1} A_{1}^{2} \\overline{A_{1}} + \\chi_{+k_1+k_1-k_2} A_{1}^{2} \\overline{A_{2}} + \\chi_{+k_1+k_1-k_3} A_{1}^{2} \\overline{A_{3}} + \\chi_{+k_1+k_2-k_2} A_{1} A_{2} \\overline{A_{2}} + \\chi_{+k_1+k_2-k_3} A_{1} A_{2} \\overline{A_{3}} + \\chi_{+k_1+k_3-k_3} A_{1} A_{3} \\overline{A_{3}} + \\chi_{+k_1-k_1+k_2} A_{1} A_{2} \\overline{A_{1}} + \\chi_{+k_1-k_1+k_3} A_{1} A_{3} \\overline{A_{1}} + \\chi_{+k_1-k_1-k_1} A_{1} \\overline{A_{1}}^{2} + \\chi_{+k_1-k_1-k_2} A_{1} \\overline{A_{1}} \\overline{A_{2}} + \\chi_{+k_1-k_1-k_3} A_{1} \\overline{A_{1}} \\overline{A_{3}} + \\chi_{+k_1-k_2+k_3} A_{1} A_{3} \\overline{A_{2}} + \\chi_{+k_1-k_2-k_2} A_{1} \\overline{A_{2}}^{2} + \\chi_{+k_1-k_2-k_3} A_{1} \\overline{A_{2}} \\overline{A_{3}} + \\chi_{+k_1-k_3-k_3} A_{1} \\overline{A_{3}}^{2} + \\chi_{+k_2+k_2-k_2} A_{2}^{2} \\overline{A_{2}} + \\chi_{+k_2+k_2-k_3} A_{2}^{2} \\overline{A_{3}} + \\chi_{+k_2+k_3-k_3} A_{2} A_{3} \\overline{A_{3}} + \\chi_{+k_2-k_2+k_3} A_{2} A_{3} \\overline{A_{2}} + \\chi_{+k_2-k_2-k_2} A_{2} \\overline{A_{2}}^{2} + \\chi_{+k_2-k_2-k_3} A_{2} \\overline{A_{2}} \\overline{A_{3}} + \\chi_{+k_2-k_3-k_3} A_{2} \\overline{A_{3}}^{2} + \\chi_{+k_3+k_3-k_3} A_{3}^{2} \\overline{A_{3}} + \\chi_{+k_3-k_3-k_3} A_{3} \\overline{A_{3}}^{2} + \\chi_{-k_1+k_2+k_2} A_{2}^{2} \\overline{A_{1}} + \\chi_{-k_1+k_2+k_3} A_{2} A_{3} \\overline{A_{1}} + \\chi_{-k_1+k_2-k_2} A_{2} \\overline{A_{1}} \\overline{A_{2}} + \\chi_{-k_1+k_2-k_3} A_{2} \\overline{A_{1}} \\overline{A_{3}} + \\chi_{-k_1+k_3+k_3} A_{3}^{2} \\overline{A_{1}} + \\chi_{-k_1+k_3-k_3} A_{3} \\overline{A_{1}} \\overline{A_{3}} + \\chi_{-k_1-k_1+k_2} A_{2} \\overline{A_{1}}^{2} + \\chi_{-k_1-k_1+k_3} A_{3} \\overline{A_{1}}^{2} + \\chi_{-k_1-k_2+k_3} A_{3} \\overline{A_{1}} \\overline{A_{2}} + \\chi_{-k_2+k_3+k_3} A_{3}^{2} \\overline{A_{2}} + \\chi_{-k_2+k_3-k_3} A_{3} \\overline{A_{2}} \\overline{A_{3}} + \\chi_{-k_2-k_2+k_3} A_{3} \\overline{A_{2}}^{2}$$"
      ],
      "text/plain": [
       "                                                                              \n",
       "                      2 __                         2 __                       \n",
       "\\chi_{+k_1+k_1-k_1}⋅A₁ ⋅A₁ + \\chi_{+k_1+k_1-k_2}⋅A₁ ⋅A₂ + \\chi_{+k_1+k_1-k_3}⋅\n",
       "\n",
       "                                                                              \n",
       "  2 __                             __                             __          \n",
       "A₁ ⋅A₃ + \\chi_{+k_1+k_2-k_2}⋅A₁⋅A₂⋅A₂ + \\chi_{+k_1+k_2-k_3}⋅A₁⋅A₂⋅A₃ + \\chi_{+\n",
       "\n",
       "                                                                              \n",
       "                   __                             __                          \n",
       "k_1+k_3-k_3}⋅A₁⋅A₃⋅A₃ + \\chi_{+k_1-k_1+k_2}⋅A₁⋅A₂⋅A₁ + \\chi_{+k_1-k_1+k_3}⋅A₁⋅\n",
       "\n",
       "                                 2                                            \n",
       "   __                          __                           __ __             \n",
       "A₃⋅A₁ + \\chi_{+k_1-k_1-k_1}⋅A₁⋅A₁  + \\chi_{+k_1-k_1-k_2}⋅A₁⋅A₁⋅A₂ + \\chi_{+k_1\n",
       "\n",
       "                                                                             2\n",
       "             __ __                             __                          __ \n",
       "-k_1-k_3}⋅A₁⋅A₁⋅A₃ + \\chi_{+k_1-k_2+k_3}⋅A₁⋅A₃⋅A₂ + \\chi_{+k_1-k_2-k_2}⋅A₁⋅A₂ \n",
       "\n",
       "                                                           2                  \n",
       "                          __ __                          __                   \n",
       " + \\chi_{+k_1-k_2-k_3}⋅A₁⋅A₂⋅A₃ + \\chi_{+k_1-k_3-k_3}⋅A₁⋅A₃  + \\chi_{+k_2+k_2-\n",
       "\n",
       "                                                                              \n",
       "       2 __                         2 __                             __       \n",
       "k_2}⋅A₂ ⋅A₂ + \\chi_{+k_2+k_2-k_3}⋅A₂ ⋅A₃ + \\chi_{+k_2+k_3-k_3}⋅A₂⋅A₃⋅A₃ + \\chi\n",
       "\n",
       "                                                    2                         \n",
       "                      __                          __                          \n",
       "_{+k_2-k_2+k_3}⋅A₂⋅A₃⋅A₂ + \\chi_{+k_2-k_2-k_2}⋅A₂⋅A₂  + \\chi_{+k_2-k_2-k_3}⋅A₂\n",
       "\n",
       "                                  2                                           \n",
       " __ __                          __                          2 __              \n",
       "⋅A₂⋅A₃ + \\chi_{+k_2-k_3-k_3}⋅A₂⋅A₃  + \\chi_{+k_3+k_3-k_3}⋅A₃ ⋅A₃ + \\chi_{+k_3-\n",
       "\n",
       "              2                                                               \n",
       "            __                          2 __                             __   \n",
       "k_3-k_3}⋅A₃⋅A₃  + \\chi_{-k_1+k_2+k_2}⋅A₂ ⋅A₁ + \\chi_{-k_1+k_2+k_3}⋅A₂⋅A₃⋅A₁ + \n",
       "\n",
       "                                                                              \n",
       "                       __ __                          __ __                   \n",
       "\\chi_{-k_1+k_2-k_2}⋅A₂⋅A₁⋅A₂ + \\chi_{-k_1+k_2-k_3}⋅A₂⋅A₁⋅A₃ + \\chi_{-k_1+k_3+k\n",
       "\n",
       "                                                                     2        \n",
       "      2 __                          __ __                          __         \n",
       "_3}⋅A₃ ⋅A₁ + \\chi_{-k_1+k_3-k_3}⋅A₃⋅A₁⋅A₃ + \\chi_{-k_1-k_1+k_2}⋅A₂⋅A₁  + \\chi_\n",
       "\n",
       "                    2                                                         \n",
       "                  __                           __ __                         2\n",
       "{-k_1-k_1+k_3}⋅A₃⋅A₁  + \\chi_{-k_1-k_2+k_3}⋅A₃⋅A₁⋅A₂ + \\chi_{-k_2+k_3+k_3}⋅A₃ \n",
       "\n",
       "                                                              2\n",
       " __                          __ __                          __ \n",
       "⋅A₂ + \\chi_{-k_2+k_3-k_3}⋅A₃⋅A₂⋅A₃ + \\chi_{-k_2-k_2+k_3}⋅A₃⋅A₂ "
      ]
     },
     "execution_count": 26,
     "metadata": {},
     "output_type": "execute_result"
    }
   ],
   "source": [
    "signals_for_order(3, n_pulses=3, filter_=fundamental_freq)"
   ]
  },
  {
   "cell_type": "code",
   "execution_count": 27,
   "metadata": {
    "collapsed": true
   },
   "outputs": [],
   "source": [
    "def positive_last(k):\n",
    "    return k[-1] > 0"
   ]
  },
  {
   "cell_type": "code",
   "execution_count": 28,
   "metadata": {
    "collapsed": false
   },
   "outputs": [
    {
     "data": {
      "image/png": "[encoded data removed]",
      "text/latex": [
       "$$\\chi_{+k_1+k_1+k_1} A_{1}^{3} + \\chi_{+k_1+k_1+k_2} A_{1}^{2} A_{2} + \\chi_{+k_1+k_1+k_3} A_{1}^{2} A_{3} + \\chi_{+k_1+k_2+k_2} A_{1} A_{2}^{2} + \\chi_{+k_1+k_2+k_3} A_{1} A_{2} A_{3} + \\chi_{+k_1+k_3+k_3} A_{1} A_{3}^{2} + \\chi_{+k_1-k_1+k_2} A_{1} A_{2} \\overline{A_{1}} + \\chi_{+k_1-k_1+k_3} A_{1} A_{3} \\overline{A_{1}} + \\chi_{+k_1-k_2+k_3} A_{1} A_{3} \\overline{A_{2}} + \\chi_{+k_2+k_2+k_2} A_{2}^{3} + \\chi_{+k_2+k_2+k_3} A_{2}^{2} A_{3} + \\chi_{+k_2+k_3+k_3} A_{2} A_{3}^{2} + \\chi_{+k_2-k_2+k_3} A_{2} A_{3} \\overline{A_{2}} + \\chi_{+k_3+k_3+k_3} A_{3}^{3} + \\chi_{-k_1+k_2+k_2} A_{2}^{2} \\overline{A_{1}} + \\chi_{-k_1+k_2+k_3} A_{2} A_{3} \\overline{A_{1}} + \\chi_{-k_1+k_3+k_3} A_{3}^{2} \\overline{A_{1}} + \\chi_{-k_1-k_1+k_2} A_{2} \\overline{A_{1}}^{2} + \\chi_{-k_1-k_1+k_3} A_{3} \\overline{A_{1}}^{2} + \\chi_{-k_1-k_2+k_3} A_{3} \\overline{A_{1}} \\overline{A_{2}} + \\chi_{-k_2+k_3+k_3} A_{3}^{2} \\overline{A_{2}} + \\chi_{-k_2-k_2+k_3} A_{3} \\overline{A_{2}}^{2}$$"
      ],
      "text/plain": [
       "                                                                              \n",
       "                      3                         2                            2\n",
       "\\chi_{+k_1+k_1+k_1}⋅A₁  + \\chi_{+k_1+k_1+k_2}⋅A₁ ⋅A₂ + \\chi_{+k_1+k_1+k_3}⋅A₁ \n",
       "\n",
       "                                                                              \n",
       "                               2                                              \n",
       "⋅A₃ + \\chi_{+k_1+k_2+k_2}⋅A₁⋅A₂  + \\chi_{+k_1+k_2+k_3}⋅A₁⋅A₂⋅A₃ + \\chi_{+k_1+k\n",
       "\n",
       "                                                                              \n",
       "             2                             __                             __  \n",
       "_3+k_3}⋅A₁⋅A₃  + \\chi_{+k_1-k_1+k_2}⋅A₁⋅A₂⋅A₁ + \\chi_{+k_1-k_1+k_3}⋅A₁⋅A₃⋅A₁ +\n",
       "\n",
       "                                                                              \n",
       "                           __                         3                       \n",
       " \\chi_{+k_1-k_2+k_3}⋅A₁⋅A₃⋅A₂ + \\chi_{+k_2+k_2+k_2}⋅A₂  + \\chi_{+k_2+k_2+k_3}⋅\n",
       "\n",
       "                                                                              \n",
       "  2                               2                             __            \n",
       "A₂ ⋅A₃ + \\chi_{+k_2+k_3+k_3}⋅A₂⋅A₃  + \\chi_{+k_2-k_2+k_3}⋅A₂⋅A₃⋅A₂ + \\chi_{+k_\n",
       "\n",
       "                                                                              \n",
       "             3                         2 __                             __    \n",
       "3+k_3+k_3}⋅A₃  + \\chi_{-k_1+k_2+k_2}⋅A₂ ⋅A₁ + \\chi_{-k_1+k_2+k_3}⋅A₂⋅A₃⋅A₁ + \\\n",
       "\n",
       "                                                     2                        \n",
       "                     2 __                          __                         \n",
       "chi_{-k_1+k_3+k_3}⋅A₃ ⋅A₁ + \\chi_{-k_1-k_1+k_2}⋅A₂⋅A₁  + \\chi_{-k_1-k_1+k_3}⋅A\n",
       "\n",
       "    2                                                                         \n",
       "  __                           __ __                         2 __             \n",
       "₃⋅A₁  + \\chi_{-k_1-k_2+k_3}⋅A₃⋅A₁⋅A₂ + \\chi_{-k_2+k_3+k_3}⋅A₃ ⋅A₂ + \\chi_{-k_2\n",
       "\n",
       "               2\n",
       "             __ \n",
       "-k_2+k_3}⋅A₃⋅A₂ "
      ]
     },
     "execution_count": 28,
     "metadata": {},
     "output_type": "execute_result"
    }
   ],
   "source": [
    "signals_for_order(3, n_pulses=3, filter_=positive_last)"
   ]
  },
  {
   "cell_type": "code",
   "execution_count": 58,
   "metadata": {
    "collapsed": false
   },
   "outputs": [],
   "source": [
    "def multifilter(filters, reductop=all):\n",
    "    def composite(k):\n",
    "        return reductop([f(k) for f in filters])\n",
    "    return composite\n",
    "\n",
    "def accumulator(l, op=add):\n",
    "    \"\"\"\n",
    "    Returns the running accumulation of `l` using operator `op`.\n",
    "    \n",
    "    accumulate(l) results in the running sum.\n",
    "    \"\"\"\n",
    "    l = iter(l)\n",
    "    r = l.next()\n",
    "    for v in l:\n",
    "        r = op(r, v)\n",
    "        yield r\n",
    "        \n",
    "def accumulated(l, op=add):\n",
    "    \"\"\"Returns an running accumulation of `l` as a list.\"\"\"\n",
    "    return list(accumulator(l, op))\n",
    "        \n",
    "\n",
    "#def ends_with_k3(k):\n",
    "#    return abs(k[-1]) == 3\n",
    "\n",
    "def single_k3(k):  # emitted in the k3 direction?\n",
    "    return sum([abs(i)==3 for i in k]) == 1\n",
    "\n",
    "\n",
    "def single_excitation(k):  # avoid +k1 +k1 sequences, which yeild |2><0| or try to deexcite the gs\n",
    "    # never get more than +1 or -1 total excitation, is that allright?\n",
    "    runsum = accumulated([copysign(1, i) for i in k])\n",
    "    return all([abs(r) <= 1 for r in runsum])\n",
    "\n",
    "# This is close to PP detection.\n",
    "pp = multifilter([fundamental_freq, positive_last, single_k3, single_excitation])"
   ]
  },
  {
   "cell_type": "code",
   "execution_count": 59,
   "metadata": {
    "collapsed": false
   },
   "outputs": [
    {
     "data": {
      "text/plain": [
       "([-1, -1, 3], [(-1, -1), (-1, 3)], True)"
      ]
     },
     "execution_count": 59,
     "metadata": {},
     "output_type": "execute_result"
    }
   ],
   "source": [
    "ks = [-1, 2, 3]\n",
    "ks = [-1, -1, 3]\n",
    "pairs = zip(ks[:-1], ks[1:])\n",
    "ks, pairs, any([i[0]==i[1] for i in pairs])"
   ]
  },
  {
   "cell_type": "code",
   "execution_count": 60,
   "metadata": {
    "collapsed": false
   },
   "outputs": [
    {
     "data": {
      "image/png": "[encoded data removed]",
      "text/latex": [
       "$$\\chi_{+k_1-k_1+k_3} A_{1} A_{3} \\overline{A_{1}} + \\chi_{+k_1-k_2+k_3} A_{1} A_{3} \\overline{A_{2}} + \\chi_{+k_2-k_2+k_3} A_{2} A_{3} \\overline{A_{2}} + \\chi_{-k_1+k_2+k_3} A_{2} A_{3} \\overline{A_{1}}$$"
      ],
      "text/plain": [
       "                          __                             __                   \n",
       "\\chi_{+k_1-k_1+k_3}⋅A₁⋅A₃⋅A₁ + \\chi_{+k_1-k_2+k_3}⋅A₁⋅A₃⋅A₂ + \\chi_{+k_2-k_2+k\n",
       "\n",
       "          __                             __\n",
       "_3}⋅A₂⋅A₃⋅A₂ + \\chi_{-k_1+k_2+k_3}⋅A₂⋅A₃⋅A₁"
      ]
     },
     "execution_count": 60,
     "metadata": {},
     "output_type": "execute_result"
    }
   ],
   "source": [
    "signals_for_order(3, n_pulses=3, filter_=pp)"
   ]
  },
  {
   "cell_type": "code",
   "execution_count": 48,
   "metadata": {
    "collapsed": false
   },
   "outputs": [
    {
     "data": {
      "image/png": "[encoded data removed]",
      "text/latex": [
       "$$-1.0$$"
      ],
      "text/plain": [
       "-1.0"
      ]
     },
     "execution_count": 48,
     "metadata": {},
     "output_type": "execute_result"
    }
   ],
   "source": [
    "copysign(1,-3)"
   ]
  },
  {
   "cell_type": "code",
   "execution_count": 52,
   "metadata": {
    "collapsed": false
   },
   "outputs": [
    {
     "data": {
      "image/png": "[encoded data removed]",
      "text/latex": [
       "$$\\left ( 0, \\quad 1\\right )$$"
      ],
      "text/plain": [
       "(0, 1)"
      ]
     },
     "execution_count": 52,
     "metadata": {},
     "output_type": "execute_result"
    }
   ],
   "source": [
    "int(False), int(True)"
   ]
  },
  {
   "cell_type": "markdown",
   "metadata": {},
   "source": [
    "## Tentative pp detection"
   ]
  },
  {
   "cell_type": "code",
   "execution_count": 115,
   "metadata": {
    "collapsed": false
   },
   "outputs": [
    {
     "data": {
      "image/png": "[encoded data removed]",
      "text/latex": [
       "$$\\chi_{+k_1-k_1+k_3} A_{1} A_{3} \\overline{A_{1}} + \\chi_{+k_1-k_2+k_3} A_{1} A_{3} \\overline{A_{2}} + \\chi_{+k_2-k_2+k_3} A_{2} A_{3} \\overline{A_{2}} + \\chi_{+k_3} A_{3} + \\chi_{-k_1+k_2+k_3} A_{2} A_{3} \\overline{A_{1}}$$"
      ],
      "text/plain": [
       "                          __                             __                   \n",
       "\\chi_{+k_1-k_1+k_3}⋅A₁⋅A₃⋅A₁ + \\chi_{+k_1-k_2+k_3}⋅A₁⋅A₃⋅A₂ + \\chi_{+k_2-k_2+k\n",
       "\n",
       "          __                                              __\n",
       "_3}⋅A₂⋅A₃⋅A₂ + \\chi_{+k_3}⋅A₃ + \\chi_{-k_1+k_2+k_3}⋅A₂⋅A₃⋅A₁"
      ]
     },
     "execution_count": 115,
     "metadata": {},
     "output_type": "execute_result"
    }
   ],
   "source": [
    "expr = sum(signals_for_order(i, n_pulses=3, filter_=pp) for i in [1,2,3])\n",
    "expr"
   ]
  },
  {
   "cell_type": "code",
   "execution_count": 116,
   "metadata": {
    "collapsed": true
   },
   "outputs": [],
   "source": [
    "#  incident fields"
   ]
  },
  {
   "cell_type": "code",
   "execution_count": 117,
   "metadata": {
    "collapsed": false
   },
   "outputs": [
    {
     "data": {
      "image/png": "[encoded data removed]",
      "text/latex": [
       "$$\\chi_{+k_1-k_1+k_3} A_{1} A_{3} \\overline{A_{1}} + \\chi_{+k_1-k_2+k_3} A_{1} A_{3} \\overline{A_{2}} + \\chi_{+k_2-k_2+k_3} A_{2} A_{3} \\overline{A_{2}} + \\chi_{+k_3} A_{3} + \\chi_{-k_1+k_2+k_3} A_{2} A_{3} \\overline{A_{1}} + A_{3} E_{3}$$"
      ],
      "text/plain": [
       "                          __                             __                   \n",
       "\\chi_{+k_1-k_1+k_3}⋅A₁⋅A₃⋅A₁ + \\chi_{+k_1-k_2+k_3}⋅A₁⋅A₃⋅A₂ + \\chi_{+k_2-k_2+k\n",
       "\n",
       "          __                                              __        \n",
       "_3}⋅A₂⋅A₃⋅A₂ + \\chi_{+k_3}⋅A₃ + \\chi_{-k_1+k_2+k_3}⋅A₂⋅A₃⋅A₁ + A₃⋅E₃"
      ]
     },
     "execution_count": 117,
     "metadata": {},
     "output_type": "execute_result"
    }
   ],
   "source": [
    "a3 = amplitude(3)\n",
    "sig = sy.symbols(\"E_3\")*a3 + expr\n",
    "sig"
   ]
  },
  {
   "cell_type": "code",
   "execution_count": 118,
   "metadata": {
    "collapsed": false
   },
   "outputs": [
    {
     "data": {
      "image/png": "[encoded data removed]",
      "text/latex": [
       "$$36$$"
      ],
      "text/plain": [
       "36"
      ]
     },
     "execution_count": 118,
     "metadata": {},
     "output_type": "execute_result"
    }
   ],
   "source": [
    "detected_full = sy.expand(sy.conjugate(sig)*sig)\n",
    "len(detected_full.args)"
   ]
  },
  {
   "cell_type": "code",
   "execution_count": 119,
   "metadata": {
    "collapsed": false
   },
   "outputs": [
    {
     "data": {
      "text/plain": [
       "'A_3*E_3*conjugate(A_3)*conjugate(E_3)'"
      ]
     },
     "execution_count": 119,
     "metadata": {},
     "output_type": "execute_result"
    }
   ],
   "source": [
    "repr(detected_full.args[0])"
   ]
  },
  {
   "cell_type": "code",
   "execution_count": 120,
   "metadata": {
    "collapsed": false
   },
   "outputs": [],
   "source": [
    "# we can filter by 'E_3' being in every arg\n",
    "detected_large = filter(lambda s: 'E_3' in repr(s), detected_full.args)\n",
    "# there is a problem with the complex conjugates.\n",
    "detected_large = filter(lambda s: 'conjugate(\\\\chi' not in repr(s), detected_large)"
   ]
  },
  {
   "cell_type": "code",
   "execution_count": 121,
   "metadata": {
    "collapsed": false
   },
   "outputs": [
    {
     "data": {
      "text/plain": [
       "tuple"
      ]
     },
     "execution_count": 121,
     "metadata": {},
     "output_type": "execute_result"
    }
   ],
   "source": [
    "type(detected_large)"
   ]
  },
  {
   "cell_type": "code",
   "execution_count": 122,
   "metadata": {
    "collapsed": false
   },
   "outputs": [
    {
     "data": {
      "image/png": "[encoded data removed]",
      "text/latex": [
       "$$\\chi_{+k_1-k_1+k_3} A_{1} A_{3} \\overline{A_{1}} \\overline{A_{3}} \\overline{E_{3}} + \\chi_{+k_1-k_2+k_3} A_{1} A_{3} \\overline{A_{2}} \\overline{A_{3}} \\overline{E_{3}} + \\chi_{+k_2-k_2+k_3} A_{2} A_{3} \\overline{A_{2}} \\overline{A_{3}} \\overline{E_{3}} + \\chi_{+k_3} A_{3} \\overline{A_{3}} \\overline{E_{3}} + \\chi_{-k_1+k_2+k_3} A_{2} A_{3} \\overline{A_{1}} \\overline{A_{3}} \\overline{E_{3}} + A_{3} E_{3} \\overline{A_{3}} \\overline{E_{3}}$$"
      ],
      "text/plain": [
       "                          __ __ __                             __ __ __       \n",
       "\\chi_{+k_1-k_1+k_3}⋅A₁⋅A₃⋅A₁⋅A₃⋅E₃ + \\chi_{+k_1-k_2+k_3}⋅A₁⋅A₃⋅A₂⋅A₃⋅E₃ + \\chi\n",
       "\n",
       "                      __ __ __                  __ __                         \n",
       "_{+k_2-k_2+k_3}⋅A₂⋅A₃⋅A₂⋅A₃⋅E₃ + \\chi_{+k_3}⋅A₃⋅A₃⋅E₃ + \\chi_{-k_1+k_2+k_3}⋅A₂\n",
       "\n",
       "    __ __ __         __ __\n",
       "⋅A₃⋅A₁⋅A₃⋅E₃ + A₃⋅E₃⋅A₃⋅E₃"
      ]
     },
     "execution_count": 122,
     "metadata": {},
     "output_type": "execute_result"
    }
   ],
   "source": [
    "detected_large = detected_full.func(*detected_large)\n",
    "detected_large"
   ]
  },
  {
   "cell_type": "code",
   "execution_count": 138,
   "metadata": {
    "collapsed": false
   },
   "outputs": [
    {
     "data": {
      "image/png": "[encoded data removed]",
      "text/latex": [
       "$$2 \\chi_{+k_1-k_2+k_3} \\overline{E_{3}} + 2 \\chi_{-k_1+k_2+k_3} \\overline{E_{3}}$$"
      ],
      "text/plain": [
       "                      __                         __\n",
       "2⋅\\chi_{+k_1-k_2+k_3}⋅E₃ + 2⋅\\chi_{-k_1+k_2+k_3}⋅E₃"
      ]
     },
     "execution_count": 138,
     "metadata": {},
     "output_type": "execute_result"
    }
   ],
   "source": [
    "# now onto phase cycling?!\n",
    "a1 = amplitude(1)\n",
    "a3 = amplitude(3)\n",
    "a2 = amplitude(2)\n",
    "phases = [0, sy.pi]\n",
    "# Next line follows Tan's nomenclature\n",
    "factors = [sy.exp(sy.I*p) for p in phases]\n",
    "sum([f*detected_large.subs([(a1, 1),\n",
    "                          (a3, 1),\n",
    "                          (a2, sy.exp(-sy.I*p))])\n",
    "     for f, p in zip(factors, phases)]\n",
    "    )\n",
    "#detected_large.subs([(a1, 1), (a3, 1), (a2, sy.exp(sy.I*sy.pi))])\n",
    "# still an extra term"
   ]
  },
  {
   "cell_type": "code",
   "execution_count": 145,
   "metadata": {
    "collapsed": false
   },
   "outputs": [
    {
     "data": {
      "image/png": "[encoded data removed]",
      "text/latex": [
       "$$\\frac{\\sqrt{3}}{2} \\left(\\Im{\\left(\\chi_{+k_1-k_1+k_3} \\overline{E_{3}}\\right)} + \\Im{\\left(\\chi_{+k_2-k_2+k_3} \\overline{E_{3}}\\right)} + \\Im{\\left(\\chi_{+k_3} \\overline{E_{3}}\\right)} + \\Im{\\left(\\chi_{+k_1-k_2+k_3} e^{- \\frac{4 \\pi}{3} i} \\overline{E_{3}}\\right)} + \\Im{\\left(\\chi_{-k_1+k_2+k_3} e^{\\frac{4 \\pi}{3} i} \\overline{E_{3}}\\right)}\\right) - \\frac{\\sqrt{3}}{2} \\left(\\Im{\\left(\\chi_{+k_1-k_1+k_3} \\overline{E_{3}}\\right)} + \\Im{\\left(\\chi_{+k_2-k_2+k_3} \\overline{E_{3}}\\right)} + \\Im{\\left(\\chi_{+k_3} \\overline{E_{3}}\\right)} + \\Im{\\left(\\chi_{+k_1-k_2+k_3} e^{- \\frac{2 \\pi}{3} i} \\overline{E_{3}}\\right)} + \\Im{\\left(\\chi_{-k_1+k_2+k_3} e^{\\frac{2 \\pi}{3} i} \\overline{E_{3}}\\right)}\\right) + \\Re{\\left(\\chi_{+k_1-k_2+k_3} \\overline{E_{3}}\\right)} + \\Re{\\left(\\chi_{-k_1+k_2+k_3} \\overline{E_{3}}\\right)} - \\frac{1}{2} \\Re{\\left(\\chi_{+k_1-k_2+k_3} e^{- \\frac{4 \\pi}{3} i} \\overline{E_{3}}\\right)} - \\frac{1}{2} \\Re{\\left(\\chi_{+k_1-k_2+k_3} e^{- \\frac{2 \\pi}{3} i} \\overline{E_{3}}\\right)} - \\frac{1}{2} \\Re{\\left(\\chi_{-k_1+k_2+k_3} e^{\\frac{2 \\pi}{3} i} \\overline{E_{3}}\\right)} - \\frac{1}{2} \\Re{\\left(\\chi_{-k_1+k_2+k_3} e^{\\frac{4 \\pi}{3} i} \\overline{E_{3}}\\right)}$$"
      ],
      "text/plain": [
       "   ⎛                                                                          \n",
       "   ⎜                                                                          \n",
       "   ⎜  ⎛                    __⎞     ⎛                    __⎞     ⎛            _\n",
       "√3⋅⎝im⎝\\chi_{+k_1-k_1+k_3}⋅E₃⎠ + im⎝\\chi_{+k_2-k_2+k_3}⋅E₃⎠ + im⎝\\chi_{+k_3}⋅E\n",
       "──────────────────────────────────────────────────────────────────────────────\n",
       "                                                                             2\n",
       "\n",
       "       ⎛                     -4⋅ⅈ⋅π    ⎞     ⎛                     4⋅ⅈ⋅π   ⎞⎞ \n",
       "       ⎜                     ───────   ⎟     ⎜                     ─────   ⎟⎟ \n",
       "_⎞     ⎜                        3    __⎟     ⎜                       3   __⎟⎟ \n",
       "₃⎠ + im⎝\\chi_{+k_1-k_2+k_3}⋅ℯ       ⋅E₃⎠ + im⎝\\chi_{-k_1+k_2+k_3}⋅ℯ     ⋅E₃⎠⎠ \n",
       "───────────────────────────────────────────────────────────────────────────── \n",
       "                                                                              \n",
       "\n",
       "     ⎛                                                                        \n",
       "     ⎜                                                                        \n",
       "     ⎜  ⎛                    __⎞     ⎛                    __⎞     ⎛           \n",
       "  √3⋅⎝im⎝\\chi_{+k_1-k_1+k_3}⋅E₃⎠ + im⎝\\chi_{+k_2-k_2+k_3}⋅E₃⎠ + im⎝\\chi_{+k_3}\n",
       "- ────────────────────────────────────────────────────────────────────────────\n",
       "                                                                              \n",
       "\n",
       "         ⎛                     -2⋅ⅈ⋅π    ⎞     ⎛                     2⋅ⅈ⋅π   ⎞\n",
       "         ⎜                     ───────   ⎟     ⎜                     ─────   ⎟\n",
       " __⎞     ⎜                        3    __⎟     ⎜                       3   __⎟\n",
       "⋅E₃⎠ + im⎝\\chi_{+k_1-k_2+k_3}⋅ℯ       ⋅E₃⎠ + im⎝\\chi_{-k_1+k_2+k_3}⋅ℯ     ⋅E₃⎠\n",
       "──────────────────────────────────────────────────────────────────────────────\n",
       " 2                                                                            \n",
       "\n",
       "⎞                                                               ⎛             \n",
       "⎟                                                               ⎜             \n",
       "⎟                                                               ⎜             \n",
       "⎠     ⎛                    __⎞     ⎛                    __⎞   re⎝\\chi_{+k_1-k_\n",
       "─ + re⎝\\chi_{+k_1-k_2+k_3}⋅E₃⎠ + re⎝\\chi_{-k_1+k_2+k_3}⋅E₃⎠ - ────────────────\n",
       "                                                                              \n",
       "\n",
       "        -4⋅ⅈ⋅π    ⎞     ⎛                     -2⋅ⅈ⋅π    ⎞     ⎛               \n",
       "        ───────   ⎟     ⎜                     ───────   ⎟     ⎜               \n",
       "           3    __⎟     ⎜                        3    __⎟     ⎜               \n",
       "2+k_3}⋅ℯ       ⋅E₃⎠   re⎝\\chi_{+k_1-k_2+k_3}⋅ℯ       ⋅E₃⎠   re⎝\\chi_{-k_1+k_2+\n",
       "─────────────────── - ─────────────────────────────────── - ──────────────────\n",
       " 2                                     2                                    2 \n",
       "\n",
       "      2⋅ⅈ⋅π   ⎞     ⎛                     4⋅ⅈ⋅π   ⎞\n",
       "      ─────   ⎟     ⎜                     ─────   ⎟\n",
       "        3   __⎟     ⎜                       3   __⎟\n",
       "k_3}⋅ℯ     ⋅E₃⎠   re⎝\\chi_{-k_1+k_2+k_3}⋅ℯ     ⋅E₃⎠\n",
       "─────────────── - ─────────────────────────────────\n",
       "                                  2                "
      ]
     },
     "execution_count": 145,
     "metadata": {},
     "output_type": "execute_result"
    }
   ],
   "source": [
    "# try 3 step\n",
    "phases = [0, sy.Rational(2,3)*sy.pi, sy.Rational(4,3)*sy.pi]\n",
    "factors = [sy.exp(sy.I*p) for p in phases]\n",
    "sum([f*detected_large.subs([(a1, 1),\n",
    "                          (a3, 1),\n",
    "                          (a2, sy.exp(sy.I*p))])\n",
    "     for f, p in zip(factors, phases)]\n",
    "    ))\n",
    "# doesn't work. My program may need a 'Feynman Pathway' abstraction"
   ]
  },
  {
   "cell_type": "code",
   "execution_count": null,
   "metadata": {
    "collapsed": true
   },
   "outputs": [],
   "source": []
  },
  {
   "cell_type": "code",
   "execution_count": null,
   "metadata": {
    "collapsed": true
   },
   "outputs": [],
   "source": [
    "# try 4 step\n",
    "phases = [0, sy.Rational(2,3)*sy.pi, sy.Rational(4,3)*sy.pi]\n",
    "factors = [sy.exp(sy.I*p) for p in phases]\n",
    "sum([f*detected_large.subs([(a1, 1),\n",
    "                          (a3, 1),\n",
    "                          (a2, sy.exp(-sy.I*p))])\n",
    "     for f, p in zip(factors, phases)]\n",
    "    )"
   ]
  },
  {
   "cell_type": "code",
   "execution_count": 70,
   "metadata": {
    "collapsed": false
   },
   "outputs": [
    {
     "data": {
      "image/png": "[encoded data removed]",
      "text/latex": [
       "$$\\chi_{+k_1-k_1+k_3} \\overline{E_{3}} + \\chi_{+k_1-k_2+k_3} e^{- i \\Delta\\phi_{12}} \\overline{E_{3}} + \\chi_{+k_2-k_2+k_3} \\overline{E_{3}} + \\chi_{+k_3} \\overline{E_{3}} + \\chi_{-k_1+k_2+k_3} e^{i \\Delta\\phi_{12}} \\overline{E_{3}} + E_{3} \\overline{E_{3}}$$"
      ],
      "text/plain": [
       "                    __                        -ⅈ⋅\\Delta\\phi_{12} __           \n",
       "\\chi_{+k_1-k_1+k_3}⋅E₃ + \\chi_{+k_1-k_2+k_3}⋅ℯ                  ⋅E₃ + \\chi_{+k\n",
       "\n",
       "            __               __                        ⅈ⋅\\Delta\\phi_{12} __   \n",
       "_2-k_2+k_3}⋅E₃ + \\chi_{+k_3}⋅E₃ + \\chi_{-k_1+k_2+k_3}⋅ℯ                 ⋅E₃ + \n",
       "\n",
       "   __\n",
       "E₃⋅E₃"
      ]
     },
     "execution_count": 70,
     "metadata": {},
     "output_type": "execute_result"
    }
   ],
   "source": [
    "phi12 = sy.symbols(\"\\Delta\\phi_{12}\", real=True)\n",
    "detected_large.subs([(a1, 1),\n",
    "                          (a3, 1),\n",
    "                          (a2, sy.exp(sy.I*phi12))])"
   ]
  },
  {
   "cell_type": "code",
   "execution_count": 41,
   "metadata": {
    "collapsed": false
   },
   "outputs": [
    {
     "data": {
      "image/png": "[encoded data removed]",
      "text/latex": [
       "$$\\left [ 1, \\quad 3, \\quad 6, \\quad 10\\right ]$$"
      ],
      "text/plain": [
       "[1, 3, 6, 10]"
      ]
     },
     "execution_count": 41,
     "metadata": {},
     "output_type": "execute_result"
    }
   ],
   "source": [
    "list(accumulate(range(5)))"
   ]
  },
  {
   "cell_type": "code",
   "execution_count": 45,
   "metadata": {
    "collapsed": false
   },
   "outputs": [
    {
     "data": {
      "image/png": "[encoded data removed]",
      "text/latex": [
       "$$0$$"
      ],
      "text/plain": [
       "0"
      ]
     },
     "execution_count": 45,
     "metadata": {},
     "output_type": "execute_result"
    }
   ],
   "source": [
    "a_list = list(range(5))\n",
    "iter(a_list).next()"
   ]
  },
  {
   "cell_type": "code",
   "execution_count": 50,
   "metadata": {
    "collapsed": false
   },
   "outputs": [
    {
     "data": {
      "image/png": "[encoded data removed]",
      "text/latex": [
       "$$\\left [ 1, \\quad 3, \\quad 6, \\quad 10\\right ]$$"
      ],
      "text/plain": [
       "[1, 3, 6, 10]"
      ]
     },
     "execution_count": 50,
     "metadata": {},
     "output_type": "execute_result"
    }
   ],
   "source": [
    "list(accumulator(range(5)))"
   ]
  },
  {
   "cell_type": "code",
   "execution_count": 51,
   "metadata": {
    "collapsed": false
   },
   "outputs": [
    {
     "data": {
      "image/png": "[encoded data removed]",
      "text/latex": [
       "$$\\left [ 1, \\quad 3, \\quad 6, \\quad 10\\right ]$$"
      ],
      "text/plain": [
       "[1, 3, 6, 10]"
      ]
     },
     "execution_count": 51,
     "metadata": {},
     "output_type": "execute_result"
    }
   ],
   "source": [
    "accumulated(range(5))"
   ]
  },
  {
   "cell_type": "code",
   "execution_count": 55,
   "metadata": {
    "collapsed": false
   },
   "outputs": [
    {
     "data": {
      "text/plain": [
       "True"
      ]
     },
     "execution_count": 55,
     "metadata": {},
     "output_type": "execute_result"
    }
   ],
   "source": [
    "single_excitation([-1, +2, +3])"
   ]
  },
  {
   "cell_type": "code",
   "execution_count": 56,
   "metadata": {
    "collapsed": false
   },
   "outputs": [
    {
     "data": {
      "text/plain": [
       "False"
      ]
     },
     "execution_count": 56,
     "metadata": {},
     "output_type": "execute_result"
    }
   ],
   "source": [
    "single_excitation([-1, -2, +3])"
   ]
  },
  {
   "cell_type": "code",
   "execution_count": 57,
   "metadata": {
    "collapsed": false
   },
   "outputs": [
    {
     "data": {
      "text/plain": [
       "False"
      ]
     },
     "execution_count": 57,
     "metadata": {},
     "output_type": "execute_result"
    }
   ],
   "source": [
    "single_excitation([-1, -1, +3])"
   ]
  },
  {
   "cell_type": "markdown",
   "metadata": {
    "collapsed": true
   },
   "source": [
    "## See if we can deal with scatter"
   ]
  },
  {
   "cell_type": "code",
   "execution_count": 112,
   "metadata": {
    "collapsed": false
   },
   "outputs": [
    {
     "data": {
      "image/png": "[encoded data removed]",
      "text/latex": [
       "$$\\chi_{+k_1-k_1+k_3} A_{1} A_{3} \\overline{A_{1}} \\overline{A_{3}} \\overline{E_{3}} + \\chi_{+k_1-k_2+k_3} A_{1} A_{3} \\overline{A_{2}} \\overline{A_{3}} \\overline{E_{3}} + \\chi_{+k_2-k_2+k_3} A_{2} A_{3} \\overline{A_{2}} \\overline{A_{3}} \\overline{E_{3}} + \\chi_{+k_3} A_{3} \\overline{A_{3}} \\overline{E_{3}} + \\chi_{-k_1+k_2+k_3} A_{2} A_{3} \\overline{A_{1}} \\overline{A_{3}} \\overline{E_{3}} + A_{1} E_{1} \\alpha^{2} \\overline{A_{1}} \\overline{E_{1}} + A_{1} E_{1} \\alpha^{2} \\overline{A_{2}} \\overline{E_{2}} + A_{1} E_{1} \\alpha \\overline{A_{3}} \\overline{E_{3}} + A_{2} E_{2} \\alpha^{2} \\overline{A_{1}} \\overline{E_{1}} + A_{2} E_{2} \\alpha^{2} \\overline{A_{2}} \\overline{E_{2}} + A_{2} E_{2} \\alpha \\overline{A_{3}} \\overline{E_{3}} + A_{3} E_{3} \\alpha \\overline{A_{1}} \\overline{E_{1}} + A_{3} E_{3} \\alpha \\overline{A_{2}} \\overline{E_{2}} + A_{3} E_{3} \\overline{A_{3}} \\overline{E_{3}}$$"
      ],
      "text/plain": [
       "                          __ __ __                             __ __ __       \n",
       "\\chi_{+k_1-k_1+k_3}⋅A₁⋅A₃⋅A₁⋅A₃⋅E₃ + \\chi_{+k_1-k_2+k_3}⋅A₁⋅A₃⋅A₂⋅A₃⋅E₃ + \\chi\n",
       "\n",
       "                      __ __ __                  __ __                         \n",
       "_{+k_2-k_2+k_3}⋅A₂⋅A₃⋅A₂⋅A₃⋅E₃ + \\chi_{+k_3}⋅A₃⋅A₃⋅E₃ + \\chi_{-k_1+k_2+k_3}⋅A₂\n",
       "\n",
       "    __ __ __               2 __ __               2 __ __                __ __ \n",
       "⋅A₃⋅A₁⋅A₃⋅E₃ + A₁⋅E₁⋅\\alpha ⋅A₁⋅E₁ + A₁⋅E₁⋅\\alpha ⋅A₂⋅E₂ + A₁⋅E₁⋅\\alpha⋅A₃⋅E₃ \n",
       "\n",
       "              2 __ __               2 __ __                __ __              \n",
       "+ A₂⋅E₂⋅\\alpha ⋅A₁⋅E₁ + A₂⋅E₂⋅\\alpha ⋅A₂⋅E₂ + A₂⋅E₂⋅\\alpha⋅A₃⋅E₃ + A₃⋅E₃⋅\\alph\n",
       "\n",
       "  __ __                __ __         __ __\n",
       "a⋅A₁⋅E₁ + A₃⋅E₃⋅\\alpha⋅A₂⋅E₂ + A₃⋅E₃⋅A₃⋅E₃"
      ]
     },
     "execution_count": 112,
     "metadata": {},
     "output_type": "execute_result"
    }
   ],
   "source": [
    "scat = sy.symbols(r'\\alpha', real=True)\n",
    "e1, e2 = sy.symbols('E_1:3')\n",
    "sig_w_scatter = sig+scat*(a1*e1+a2*e2)\n",
    "sig_w_scatter = sy.expand(np.conjugate(sig_w_scatter)*sig_w_scatter)\n",
    "## remove scatter cross terms (\\alpha is small) # maybe that is what they call 'pump-pump scatter'\n",
    "#sig_w_scatter = (sig_w_scatter + sy.O(scat**2)).removeO()\n",
    "head = sig_w_scatter.func\n",
    "# there is a problem with the complex conjugates. Or is there? maybe not in fourier space...\n",
    "# But maybe we don't have to be in Fourier Space. \n",
    "sig_w_scatter = filter(lambda s: 'conjugate(\\\\chi' not in repr(s), sig_w_scatter.args)\n",
    "# remove terms depending on double responses (vanishingly small)\n",
    "sig_w_scatter = filter(lambda s: repr(s).count(r'\\chi_')<2, sig_w_scatter)\n",
    "# remove scatter-response cross-terms (small) ... maybe that is not needed\n",
    "sig_w_scatter = filter(lambda s: not (r'\\chi' in repr(s) and r'\\alpha'  in repr(s)), sig_w_scatter)\n",
    "sig_w_scatter = head(*sig_w_scatter)\n",
    "sig_w_scatter"
   ]
  },
  {
   "cell_type": "code",
   "execution_count": 113,
   "metadata": {
    "collapsed": false
   },
   "outputs": [
    {
     "data": {
      "image/png": "[encoded data removed]",
      "text/latex": [
       "$$2 \\chi_{+k_1-k_2+k_3} \\overline{E_{3}} + 2 \\chi_{-k_1+k_2+k_3} \\overline{E_{3}} + 2 E_{1} \\alpha^{2} \\overline{E_{2}} + 2 E_{2} \\alpha^{2} \\overline{E_{1}} + 2 E_{2} \\alpha \\overline{E_{3}} + 2 E_{3} \\alpha \\overline{E_{2}}$$"
      ],
      "text/plain": [
       "                      __                         __              2 __         \n",
       "2⋅\\chi_{+k_1-k_2+k_3}⋅E₃ + 2⋅\\chi_{-k_1+k_2+k_3}⋅E₃ + 2⋅E₁⋅\\alpha ⋅E₂ + 2⋅E₂⋅\\\n",
       "\n",
       "     2 __               __               __\n",
       "alpha ⋅E₁ + 2⋅E₂⋅\\alpha⋅E₃ + 2⋅E₃⋅\\alpha⋅E₂"
      ]
     },
     "execution_count": 113,
     "metadata": {},
     "output_type": "execute_result"
    }
   ],
   "source": [
    "phases = [0, sy.I*sy.pi]\n",
    "factors = [1, -1]\n",
    "sum([f*sig_w_scatter.subs([(a1, 1),\n",
    "                          (a3, 1),\n",
    "                          (a2, sy.exp(p))])\n",
    "     for f, p in zip(factors, phases)]\n",
    "    )"
   ]
  },
  {
   "cell_type": "code",
   "execution_count": null,
   "metadata": {
    "collapsed": true
   },
   "outputs": [],
   "source": []
  }
 ],
 "metadata": {
  "kernelspec": {
   "display_name": "Python 2",
   "language": "python",
   "name": "python2"
  },
  "language_info": {
   "codemirror_mode": {
    "name": "ipython",
    "version": 2
   },
   "file_extension": ".py",
   "mimetype": "text/x-python",
   "name": "python",
   "nbconvert_exporter": "python",
   "pygments_lexer": "ipython2",
   "version": "2.7.10"
  }
 },
 "nbformat": 4,
 "nbformat_minor": 0
}
