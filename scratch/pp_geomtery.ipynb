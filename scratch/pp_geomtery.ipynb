{
 "cells": [
  {
   "cell_type": "markdown",
   "metadata": {},
   "source": [
    "# Signals in the pump-probe geometry\n",
    "Trying pp, 2D and 2D with scatter experiments"
   ]
  },
  {
   "cell_type": "code",
   "execution_count": 41,
   "metadata": {
    "collapsed": true
   },
   "outputs": [],
   "source": [
    "from __future__ import division, print_function\n",
    "#from sympy import latex\n",
    "import sympy as sy\n",
    "from math import copysign\n",
    "from operator import add, mul\n",
    "import numpy as np\n",
    "from functools import partial"
   ]
  },
  {
   "cell_type": "code",
   "execution_count": 2,
   "metadata": {
    "collapsed": true
   },
   "outputs": [],
   "source": [
    "from sig2d.signals import Signal, amplitude, signal, signals_for_order"
   ]
  },
  {
   "cell_type": "code",
   "execution_count": 3,
   "metadata": {
    "collapsed": true
   },
   "outputs": [],
   "source": [
    "sy.init_printing()"
   ]
  },
  {
   "cell_type": "code",
   "execution_count": 42,
   "metadata": {
    "collapsed": false
   },
   "outputs": [],
   "source": [
    "# utilites and filters\n",
    "def fundamental_freq(k):\n",
    "    return abs(sum([copysign(1,i) for i in k])) == 1\n",
    "\n",
    "#def positive_last(k):\n",
    "#    return k[-1] > 0\n",
    "\n",
    "def multifilter(filters, reductop=all):\n",
    "    def composite(k):\n",
    "        return reductop([f(k) for f in filters])\n",
    "    return composite\n",
    "\n",
    "def accumulator(l, op=add):\n",
    "    \"\"\"\n",
    "    Returns the running accumulation of `l` using operator `op`.\n",
    "    \n",
    "    accumulate(l) results in the running sum.\n",
    "    \"\"\"\n",
    "    l = iter(l)\n",
    "    r = l.next()\n",
    "    for v in l:\n",
    "        r = op(r, v)\n",
    "        yield r\n",
    "        \n",
    "def accumulated(l, op=add):\n",
    "    \"\"\"Returns an running accumulation of `l` as a list.\"\"\"\n",
    "    return list(accumulator(l, op))\n",
    "        \n",
    "\n",
    "#def ends_with_k3(k):\n",
    "#    return abs(k[-1]) == 3\n",
    "\n",
    "#def single_k3(k):  # emitted in the k3 direction?\n",
    "#    return sum([abs(i)==3 for i in k]) == 1\n",
    "\n",
    "# emit in k3 direction\n",
    "def emit_k3(k):\n",
    "    # total +1 in k3 direction\n",
    "    # others cancel out\n",
    "    return (sum([copysign(1, i) for i in k if abs(i)==3]) == 1) and (sum([copysign(1, i) for i in k if abs(i)!=3]) == 0)\n",
    "\n",
    "#def rwa(k):  # avoid +k1 +k1 sequences, which yeild |2><0| or try to deexcite the gs\n",
    "#    # never get more than +1 or -1 total excitation, is that allright? # actually wrong. we can have |2><0| in two steps\n",
    "#    runsum = accumulated([copysign(1, i) for i in k]) \n",
    "#    return all([abs(r) <= 1 for r in runsum])\n",
    "\n",
    "def contains(s, sig):\n",
    "    \"\"\"Signal contains string s\"\"\"\n",
    "    return s in repr(sig)\n",
    "\n",
    "def contains_filter(s):\n",
    "    return partial(contains, s)\n",
    "\n",
    "#pp_2d = multifilter([fundamental_freq, positive_last, single_k3, single_excitation])\n",
    "filter_pp = multifilter([fundamental_freq, emit_k3])"
   ]
  },
  {
   "cell_type": "markdown",
   "metadata": {},
   "source": [
    "## clean 2d pp, 2 step"
   ]
  },
  {
   "cell_type": "code",
   "execution_count": 76,
   "metadata": {
    "collapsed": false
   },
   "outputs": [
    {
     "data": {
      "image/png": "[encoded data removed]",
      "text/latex": [
       "$$\\chi_{+k_1-k_1+k_3} A_{1} A_{3} \\overline{A_{1}} + \\chi_{+k_1-k_2+k_3} A_{1} A_{3} \\overline{A_{2}} + \\chi_{+k_2-k_2+k_3} A_{2} A_{3} \\overline{A_{2}} + \\chi_{+k_3+k_3-k_3} A_{3}^{2} \\overline{A_{3}} + \\chi_{+k_3} A_{3} + \\chi_{-k_1+k_2+k_3} A_{2} A_{3} \\overline{A_{1}}$$"
      ],
      "text/plain": [
       "                          __                             __                   \n",
       "\\chi_{+k_1-k_1+k_3}⋅A₁⋅A₃⋅A₁ + \\chi_{+k_1-k_2+k_3}⋅A₁⋅A₃⋅A₂ + \\chi_{+k_2-k_2+k\n",
       "\n",
       "          __                         2 __                                     \n",
       "_3}⋅A₂⋅A₃⋅A₂ + \\chi_{+k_3+k_3-k_3}⋅A₃ ⋅A₃ + \\chi_{+k_3}⋅A₃ + \\chi_{-k_1+k_2+k_\n",
       "\n",
       "         __\n",
       "3}⋅A₂⋅A₃⋅A₁"
      ]
     },
     "execution_count": 76,
     "metadata": {},
     "output_type": "execute_result"
    }
   ],
   "source": [
    "sigs = sum(signals_for_order(i, n_pulses=3, filter_=filter_pp) for i in [1,2,3])\n",
    "sigs"
   ]
  },
  {
   "cell_type": "code",
   "execution_count": 77,
   "metadata": {
    "collapsed": false
   },
   "outputs": [],
   "source": [
    "amps = {i: amplitude(i) for i in [1,2,3]}\n",
    "probe_field = amps[3]*sy.symbols(\"E_3\")\n",
    "probe_field\n",
    "detected = sigs + probe_field\n",
    "detected = sy.expand(sy.conjugate(detected)*detected)\n",
    "# prepare further neglect\n",
    "head = detected.func\n",
    "args = detected.args\n",
    "args = filter(contains_filter(\"E_3\"), args)\n",
    "detected = head(*args)"
   ]
  },
  {
   "cell_type": "code",
   "execution_count": 78,
   "metadata": {
    "collapsed": false
   },
   "outputs": [
    {
     "data": {
      "image/png": "[encoded data removed]",
      "text/latex": [
       "$$2 \\chi_{+k_1-k_2+k_3} \\overline{E_{3}} + 2 \\chi_{-k_1+k_2+k_3} \\overline{E_{3}} + 2 E_{3} \\overline{\\chi_{+k_1-k_2+k_3}} + 2 E_{3} \\overline{\\chi_{-k_1+k_2+k_3}}$$"
      ],
      "text/plain": [
       "                      __                         __        ___________________\n",
       "2⋅\\chi_{+k_1-k_2+k_3}⋅E₃ + 2⋅\\chi_{-k_1+k_2+k_3}⋅E₃ + 2⋅E₃⋅\\chi_{+k_1-k_2+k_3}\n",
       "\n",
       "        ___________________\n",
       " + 2⋅E₃⋅\\chi_{-k_1+k_2+k_3}"
      ]
     },
     "execution_count": 78,
     "metadata": {},
     "output_type": "execute_result"
    }
   ],
   "source": [
    "# phase cycling\n",
    "phases = [0, sy.pi]\n",
    "# Next line follows Tan's nomenclature\n",
    "factors = [sy.exp(sy.I*p) for p in phases]\n",
    "sig = sum([f*detected.subs([(amps[1], 1),\n",
    "                            (amps[3], 1),\n",
    "                            (amps[2], sy.exp(-sy.I*p))])\n",
    "           for f, p in zip(factors, phases)]\n",
    "    )\n",
    "sy.re(sig.expand(complex=True))\n",
    "sig"
   ]
  },
  {
   "cell_type": "markdown",
   "metadata": {},
   "source": [
    "## 2d pp, with scatter"
   ]
  },
  {
   "cell_type": "code",
   "execution_count": 49,
   "metadata": {
    "collapsed": false
   },
   "outputs": [
    {
     "data": {
      "image/png": "[encoded data removed]",
      "text/latex": [
       "$$\\chi_{+k_1-k_1+k_3} A_{1} A_{3} \\overline{A_{1}} + \\chi_{+k_1-k_2+k_3} A_{1} A_{3} \\overline{A_{2}} + \\chi_{+k_2-k_2+k_3} A_{2} A_{3} \\overline{A_{2}} + \\chi_{+k_3+k_3-k_3} A_{3}^{2} \\overline{A_{3}} + \\chi_{+k_3} A_{3} + \\chi_{-k_1+k_2+k_3} A_{2} A_{3} \\overline{A_{1}}$$"
      ],
      "text/plain": [
       "                          __                             __                   \n",
       "\\chi_{+k_1-k_1+k_3}⋅A₁⋅A₃⋅A₁ + \\chi_{+k_1-k_2+k_3}⋅A₁⋅A₃⋅A₂ + \\chi_{+k_2-k_2+k\n",
       "\n",
       "          __                         2 __                                     \n",
       "_3}⋅A₂⋅A₃⋅A₂ + \\chi_{+k_3+k_3-k_3}⋅A₃ ⋅A₃ + \\chi_{+k_3}⋅A₃ + \\chi_{-k_1+k_2+k_\n",
       "\n",
       "         __\n",
       "3}⋅A₂⋅A₃⋅A₁"
      ]
     },
     "execution_count": 49,
     "metadata": {},
     "output_type": "execute_result"
    }
   ],
   "source": [
    "sigs = sum(signals_for_order(i, n_pulses=3, filter_=filter_pp) for i in [1,2,3])\n",
    "sigs"
   ]
  },
  {
   "cell_type": "code",
   "execution_count": 60,
   "metadata": {
    "collapsed": false
   },
   "outputs": [
    {
     "data": {
      "image/png": "[encoded data removed]",
      "text/latex": [
       "$$\\alpha \\left(A_{1} E_{1} + A_{2} E_{2}\\right)$$"
      ],
      "text/plain": [
       "\\alpha⋅(A₁⋅E₁ + A₂⋅E₂)"
      ]
     },
     "execution_count": 60,
     "metadata": {},
     "output_type": "execute_result"
    }
   ],
   "source": [
    "amps = {i: amplitude(i) for i in [1,2,3]}\n",
    "probe_field = amps[3]*sy.symbols(\"E_3\")\n",
    "alpha = sy.symbols(r'\\alpha', real=True)\n",
    "scatter = alpha*(amps[1]*sy.symbols(\"E_1\")+amps[2]*sy.symbols(\"E_2\"))\n",
    "scatter"
   ]
  },
  {
   "cell_type": "code",
   "execution_count": 61,
   "metadata": {
    "collapsed": false
   },
   "outputs": [
    {
     "data": {
      "image/png": "[encoded data removed]",
      "text/latex": [
       "$$\\chi_{+k_1-k_1+k_3} A_{1} A_{3} \\overline{A_{1}} \\overline{A_{3}} \\overline{E_{3}} + \\chi_{+k_1-k_2+k_3} A_{1} A_{3} \\overline{A_{2}} \\overline{A_{3}} \\overline{E_{3}} + \\chi_{+k_2-k_2+k_3} A_{2} A_{3} \\overline{A_{2}} \\overline{A_{3}} \\overline{E_{3}} + \\chi_{+k_3+k_3-k_3} A_{3}^{2} \\overline{A_{3}}^{2} \\overline{E_{3}} + \\chi_{+k_3} A_{3} \\overline{A_{3}} \\overline{E_{3}} + \\chi_{-k_1+k_2+k_3} A_{2} A_{3} \\overline{A_{1}} \\overline{A_{3}} \\overline{E_{3}} + A_{1} A_{3} E_{3} \\overline{\\chi_{+k_1-k_1+k_3}} \\overline{A_{1}} \\overline{A_{3}} + A_{1} A_{3} E_{3} \\overline{\\chi_{-k_1+k_2+k_3}} \\overline{A_{2}} \\overline{A_{3}} + A_{1} E_{1} \\alpha^{2} \\overline{A_{1}} \\overline{E_{1}} + A_{1} E_{1} \\alpha^{2} \\overline{A_{2}} \\overline{E_{2}} + A_{1} E_{1} \\alpha \\overline{A_{3}} \\overline{E_{3}} + A_{2} A_{3} E_{3} \\overline{\\chi_{+k_1-k_2+k_3}} \\overline{A_{1}} \\overline{A_{3}} + A_{2} A_{3} E_{3} \\overline{\\chi_{+k_2-k_2+k_3}} \\overline{A_{2}} \\overline{A_{3}} + A_{2} E_{2} \\alpha^{2} \\overline{A_{1}} \\overline{E_{1}} + A_{2} E_{2} \\alpha^{2} \\overline{A_{2}} \\overline{E_{2}} + A_{2} E_{2} \\alpha \\overline{A_{3}} \\overline{E_{3}} + A_{3}^{2} E_{3} \\overline{\\chi_{+k_3+k_3-k_3}} \\overline{A_{3}}^{2} + A_{3} E_{3} \\alpha \\overline{A_{1}} \\overline{E_{1}} + A_{3} E_{3} \\alpha \\overline{A_{2}} \\overline{E_{2}} + A_{3} E_{3} \\overline{\\chi_{+k_3}} \\overline{A_{3}} + A_{3} E_{3} \\overline{A_{3}} \\overline{E_{3}}$$"
      ],
      "text/plain": [
       "                                                                              \n",
       "                          __ __ __                             __ __ __       \n",
       "\\chi_{+k_1-k_1+k_3}⋅A₁⋅A₃⋅A₁⋅A₃⋅E₃ + \\chi_{+k_1-k_2+k_3}⋅A₁⋅A₃⋅A₂⋅A₃⋅E₃ + \\chi\n",
       "\n",
       "                                                           2                  \n",
       "                      __ __ __                         2 __  __               \n",
       "_{+k_2-k_2+k_3}⋅A₂⋅A₃⋅A₂⋅A₃⋅E₃ + \\chi_{+k_3+k_3-k_3}⋅A₃ ⋅A₃ ⋅E₃ + \\chi_{+k_3}⋅\n",
       "\n",
       "                                                                              \n",
       "   __ __                             __ __ __            ___________________ _\n",
       "A₃⋅A₃⋅E₃ + \\chi_{-k_1+k_2+k_3}⋅A₂⋅A₃⋅A₁⋅A₃⋅E₃ + A₁⋅A₃⋅E₃⋅\\chi_{+k_1-k_1+k_3}⋅A\n",
       "\n",
       "                                                                              \n",
       "_ __            ___________________ __ __               2 __ __               \n",
       "₁⋅A₃ + A₁⋅A₃⋅E₃⋅\\chi_{-k_1+k_2+k_3}⋅A₂⋅A₃ + A₁⋅E₁⋅\\alpha ⋅A₁⋅E₁ + A₁⋅E₁⋅\\alpha\n",
       "\n",
       "                                                                              \n",
       "2 __ __                __ __            ___________________ __ __            _\n",
       " ⋅A₂⋅E₂ + A₁⋅E₁⋅\\alpha⋅A₃⋅E₃ + A₂⋅A₃⋅E₃⋅\\chi_{+k_1-k_2+k_3}⋅A₁⋅A₃ + A₂⋅A₃⋅E₃⋅\\\n",
       "\n",
       "                                                                              \n",
       "__________________ __ __               2 __ __               2 __ __          \n",
       "chi_{+k_2-k_2+k_3}⋅A₂⋅A₃ + A₂⋅E₂⋅\\alpha ⋅A₁⋅E₁ + A₂⋅E₂⋅\\alpha ⋅A₂⋅E₂ + A₂⋅E₂⋅\\\n",
       "\n",
       "                                           2                                  \n",
       "      __ __     2    ___________________ __                 __ __             \n",
       "alpha⋅A₃⋅E₃ + A₃ ⋅E₃⋅\\chi_{+k_3+k_3-k_3}⋅A₃  + A₃⋅E₃⋅\\alpha⋅A₁⋅E₁ + A₃⋅E₃⋅\\alp\n",
       "\n",
       "                                             \n",
       "   __ __         ___________ __         __ __\n",
       "ha⋅A₂⋅E₂ + A₃⋅E₃⋅\\chi_{+k_3}⋅A₃ + A₃⋅E₃⋅A₃⋅E₃"
      ]
     },
     "execution_count": 61,
     "metadata": {},
     "output_type": "execute_result"
    }
   ],
   "source": [
    "\n",
    "detected = sigs + probe_field + scatter\n",
    "detected = sy.expand(sy.conjugate(detected)*detected)\n",
    "# prepare further neglect\n",
    "head = detected.func\n",
    "args = detected.args\n",
    "# remove terms depending on double responses (vanishingly small)\n",
    "args = filter(lambda s: repr(s).count(r'\\chi_')<2, args)\n",
    "# remove scatter-response cross-terms (small) ... maybe that is not needed\n",
    "args = filter(lambda s: not (r'\\chi' in repr(s) and r'\\alpha'  in repr(s)), args)\n",
    "detected = head(*args)\n",
    "detected"
   ]
  },
  {
   "cell_type": "markdown",
   "metadata": {},
   "source": [
    "### 2-step"
   ]
  },
  {
   "cell_type": "code",
   "execution_count": 63,
   "metadata": {
    "collapsed": false
   },
   "outputs": [
    {
     "data": {
      "image/png": "[encoded data removed]",
      "text/latex": [
       "$$2 \\chi_{+k_1-k_2+k_3} \\overline{E_{3}} + 2 \\chi_{-k_1+k_2+k_3} \\overline{E_{3}} + 2 E_{1} \\alpha^{2} \\overline{E_{2}} + 2 E_{2} \\alpha^{2} \\overline{E_{1}} + 2 E_{2} \\alpha \\overline{E_{3}} + 2 E_{3} \\alpha \\overline{E_{2}} + 2 E_{3} \\overline{\\chi_{+k_1-k_2+k_3}} + 2 E_{3} \\overline{\\chi_{-k_1+k_2+k_3}}$$"
      ],
      "text/plain": [
       "                      __                         __              2 __         \n",
       "2⋅\\chi_{+k_1-k_2+k_3}⋅E₃ + 2⋅\\chi_{-k_1+k_2+k_3}⋅E₃ + 2⋅E₁⋅\\alpha ⋅E₂ + 2⋅E₂⋅\\\n",
       "\n",
       "     2 __               __               __        ___________________        \n",
       "alpha ⋅E₁ + 2⋅E₂⋅\\alpha⋅E₃ + 2⋅E₃⋅\\alpha⋅E₂ + 2⋅E₃⋅\\chi_{+k_1-k_2+k_3} + 2⋅E₃⋅\n",
       "\n",
       "___________________\n",
       "\\chi_{-k_1+k_2+k_3}"
      ]
     },
     "execution_count": 63,
     "metadata": {},
     "output_type": "execute_result"
    }
   ],
   "source": [
    "phases = [0, sy.pi]\n",
    "# Next line follows Tan's nomenclature\n",
    "factors = [sy.exp(sy.I*p) for p in phases]\n",
    "sig = sum([f*detected.subs([(amps[1], 1),\n",
    "                            (amps[3], 1),\n",
    "                            (amps[2], sy.exp(-sy.I*p))])\n",
    "           for f, p in zip(factors, phases)]\n",
    "    )\n",
    "sy.re(sig.expand(complex=True))\n",
    "sig"
   ]
  },
  {
   "cell_type": "markdown",
   "metadata": {},
   "source": [
    "### ogilvie 4 step scatter removal"
   ]
  },
  {
   "cell_type": "code",
   "execution_count": 72,
   "metadata": {
    "collapsed": false
   },
   "outputs": [
    {
     "data": {
      "image/png": "[encoded data removed]",
      "text/latex": [
       "$$4 \\chi_{+k_1-k_2+k_3} \\overline{E_{3}} + 4 \\chi_{-k_1+k_2+k_3} \\overline{E_{3}} + 4 E_{1} \\alpha^{2} \\overline{E_{2}} + 4 E_{2} \\alpha^{2} \\overline{E_{1}} + 4 E_{3} \\overline{\\chi_{+k_1-k_2+k_3}} + 4 E_{3} \\overline{\\chi_{-k_1+k_2+k_3}}$$"
      ],
      "text/plain": [
       "                      __                         __              2 __         \n",
       "4⋅\\chi_{+k_1-k_2+k_3}⋅E₃ + 4⋅\\chi_{-k_1+k_2+k_3}⋅E₃ + 4⋅E₁⋅\\alpha ⋅E₂ + 4⋅E₂⋅\\\n",
       "\n",
       "     2 __        ___________________        ___________________\n",
       "alpha ⋅E₁ + 4⋅E₃⋅\\chi_{+k_1-k_2+k_3} + 4⋅E₃⋅\\chi_{-k_1+k_2+k_3}"
      ]
     },
     "execution_count": 72,
     "metadata": {},
     "output_type": "execute_result"
    }
   ],
   "source": [
    "#p1 = [sy.exp(-sy.I*i) for i in [0, 0, sy.pi, sy.pi]]\n",
    "#p2 = [sy.exp(-sy.I*i) for i in [0, sy.pi, 0, sy.pi]]\n",
    "phi1 = [0, 0, sy.pi, sy.pi]\n",
    "phi2 = [0, sy.pi, sy.pi, 0]\n",
    "factors = [1, -1, 1, -1]\n",
    "sig = sum([f*detected.subs([(amps[1], sy.exp(-sy.I*p1)),\n",
    "                            (amps[3], 1),\n",
    "                            (amps[2], sy.exp(-sy.I*p2))])\n",
    "           for f, p1, p2 in zip(factors, phi1, phi2)]\n",
    "    )\n",
    "sy.re(sig.expand(complex=True))\n",
    "sig"
   ]
  },
  {
   "cell_type": "markdown",
   "metadata": {},
   "source": [
    "### ogilvie 8 step scatter removal (cycling + chopping)"
   ]
  },
  {
   "cell_type": "code",
   "execution_count": 74,
   "metadata": {
    "collapsed": false
   },
   "outputs": [
    {
     "data": {
      "image/png": "[encoded data removed]",
      "text/latex": [
       "$$4 \\chi_{+k_1-k_2+k_3} \\overline{E_{3}} + 4 \\chi_{-k_1+k_2+k_3} \\overline{E_{3}} + 4 E_{3} \\overline{\\chi_{+k_1-k_2+k_3}} + 4 E_{3} \\overline{\\chi_{-k_1+k_2+k_3}}$$"
      ],
      "text/plain": [
       "                      __                         __        ___________________\n",
       "4⋅\\chi_{+k_1-k_2+k_3}⋅E₃ + 4⋅\\chi_{-k_1+k_2+k_3}⋅E₃ + 4⋅E₃⋅\\chi_{+k_1-k_2+k_3}\n",
       "\n",
       "        ___________________\n",
       " + 4⋅E₃⋅\\chi_{-k_1+k_2+k_3}"
      ]
     },
     "execution_count": 74,
     "metadata": {},
     "output_type": "execute_result"
    }
   ],
   "source": [
    "phi1 = [0, 0, 0, 0, sy.pi, sy.pi, sy.pi, sy.pi]\n",
    "phi2 = [0, 0, sy.pi, sy.pi,sy.pi, sy.pi, 0, 0]\n",
    "amp3 = [1, 0, 1, 0, 1, 0, 1, 0]\n",
    "factors = [1, -1, -1, 1, 1, -1, -1, 1]\n",
    "sig = sum([f*detected.subs([(amps[1], sy.exp(-sy.I*p1)),\n",
    "                            (amps[3], a3),\n",
    "                            (amps[2], sy.exp(-sy.I*p2))])\n",
    "           for f, p1, p2, a3 in zip(factors, phi1, phi2, amp3)]\n",
    "    )\n",
    "sy.re(sig.expand(complex=True))\n",
    "sig"
   ]
  },
  {
   "cell_type": "markdown",
   "metadata": {},
   "source": []
  }
 ],
 "metadata": {
  "kernelspec": {
   "display_name": "Python 2",
   "language": "python",
   "name": "python2"
  },
  "language_info": {
   "codemirror_mode": {
    "name": "ipython",
    "version": 2
   },
   "file_extension": ".py",
   "mimetype": "text/x-python",
   "name": "python",
   "nbconvert_exporter": "python",
   "pygments_lexer": "ipython2",
   "version": "2.7.10"
  }
 },
 "nbformat": 4,
 "nbformat_minor": 0
}
