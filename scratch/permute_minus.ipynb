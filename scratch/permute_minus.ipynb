{
 "cells": [
  {
   "cell_type": "markdown",
   "metadata": {},
   "source": [
    "# permute initial indices\n",
    "currently, the sequence will be: [1, -1, 2, -2...]\n",
    "\n",
    "we also want: [-1, 1, -2, 2].\n",
    "\n",
    "The simplest is probably to ditch (filter out) any order break in non-strict ordering."
   ]
  },
  {
   "cell_type": "code",
   "execution_count": 1,
   "metadata": {
    "collapsed": true
   },
   "outputs": [],
   "source": [
    "from itertools import product, combinations_with_replacement, chain, repeat, ifilter\n",
    "from sig2d.signals import signal\n",
    "import sympy as sy"
   ]
  },
  {
   "cell_type": "code",
   "execution_count": 2,
   "metadata": {
    "collapsed": true
   },
   "outputs": [],
   "source": [
    "sy.init_printing()"
   ]
  },
  {
   "cell_type": "code",
   "execution_count": 3,
   "metadata": {
    "collapsed": true
   },
   "outputs": [],
   "source": [
    "# current implementation\n",
    "def signals_for_order(n, n_pulses, strict=True, filter_=None):\n",
    "    \"\"\"\n",
    "    Generate signals for orders n for n_pulses. Uses strict ordering by default.\n",
    "\n",
    "    Returns\n",
    "    -------\n",
    "    expr : sympy expression\n",
    "    \"\"\"\n",
    "    # TODO: better doc\n",
    "    # !!!\n",
    "    # TODO: strict ordering as implemented here may cause a problem.\n",
    "    # [1, -1] for order 2 can't result in -k1+k1 (only k1+k1, k1-k1, -k1-k1\n",
    "    # is that a problem? Exemple case: 3rd order 3 pulse: [k3-k3+k3] (SPM)\n",
    "    # This would influence the creation of amplitudes and\n",
    "    # responses: they would not commute anymore (maybe?)\n",
    "    if strict:\n",
    "        f = combinations_with_replacement\n",
    "    else:\n",
    "        f = lambda k, n: list(product(*repeat(k, n)))\n",
    "    k = range(1, n_pulses+1)\n",
    "    k = list(chain(*zip(k, [-i for i in k])))  # [1, -1, 2, -2, ...]\n",
    "    k = f(k, n)\n",
    "    if filter:\n",
    "        k = ifilter(filter_, k)\n",
    "    return sum([signal(i) for i in k])\n",
    "\n"
   ]
  },
  {
   "cell_type": "code",
   "execution_count": 4,
   "metadata": {
    "collapsed": false
   },
   "outputs": [
    {
     "data": {
      "image/png": "[encoded data removed]",
      "text/latex": [
       "$$\\chi_{+k_1+k_1} A_{1}^{2} + \\chi_{+k_1+k_2} A_{1} A_{2} + \\chi_{+k_1-k_1} A_{1} \\overline{A_{1}} + \\chi_{+k_1-k_2} A_{1} \\overline{A_{2}} + \\chi_{+k_2+k_2} A_{2}^{2} + \\chi_{+k_2-k_2} A_{2} \\overline{A_{2}} + \\chi_{-k_1+k_2} A_{2} \\overline{A_{1}} + \\chi_{-k_1-k_1} \\overline{A_{1}}^{2} + \\chi_{-k_1-k_2} \\overline{A_{1}} \\overline{A_{2}} + \\chi_{-k_2-k_2} \\overline{A_{2}}^{2}$$"
      ],
      "text/plain": [
       "                                                                              \n",
       "                  2                                              __           \n",
       "\\chi_{+k_1+k_1}⋅A₁  + \\chi_{+k_1+k_2}⋅A₁⋅A₂ + \\chi_{+k_1-k_1}⋅A₁⋅A₁ + \\chi_{+k\n",
       "\n",
       "                                                                              \n",
       "           __                     2                      __                   \n",
       "_1-k_2}⋅A₁⋅A₂ + \\chi_{+k_2+k_2}⋅A₂  + \\chi_{+k_2-k_2}⋅A₂⋅A₂ + \\chi_{-k_1+k_2}⋅\n",
       "\n",
       "                          2                                             2\n",
       "   __                   __                    __ __                   __ \n",
       "A₂⋅A₁ + \\chi_{-k_1-k_1}⋅A₁  + \\chi_{-k_1-k_2}⋅A₁⋅A₂ + \\chi_{-k_2-k_2}⋅A₂ "
      ]
     },
     "execution_count": 4,
     "metadata": {},
     "output_type": "execute_result"
    }
   ],
   "source": [
    "signals_for_order(2, 2)"
   ]
  },
  {
   "cell_type": "code",
   "execution_count": 19,
   "metadata": {
    "collapsed": true
   },
   "outputs": [],
   "source": [
    "# tentative implementation\n",
    "# filter\n",
    "\n",
    "def strict_ordering(k):\n",
    "    return all([abs(i)<=abs(j) for i, j in zip(k[:-1], k[1:])])\n",
    "\n",
    "def signals_for_order(n, n_pulses, strict=True, filter_=None):\n",
    "    \"\"\"\n",
    "    Generate signals for orders n for n_pulses. Uses strict ordering by default.\n",
    "\n",
    "    Returns\n",
    "    -------\n",
    "    expr : sympy expression\n",
    "    \"\"\"\n",
    "    # TODO: better doc\n",
    "    # !!!\n",
    "    # TODO: strict ordering as implemented here may cause a problem.\n",
    "    # [1, -1] for order 2 can't result in -k1+k1 (only k1+k1, k1-k1, -k1-k1\n",
    "    # is that a problem? Exemple case: 3rd order 3 pulse: [k3-k3+k3] (SPM)\n",
    "    # This would influence the creation of amplitudes and\n",
    "    # responses: they would not commute anymore (maybe?)\n",
    "    #f = lambda k, n: list(product(*repeat(k, n)))\n",
    "    k = range(1, n_pulses+1)\n",
    "    k = list(chain(*zip(k, [-i for i in k])))  # [1, -1, 2, -2, ...]\n",
    "    \n",
    "    k = list(product(*repeat(k, n)))\n",
    "    if strict:\n",
    "        k = filter(strict_ordering, k)\n",
    "    if filter:\n",
    "        k = ifilter(filter_, k)\n",
    "    return sum([signal(i) for i in k])\n",
    "\n"
   ]
  },
  {
   "cell_type": "code",
   "execution_count": 20,
   "metadata": {
    "collapsed": false
   },
   "outputs": [
    {
     "name": "stdout",
     "output_type": "stream",
     "text": [
      "\\chi_{+k_1+k_1+k_1}*A_1**3\n",
      "\\chi_{+k_2+k_2+k_2}*A_2**3\n",
      "\\chi_{+k_3+k_3+k_3}*A_3**3\n",
      "\\chi_{-k_1-k_1-k_1}*conjugate(A_1)**3\n",
      "\\chi_{-k_2-k_2-k_2}*conjugate(A_2)**3\n",
      "\\chi_{-k_3-k_3-k_3}*conjugate(A_3)**3\n",
      "\\chi_{+k_1+k_2+k_2}*A_1*A_2**2\n",
      "\\chi_{+k_1+k_3+k_3}*A_1*A_3**2\n",
      "\\chi_{+k_1-k_1-k_1}*A_1*conjugate(A_1)**2\n",
      "\\chi_{-k_1+k_1-k_1}*A_1*conjugate(A_1)**2\n",
      "\\chi_{-k_1-k_1+k_1}*A_1*conjugate(A_1)**2\n",
      "\\chi_{+k_1-k_2-k_2}*A_1*conjugate(A_2)**2\n",
      "\\chi_{+k_1-k_3-k_3}*A_1*conjugate(A_3)**2\n",
      "\\chi_{+k_1+k_1+k_2}*A_1**2*A_2\n",
      "\\chi_{+k_2+k_3+k_3}*A_2*A_3**2\n",
      "\\chi_{-k_1-k_1+k_2}*A_2*conjugate(A_1)**2\n",
      "\\chi_{+k_2-k_2-k_2}*A_2*conjugate(A_2)**2\n",
      "\\chi_{-k_2+k_2-k_2}*A_2*conjugate(A_2)**2\n",
      "\\chi_{-k_2-k_2+k_2}*A_2*conjugate(A_2)**2\n",
      "\\chi_{+k_2-k_3-k_3}*A_2*conjugate(A_3)**2\n",
      "\\chi_{+k_1+k_1+k_3}*A_1**2*A_3\n",
      "\\chi_{+k_2+k_2+k_3}*A_2**2*A_3\n",
      "\\chi_{-k_1-k_1+k_3}*A_3*conjugate(A_1)**2\n",
      "\\chi_{-k_2-k_2+k_3}*A_3*conjugate(A_2)**2\n",
      "\\chi_{+k_3-k_3-k_3}*A_3*conjugate(A_3)**2\n",
      "\\chi_{-k_3+k_3-k_3}*A_3*conjugate(A_3)**2\n",
      "\\chi_{-k_3-k_3+k_3}*A_3*conjugate(A_3)**2\n",
      "\\chi_{+k_1+k_1-k_1}*A_1**2*conjugate(A_1)\n",
      "\\chi_{+k_1+k_1-k_2}*A_1**2*conjugate(A_2)\n",
      "\\chi_{+k_1+k_1-k_3}*A_1**2*conjugate(A_3)\n",
      "\\chi_{+k_1-k_1+k_1}*A_1**2*conjugate(A_1)\n",
      "\\chi_{-k_1+k_1+k_1}*A_1**2*conjugate(A_1)\n",
      "\\chi_{+k_2+k_2-k_2}*A_2**2*conjugate(A_2)\n",
      "\\chi_{+k_2+k_2-k_3}*A_2**2*conjugate(A_3)\n",
      "\\chi_{+k_2-k_2+k_2}*A_2**2*conjugate(A_2)\n",
      "\\chi_{-k_1+k_2+k_2}*A_2**2*conjugate(A_1)\n",
      "\\chi_{-k_2+k_2+k_2}*A_2**2*conjugate(A_2)\n",
      "\\chi_{+k_3+k_3-k_3}*A_3**2*conjugate(A_3)\n",
      "\\chi_{+k_3-k_3+k_3}*A_3**2*conjugate(A_3)\n",
      "\\chi_{-k_1+k_3+k_3}*A_3**2*conjugate(A_1)\n",
      "\\chi_{-k_2+k_3+k_3}*A_3**2*conjugate(A_2)\n",
      "\\chi_{-k_3+k_3+k_3}*A_3**2*conjugate(A_3)\n",
      "\\chi_{-k_1-k_1-k_2}*conjugate(A_1)**2*conjugate(A_2)\n",
      "\\chi_{-k_1-k_1-k_3}*conjugate(A_1)**2*conjugate(A_3)\n",
      "\\chi_{-k_1-k_2-k_2}*conjugate(A_1)*conjugate(A_2)**2\n",
      "\\chi_{-k_2-k_2-k_3}*conjugate(A_2)**2*conjugate(A_3)\n",
      "\\chi_{-k_1-k_3-k_3}*conjugate(A_1)*conjugate(A_3)**2\n",
      "\\chi_{-k_2-k_3-k_3}*conjugate(A_2)*conjugate(A_3)**2\n",
      "\\chi_{+k_1+k_2+k_3}*A_1*A_2*A_3\n",
      "\\chi_{+k_1+k_2-k_2}*A_1*A_2*conjugate(A_2)\n",
      "\\chi_{+k_1+k_2-k_3}*A_1*A_2*conjugate(A_3)\n",
      "\\chi_{+k_1-k_1+k_2}*A_1*A_2*conjugate(A_1)\n",
      "\\chi_{+k_1-k_2+k_2}*A_1*A_2*conjugate(A_2)\n",
      "\\chi_{-k_1+k_1+k_2}*A_1*A_2*conjugate(A_1)\n",
      "\\chi_{+k_1+k_3-k_3}*A_1*A_3*conjugate(A_3)\n",
      "\\chi_{+k_1-k_1+k_3}*A_1*A_3*conjugate(A_1)\n",
      "\\chi_{+k_1-k_2+k_3}*A_1*A_3*conjugate(A_2)\n",
      "\\chi_{+k_1-k_3+k_3}*A_1*A_3*conjugate(A_3)\n",
      "\\chi_{-k_1+k_1+k_3}*A_1*A_3*conjugate(A_1)\n",
      "\\chi_{+k_1-k_1-k_2}*A_1*conjugate(A_1)*conjugate(A_2)\n",
      "\\chi_{+k_1-k_1-k_3}*A_1*conjugate(A_1)*conjugate(A_3)\n",
      "\\chi_{+k_1-k_2-k_3}*A_1*conjugate(A_2)*conjugate(A_3)\n",
      "\\chi_{-k_1+k_1-k_2}*A_1*conjugate(A_1)*conjugate(A_2)\n",
      "\\chi_{-k_1+k_1-k_3}*A_1*conjugate(A_1)*conjugate(A_3)\n",
      "\\chi_{+k_2+k_3-k_3}*A_2*A_3*conjugate(A_3)\n",
      "\\chi_{+k_2-k_2+k_3}*A_2*A_3*conjugate(A_2)\n",
      "\\chi_{+k_2-k_3+k_3}*A_2*A_3*conjugate(A_3)\n",
      "\\chi_{-k_1+k_2+k_3}*A_2*A_3*conjugate(A_1)\n",
      "\\chi_{-k_2+k_2+k_3}*A_2*A_3*conjugate(A_2)\n",
      "\\chi_{+k_2-k_2-k_3}*A_2*conjugate(A_2)*conjugate(A_3)\n",
      "\\chi_{-k_1+k_2-k_2}*A_2*conjugate(A_1)*conjugate(A_2)\n",
      "\\chi_{-k_1+k_2-k_3}*A_2*conjugate(A_1)*conjugate(A_3)\n",
      "\\chi_{-k_1-k_2+k_2}*A_2*conjugate(A_1)*conjugate(A_2)\n",
      "\\chi_{-k_2+k_2-k_3}*A_2*conjugate(A_2)*conjugate(A_3)\n",
      "\\chi_{-k_1+k_3-k_3}*A_3*conjugate(A_1)*conjugate(A_3)\n",
      "\\chi_{-k_1-k_2+k_3}*A_3*conjugate(A_1)*conjugate(A_2)\n",
      "\\chi_{-k_1-k_3+k_3}*A_3*conjugate(A_1)*conjugate(A_3)\n",
      "\\chi_{-k_2+k_3-k_3}*A_3*conjugate(A_2)*conjugate(A_3)\n",
      "\\chi_{-k_2-k_3+k_3}*A_3*conjugate(A_2)*conjugate(A_3)\n",
      "\\chi_{-k_1-k_2-k_3}*conjugate(A_1)*conjugate(A_2)*conjugate(A_3)\n"
     ]
    }
   ],
   "source": [
    "for a in signals_for_order(3, 3).args:\n",
    "    print(a)"
   ]
  },
  {
   "cell_type": "code",
   "execution_count": null,
   "metadata": {
    "collapsed": true
   },
   "outputs": [],
   "source": []
  },
  {
   "cell_type": "code",
   "execution_count": null,
   "metadata": {
    "collapsed": true
   },
   "outputs": [],
   "source": []
  }
 ],
 "metadata": {
  "kernelspec": {
   "display_name": "Python 2",
   "language": "python",
   "name": "python2"
  },
  "language_info": {
   "codemirror_mode": {
    "name": "ipython",
    "version": 2
   },
   "file_extension": ".py",
   "mimetype": "text/x-python",
   "name": "python",
   "nbconvert_exporter": "python",
   "pygments_lexer": "ipython2",
   "version": "2.7.10"
  }
 },
 "nbformat": 4,
 "nbformat_minor": 0
}
