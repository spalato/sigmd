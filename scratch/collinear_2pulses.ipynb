{
 "cells": [
  {
   "cell_type": "markdown",
   "metadata": {},
   "source": [
    "# 2 pulses collinear experiment"
   ]
  },
  {
   "cell_type": "code",
   "execution_count": 1,
   "metadata": {
    "collapsed": true
   },
   "outputs": [],
   "source": [
    "from __future__ import division, print_function\n",
    "#from sympy import latex\n",
    "import sympy as sy\n",
    "from math import copysign\n",
    "from operator import add, mul\n",
    "import numpy as np\n",
    "from functools import partial"
   ]
  },
  {
   "cell_type": "code",
   "execution_count": 2,
   "metadata": {
    "collapsed": true
   },
   "outputs": [],
   "source": [
    "from sig2d.signals import Signal, amplitude, signal, signals_for_order"
   ]
  },
  {
   "cell_type": "code",
   "execution_count": 3,
   "metadata": {
    "collapsed": true
   },
   "outputs": [],
   "source": [
    "sy.init_printing()"
   ]
  },
  {
   "cell_type": "code",
   "execution_count": 4,
   "metadata": {
    "collapsed": true
   },
   "outputs": [],
   "source": [
    "# utilites and filters\n",
    "def fundamental_freq(k):\n",
    "    return sum([copysign(1,i) for i in k]) == 1\n",
    "\n",
    "#def positive_last(k):\n",
    "#    return k[-1] > 0\n",
    "\n",
    "def multifilter(filters, reductop=all):\n",
    "    def composite(k):\n",
    "        return reductop([f(k) for f in filters])\n",
    "    return composite\n",
    "\n",
    "def accumulator(l, op=add):\n",
    "    \"\"\"\n",
    "    Returns the running accumulation of `l` using operator `op`.\n",
    "    \n",
    "    accumulate(l) results in the running sum.\n",
    "    \"\"\"\n",
    "    l = iter(l)\n",
    "    r = l.next()\n",
    "    for v in l:\n",
    "        r = op(r, v)\n",
    "        yield r\n",
    "        \n",
    "def accumulated(l, op=add):\n",
    "    \"\"\"Returns an running accumulation of `l` as a list.\"\"\"\n",
    "    return list(accumulator(l, op))\n",
    "        \n",
    "\n",
    "#def ends_with_k3(k):\n",
    "#    return abs(k[-1]) == 3\n",
    "\n",
    "#def single_k3(k):  # emitted in the k3 direction?\n",
    "#    return sum([abs(i)==3 for i in k]) == 1\n",
    "\n",
    "# emit in k3 direction\n",
    "def emit_k3(k):\n",
    "    # total +1 in k3 direction\n",
    "    # others cancel out\n",
    "    return (sum([copysign(1, i) for i in k if abs(i)==3]) == 1) and (sum([copysign(1, i) for i in k if abs(i)!=3]) == 0)\n",
    "\n",
    "#def rwa(k):  # avoid +k1 +k1 sequences, which yeild |2><0| or try to deexcite the gs\n",
    "#    # never get more than +1 or -1 total excitation, is that allright? # actually wrong. we can have |2><0| in two steps\n",
    "#    runsum = accumulated([copysign(1, i) for i in k]) \n",
    "#    return all([abs(r) <= 1 for r in runsum])\n",
    "\n",
    "def contains(s, sig):\n",
    "    \"\"\"Signal contains string s\"\"\"\n",
    "    return s in repr(sig)\n",
    "\n",
    "def contains_filter(s):\n",
    "    return partial(contains, s)\n",
    "\n",
    "#pp_2d = multifilter([fundamental_freq, positive_last, single_k3, single_excitation])\n",
    "filter_collinear = multifilter([fundamental_freq])"
   ]
  },
  {
   "cell_type": "markdown",
   "metadata": {},
   "source": [
    "## collinear 2 pulses signals, up to 3rd orer"
   ]
  },
  {
   "cell_type": "code",
   "execution_count": 5,
   "metadata": {
    "collapsed": false
   },
   "outputs": [
    {
     "data": {
      "image/png": "[encoded data removed]",
      "text/latex": [
       "$$\\chi_{+k_1+k_1-k_1} A_{1}^{2} \\overline{A_{1}} + \\chi_{+k_1+k_1-k_2} A_{1}^{2} \\overline{A_{2}} + \\chi_{+k_1+k_2-k_2} A_{1} A_{2} \\overline{A_{2}} + \\chi_{+k_1-k_1+k_2} A_{1} A_{2} \\overline{A_{1}} + \\chi_{+k_1} A_{1} + \\chi_{+k_2+k_2-k_2} A_{2}^{2} \\overline{A_{2}} + \\chi_{+k_2} A_{2} + \\chi_{-k_1+k_2+k_2} A_{2}^{2} \\overline{A_{1}}$$"
      ],
      "text/plain": [
       "                      2 __                         2 __                       \n",
       "\\chi_{+k_1+k_1-k_1}⋅A₁ ⋅A₁ + \\chi_{+k_1+k_1-k_2}⋅A₁ ⋅A₂ + \\chi_{+k_1+k_2-k_2}⋅\n",
       "\n",
       "      __                             __                                       \n",
       "A₁⋅A₂⋅A₂ + \\chi_{+k_1-k_1+k_2}⋅A₁⋅A₂⋅A₁ + \\chi_{+k_1}⋅A₁ + \\chi_{+k_2+k_2-k_2}\n",
       "\n",
       "   2 __                                          2 __\n",
       "⋅A₂ ⋅A₂ + \\chi_{+k_2}⋅A₂ + \\chi_{-k_1+k_2+k_2}⋅A₂ ⋅A₁"
      ]
     },
     "execution_count": 5,
     "metadata": {},
     "output_type": "execute_result"
    }
   ],
   "source": [
    "sigs = sum(signals_for_order(i, n_pulses=2, filter_=filter_collinear) for i in [1, 2, 3])\n",
    "sigs"
   ]
  },
  {
   "cell_type": "code",
   "execution_count": 6,
   "metadata": {
    "collapsed": false
   },
   "outputs": [
    {
     "data": {
      "image/png": "[encoded data removed]",
      "text/latex": [
       "$$\\chi_{+k_1+k_1-k_1} A_{1}^{2} \\overline{A_{1}}^{2} \\overline{E_{1}} + \\chi_{+k_1+k_1-k_1} A_{1}^{2} \\overline{A_{1}} \\overline{A_{2}} \\overline{E_{2}} + \\chi_{+k_1+k_1-k_2} A_{1}^{2} \\overline{A_{1}} \\overline{A_{2}} \\overline{E_{1}} + \\chi_{+k_1+k_1-k_2} A_{1}^{2} \\overline{A_{2}}^{2} \\overline{E_{2}} + \\chi_{+k_1+k_2-k_2} A_{1} A_{2} \\overline{A_{1}} \\overline{A_{2}} \\overline{E_{1}} + \\chi_{+k_1+k_2-k_2} A_{1} A_{2} \\overline{A_{2}}^{2} \\overline{E_{2}} + \\chi_{+k_1-k_1+k_2} A_{1} A_{2} \\overline{A_{1}}^{2} \\overline{E_{1}} + \\chi_{+k_1-k_1+k_2} A_{1} A_{2} \\overline{A_{1}} \\overline{A_{2}} \\overline{E_{2}} + \\chi_{+k_1} A_{1} \\overline{A_{1}} \\overline{E_{1}} + \\chi_{+k_1} A_{1} \\overline{A_{2}} \\overline{E_{2}} + \\chi_{+k_2+k_2-k_2} A_{2}^{2} \\overline{A_{1}} \\overline{A_{2}} \\overline{E_{1}} + \\chi_{+k_2+k_2-k_2} A_{2}^{2} \\overline{A_{2}}^{2} \\overline{E_{2}} + \\chi_{+k_2} A_{2} \\overline{A_{1}} \\overline{E_{1}} + \\chi_{+k_2} A_{2} \\overline{A_{2}} \\overline{E_{2}} + \\chi_{-k_1+k_2+k_2} A_{2}^{2} \\overline{A_{1}}^{2} \\overline{E_{1}} + \\chi_{-k_1+k_2+k_2} A_{2}^{2} \\overline{A_{1}} \\overline{A_{2}} \\overline{E_{2}} + A_{1}^{2} E_{1} \\overline{\\chi_{+k_1+k_1-k_1}} \\overline{A_{1}}^{2} + A_{1}^{2} E_{1} \\overline{\\chi_{+k_1-k_1+k_2}} \\overline{A_{1}} \\overline{A_{2}} + A_{1}^{2} E_{1} \\overline{\\chi_{-k_1+k_2+k_2}} \\overline{A_{2}}^{2} + A_{1} A_{2} E_{1} \\overline{\\chi_{+k_1+k_1-k_2}} \\overline{A_{1}}^{2} + A_{1} A_{2} E_{1} \\overline{\\chi_{+k_1+k_2-k_2}} \\overline{A_{1}} \\overline{A_{2}} + A_{1} A_{2} E_{1} \\overline{\\chi_{+k_2+k_2-k_2}} \\overline{A_{2}}^{2} + A_{1} A_{2} E_{2} \\overline{\\chi_{+k_1+k_1-k_1}} \\overline{A_{1}}^{2} + A_{1} A_{2} E_{2} \\overline{\\chi_{+k_1-k_1+k_2}} \\overline{A_{1}} \\overline{A_{2}} + A_{1} A_{2} E_{2} \\overline{\\chi_{-k_1+k_2+k_2}} \\overline{A_{2}}^{2} + A_{1} E_{1} \\overline{\\chi_{+k_1}} \\overline{A_{1}} + A_{1} E_{1} \\overline{\\chi_{+k_2}} \\overline{A_{2}} + A_{1} E_{1} \\overline{A_{1}} \\overline{E_{1}} + A_{1} E_{1} \\overline{A_{2}} \\overline{E_{2}} + A_{2}^{2} E_{2} \\overline{\\chi_{+k_1+k_1-k_2}} \\overline{A_{1}}^{2} + A_{2}^{2} E_{2} \\overline{\\chi_{+k_1+k_2-k_2}} \\overline{A_{1}} \\overline{A_{2}} + A_{2}^{2} E_{2} \\overline{\\chi_{+k_2+k_2-k_2}} \\overline{A_{2}}^{2} + A_{2} E_{2} \\overline{\\chi_{+k_1}} \\overline{A_{1}} + A_{2} E_{2} \\overline{\\chi_{+k_2}} \\overline{A_{2}} + A_{2} E_{2} \\overline{A_{1}} \\overline{E_{1}} + A_{2} E_{2} \\overline{A_{2}} \\overline{E_{2}}$$"
      ],
      "text/plain": [
       "                          2                                                   \n",
       "                      2 __  __                         2 __ __ __             \n",
       "\\chi_{+k_1+k_1-k_1}⋅A₁ ⋅A₁ ⋅E₁ + \\chi_{+k_1+k_1-k_1}⋅A₁ ⋅A₁⋅A₂⋅E₂ + \\chi_{+k_1\n",
       "\n",
       "                                                   2                          \n",
       "            2 __ __ __                         2 __  __                       \n",
       "+k_1-k_2}⋅A₁ ⋅A₁⋅A₂⋅E₁ + \\chi_{+k_1+k_1-k_2}⋅A₁ ⋅A₂ ⋅E₂ + \\chi_{+k_1+k_2-k_2}⋅\n",
       "\n",
       "                                             2                                \n",
       "      __ __ __                             __  __                             \n",
       "A₁⋅A₂⋅A₁⋅A₂⋅E₁ + \\chi_{+k_1+k_2-k_2}⋅A₁⋅A₂⋅A₂ ⋅E₂ + \\chi_{+k_1-k_1+k_2}⋅A₁⋅A₂⋅\n",
       "\n",
       "  2                                                                           \n",
       "__  __                             __ __ __                  __ __            \n",
       "A₁ ⋅E₁ + \\chi_{+k_1-k_1+k_2}⋅A₁⋅A₂⋅A₁⋅A₂⋅E₂ + \\chi_{+k_1}⋅A₁⋅A₁⋅E₁ + \\chi_{+k_\n",
       "\n",
       "                                                                           2  \n",
       "      __ __                         2 __ __ __                         2 __  _\n",
       "1}⋅A₁⋅A₂⋅E₂ + \\chi_{+k_2+k_2-k_2}⋅A₂ ⋅A₁⋅A₂⋅E₁ + \\chi_{+k_2+k_2-k_2}⋅A₂ ⋅A₂ ⋅E\n",
       "\n",
       "                                                                            2 \n",
       "_                  __ __                  __ __                         2 __  \n",
       "₂ + \\chi_{+k_2}⋅A₂⋅A₁⋅E₁ + \\chi_{+k_2}⋅A₂⋅A₂⋅E₂ + \\chi_{-k_1+k_2+k_2}⋅A₂ ⋅A₁ ⋅\n",
       "\n",
       "                                                                     2        \n",
       "__                         2 __ __ __     2    ___________________ __      2  \n",
       "E₁ + \\chi_{-k_1+k_2+k_2}⋅A₂ ⋅A₁⋅A₂⋅E₂ + A₁ ⋅E₁⋅\\chi_{+k_1+k_1-k_1}⋅A₁  + A₁ ⋅E\n",
       "\n",
       "                                                           2                  \n",
       "  ___________________ __ __     2    ___________________ __             ______\n",
       "₁⋅\\chi_{+k_1-k_1+k_2}⋅A₁⋅A₂ + A₁ ⋅E₁⋅\\chi_{-k_1+k_2+k_2}⋅A₂  + A₁⋅A₂⋅E₁⋅\\chi_{\n",
       "\n",
       "                2                                                             \n",
       "_____________ __             ___________________ __ __            ____________\n",
       "+k_1+k_1-k_2}⋅A₁  + A₁⋅A₂⋅E₁⋅\\chi_{+k_1+k_2-k_2}⋅A₁⋅A₂ + A₁⋅A₂⋅E₁⋅\\chi_{+k_2+k\n",
       "\n",
       "          2                                  2                                \n",
       "_______ __             ___________________ __             ___________________ \n",
       "_2-k_2}⋅A₂  + A₁⋅A₂⋅E₂⋅\\chi_{+k_1+k_1-k_1}⋅A₁  + A₁⋅A₂⋅E₂⋅\\chi_{+k_1-k_1+k_2}⋅\n",
       "\n",
       "                                       2                                      \n",
       "__ __            ___________________ __          ___________ __         ______\n",
       "A₁⋅A₂ + A₁⋅A₂⋅E₂⋅\\chi_{-k_1+k_2+k_2}⋅A₂  + A₁⋅E₁⋅\\chi_{+k_1}⋅A₁ + A₁⋅E₁⋅\\chi_{\n",
       "\n",
       "                                                                    2         \n",
       "_____ __         __ __         __ __     2    ___________________ __      2   \n",
       "+k_2}⋅A₂ + A₁⋅E₁⋅A₁⋅E₁ + A₁⋅E₁⋅A₂⋅E₂ + A₂ ⋅E₂⋅\\chi_{+k_1+k_1-k_2}⋅A₁  + A₂ ⋅E₂\n",
       "\n",
       "                                                          2                   \n",
       " ___________________ __ __     2    ___________________ __          __________\n",
       "⋅\\chi_{+k_1+k_2-k_2}⋅A₁⋅A₂ + A₂ ⋅E₂⋅\\chi_{+k_2+k_2-k_2}⋅A₂  + A₂⋅E₂⋅\\chi_{+k_1\n",
       "\n",
       "                                                       \n",
       "_ __         ___________ __         __ __         __ __\n",
       "}⋅A₁ + A₂⋅E₂⋅\\chi_{+k_2}⋅A₂ + A₂⋅E₂⋅A₁⋅E₁ + A₂⋅E₂⋅A₂⋅E₂"
      ]
     },
     "execution_count": 6,
     "metadata": {},
     "output_type": "execute_result"
    }
   ],
   "source": [
    "amps = {i: amplitude(i) for i in [1,2]}\n",
    "efield = {i+1: v for i, v in enumerate(sy.symbols(\"E_1:3\"))}\n",
    "detected = sigs + sum(amps[i]*efield[i] for i in sorted(amps.keys()))\n",
    "detected = sy.expand(sy.conjugate(detected)*detected)\n",
    "# prepare further neglect\n",
    "head = detected.func\n",
    "args = detected.args\n",
    "# filter signal/signal cross terms\n",
    "args = filter(contains_filter(\"E_\"), args)\n",
    "detected = head(*args)\n",
    "detected"
   ]
  },
  {
   "cell_type": "code",
   "execution_count": 7,
   "metadata": {
    "collapsed": false
   },
   "outputs": [],
   "source": [
    "detected_r = detected.args\n",
    "detected_r = filter(lambda s: not r'conjugate(\\chi' in repr(s), detected_r)\n",
    "detected_r = head(detected_r)"
   ]
  },
  {
   "cell_type": "code",
   "execution_count": 8,
   "metadata": {
    "collapsed": false
   },
   "outputs": [
    {
     "data": {
      "image/png": "[encoded data removed]",
      "text/latex": [
       "$$\\left ( 36, \\quad 20\\right )$$"
      ],
      "text/plain": [
       "(36, 20)"
      ]
     },
     "execution_count": 8,
     "metadata": {},
     "output_type": "execute_result"
    }
   ],
   "source": [
    "len(detected.args), len(detected_r.args)"
   ]
  },
  {
   "cell_type": "markdown",
   "metadata": {},
   "source": [
    "## 4x1 phase cycling"
   ]
  },
  {
   "cell_type": "code",
   "execution_count": 9,
   "metadata": {
    "collapsed": false
   },
   "outputs": [
    {
     "data": {
      "image/png": "[encoded data removed]",
      "text/latex": [
       "$$4 \\chi_{+k_1+k_1-k_2} \\overline{E_{2}} + 4 \\chi_{-k_1+k_2+k_2} \\overline{E_{1}} + 4 E_{1} \\overline{\\chi_{-k_1+k_2+k_2}} + 4 E_{2} \\overline{\\chi_{+k_1+k_1-k_2}}$$"
      ],
      "text/plain": [
       "                      __                         __        ___________________\n",
       "4⋅\\chi_{+k_1+k_1-k_2}⋅E₂ + 4⋅\\chi_{-k_1+k_2+k_2}⋅E₁ + 4⋅E₁⋅\\chi_{-k_1+k_2+k_2}\n",
       "\n",
       "        ___________________\n",
       " + 4⋅E₂⋅\\chi_{+k_1+k_1-k_2}"
      ]
     },
     "execution_count": 9,
     "metadata": {},
     "output_type": "execute_result"
    }
   ],
   "source": [
    "phases = [0, sy.pi/2, sy.pi, 3*sy.pi/2]\n",
    "factors = [1, -1, 1, -1]\n",
    "sig = sum([f*detected.subs([(amps[1], sy.exp(-sy.I*p)),\n",
    "                            (amps[2], 1)])\n",
    "           for f, p in zip(factors, phases)]\n",
    "    )\n",
    "sy.re(sig.expand(complex=True))\n",
    "sig"
   ]
  },
  {
   "cell_type": "markdown",
   "metadata": {
    "collapsed": true
   },
   "source": [
    "### with chopping"
   ]
  },
  {
   "cell_type": "code",
   "execution_count": 23,
   "metadata": {
    "collapsed": false
   },
   "outputs": [],
   "source": [
    "# prepare chopping:\n",
    "a = {i+1: v for i, v in enumerate(sy.symbols('a1:3', real=True, nonnegative=True))}\n",
    "phi = {i+1: v for i, v in enumerate(sy.symbols('\\phi_1:3', real=True))}\n",
    "detected = detected.subs([(amps[i], a[i]*sy.exp(-sy.I*phi[i])) for i in amps.keys()])"
   ]
  },
  {
   "cell_type": "code",
   "execution_count": 26,
   "metadata": {
    "collapsed": false
   },
   "outputs": [
    {
     "data": {
      "image/png": "[encoded data removed]",
      "text/latex": [
       "$$4 \\chi_{+k_1+k_1-k_2} a_{1}^{2} a_{2}^{2} e^{2 i \\phi_2} \\overline{E_{2}} + 4 \\chi_{-k_1+k_2+k_2} a_{1}^{2} a_{2}^{2} e^{- 2 i \\phi_2} \\overline{E_{1}} + 4 E_{1} a_{1}^{2} a_{2}^{2} e^{2 i \\phi_2} \\overline{\\chi_{-k_1+k_2+k_2}} + 4 E_{2} a_{1}^{2} a_{2}^{2} e^{- 2 i \\phi_2} \\overline{\\chi_{+k_1+k_1-k_2}}$$"
      ],
      "text/plain": [
       "                        2   2  2⋅ⅈ⋅\\phi₂ __                           2   2  -\n",
       "4⋅\\chi_{+k_1+k_1-k_2}⋅a₁ ⋅a₂ ⋅ℯ         ⋅E₂ + 4⋅\\chi_{-k_1+k_2+k_2}⋅a₁ ⋅a₂ ⋅ℯ \n",
       "\n",
       "2⋅ⅈ⋅\\phi₂ __          2   2  2⋅ⅈ⋅\\phi₂ ___________________          2   2  -2⋅\n",
       "         ⋅E₁ + 4⋅E₁⋅a₁ ⋅a₂ ⋅ℯ         ⋅\\chi_{-k_1+k_2+k_2} + 4⋅E₂⋅a₁ ⋅a₂ ⋅ℯ   \n",
       "\n",
       "ⅈ⋅\\phi₂ ___________________\n",
       "       ⋅\\chi_{+k_1+k_1-k_2}"
      ]
     },
     "execution_count": 26,
     "metadata": {},
     "output_type": "execute_result"
    }
   ],
   "source": [
    "phases = [0, sy.pi/2, sy.pi, 3*sy.pi/2]\n",
    "factors = [1, -1, 1, -1]\n",
    "sig = sum([f*detected.subs([(phi[1], p)])\n",
    "           for f, p in zip(factors, phases)]\n",
    "    )\n",
    "sy.re(sig.expand(complex=True))\n",
    "sig"
   ]
  },
  {
   "cell_type": "code",
   "execution_count": 39,
   "metadata": {
    "collapsed": false
   },
   "outputs": [
    {
     "data": {
      "image/png": "[encoded data removed]",
      "text/latex": [
       "$$4 i a_{1}^{2} a_{2}^{2} \\left(\\chi_{+k_1+k_1-k_2} \\overline{E_{2}} - \\chi_{-k_1+k_2+k_2} \\overline{E_{1}} + E_{1} \\overline{\\chi_{-k_1+k_2+k_2}} - E_{2} \\overline{\\chi_{+k_1+k_1-k_2}}\\right)$$"
      ],
      "text/plain": [
       "      2   2 ⎛                    __                       __      ____________\n",
       "4⋅ⅈ⋅a₁ ⋅a₂ ⋅⎝\\chi_{+k_1+k_1-k_2}⋅E₂ - \\chi_{-k_1+k_2+k_2}⋅E₁ + E₁⋅\\chi_{-k_1+k\n",
       "\n",
       "_______      ___________________⎞\n",
       "_2+k_2} - E₂⋅\\chi_{+k_1+k_1-k_2}⎠"
      ]
     },
     "execution_count": 39,
     "metadata": {},
     "output_type": "execute_result"
    }
   ],
   "source": [
    "sig.subs([(phi[2], sy.pi/4)]).simplify()"
   ]
  },
  {
   "cell_type": "code",
   "execution_count": 41,
   "metadata": {
    "collapsed": false
   },
   "outputs": [
    {
     "data": {
      "image/png": "[encoded data removed]",
      "text/latex": [
       "$$4 \\chi_{+k_1+k_1-k_2} a_{1}^{2} a_{2}^{2} \\overline{E_{2}} + 4 \\chi_{-k_1+k_2+k_2} a_{1}^{2} a_{2}^{2} \\overline{E_{1}} + 4 E_{1} a_{1}^{2} a_{2}^{2} \\overline{\\chi_{-k_1+k_2+k_2}} + 4 E_{2} a_{1}^{2} a_{2}^{2} \\overline{\\chi_{+k_1+k_1-k_2}} + i \\left(4 i \\chi_{+k_1+k_1-k_2} a_{1}^{2} a_{2}^{2} \\overline{E_{2}} - 4 i \\chi_{-k_1+k_2+k_2} a_{1}^{2} a_{2}^{2} \\overline{E_{1}} + 4 i E_{1} a_{1}^{2} a_{2}^{2} \\overline{\\chi_{-k_1+k_2+k_2}} - 4 i E_{2} a_{1}^{2} a_{2}^{2} \\overline{\\chi_{+k_1+k_1-k_2}}\\right)$$"
      ],
      "text/plain": [
       "                        2   2 __                           2   2 __          2\n",
       "4⋅\\chi_{+k_1+k_1-k_2}⋅a₁ ⋅a₂ ⋅E₂ + 4⋅\\chi_{-k_1+k_2+k_2}⋅a₁ ⋅a₂ ⋅E₁ + 4⋅E₁⋅a₁ \n",
       "\n",
       "   2 ___________________          2   2 ___________________     ⎛             \n",
       "⋅a₂ ⋅\\chi_{-k_1+k_2+k_2} + 4⋅E₂⋅a₁ ⋅a₂ ⋅\\chi_{+k_1+k_1-k_2} + ⅈ⋅⎝4⋅ⅈ⋅\\chi_{+k_\n",
       "\n",
       "             2   2 __                             2   2 __            2   2 __\n",
       "1+k_1-k_2}⋅a₁ ⋅a₂ ⋅E₂ - 4⋅ⅈ⋅\\chi_{-k_1+k_2+k_2}⋅a₁ ⋅a₂ ⋅E₁ + 4⋅ⅈ⋅E₁⋅a₁ ⋅a₂ ⋅\\c\n",
       "\n",
       "_________________            2   2 ___________________⎞\n",
       "hi_{-k_1+k_2+k_2} - 4⋅ⅈ⋅E₂⋅a₁ ⋅a₂ ⋅\\chi_{+k_1+k_1-k_2}⎠"
      ]
     },
     "execution_count": 41,
     "metadata": {},
     "output_type": "execute_result"
    }
   ],
   "source": [
    "phases = [0, sy.pi/4]\n",
    "factors = [1, sy.I]\n",
    "sum([f*sig.subs([(phi[2], p)])\n",
    "           for f, p in zip(factors, phases)])"
   ]
  },
  {
   "cell_type": "code",
   "execution_count": null,
   "metadata": {
    "collapsed": true
   },
   "outputs": [],
   "source": []
  }
 ],
 "metadata": {
  "kernelspec": {
   "display_name": "Python 2",
   "language": "python",
   "name": "python2"
  },
  "language_info": {
   "codemirror_mode": {
    "name": "ipython",
    "version": 2
   },
   "file_extension": ".py",
   "mimetype": "text/x-python",
   "name": "python",
   "nbconvert_exporter": "python",
   "pygments_lexer": "ipython2",
   "version": "2.7.10"
  }
 },
 "nbformat": 4,
 "nbformat_minor": 0
}
